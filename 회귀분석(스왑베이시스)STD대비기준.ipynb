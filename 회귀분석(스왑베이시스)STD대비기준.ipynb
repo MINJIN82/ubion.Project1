{
 "cells": [
  {
   "cell_type": "code",
   "execution_count": 14,
   "metadata": {},
   "outputs": [],
   "source": [
    "import pandas as pd\n",
    "import numpy as np\n",
    "df = pd.read_excel(\"../데이터자료/join_data.xlsx\")\n",
    "df.columns\n",
    "\n",
    "df[\"M1_스왑포인트\"] = df[\"M1_스왑포인트\"]/100\n",
    "df.head()\n",
    "df = df.set_index(\"DateTime\")"
   ]
  },
  {
   "cell_type": "code",
   "execution_count": 15,
   "metadata": {},
   "outputs": [
    {
     "data": {
      "text/plain": [
       "Index(['Unnamed: 0', '종가_ex', '대비_ex', '증감률_ex', '1Y_Mid_irs', '1Y_전일비_irs',\n",
       "       '2Y_Mid_irs', '2Y_전일비_irs', '3Y_Mid_irs', '3Y_전일비_irs', '5Y_Mid_irs',\n",
       "       '5Y_전일비_irs', '10Y_Mid_irs', '10Y_전일비_irs', '1Y_Mid_crs', '1Y_전일비_crs',\n",
       "       '2Y_Mid_crs', '2Y_전일비_crs', '3Y_Mid_crs', '3Y_전일비_crs', '5Y_Mid_crs',\n",
       "       '5Y_전일비_crs', '10Y_Mid_crs', '10Y_전일비_crs', '국고1년', '국고3년', '국고5년',\n",
       "       '국고10년', '통안364일', '통안2년', 'Bid_ndf', 'Ask_ndf', 'Mid_ndf', '전일비_ndf',\n",
       "       '1Y_베이시스', '2Y_베이시스', '3Y_베이시스', '5Y_베이시스', '10Y_베이시스', 'M1_스왑포인트',\n",
       "       '1Y_베이시스대비', '2Y_베이시스대비', '3Y_베이시스대비', '5Y_베이시스대비', '10Y_베이시스대비',\n",
       "       '국고1년대비', '국고3년대비', '국고5년대비', '국고10년대비', '통안364일대비', '통안2년대비',\n",
       "       '전날 종가_ex', '종가_NDF차이'],\n",
       "      dtype='object')"
      ]
     },
     "execution_count": 15,
     "metadata": {},
     "output_type": "execute_result"
    }
   ],
   "source": [
    "df[\"1Y_베이시스대비\"] =df[\"1Y_베이시스\"]-df[\"1Y_베이시스\"].shift(1)\n",
    "df[\"2Y_베이시스대비\"] =df[\"2Y_베이시스\"]-df[\"2Y_베이시스\"].shift(1)\n",
    "df[\"3Y_베이시스대비\"] =df[\"3Y_베이시스\"]-df[\"3Y_베이시스\"].shift(1)\n",
    "df[\"5Y_베이시스대비\"] =df[\"5Y_베이시스\"]-df[\"5Y_베이시스\"].shift(1)\n",
    "df[\"10Y_베이시스대비\"] =df[\"10Y_베이시스\"]-df[\"10Y_베이시스\"].shift(1)\n",
    "df[\"국고1년대비\"] =df[\"국고1년\"]-df[\"국고1년\"].shift(1)\n",
    "df[\"국고3년대비\"] =df[\"국고3년\"]-df[\"국고3년\"].shift(1)\n",
    "df[\"국고5년대비\"] =df[\"국고5년\"]-df[\"국고5년\"].shift(1)\n",
    "df[\"국고10년대비\"] =df[\"국고10년\"]-df[\"국고10년\"].shift(1)\n",
    "df[\"통안364일대비\"] = df[\"통안364일\"] - df[\"통안364일\"].shift(1)\n",
    "df[\"통안2년대비\"] = df[\"통안2년\"] - df[\"통안2년\"].shift(1)\n",
    "df[\"전날 종가_ex\"] = df[\"종가_ex\"].shift(1)\n",
    "df[\"종가_NDF차이\"] = df[\"전날 종가_ex\"] -df[\"Mid_ndf\"]\n",
    "df = df.dropna()\n",
    "df.columns\n"
   ]
  },
  {
   "cell_type": "code",
   "execution_count": 16,
   "metadata": {},
   "outputs": [
    {
     "name": "stderr",
     "output_type": "stream",
     "text": [
      "C:\\Users\\Public\\Documents\\ESTsoft\\CreatorTemp\\ipykernel_3952\\2358210072.py:6: UserWarning: Pandas doesn't allow columns to be created via a new attribute name - see https://pandas.pydata.org/pandas-docs/stable/indexing.html#attribute-access\n",
      "  df_Data.feature= df_Data.columns\n"
     ]
    },
    {
     "data": {
      "text/plain": [
       "Index(['1Y_베이시스대비', '2Y_베이시스대비', '3Y_베이시스대비', '5Y_베이시스대비', '10Y_베이시스대비',\n",
       "       '국고1년대비', '국고3년대비', '국고5년대비', '국고10년대비', '통안364일대비', '통안2년대비',\n",
       "       '전날 종가_ex', '종가_NDF차이'],\n",
       "      dtype='object')"
      ]
     },
     "execution_count": 16,
     "metadata": {},
     "output_type": "execute_result"
    }
   ],
   "source": [
    "# 종속변수 독립변수 설정\n",
    "df_Target = df[\"종가_ex\"]\n",
    "df_Data = df[['1Y_베이시스대비', '2Y_베이시스대비', '3Y_베이시스대비', '5Y_베이시스대비', '10Y_베이시스대비',\n",
    "       '국고1년대비', '국고3년대비', '국고5년대비', '국고10년대비', '통안364일대비',\"통안2년대비\", '전날 종가_ex',\n",
    "       '종가_NDF차이']]\n",
    "df_Data.feature= df_Data.columns\n",
    "df_Data.feature"
   ]
  },
  {
   "cell_type": "code",
   "execution_count": 24,
   "metadata": {},
   "outputs": [
    {
     "name": "stderr",
     "output_type": "stream",
     "text": [
      "C:\\Users\\Public\\Documents\\ESTsoft\\CreatorTemp\\ipykernel_3952\\3021096804.py:6: UserWarning: Pandas doesn't allow columns to be created via a new attribute name - see https://pandas.pydata.org/pandas-docs/stable/indexing.html#attribute-access\n",
      "  df_Data.feature= df_Data.columns\n"
     ]
    },
    {
     "data": {
      "text/plain": [
       "Index(['1Y_베이시스대비', '국고3년대비', '국고5년대비', '전날 종가_ex', '종가_NDF차이'], dtype='object')"
      ]
     },
     "execution_count": 24,
     "metadata": {},
     "output_type": "execute_result"
    }
   ],
   "source": [
    "# 종속변수 독립변수 설정\n",
    "df_Target = df[\"종가_ex\"]\n",
    "df_Data = df[['1Y_베이시스대비', \n",
    "        '국고3년대비', '국고5년대비', '전날 종가_ex',\n",
    "       '종가_NDF차이']]\n",
    "df_Data.feature= df_Data.columns\n",
    "df_Data.feature"
   ]
  },
  {
   "cell_type": "code",
   "execution_count": 28,
   "metadata": {},
   "outputs": [
    {
     "name": "stderr",
     "output_type": "stream",
     "text": [
      "C:\\Users\\Public\\Documents\\ESTsoft\\CreatorTemp\\ipykernel_3952\\3021096804.py:6: UserWarning: Pandas doesn't allow columns to be created via a new attribute name - see https://pandas.pydata.org/pandas-docs/stable/indexing.html#attribute-access\n",
      "  df_Data.feature= df_Data.columns\n"
     ]
    },
    {
     "data": {
      "text/plain": [
       "Index(['1Y_베이시스대비', '국고3년대비', '국고5년대비', '전날 종가_ex', '종가_NDF차이'], dtype='object')"
      ]
     },
     "execution_count": 28,
     "metadata": {},
     "output_type": "execute_result"
    }
   ],
   "source": [
    "# 종속변수 독립변수 설정\n",
    "df_Target = df[\"종가_ex\"]\n",
    "df_Data = df[['1Y_베이시스대비', \n",
    "        '국고3년대비', '국고5년대비', '전날 종가_ex',\n",
    "       '종가_NDF차이']]\n",
    "df_Data.feature= df_Data.columns\n",
    "df_Data.feature"
   ]
  },
  {
   "cell_type": "code",
   "execution_count": 29,
   "metadata": {},
   "outputs": [
    {
     "data": {
      "text/html": [
       "<table class=\"simpletable\">\n",
       "<caption>OLS Regression Results</caption>\n",
       "<tr>\n",
       "  <th>Dep. Variable:</th>          <td>종가_ex</td>      <th>  R-squared:         </th> <td>   0.990</td> \n",
       "</tr>\n",
       "<tr>\n",
       "  <th>Model:</th>                   <td>OLS</td>       <th>  Adj. R-squared:    </th> <td>   0.990</td> \n",
       "</tr>\n",
       "<tr>\n",
       "  <th>Method:</th>             <td>Least Squares</td>  <th>  F-statistic:       </th> <td>5.053e+04</td>\n",
       "</tr>\n",
       "<tr>\n",
       "  <th>Date:</th>             <td>Sun, 21 Aug 2022</td> <th>  Prob (F-statistic):</th>  <td>  0.00</td>  \n",
       "</tr>\n",
       "<tr>\n",
       "  <th>Time:</th>                 <td>15:54:13</td>     <th>  Log-Likelihood:    </th> <td> -7661.7</td> \n",
       "</tr>\n",
       "<tr>\n",
       "  <th>No. Observations:</th>      <td>  2459</td>      <th>  AIC:               </th> <td>1.534e+04</td>\n",
       "</tr>\n",
       "<tr>\n",
       "  <th>Df Residuals:</th>          <td>  2453</td>      <th>  BIC:               </th> <td>1.537e+04</td>\n",
       "</tr>\n",
       "<tr>\n",
       "  <th>Df Model:</th>              <td>     5</td>      <th>                     </th>     <td> </td>    \n",
       "</tr>\n",
       "<tr>\n",
       "  <th>Covariance Type:</th>      <td>nonrobust</td>    <th>                     </th>     <td> </td>    \n",
       "</tr>\n",
       "</table>\n",
       "<table class=\"simpletable\">\n",
       "<tr>\n",
       "      <td></td>         <th>coef</th>     <th>std err</th>      <th>t</th>      <th>P>|t|</th>  <th>[0.025</th>    <th>0.975]</th>  \n",
       "</tr>\n",
       "<tr>\n",
       "  <th>const</th>     <td>    2.5229</td> <td>    2.257</td> <td>    1.118</td> <td> 0.264</td> <td>   -1.903</td> <td>    6.949</td>\n",
       "</tr>\n",
       "<tr>\n",
       "  <th>1Y_베이시스대비</th> <td>   -0.2248</td> <td>    0.019</td> <td>  -11.594</td> <td> 0.000</td> <td>   -0.263</td> <td>   -0.187</td>\n",
       "</tr>\n",
       "<tr>\n",
       "  <th>국고3년대비</th>    <td>   -4.8667</td> <td>    1.960</td> <td>   -2.483</td> <td> 0.013</td> <td>   -8.709</td> <td>   -1.024</td>\n",
       "</tr>\n",
       "<tr>\n",
       "  <th>국고5년대비</th>    <td>    8.4111</td> <td>    3.295</td> <td>    2.553</td> <td> 0.011</td> <td>    1.951</td> <td>   14.872</td>\n",
       "</tr>\n",
       "<tr>\n",
       "  <th>전날 종가_ex</th>  <td>    0.9978</td> <td>    0.002</td> <td>  502.294</td> <td> 0.000</td> <td>    0.994</td> <td>    1.002</td>\n",
       "</tr>\n",
       "<tr>\n",
       "  <th>종가_NDF차이</th>  <td>   -0.0612</td> <td>    0.007</td> <td>   -8.315</td> <td> 0.000</td> <td>   -0.076</td> <td>   -0.047</td>\n",
       "</tr>\n",
       "</table>\n",
       "<table class=\"simpletable\">\n",
       "<tr>\n",
       "  <th>Omnibus:</th>       <td>123.996</td> <th>  Durbin-Watson:     </th> <td>   2.110</td>\n",
       "</tr>\n",
       "<tr>\n",
       "  <th>Prob(Omnibus):</th> <td> 0.000</td>  <th>  Jarque-Bera (JB):  </th> <td> 372.868</td>\n",
       "</tr>\n",
       "<tr>\n",
       "  <th>Skew:</th>          <td> 0.197</td>  <th>  Prob(JB):          </th> <td>1.08e-81</td>\n",
       "</tr>\n",
       "<tr>\n",
       "  <th>Kurtosis:</th>      <td> 4.867</td>  <th>  Cond. No.          </th> <td>3.54e+04</td>\n",
       "</tr>\n",
       "</table><br/><br/>Notes:<br/>[1] Standard Errors assume that the covariance matrix of the errors is correctly specified.<br/>[2] The condition number is large, 3.54e+04. This might indicate that there are<br/>strong multicollinearity or other numerical problems."
      ],
      "text/plain": [
       "<class 'statsmodels.iolib.summary.Summary'>\n",
       "\"\"\"\n",
       "                            OLS Regression Results                            \n",
       "==============================================================================\n",
       "Dep. Variable:                  종가_ex   R-squared:                       0.990\n",
       "Model:                            OLS   Adj. R-squared:                  0.990\n",
       "Method:                 Least Squares   F-statistic:                 5.053e+04\n",
       "Date:                Sun, 21 Aug 2022   Prob (F-statistic):               0.00\n",
       "Time:                        15:54:13   Log-Likelihood:                -7661.7\n",
       "No. Observations:                2459   AIC:                         1.534e+04\n",
       "Df Residuals:                    2453   BIC:                         1.537e+04\n",
       "Df Model:                           5                                         \n",
       "Covariance Type:            nonrobust                                         \n",
       "==============================================================================\n",
       "                 coef    std err          t      P>|t|      [0.025      0.975]\n",
       "------------------------------------------------------------------------------\n",
       "const          2.5229      2.257      1.118      0.264      -1.903       6.949\n",
       "1Y_베이시스대비     -0.2248      0.019    -11.594      0.000      -0.263      -0.187\n",
       "국고3년대비        -4.8667      1.960     -2.483      0.013      -8.709      -1.024\n",
       "국고5년대비         8.4111      3.295      2.553      0.011       1.951      14.872\n",
       "전날 종가_ex       0.9978      0.002    502.294      0.000       0.994       1.002\n",
       "종가_NDF차이      -0.0612      0.007     -8.315      0.000      -0.076      -0.047\n",
       "==============================================================================\n",
       "Omnibus:                      123.996   Durbin-Watson:                   2.110\n",
       "Prob(Omnibus):                  0.000   Jarque-Bera (JB):              372.868\n",
       "Skew:                           0.197   Prob(JB):                     1.08e-81\n",
       "Kurtosis:                       4.867   Cond. No.                     3.54e+04\n",
       "==============================================================================\n",
       "\n",
       "Notes:\n",
       "[1] Standard Errors assume that the covariance matrix of the errors is correctly specified.\n",
       "[2] The condition number is large, 3.54e+04. This might indicate that there are\n",
       "strong multicollinearity or other numerical problems.\n",
       "\"\"\""
      ]
     },
     "execution_count": 29,
     "metadata": {},
     "output_type": "execute_result"
    }
   ],
   "source": [
    "import statsmodels.api as sm\n",
    "feature_add_std = sm.add_constant(df_Data, has_constant='add')\n",
    "# sm OLS 적합\n",
    "model = sm.OLS(df_Target, feature_add_std)\n",
    "fitted_model = model.fit()\n",
    "\n",
    "# summary 함수통해 결과출력\n",
    "fitted_model.summary() "
   ]
  },
  {
   "cell_type": "code",
   "execution_count": 30,
   "metadata": {},
   "outputs": [
    {
     "name": "stdout",
     "output_type": "stream",
     "text": [
      "   VIF_Factor    Feature\n",
      "0    1.011973  1Y_베이시스대비\n",
      "1    1.214743     국고3년대비\n",
      "2    1.225068     국고5년대비\n",
      "3    1.000011   전날 종가_ex\n",
      "4    1.002436   종가_NDF차이\n"
     ]
    }
   ],
   "source": [
    "from statsmodels.stats.outliers_influence import variance_inflation_factor\n",
    "X_train = df_Data\n",
    "def feature_engineering_XbyVIF(X_train):\n",
    "    vif = pd.DataFrame()\n",
    "    vif[\"VIF_Factor\"] = [variance_inflation_factor(X_train.values,i)\n",
    "                         for i in range(X_train.shape[1])]\n",
    "    vif[\"Feature\"] = X_train.columns\n",
    "    return vif\n",
    "vif = feature_engineering_XbyVIF(X_train)\n",
    "print(vif)"
   ]
  },
  {
   "cell_type": "code",
   "execution_count": 37,
   "metadata": {},
   "outputs": [
    {
     "data": {
      "text/plain": [
       "4.351691959006245"
      ]
     },
     "execution_count": 37,
     "metadata": {},
     "output_type": "execute_result"
    }
   ],
   "source": [
    "from sklearn.model_selection import train_test_split\n",
    "from sklearn.metrics import mean_absolute_error\n",
    "from sklearn.linear_model import LinearRegression\n",
    "from sklearn.metrics import mean_squared_error, r2_score\n",
    "X_train, X_test, y_train, y_test = train_test_split(feature_add_std, df_Target,test_size=0.2, random_state=15 )\n",
    "\n",
    "lr = LinearRegression()\n",
    "lr.fit (X_train, y_train)\n",
    "y_preds = lr.predict(X_test)\n",
    "mse = mean_squared_error(y_test, y_preds)\n",
    "rmse = np.sqrt(mse)\n",
    "mae = mean_absolute_error(y_test,y_preds)\n",
    "mae"
   ]
  },
  {
   "cell_type": "code",
   "execution_count": 17,
   "metadata": {},
   "outputs": [
    {
     "data": {
      "text/plain": [
       "(8.306610103025923,\n",
       " array([ 4.40826373,  6.69742363,  5.67100534, 19.55392294,  5.20243488]),\n",
       " array([ -19.43278907,  -44.85548332,  -32.16030151, -382.35590226,\n",
       "         -27.06532872]))"
      ]
     },
     "execution_count": 17,
     "metadata": {},
     "output_type": "execute_result"
    }
   ],
   "source": [
    "from sklearn.model_selection import cross_val_score\n",
    "neg_mse_scores = cross_val_score(lr, feature_add, df_Target,scoring=\"neg_mean_squared_error\", cv = 5)\n",
    "rmse_scores = np.sqrt(-1 *neg_mse_scores)\n",
    "avg_rmse = np.mean(rmse_scores)\n",
    "avg_rmse,rmse_scores, neg_mse_scores"
   ]
  },
  {
   "cell_type": "code",
   "execution_count": null,
   "metadata": {},
   "outputs": [],
   "source": []
  }
 ],
 "metadata": {
  "kernelspec": {
   "display_name": "Python 3.10.0 64-bit",
   "language": "python",
   "name": "python3"
  },
  "language_info": {
   "codemirror_mode": {
    "name": "ipython",
    "version": 3
   },
   "file_extension": ".py",
   "mimetype": "text/x-python",
   "name": "python",
   "nbconvert_exporter": "python",
   "pygments_lexer": "ipython3",
   "version": "3.10.0"
  },
  "orig_nbformat": 4,
  "vscode": {
   "interpreter": {
    "hash": "a073e8c3e7241d11bd26aeacf78abcb385fecb9ce1a8fb10ee8efd278424d43e"
   }
  }
 },
 "nbformat": 4,
 "nbformat_minor": 2
}
