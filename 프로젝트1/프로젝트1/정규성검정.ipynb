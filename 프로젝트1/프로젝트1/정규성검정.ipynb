{
 "cells": [
  {
   "cell_type": "code",
   "execution_count": 5,
   "metadata": {},
   "outputs": [
    {
     "name": "stderr",
     "output_type": "stream",
     "text": [
      "C:\\Users\\hyeok\\AppData\\Local\\Temp\\ipykernel_27588\\3451898880.py:12: SettingWithCopyWarning: \n",
      "A value is trying to be set on a copy of a slice from a DataFrame\n",
      "\n",
      "See the caveats in the documentation: https://pandas.pydata.org/pandas-docs/stable/user_guide/indexing.html#returning-a-view-versus-a-copy\n",
      "  all2.drop(index2, inplace=True)\n",
      "C:\\Users\\hyeok\\AppData\\Local\\Temp\\ipykernel_27588\\3451898880.py:16: SettingWithCopyWarning: \n",
      "A value is trying to be set on a copy of a slice from a DataFrame.\n",
      "Try using .loc[row_indexer,col_indexer] = value instead\n",
      "\n",
      "See the caveats in the documentation: https://pandas.pydata.org/pandas-docs/stable/user_guide/indexing.html#returning-a-view-versus-a-copy\n",
      "  all2['대비_국고1년'] = all2['국고1년']-all2['국고1년'].shift(1)\n",
      "C:\\Users\\hyeok\\AppData\\Local\\Temp\\ipykernel_27588\\3451898880.py:17: SettingWithCopyWarning: \n",
      "A value is trying to be set on a copy of a slice from a DataFrame.\n",
      "Try using .loc[row_indexer,col_indexer] = value instead\n",
      "\n",
      "See the caveats in the documentation: https://pandas.pydata.org/pandas-docs/stable/user_guide/indexing.html#returning-a-view-versus-a-copy\n",
      "  all2['대비_국고3년'] = all2['국고3년']-all2['국고3년'].shift(1)\n",
      "C:\\Users\\hyeok\\AppData\\Local\\Temp\\ipykernel_27588\\3451898880.py:18: SettingWithCopyWarning: \n",
      "A value is trying to be set on a copy of a slice from a DataFrame.\n",
      "Try using .loc[row_indexer,col_indexer] = value instead\n",
      "\n",
      "See the caveats in the documentation: https://pandas.pydata.org/pandas-docs/stable/user_guide/indexing.html#returning-a-view-versus-a-copy\n",
      "  all2['대비_국고5년'] = all2['국고5년']-all2['국고5년'].shift(1)\n",
      "C:\\Users\\hyeok\\AppData\\Local\\Temp\\ipykernel_27588\\3451898880.py:19: SettingWithCopyWarning: \n",
      "A value is trying to be set on a copy of a slice from a DataFrame.\n",
      "Try using .loc[row_indexer,col_indexer] = value instead\n",
      "\n",
      "See the caveats in the documentation: https://pandas.pydata.org/pandas-docs/stable/user_guide/indexing.html#returning-a-view-versus-a-copy\n",
      "  all2['대비_국고10년'] = all2['국고10년']-all2['국고10년'].shift(1)\n",
      "C:\\Users\\hyeok\\AppData\\Local\\Temp\\ipykernel_27588\\3451898880.py:20: SettingWithCopyWarning: \n",
      "A value is trying to be set on a copy of a slice from a DataFrame.\n",
      "Try using .loc[row_indexer,col_indexer] = value instead\n",
      "\n",
      "See the caveats in the documentation: https://pandas.pydata.org/pandas-docs/stable/user_guide/indexing.html#returning-a-view-versus-a-copy\n",
      "  all2['대비_통안1년'] = all2['통안364일']-all2['통안364일'].shift(1)\n",
      "C:\\Users\\hyeok\\AppData\\Local\\Temp\\ipykernel_27588\\3451898880.py:21: SettingWithCopyWarning: \n",
      "A value is trying to be set on a copy of a slice from a DataFrame.\n",
      "Try using .loc[row_indexer,col_indexer] = value instead\n",
      "\n",
      "See the caveats in the documentation: https://pandas.pydata.org/pandas-docs/stable/user_guide/indexing.html#returning-a-view-versus-a-copy\n",
      "  all2['대비_통안2년'] = all2['통안364일']-all2['통안364일'].shift(1)\n",
      "C:\\Users\\hyeok\\AppData\\Local\\Temp\\ipykernel_27588\\3451898880.py:22: SettingWithCopyWarning: \n",
      "A value is trying to be set on a copy of a slice from a DataFrame.\n",
      "Try using .loc[row_indexer,col_indexer] = value instead\n",
      "\n",
      "See the caveats in the documentation: https://pandas.pydata.org/pandas-docs/stable/user_guide/indexing.html#returning-a-view-versus-a-copy\n",
      "  all2['대비_베이시스1년'] = all2['1Y_베이시스']-all2['1Y_베이시스'].shift(1)\n",
      "C:\\Users\\hyeok\\AppData\\Local\\Temp\\ipykernel_27588\\3451898880.py:23: SettingWithCopyWarning: \n",
      "A value is trying to be set on a copy of a slice from a DataFrame.\n",
      "Try using .loc[row_indexer,col_indexer] = value instead\n",
      "\n",
      "See the caveats in the documentation: https://pandas.pydata.org/pandas-docs/stable/user_guide/indexing.html#returning-a-view-versus-a-copy\n",
      "  all2['대비_베이시스2년'] = all2['2Y_베이시스']-all2['2Y_베이시스'].shift(1)\n",
      "C:\\Users\\hyeok\\AppData\\Local\\Temp\\ipykernel_27588\\3451898880.py:24: SettingWithCopyWarning: \n",
      "A value is trying to be set on a copy of a slice from a DataFrame.\n",
      "Try using .loc[row_indexer,col_indexer] = value instead\n",
      "\n",
      "See the caveats in the documentation: https://pandas.pydata.org/pandas-docs/stable/user_guide/indexing.html#returning-a-view-versus-a-copy\n",
      "  all2['대비_베이시스3년'] = all2['3Y_베이시스']-all2['3Y_베이시스'].shift(1)\n",
      "C:\\Users\\hyeok\\AppData\\Local\\Temp\\ipykernel_27588\\3451898880.py:25: SettingWithCopyWarning: \n",
      "A value is trying to be set on a copy of a slice from a DataFrame.\n",
      "Try using .loc[row_indexer,col_indexer] = value instead\n",
      "\n",
      "See the caveats in the documentation: https://pandas.pydata.org/pandas-docs/stable/user_guide/indexing.html#returning-a-view-versus-a-copy\n",
      "  all2['대비_베이시스5년'] =all2['5Y_베이시스']-all2['5Y_베이시스'].shift(1)\n",
      "C:\\Users\\hyeok\\AppData\\Local\\Temp\\ipykernel_27588\\3451898880.py:26: SettingWithCopyWarning: \n",
      "A value is trying to be set on a copy of a slice from a DataFrame.\n",
      "Try using .loc[row_indexer,col_indexer] = value instead\n",
      "\n",
      "See the caveats in the documentation: https://pandas.pydata.org/pandas-docs/stable/user_guide/indexing.html#returning-a-view-versus-a-copy\n",
      "  all2['대비_베이시스10년'] = all2['10Y_베이시스']-all2['10Y_베이시스'].shift(1)\n",
      "C:\\Users\\hyeok\\AppData\\Local\\Temp\\ipykernel_27588\\3451898880.py:27: SettingWithCopyWarning: \n",
      "A value is trying to be set on a copy of a slice from a DataFrame.\n",
      "Try using .loc[row_indexer,col_indexer] = value instead\n",
      "\n",
      "See the caveats in the documentation: https://pandas.pydata.org/pandas-docs/stable/user_guide/indexing.html#returning-a-view-versus-a-copy\n",
      "  all2['대비_ndf'] = all2['Mid_ndf']-all2['Mid_ndf'].shift(1)\n",
      "C:\\Users\\hyeok\\AppData\\Local\\Temp\\ipykernel_27588\\3451898880.py:28: SettingWithCopyWarning: \n",
      "A value is trying to be set on a copy of a slice from a DataFrame.\n",
      "Try using .loc[row_indexer,col_indexer] = value instead\n",
      "\n",
      "See the caveats in the documentation: https://pandas.pydata.org/pandas-docs/stable/user_guide/indexing.html#returning-a-view-versus-a-copy\n",
      "  all2['스왑포인트_1월물'] = all2[\"M1_스왑포인트\"]/100\n",
      "C:\\Users\\hyeok\\AppData\\Local\\Temp\\ipykernel_27588\\3451898880.py:31: SettingWithCopyWarning: \n",
      "A value is trying to be set on a copy of a slice from a DataFrame.\n",
      "Try using .loc[row_indexer,col_indexer] = value instead\n",
      "\n",
      "See the caveats in the documentation: https://pandas.pydata.org/pandas-docs/stable/user_guide/indexing.html#returning-a-view-versus-a-copy\n",
      "  all2['전일종가_ex'] = all2['종가_ex'].shift(1)\n",
      "C:\\Users\\hyeok\\AppData\\Local\\Temp\\ipykernel_27588\\3451898880.py:34: SettingWithCopyWarning: \n",
      "A value is trying to be set on a copy of a slice from a DataFrame\n",
      "\n",
      "See the caveats in the documentation: https://pandas.pydata.org/pandas-docs/stable/user_guide/indexing.html#returning-a-view-versus-a-copy\n",
      "  all2.drop([0], axis=0, inplace=True)\n"
     ]
    },
    {
     "data": {
      "text/html": [
       "<div>\n",
       "<style scoped>\n",
       "    .dataframe tbody tr th:only-of-type {\n",
       "        vertical-align: middle;\n",
       "    }\n",
       "\n",
       "    .dataframe tbody tr th {\n",
       "        vertical-align: top;\n",
       "    }\n",
       "\n",
       "    .dataframe thead th {\n",
       "        text-align: right;\n",
       "    }\n",
       "</style>\n",
       "<table border=\"1\" class=\"dataframe\">\n",
       "  <thead>\n",
       "    <tr style=\"text-align: right;\">\n",
       "      <th></th>\n",
       "      <th>종가_ex</th>\n",
       "      <th>전일종가_ex</th>\n",
       "      <th>대비_국고1년</th>\n",
       "      <th>대비_국고3년</th>\n",
       "      <th>대비_국고5년</th>\n",
       "      <th>대비_국고10년</th>\n",
       "      <th>대비_통안1년</th>\n",
       "      <th>대비_통안2년</th>\n",
       "      <th>대비_베이시스1년</th>\n",
       "      <th>대비_베이시스2년</th>\n",
       "      <th>대비_베이시스3년</th>\n",
       "      <th>대비_베이시스5년</th>\n",
       "      <th>대비_베이시스10년</th>\n",
       "      <th>대비_ndf</th>\n",
       "      <th>스왑포인트_1월물</th>\n",
       "    </tr>\n",
       "    <tr>\n",
       "      <th>DateTime</th>\n",
       "      <th></th>\n",
       "      <th></th>\n",
       "      <th></th>\n",
       "      <th></th>\n",
       "      <th></th>\n",
       "      <th></th>\n",
       "      <th></th>\n",
       "      <th></th>\n",
       "      <th></th>\n",
       "      <th></th>\n",
       "      <th></th>\n",
       "      <th></th>\n",
       "      <th></th>\n",
       "      <th></th>\n",
       "      <th></th>\n",
       "    </tr>\n",
       "  </thead>\n",
       "  <tbody>\n",
       "    <tr>\n",
       "      <th>2012-08-02</th>\n",
       "      <td>1131.7</td>\n",
       "      <td>1126.5</td>\n",
       "      <td>-0.03</td>\n",
       "      <td>-0.04</td>\n",
       "      <td>-0.04</td>\n",
       "      <td>-0.04</td>\n",
       "      <td>-0.03</td>\n",
       "      <td>-0.03</td>\n",
       "      <td>2.0</td>\n",
       "      <td>8.0</td>\n",
       "      <td>9.0</td>\n",
       "      <td>9.0</td>\n",
       "      <td>9.0</td>\n",
       "      <td>1.75</td>\n",
       "      <td>2.5</td>\n",
       "    </tr>\n",
       "    <tr>\n",
       "      <th>2012-08-03</th>\n",
       "      <td>1134.8</td>\n",
       "      <td>1131.7</td>\n",
       "      <td>-0.02</td>\n",
       "      <td>-0.02</td>\n",
       "      <td>-0.07</td>\n",
       "      <td>-0.07</td>\n",
       "      <td>-0.02</td>\n",
       "      <td>-0.02</td>\n",
       "      <td>2.0</td>\n",
       "      <td>1.5</td>\n",
       "      <td>1.0</td>\n",
       "      <td>-5.0</td>\n",
       "      <td>-13.0</td>\n",
       "      <td>4.00</td>\n",
       "      <td>2.4</td>\n",
       "    </tr>\n",
       "  </tbody>\n",
       "</table>\n",
       "</div>"
      ],
      "text/plain": [
       "             종가_ex  전일종가_ex  대비_국고1년  대비_국고3년  대비_국고5년  대비_국고10년  대비_통안1년  \\\n",
       "DateTime                                                                    \n",
       "2012-08-02  1131.7   1126.5    -0.03    -0.04    -0.04     -0.04    -0.03   \n",
       "2012-08-03  1134.8   1131.7    -0.02    -0.02    -0.07     -0.07    -0.02   \n",
       "\n",
       "            대비_통안2년  대비_베이시스1년  대비_베이시스2년  대비_베이시스3년  대비_베이시스5년  대비_베이시스10년  \\\n",
       "DateTime                                                                      \n",
       "2012-08-02    -0.03        2.0        8.0        9.0        9.0         9.0   \n",
       "2012-08-03    -0.02        2.0        1.5        1.0       -5.0       -13.0   \n",
       "\n",
       "            대비_ndf  스왑포인트_1월물  \n",
       "DateTime                       \n",
       "2012-08-02    1.75        2.5  \n",
       "2012-08-03    4.00        2.4  "
      ]
     },
     "execution_count": 5,
     "metadata": {},
     "output_type": "execute_result"
    }
   ],
   "source": [
    "# 데이터 불러오기 \n",
    "import pandas as pd\n",
    "all = pd.read_excel(\"./xlsx/Join_data.xlsx\", index_col = 0)              # index_col = 0 파일 읽어올 떄 \"Unnamed: 0\" 컬럼이 추가돼서 해당 컬럼 제거\n",
    "\n",
    "# 컬럼 추출\n",
    "all2 = all[['DateTime', '종가_ex', '1Y_Mid_irs', '2Y_Mid_irs', '3Y_Mid_irs', '5Y_Mid_irs', '10Y_Mid_irs', '1Y_Mid_crs',\n",
    "       '2Y_Mid_crs', '3Y_Mid_crs', '5Y_Mid_crs', '10Y_Mid_crs', '국고1년', '국고3년', '국고5년',\n",
    "       '국고10년', '통안364일', '통안2년', 'Mid_ndf',\n",
    "       '1Y_베이시스', '2Y_베이시스', '3Y_베이시스', '5Y_베이시스', '10Y_베이시스', 'M1_스왑포인트']]            # [[]] 대괄호 2개 사용 -> 데이터 프레임형태로 나옴\n",
    "\n",
    "# 0값 삭제\n",
    "index2 = all2[all2[\"통안364일\"] == 0].index\n",
    "all2.drop(index2, inplace=True)\n",
    "all2.reset_index(drop=True, inplace=True)\n",
    "\n",
    "# 대비 계산\n",
    "all2['대비_irs1년'] = all2['1Y_Mid_irs']-all2['1Y_Mid_irs'].shift(1)\n",
    "all2['대비_irs2년'] = all2['2Y_Mid_irs']-all2['2Y_Mid_irs'].shift(1)\n",
    "all2['대비_irs3년'] = all2['3Y_Mid_irs']-all2['3Y_Mid_irs'].shift(1)\n",
    "all2['대비_irs5년'] = all2['5Y_Mid_irs']-all2['5Y_Mid_irs'].shift(1)\n",
    "all2['대비_irs10년'] = all2['10Y_Mid_irs']-all2['10Y_Mid_irs'].shift(1)\n",
    "\n",
    "all2['대비_crs1년'] = all2['1Y_Mid_crs']-all2['1Y_Mid_crs'].shift(1)\n",
    "all2['대비_crs2년'] = all2['2Y_Mid_crs']-all2['2Y_Mid_crs'].shift(1)\n",
    "all2['대비_crs3년'] = all2['3Y_Mid_crs']-all2['3Y_Mid_crs'].shift(1)\n",
    "all2['대비_crs5년'] = all2['5Y_Mid_crs']-all2['5Y_Mid_crs'].shift(1)\n",
    "all2['대비_crs10년'] = all2['10Y_Mid_crs']-all2['10Y_Mid_crs'].shift(1)\n",
    "\n",
    "all2['대비_국고1년'] = all2['국고1년']-all2['국고1년'].shift(1)\n",
    "all2['대비_국고3년'] = all2['국고3년']-all2['국고3년'].shift(1)\n",
    "all2['대비_국고5년'] = all2['국고5년']-all2['국고5년'].shift(1)\n",
    "all2['대비_국고10년'] = all2['국고10년']-all2['국고10년'].shift(1)\n",
    "\n",
    "all2['대비_통안1년'] = all2['통안364일']-all2['통안364일'].shift(1)\n",
    "all2['대비_통안2년'] = all2['통안364일']-all2['통안364일'].shift(1)\n",
    "\n",
    "all2['대비_베이시스1년'] = all2['1Y_베이시스']-all2['1Y_베이시스'].shift(1)\n",
    "all2['대비_베이시스2년'] = all2['2Y_베이시스']-all2['2Y_베이시스'].shift(1)\n",
    "all2['대비_베이시스3년'] = all2['3Y_베이시스']-all2['3Y_베이시스'].shift(1)\n",
    "all2['대비_베이시스5년'] =all2['5Y_베이시스']-all2['5Y_베이시스'].shift(1)\n",
    "all2['대비_베이시스10년'] = all2['10Y_베이시스']-all2['10Y_베이시스'].shift(1)\n",
    "\n",
    "all2['대비_ndf'] = all2['Mid_ndf']-all2['Mid_ndf'].shift(1)\n",
    "\n",
    "all2['스왑포인트_1월물'] = all2[\"M1_스왑포인트\"]/100 \n",
    "\n",
    "# 전일종가 계산\n",
    "all2['전일종가_ex'] = all2['종가_ex'].shift(1)\n",
    "\n",
    "# Nan 행 지우고 인덱스 초기화\n",
    "all2.drop([0], axis=0, inplace=True)\n",
    "all2.reset_index(drop=True, inplace=True)\n",
    "\n",
    "# 필요 칼럼만 남기기\n",
    "all3 = all2.copy()\n",
    "all3 = all2[[\"DateTime\", \"종가_ex\", \"전일종가_ex\", '대비_irs1년', '대비_irs2년', '대비_irs3년', '대비_irs5년', '대비_irs10  년', \"대비_국고1년\", \"대비_국고3년\", \"대비_국고5년\", \"대비_국고10년\", \n",
    "\"대비_통안1년\", \"대비_통안2년\", \"대비_베이시스1년\", \"대비_베이시스2년\", \"대비_베이시스3년\", \"대비_베이시스5년\",\"대비_베이시스10년\",\"대비_ndf\", \"스왑포인트_1월물\"]]\n",
    "\n",
    "# DateTime을 인덱스로 바꿔주기\n",
    "df = all3.set_index('DateTime')\n",
    "df.head(2)"
   ]
  },
  {
   "cell_type": "code",
   "execution_count": 34,
   "metadata": {},
   "outputs": [
    {
     "data": {
      "text/plain": [
       "Index(['종가_ex', '전일종가_ex', '대비_국고1년', '대비_국고3년', '대비_국고5년', '대비_국고10년',\n",
       "       '대비_통안1년', '대비_통안2년', '대비_베이시스1년', '대비_베이시스2년', '대비_베이시스3년',\n",
       "       '대비_베이시스5년', '대비_베이시스10년', '대비_ndf', '스왑포인트_1월물'],\n",
       "      dtype='object')"
      ]
     },
     "execution_count": 34,
     "metadata": {},
     "output_type": "execute_result"
    }
   ],
   "source": [
    "df.columns"
   ]
  },
  {
   "cell_type": "code",
   "execution_count": 72,
   "metadata": {},
   "outputs": [
    {
     "name": "stderr",
     "output_type": "stream",
     "text": [
      "C:\\Users\\hyeok\\AppData\\Local\\Temp\\ipykernel_27588\\2906188349.py:4: UserWarning: Pandas doesn't allow columns to be created via a new attribute name - see https://pandas.pydata.org/pandas-docs/stable/indexing.html#attribute-access\n",
      "  df_Data.feature= df_Data.columns\n"
     ]
    },
    {
     "data": {
      "text/plain": [
       "Index(['대비_국고1년', '대비_국고3년', '대비_국고5년', '대비_국고10년', '대비_통안1년', '대비_통안2년',\n",
       "       '대비_베이시스1년', '대비_베이시스2년', '대비_베이시스3년', '대비_베이시스5년', '대비_베이시스10년',\n",
       "       '대비_ndf', '스왑포인트_1월물'],\n",
       "      dtype='object')"
      ]
     },
     "execution_count": 72,
     "metadata": {},
     "output_type": "execute_result"
    }
   ],
   "source": [
    "df_Data = df[['대비_국고1년', '대비_국고3년', '대비_국고5년', '대비_국고10년',\n",
    "       '대비_통안1년', '대비_통안2년', '대비_베이시스1년', '대비_베이시스2년', '대비_베이시스3년',\n",
    "       '대비_베이시스5년', '대비_베이시스10년', '대비_ndf', '스왑포인트_1월물']]\n",
    "df_Data.feature= df_Data.columns\n",
    "df_Data.feature       \n"
   ]
  },
  {
   "cell_type": "code",
   "execution_count": 79,
   "metadata": {},
   "outputs": [
    {
     "data": {
      "text/html": [
       "<div>\n",
       "<style scoped>\n",
       "    .dataframe tbody tr th:only-of-type {\n",
       "        vertical-align: middle;\n",
       "    }\n",
       "\n",
       "    .dataframe tbody tr th {\n",
       "        vertical-align: top;\n",
       "    }\n",
       "\n",
       "    .dataframe thead th {\n",
       "        text-align: right;\n",
       "    }\n",
       "</style>\n",
       "<table border=\"1\" class=\"dataframe\">\n",
       "  <thead>\n",
       "    <tr style=\"text-align: right;\">\n",
       "      <th></th>\n",
       "      <th>대비_국고1년</th>\n",
       "      <th>대비_국고3년</th>\n",
       "      <th>대비_국고5년</th>\n",
       "      <th>대비_국고10년</th>\n",
       "      <th>대비_통안1년</th>\n",
       "      <th>대비_통안2년</th>\n",
       "      <th>대비_베이시스1년</th>\n",
       "      <th>대비_베이시스2년</th>\n",
       "      <th>대비_베이시스3년</th>\n",
       "      <th>대비_베이시스5년</th>\n",
       "      <th>대비_베이시스10년</th>\n",
       "      <th>대비_ndf</th>\n",
       "      <th>스왑포인트_1월물</th>\n",
       "    </tr>\n",
       "  </thead>\n",
       "  <tbody>\n",
       "    <tr>\n",
       "      <th>0</th>\n",
       "      <td>-1.696899</td>\n",
       "      <td>-0.646125</td>\n",
       "      <td>-1.078965</td>\n",
       "      <td>-1.026816</td>\n",
       "      <td>-0.779107</td>\n",
       "      <td>-0.779107</td>\n",
       "      <td>0.348408</td>\n",
       "      <td>1.542408</td>\n",
       "      <td>1.436255</td>\n",
       "      <td>1.625656</td>\n",
       "      <td>1.486549</td>\n",
       "      <td>0.079092</td>\n",
       "      <td>1.907480</td>\n",
       "    </tr>\n",
       "    <tr>\n",
       "      <th>1</th>\n",
       "      <td>-1.131880</td>\n",
       "      <td>-0.323621</td>\n",
       "      <td>-1.888848</td>\n",
       "      <td>-1.797084</td>\n",
       "      <td>-0.520108</td>\n",
       "      <td>-0.520108</td>\n",
       "      <td>0.348408</td>\n",
       "      <td>0.286516</td>\n",
       "      <td>0.156891</td>\n",
       "      <td>-0.909165</td>\n",
       "      <td>-2.155727</td>\n",
       "      <td>0.184805</td>\n",
       "      <td>1.816994</td>\n",
       "    </tr>\n",
       "    <tr>\n",
       "      <th>2</th>\n",
       "      <td>0.563178</td>\n",
       "      <td>0.160136</td>\n",
       "      <td>0.000880</td>\n",
       "      <td>0.000209</td>\n",
       "      <td>0.256889</td>\n",
       "      <td>0.256889</td>\n",
       "      <td>-0.350615</td>\n",
       "      <td>-0.872769</td>\n",
       "      <td>-0.802631</td>\n",
       "      <td>-1.090224</td>\n",
       "      <td>-0.831263</td>\n",
       "      <td>-0.449473</td>\n",
       "      <td>1.816994</td>\n",
       "    </tr>\n",
       "    <tr>\n",
       "      <th>3</th>\n",
       "      <td>-0.566861</td>\n",
       "      <td>-0.001117</td>\n",
       "      <td>0.000880</td>\n",
       "      <td>0.000209</td>\n",
       "      <td>-0.261109</td>\n",
       "      <td>-0.261109</td>\n",
       "      <td>0.173652</td>\n",
       "      <td>0.286516</td>\n",
       "      <td>-0.003029</td>\n",
       "      <td>-1.452341</td>\n",
       "      <td>-1.659053</td>\n",
       "      <td>0.020363</td>\n",
       "      <td>1.907480</td>\n",
       "    </tr>\n",
       "    <tr>\n",
       "      <th>4</th>\n",
       "      <td>-0.566861</td>\n",
       "      <td>-0.323621</td>\n",
       "      <td>-0.539042</td>\n",
       "      <td>-0.513303</td>\n",
       "      <td>-0.261109</td>\n",
       "      <td>-0.261109</td>\n",
       "      <td>-0.001103</td>\n",
       "      <td>-0.389734</td>\n",
       "      <td>-0.322870</td>\n",
       "      <td>-0.728107</td>\n",
       "      <td>-1.162379</td>\n",
       "      <td>0.055600</td>\n",
       "      <td>1.816994</td>\n",
       "    </tr>\n",
       "    <tr>\n",
       "      <th>...</th>\n",
       "      <td>...</td>\n",
       "      <td>...</td>\n",
       "      <td>...</td>\n",
       "      <td>...</td>\n",
       "      <td>...</td>\n",
       "      <td>...</td>\n",
       "      <td>...</td>\n",
       "      <td>...</td>\n",
       "      <td>...</td>\n",
       "      <td>...</td>\n",
       "      <td>...</td>\n",
       "      <td>...</td>\n",
       "      <td>...</td>\n",
       "    </tr>\n",
       "    <tr>\n",
       "      <th>2450</th>\n",
       "      <td>-1.131880</td>\n",
       "      <td>-0.968630</td>\n",
       "      <td>-1.888848</td>\n",
       "      <td>-2.310597</td>\n",
       "      <td>-0.261109</td>\n",
       "      <td>-0.261109</td>\n",
       "      <td>-0.700126</td>\n",
       "      <td>-0.196520</td>\n",
       "      <td>-0.003029</td>\n",
       "      <td>-0.365989</td>\n",
       "      <td>-0.003473</td>\n",
       "      <td>0.154266</td>\n",
       "      <td>-0.897605</td>\n",
       "    </tr>\n",
       "    <tr>\n",
       "      <th>2451</th>\n",
       "      <td>0.563178</td>\n",
       "      <td>-0.484873</td>\n",
       "      <td>-0.539042</td>\n",
       "      <td>-0.770059</td>\n",
       "      <td>0.256889</td>\n",
       "      <td>0.256889</td>\n",
       "      <td>0.348408</td>\n",
       "      <td>-0.196520</td>\n",
       "      <td>-0.003029</td>\n",
       "      <td>0.177187</td>\n",
       "      <td>0.162085</td>\n",
       "      <td>0.050902</td>\n",
       "      <td>-0.988092</td>\n",
       "    </tr>\n",
       "    <tr>\n",
       "      <th>2452</th>\n",
       "      <td>-0.001841</td>\n",
       "      <td>-0.484873</td>\n",
       "      <td>-1.348926</td>\n",
       "      <td>-1.540328</td>\n",
       "      <td>0.515888</td>\n",
       "      <td>0.515888</td>\n",
       "      <td>0.348408</td>\n",
       "      <td>0.769551</td>\n",
       "      <td>0.796573</td>\n",
       "      <td>0.901421</td>\n",
       "      <td>0.824317</td>\n",
       "      <td>-0.026621</td>\n",
       "      <td>-0.852362</td>\n",
       "    </tr>\n",
       "    <tr>\n",
       "      <th>2453</th>\n",
       "      <td>0.563178</td>\n",
       "      <td>0.643892</td>\n",
       "      <td>0.810763</td>\n",
       "      <td>2.054259</td>\n",
       "      <td>0.515888</td>\n",
       "      <td>0.515888</td>\n",
       "      <td>0.173652</td>\n",
       "      <td>-0.003305</td>\n",
       "      <td>-0.162949</td>\n",
       "      <td>-0.365989</td>\n",
       "      <td>-0.831263</td>\n",
       "      <td>-0.214555</td>\n",
       "      <td>-0.942849</td>\n",
       "    </tr>\n",
       "    <tr>\n",
       "      <th>2454</th>\n",
       "      <td>-2.261919</td>\n",
       "      <td>-2.097395</td>\n",
       "      <td>-3.238654</td>\n",
       "      <td>-2.053840</td>\n",
       "      <td>-0.779107</td>\n",
       "      <td>-0.779107</td>\n",
       "      <td>-0.700126</td>\n",
       "      <td>-0.582948</td>\n",
       "      <td>-0.162949</td>\n",
       "      <td>0.901421</td>\n",
       "      <td>0.493201</td>\n",
       "      <td>-0.484711</td>\n",
       "      <td>-0.897605</td>\n",
       "    </tr>\n",
       "  </tbody>\n",
       "</table>\n",
       "<p>2455 rows × 13 columns</p>\n",
       "</div>"
      ],
      "text/plain": [
       "       대비_국고1년   대비_국고3년   대비_국고5년  대비_국고10년   대비_통안1년   대비_통안2년  대비_베이시스1년  \\\n",
       "0    -1.696899 -0.646125 -1.078965 -1.026816 -0.779107 -0.779107   0.348408   \n",
       "1    -1.131880 -0.323621 -1.888848 -1.797084 -0.520108 -0.520108   0.348408   \n",
       "2     0.563178  0.160136  0.000880  0.000209  0.256889  0.256889  -0.350615   \n",
       "3    -0.566861 -0.001117  0.000880  0.000209 -0.261109 -0.261109   0.173652   \n",
       "4    -0.566861 -0.323621 -0.539042 -0.513303 -0.261109 -0.261109  -0.001103   \n",
       "...        ...       ...       ...       ...       ...       ...        ...   \n",
       "2450 -1.131880 -0.968630 -1.888848 -2.310597 -0.261109 -0.261109  -0.700126   \n",
       "2451  0.563178 -0.484873 -0.539042 -0.770059  0.256889  0.256889   0.348408   \n",
       "2452 -0.001841 -0.484873 -1.348926 -1.540328  0.515888  0.515888   0.348408   \n",
       "2453  0.563178  0.643892  0.810763  2.054259  0.515888  0.515888   0.173652   \n",
       "2454 -2.261919 -2.097395 -3.238654 -2.053840 -0.779107 -0.779107  -0.700126   \n",
       "\n",
       "      대비_베이시스2년  대비_베이시스3년  대비_베이시스5년  대비_베이시스10년    대비_ndf  스왑포인트_1월물  \n",
       "0      1.542408   1.436255   1.625656    1.486549  0.079092   1.907480  \n",
       "1      0.286516   0.156891  -0.909165   -2.155727  0.184805   1.816994  \n",
       "2     -0.872769  -0.802631  -1.090224   -0.831263 -0.449473   1.816994  \n",
       "3      0.286516  -0.003029  -1.452341   -1.659053  0.020363   1.907480  \n",
       "4     -0.389734  -0.322870  -0.728107   -1.162379  0.055600   1.816994  \n",
       "...         ...        ...        ...         ...       ...        ...  \n",
       "2450  -0.196520  -0.003029  -0.365989   -0.003473  0.154266  -0.897605  \n",
       "2451  -0.196520  -0.003029   0.177187    0.162085  0.050902  -0.988092  \n",
       "2452   0.769551   0.796573   0.901421    0.824317 -0.026621  -0.852362  \n",
       "2453  -0.003305  -0.162949  -0.365989   -0.831263 -0.214555  -0.942849  \n",
       "2454  -0.582948  -0.162949   0.901421    0.493201 -0.484711  -0.897605  \n",
       "\n",
       "[2455 rows x 13 columns]"
      ]
     },
     "execution_count": 79,
     "metadata": {},
     "output_type": "execute_result"
    }
   ],
   "source": [
    "# 스케일링 코드\n",
    "from sklearn.preprocessing import StandardScaler\n",
    "scaler = StandardScaler()\n",
    "\n",
    "scaler.fit(df_Data)\n",
    "df_Data_scaled= scaler.transform(df_Data)\n",
    "df_scaled = pd.DataFrame (data = df_Data_scaled, columns=df_Data.feature)\n",
    "df_scaled"
   ]
  },
  {
   "cell_type": "code",
   "execution_count": 85,
   "metadata": {},
   "outputs": [],
   "source": [
    "import numpy as np\n",
    "from scipy.stats import shapiro\n",
    "# from scipy import stats"
   ]
  },
  {
   "cell_type": "code",
   "execution_count": 114,
   "metadata": {},
   "outputs": [
    {
     "data": {
      "text/plain": [
       "0      -1.696899\n",
       "1      -1.131880\n",
       "2       0.563178\n",
       "3      -0.566861\n",
       "4      -0.566861\n",
       "          ...   \n",
       "2450   -1.131880\n",
       "2451    0.563178\n",
       "2452   -0.001841\n",
       "2453    0.563178\n",
       "2454   -2.261919\n",
       "Name: 대비_국고1년, Length: 2455, dtype: float64"
      ]
     },
     "execution_count": 114,
     "metadata": {},
     "output_type": "execute_result"
    }
   ],
   "source": [
    "df_scaled[\"대비_국고1년\"]"
   ]
  },
  {
   "cell_type": "code",
   "execution_count": 115,
   "metadata": {},
   "outputs": [
    {
     "data": {
      "text/plain": [
       "ShapiroResult(statistic=0.8191521763801575, pvalue=0.0)"
      ]
     },
     "execution_count": 115,
     "metadata": {},
     "output_type": "execute_result"
    }
   ],
   "source": [
    "shapiro(df_scaled[\"대비_국고1년\"])"
   ]
  },
  {
   "cell_type": "code",
   "execution_count": 123,
   "metadata": {},
   "outputs": [
    {
     "name": "stderr",
     "output_type": "stream",
     "text": [
      "c:\\Users\\hyeok\\AppData\\Local\\Programs\\Python\\Python39\\lib\\site-packages\\seaborn\\distributions.py:2619: FutureWarning: `distplot` is a deprecated function and will be removed in a future version. Please adapt your code to use either `displot` (a figure-level function with similar flexibility) or `histplot` (an axes-level function for histograms).\n",
      "  warnings.warn(msg, FutureWarning)\n",
      "c:\\Users\\hyeok\\AppData\\Local\\Programs\\Python\\Python39\\lib\\site-packages\\IPython\\core\\pylabtools.py:151: UserWarning: Glyph 45824 (\\N{HANGUL SYLLABLE DAE}) missing from current font.\n",
      "  fig.canvas.print_figure(bytes_io, **kw)\n",
      "c:\\Users\\hyeok\\AppData\\Local\\Programs\\Python\\Python39\\lib\\site-packages\\IPython\\core\\pylabtools.py:151: UserWarning: Glyph 48708 (\\N{HANGUL SYLLABLE BI}) missing from current font.\n",
      "  fig.canvas.print_figure(bytes_io, **kw)\n",
      "c:\\Users\\hyeok\\AppData\\Local\\Programs\\Python\\Python39\\lib\\site-packages\\IPython\\core\\pylabtools.py:151: UserWarning: Glyph 44397 (\\N{HANGUL SYLLABLE GUG}) missing from current font.\n",
      "  fig.canvas.print_figure(bytes_io, **kw)\n",
      "c:\\Users\\hyeok\\AppData\\Local\\Programs\\Python\\Python39\\lib\\site-packages\\IPython\\core\\pylabtools.py:151: UserWarning: Glyph 44256 (\\N{HANGUL SYLLABLE GO}) missing from current font.\n",
      "  fig.canvas.print_figure(bytes_io, **kw)\n",
      "c:\\Users\\hyeok\\AppData\\Local\\Programs\\Python\\Python39\\lib\\site-packages\\IPython\\core\\pylabtools.py:151: UserWarning: Glyph 45380 (\\N{HANGUL SYLLABLE NYEON}) missing from current font.\n",
      "  fig.canvas.print_figure(bytes_io, **kw)\n"
     ]
    },
    {
     "data": {
      "image/png": "[encoded data removed]",
      "text/plain": [
       "<Figure size 432x288 with 1 Axes>"
      ]
     },
     "metadata": {
      "needs_background": "light"
     },
     "output_type": "display_data"
    }
   ],
   "source": [
    "import seaborn as sns\n",
    "\n",
    "sns.distplot(df[\"대비_국고1년\"])\n",
    "plt.show()"
   ]
  },
  {
   "cell_type": "code",
   "execution_count": 122,
   "metadata": {},
   "outputs": [
    {
     "data": {
      "image/png": "[encoded data removed]",
      "text/plain": [
       "<Figure size 432x288 with 1 Axes>"
      ]
     },
     "metadata": {
      "needs_background": "light"
     },
     "output_type": "display_data"
    }
   ],
   "source": [
    "import matplotlib.pyplot as plt\n",
    "from scipy import stats\n",
    "\n",
    "stats.probplot(df[\"대비_국고1년\"], dist=stats.norm, plot=plt)\n",
    "plt.show()"
   ]
  },
  {
   "cell_type": "code",
   "execution_count": 109,
   "metadata": {},
   "outputs": [
    {
     "name": "stderr",
     "output_type": "stream",
     "text": [
      "C:\\Users\\hyeok\\AppData\\Local\\Temp\\ipykernel_27588\\292834066.py:2: UserWarning: Pandas doesn't allow columns to be created via a new attribute name - see https://pandas.pydata.org/pandas-docs/stable/indexing.html#attribute-access\n",
      "  df_국고1년.feature= df_국고1년.columns\n"
     ]
    },
    {
     "data": {
      "text/plain": [
       "ShapiroResult(statistic=0.8191521763801575, pvalue=0.0)"
      ]
     },
     "execution_count": 109,
     "metadata": {},
     "output_type": "execute_result"
    }
   ],
   "source": [
    "df_국고1년 = df[['대비_국고1년']]\n",
    "df_국고1년.feature= df_국고1년.columns\n",
    "\n",
    "scaler = StandardScaler()\n",
    "\n",
    "df_국고1년_scaler= scaler.fit_transform(df_국고1년)\n",
    "df_국고1년_scaled = pd.DataFrame (data = df_국고1년_scaler, columns=df_국고1년.feature)\n",
    "\n",
    "shapiro_test = shapiro(df_국고1년_scaled)\n",
    "shapiro_test"
   ]
  },
  {
   "cell_type": "code",
   "execution_count": 125,
   "metadata": {},
   "outputs": [
    {
     "name": "stderr",
     "output_type": "stream",
     "text": [
      "C:\\Users\\hyeok\\AppData\\Local\\Temp\\ipykernel_27588\\494144842.py:2: UserWarning: Pandas doesn't allow columns to be created via a new attribute name - see https://pandas.pydata.org/pandas-docs/stable/indexing.html#attribute-access\n",
      "  df_국고3년.feature= df_국고1년.columns\n"
     ]
    },
    {
     "data": {
      "text/plain": [
       "ShapiroResult(statistic=0.3311117887496948, pvalue=0.0)"
      ]
     },
     "execution_count": 125,
     "metadata": {},
     "output_type": "execute_result"
    }
   ],
   "source": [
    "df_국고3년 = df[['대비_국고3년']]\n",
    "df_국고3년.feature= df_국고1년.columns\n",
    "\n",
    "scaler = StandardScaler()\n",
    "\n",
    "df_국고3년_scaler= scaler.fit_transform(df_국고3년)\n",
    "df_국고3년_scaled = pd.DataFrame (data = df_국고3년_scaler, columns=df_국고3년.feature)\n",
    "\n",
    "shapiro_test = shapiro(df_국고3년_scaled)\n",
    "shapiro_test"
   ]
  },
  {
   "cell_type": "code",
   "execution_count": 90,
   "metadata": {},
   "outputs": [
    {
     "name": "stderr",
     "output_type": "stream",
     "text": [
      "C:\\Users\\hyeok\\AppData\\Local\\Temp\\ipykernel_27588\\1321263489.py:2: UserWarning: Pandas doesn't allow columns to be created via a new attribute name - see https://pandas.pydata.org/pandas-docs/stable/indexing.html#attribute-access\n",
      "  df_국고5년.feature= df_국고5년.columns\n"
     ]
    },
    {
     "data": {
      "text/plain": [
       "ShapiroResult(statistic=0.9404698610305786, pvalue=2.447022264287545e-30)"
      ]
     },
     "execution_count": 90,
     "metadata": {},
     "output_type": "execute_result"
    }
   ],
   "source": [
    "df_국고5년 = df[['대비_국고5년']]\n",
    "df_국고5년.feature = df_국고5년.columns\n",
    "\n",
    "scaler = StandardScaler()\n",
    "\n",
    "scaler.fit(df_국고5년)\n",
    "df_국고5년_scaler = scaler.transform(df_국고5년)\n",
    "df_국고5년_scaled = pd.DataFrame (data = df_국고5년_scaler, columns=df_국고5년.feature)\n",
    "\n",
    "shapiro_test = stats.shapiro(df_국고5년_scaled)\n",
    "shapiro_test"
   ]
  },
  {
   "cell_type": "code",
   "execution_count": 92,
   "metadata": {},
   "outputs": [
    {
     "name": "stderr",
     "output_type": "stream",
     "text": [
      "C:\\Users\\hyeok\\AppData\\Local\\Temp\\ipykernel_27588\\1115839231.py:2: UserWarning: Pandas doesn't allow columns to be created via a new attribute name - see https://pandas.pydata.org/pandas-docs/stable/indexing.html#attribute-access\n",
      "  df_국고10년.feature= df_국고10년.columns\n"
     ]
    },
    {
     "data": {
      "text/plain": [
       "ShapiroResult(statistic=0.8823281526565552, pvalue=1.072441740717069e-39)"
      ]
     },
     "execution_count": 92,
     "metadata": {},
     "output_type": "execute_result"
    }
   ],
   "source": [
    "df_국고10년 = df[['대비_국고10년']]\n",
    "df_국고10년.feature= df_국고10년.columns\n",
    "\n",
    "scaler = StandardScaler()\n",
    "\n",
    "scaler.fit(df_국고10년)\n",
    "df_국고10년_scaler = scaler.transform(df_국고10년)\n",
    "df_국고10년_scaled = pd.DataFrame (data = df_국고10년_scaler, columns=df_국고10년.feature)\n",
    "\n",
    "shapiro_test = stats.shapiro(df_국고10년_scaled)\n",
    "shapiro_test"
   ]
  },
  {
   "cell_type": "code",
   "execution_count": 93,
   "metadata": {},
   "outputs": [
    {
     "name": "stderr",
     "output_type": "stream",
     "text": [
      "C:\\Users\\hyeok\\AppData\\Local\\Temp\\ipykernel_27588\\115543838.py:2: UserWarning: Pandas doesn't allow columns to be created via a new attribute name - see https://pandas.pydata.org/pandas-docs/stable/indexing.html#attribute-access\n",
      "  df_통안1년.feature= df_통안1년.columns\n"
     ]
    },
    {
     "data": {
      "text/plain": [
       "ShapiroResult(statistic=0.3270953297615051, pvalue=0.0)"
      ]
     },
     "execution_count": 93,
     "metadata": {},
     "output_type": "execute_result"
    }
   ],
   "source": [
    "df_통안1년 = df[['대비_통안1년']]\n",
    "df_통안1년.feature= df_통안1년.columns\n",
    "\n",
    "scaler = StandardScaler()\n",
    "\n",
    "scaler.fit(df_통안1년)\n",
    "df_통안1년_scaler = scaler.transform(df_통안1년)\n",
    "df_통안1년_scaled = pd.DataFrame (data = df_통안1년_scaler, columns=df_통안1년.feature)\n",
    "\n",
    "shapiro_test = stats.shapiro(df_통안1년_scaled)\n",
    "shapiro_test"
   ]
  },
  {
   "cell_type": "code",
   "execution_count": 94,
   "metadata": {},
   "outputs": [
    {
     "name": "stderr",
     "output_type": "stream",
     "text": [
      "C:\\Users\\hyeok\\AppData\\Local\\Temp\\ipykernel_27588\\4029346336.py:2: UserWarning: Pandas doesn't allow columns to be created via a new attribute name - see https://pandas.pydata.org/pandas-docs/stable/indexing.html#attribute-access\n",
      "  df_통안2년.feature= df_통안2년.columns\n"
     ]
    },
    {
     "data": {
      "text/plain": [
       "ShapiroResult(statistic=0.3270953297615051, pvalue=0.0)"
      ]
     },
     "execution_count": 94,
     "metadata": {},
     "output_type": "execute_result"
    }
   ],
   "source": [
    "df_통안2년 = df[['대비_통안2년']]\n",
    "df_통안2년.feature= df_통안2년.columns\n",
    "\n",
    "scaler = StandardScaler()\n",
    "\n",
    "scaler.fit(df_통안2년)\n",
    "df_통안2년_scaler = scaler.transform(df_통안2년)\n",
    "df_통안2년_scaled = pd.DataFrame (data = df_통안2년_scaler, columns=df_통안2년.feature)\n",
    "\n",
    "shapiro_test = stats.shapiro(df_통안2년_scaled)\n",
    "shapiro_test"
   ]
  },
  {
   "cell_type": "code",
   "execution_count": 95,
   "metadata": {},
   "outputs": [
    {
     "name": "stderr",
     "output_type": "stream",
     "text": [
      "C:\\Users\\hyeok\\AppData\\Local\\Temp\\ipykernel_27588\\1370529836.py:2: UserWarning: Pandas doesn't allow columns to be created via a new attribute name - see https://pandas.pydata.org/pandas-docs/stable/indexing.html#attribute-access\n",
      "  df_베이시스1년.feature= df_베이시스1년.columns\n"
     ]
    },
    {
     "data": {
      "text/plain": [
       "ShapiroResult(statistic=0.5127270221710205, pvalue=0.0)"
      ]
     },
     "execution_count": 95,
     "metadata": {},
     "output_type": "execute_result"
    }
   ],
   "source": [
    "df_베이시스1년 = df[['대비_베이시스1년']]\n",
    "df_베이시스1년.feature= df_베이시스1년.columns\n",
    "\n",
    "scaler = StandardScaler()\n",
    "\n",
    "scaler.fit(df_베이시스1년)\n",
    "df_베이시스1년_scaler = scaler.transform(df_베이시스1년)\n",
    "df_베이시스1년_scaled = pd.DataFrame (data = df_베이시스1년_scaler, columns=df_베이시스1년.feature)\n",
    "\n",
    "shapiro_test = stats.shapiro(df_베이시스1년_scaled)\n",
    "shapiro_test"
   ]
  },
  {
   "cell_type": "code",
   "execution_count": 100,
   "metadata": {},
   "outputs": [
    {
     "name": "stderr",
     "output_type": "stream",
     "text": [
      "C:\\Users\\hyeok\\AppData\\Local\\Temp\\ipykernel_27588\\1765080530.py:2: UserWarning: Pandas doesn't allow columns to be created via a new attribute name - see https://pandas.pydata.org/pandas-docs/stable/indexing.html#attribute-access\n",
      "  df_베이시스2년.feature= df_베이시스2년.columns\n"
     ]
    },
    {
     "data": {
      "text/plain": [
       "ShapiroResult(statistic=0.5933963060379028, pvalue=0.0)"
      ]
     },
     "execution_count": 100,
     "metadata": {},
     "output_type": "execute_result"
    }
   ],
   "source": [
    "df_베이시스2년 = df[['대비_베이시스2년']]\n",
    "df_베이시스2년.feature= df_베이시스2년.columns\n",
    "\n",
    "scaler = StandardScaler()\n",
    "\n",
    "scaler.fit(df_베이시스2년)\n",
    "df_베이시스2년_scaler = scaler.transform(df_베이시스2년)\n",
    "df_베이시스2년_scaled = pd.DataFrame (data = df_베이시스2년_scaler, columns=df_베이시스2년.feature)\n",
    "\n",
    "shapiro_test = stats.shapiro(df_베이시스2년_scaled)\n",
    "shapiro_test"
   ]
  },
  {
   "cell_type": "code",
   "execution_count": 101,
   "metadata": {},
   "outputs": [
    {
     "name": "stderr",
     "output_type": "stream",
     "text": [
      "C:\\Users\\hyeok\\AppData\\Local\\Temp\\ipykernel_27588\\3467710364.py:2: UserWarning: Pandas doesn't allow columns to be created via a new attribute name - see https://pandas.pydata.org/pandas-docs/stable/indexing.html#attribute-access\n",
      "  df_베이시스3년.feature= df_베이시스3년.columns\n"
     ]
    },
    {
     "data": {
      "text/plain": [
       "ShapiroResult(statistic=0.5179394483566284, pvalue=0.0)"
      ]
     },
     "execution_count": 101,
     "metadata": {},
     "output_type": "execute_result"
    }
   ],
   "source": [
    "df_베이시스3년 = df[['대비_베이시스3년']]\n",
    "df_베이시스3년.feature= df_베이시스3년.columns\n",
    "\n",
    "scaler = StandardScaler()\n",
    "\n",
    "scaler.fit(df_베이시스3년)\n",
    "df_베이시스3년_scaler = scaler.transform(df_베이시스3년)\n",
    "df_베이시스3년_scaled = pd.DataFrame (data = df_베이시스3년_scaler, columns=df_베이시스3년.feature)\n",
    "\n",
    "shapiro_test = stats.shapiro(df_베이시스3년_scaled)\n",
    "shapiro_test"
   ]
  },
  {
   "cell_type": "code",
   "execution_count": 102,
   "metadata": {},
   "outputs": [
    {
     "name": "stderr",
     "output_type": "stream",
     "text": [
      "C:\\Users\\hyeok\\AppData\\Local\\Temp\\ipykernel_27588\\3380791165.py:2: UserWarning: Pandas doesn't allow columns to be created via a new attribute name - see https://pandas.pydata.org/pandas-docs/stable/indexing.html#attribute-access\n",
      "  df_베이시스5년.feature= df_베이시스5년.columns\n"
     ]
    },
    {
     "data": {
      "text/plain": [
       "ShapiroResult(statistic=0.6502602100372314, pvalue=0.0)"
      ]
     },
     "execution_count": 102,
     "metadata": {},
     "output_type": "execute_result"
    }
   ],
   "source": [
    "df_베이시스5년 = df[['대비_베이시스5년']]\n",
    "df_베이시스5년.feature= df_베이시스5년.columns\n",
    "\n",
    "scaler = StandardScaler()\n",
    "\n",
    "scaler.fit(df_베이시스5년)\n",
    "df_베이시스5년_scaler = scaler.transform(df_베이시스5년)\n",
    "df_베이시스5년_scaled = pd.DataFrame (data = df_베이시스5년_scaler, columns=df_베이시스5년.feature)\n",
    "\n",
    "shapiro_test = stats.shapiro(df_베이시스5년_scaled)\n",
    "shapiro_test"
   ]
  },
  {
   "cell_type": "code",
   "execution_count": 103,
   "metadata": {},
   "outputs": [
    {
     "name": "stderr",
     "output_type": "stream",
     "text": [
      "C:\\Users\\hyeok\\AppData\\Local\\Temp\\ipykernel_27588\\1264371758.py:2: UserWarning: Pandas doesn't allow columns to be created via a new attribute name - see https://pandas.pydata.org/pandas-docs/stable/indexing.html#attribute-access\n",
      "  df_베이시스10년.feature= df_베이시스10년.columns\n"
     ]
    },
    {
     "data": {
      "text/plain": [
       "ShapiroResult(statistic=0.6415373086929321, pvalue=0.0)"
      ]
     },
     "execution_count": 103,
     "metadata": {},
     "output_type": "execute_result"
    }
   ],
   "source": [
    "df_베이시스10년 = df[['대비_베이시스10년']]\n",
    "df_베이시스10년.feature= df_베이시스10년.columns\n",
    "\n",
    "scaler = StandardScaler()\n",
    "\n",
    "scaler.fit(df_베이시스10년)\n",
    "df_베이시스10년_scaler = scaler.transform(df_베이시스10년)\n",
    "df_베이시스10년_scaled = pd.DataFrame (data = df_베이시스10년_scaler, columns=df_베이시스10년.feature)\n",
    "\n",
    "shapiro_test = stats.shapiro(df_베이시스10년_scaled)\n",
    "shapiro_test"
   ]
  },
  {
   "cell_type": "code",
   "execution_count": 104,
   "metadata": {},
   "outputs": [
    {
     "name": "stderr",
     "output_type": "stream",
     "text": [
      "C:\\Users\\hyeok\\AppData\\Local\\Temp\\ipykernel_27588\\3336769785.py:2: UserWarning: Pandas doesn't allow columns to be created via a new attribute name - see https://pandas.pydata.org/pandas-docs/stable/indexing.html#attribute-access\n",
      "  df_ndf.feature= df_ndf.columns\n"
     ]
    },
    {
     "data": {
      "text/plain": [
       "ShapiroResult(statistic=0.1652374267578125, pvalue=0.0)"
      ]
     },
     "execution_count": 104,
     "metadata": {},
     "output_type": "execute_result"
    }
   ],
   "source": [
    "df_ndf = df[['대비_ndf']]\n",
    "df_ndf.feature= df_ndf.columns\n",
    "\n",
    "scaler = StandardScaler()\n",
    "\n",
    "scaler.fit(df_ndf)\n",
    "df_ndf_scaler = scaler.transform(df_ndf)\n",
    "df_ndf_scaled = pd.DataFrame (data = df_ndf_scaler, columns=df_ndf.feature)\n",
    "\n",
    "shapiro_test = stats.shapiro(df_ndf_scaled)\n",
    "shapiro_test"
   ]
  },
  {
   "cell_type": "code",
   "execution_count": 106,
   "metadata": {},
   "outputs": [
    {
     "name": "stderr",
     "output_type": "stream",
     "text": [
      "C:\\Users\\hyeok\\AppData\\Local\\Temp\\ipykernel_27588\\1996475243.py:2: UserWarning: Pandas doesn't allow columns to be created via a new attribute name - see https://pandas.pydata.org/pandas-docs/stable/indexing.html#attribute-access\n",
      "  df_스왑포인트.feature= df_ndf.columns\n"
     ]
    },
    {
     "data": {
      "text/plain": [
       "ShapiroResult(statistic=0.9634605050086975, pvalue=1.921841672745928e-24)"
      ]
     },
     "execution_count": 106,
     "metadata": {},
     "output_type": "execute_result"
    }
   ],
   "source": [
    "df_스왑포인트 = df[['스왑포인트_1월물']]\n",
    "df_스왑포인트.feature= df_ndf.columns\n",
    "\n",
    "scaler = StandardScaler()\n",
    "\n",
    "scaler.fit(df_스왑포인트)\n",
    "df_스왑포인트_scaler = scaler.transform(df_스왑포인트)\n",
    "df_스왑포인트_scaled = pd.DataFrame (data = df_ndf_scaler, columns=df_스왑포인트.feature)\n",
    "\n",
    "shapiro_test = stats.shapiro(df_스왑포인트_scaled)\n",
    "shapiro_test"
   ]
  },
  {
   "cell_type": "code",
   "execution_count": 126,
   "metadata": {},
   "outputs": [
    {
     "data": {
      "text/plain": [
       "Index(['DateTime', '종가_ex', '대비_ex', '증감률_ex', '1Y_Mid_irs', '1Y_전일비_irs',\n",
       "       '2Y_Mid_irs', '2Y_전일비_irs', '3Y_Mid_irs', '3Y_전일비_irs', '5Y_Mid_irs',\n",
       "       '5Y_전일비_irs', '10Y_Mid_irs', '10Y_전일비_irs', '1Y_Mid_crs', '1Y_전일비_crs',\n",
       "       '2Y_Mid_crs', '2Y_전일비_crs', '3Y_Mid_crs', '3Y_전일비_crs', '5Y_Mid_crs',\n",
       "       '5Y_전일비_crs', '10Y_Mid_crs', '10Y_전일비_crs', '국고1년', '국고3년', '국고5년',\n",
       "       '국고10년', '통안364일', '통안2년', 'Bid_ndf', 'Ask_ndf', 'Mid_ndf', '전일비_ndf',\n",
       "       '1Y_베이시스', '2Y_베이시스', '3Y_베이시스', '5Y_베이시스', '10Y_베이시스', 'M1_스왑포인트'],\n",
       "      dtype='object')"
      ]
     },
     "execution_count": 126,
     "metadata": {},
     "output_type": "execute_result"
    }
   ],
   "source": [
    "all.columns"
   ]
  },
  {
   "cell_type": "code",
   "execution_count": null,
   "metadata": {},
   "outputs": [],
   "source": [
    "'DateTime', '종가_ex', '1Y_Mid_irs', '\n",
    "       '2Y_Mid_irs', '3Y_Mid_irs', '5Y_Mid_irs', '10Y_Mid_irs', '1Y_Mid_crs',\n",
    "       '2Y_Mid_crs', '3Y_Mid_crs', '5Y_Mid_crs', '10Y_Mid_crs', '국고1년', '국고3년', '국고5년',\n",
    "       '국고10년', '통안364일', '통안2년', 'Mid_ndf',\n",
    "       '1Y_베이시스', '2Y_베이시스', '3Y_베이시스', '5Y_베이시스', '10Y_베이시스', 'M1_스왑포인트'"
   ]
  }
 ],
 "metadata": {
  "kernelspec": {
   "display_name": "Python 3.9.8 64-bit",
   "language": "python",
   "name": "python3"
  },
  "language_info": {
   "codemirror_mode": {
    "name": "ipython",
    "version": 3
   },
   "file_extension": ".py",
   "mimetype": "text/x-python",
   "name": "python",
   "nbconvert_exporter": "python",
   "pygments_lexer": "ipython3",
   "version": "3.9.8"
  },
  "orig_nbformat": 4,
  "vscode": {
   "interpreter": {
    "hash": "a95e3b5fd3e1560c6e10fe52311c0c5912d45fb261aa1e5a0995290c914f6e79"
   }
  }
 },
 "nbformat": 4,
 "nbformat_minor": 2
}
