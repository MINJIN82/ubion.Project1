{
 "cells": [
  {
   "cell_type": "markdown",
   "metadata": {},
   "source": [
    "# 전처리"
   ]
  },
  {
   "cell_type": "code",
   "execution_count": 3,
   "metadata": {},
   "outputs": [
    {
     "data": {
      "text/html": [
       "<div>\n",
       "<style scoped>\n",
       "    .dataframe tbody tr th:only-of-type {\n",
       "        vertical-align: middle;\n",
       "    }\n",
       "\n",
       "    .dataframe tbody tr th {\n",
       "        vertical-align: top;\n",
       "    }\n",
       "\n",
       "    .dataframe thead th {\n",
       "        text-align: right;\n",
       "    }\n",
       "</style>\n",
       "<table border=\"1\" class=\"dataframe\">\n",
       "  <thead>\n",
       "    <tr style=\"text-align: right;\">\n",
       "      <th></th>\n",
       "      <th>종가_ex</th>\n",
       "      <th>전일비_ndf</th>\n",
       "      <th>전일비_1Y_베이시스</th>\n",
       "      <th>전일종가_ex</th>\n",
       "    </tr>\n",
       "    <tr>\n",
       "      <th>DateTime</th>\n",
       "      <th></th>\n",
       "      <th></th>\n",
       "      <th></th>\n",
       "      <th></th>\n",
       "    </tr>\n",
       "  </thead>\n",
       "  <tbody>\n",
       "    <tr>\n",
       "      <th>2012-08-02</th>\n",
       "      <td>1131.7</td>\n",
       "      <td>0.001546</td>\n",
       "      <td>-0.026316</td>\n",
       "      <td>1126.5</td>\n",
       "    </tr>\n",
       "    <tr>\n",
       "      <th>2012-08-03</th>\n",
       "      <td>1134.8</td>\n",
       "      <td>0.003527</td>\n",
       "      <td>-0.027027</td>\n",
       "      <td>1131.7</td>\n",
       "    </tr>\n",
       "  </tbody>\n",
       "</table>\n",
       "</div>"
      ],
      "text/plain": [
       "             종가_ex   전일비_ndf  전일비_1Y_베이시스  전일종가_ex\n",
       "DateTime                                          \n",
       "2012-08-02  1131.7  0.001546    -0.026316   1126.5\n",
       "2012-08-03  1134.8  0.003527    -0.027027   1131.7"
      ]
     },
     "execution_count": 3,
     "metadata": {},
     "output_type": "execute_result"
    }
   ],
   "source": [
    "import pandas as pd\n",
    "\n",
    "# 데이터 불러오기\n",
    "all = pd.read_excel(\"./엑셀/Join_data.xlsx\", index_col=0)\n",
    "import warnings \n",
    "warnings.filterwarnings('ignore')\n",
    "\n",
    "# 필요한 데이터만 가져오기 (종가, ndf, 베이시스)\n",
    "all2 = all[[\"DateTime\", \"종가_ex\",  \"Mid_ndf\", \"1Y_베이시스\"]]\n",
    "\n",
    "# 베이시스에 0값 하나 있어서 삭제\n",
    "index1 = all2[all2[\"1Y_베이시스\"] == 0].index\n",
    "all2.drop(index1, inplace=True)\n",
    "all2.reset_index(drop=True, inplace=True)\n",
    "\n",
    "# 전일비 및 종가 계산\n",
    "all2[\"전일비_ndf\"] = (all2[\"Mid_ndf\"] - all2[\"Mid_ndf\"].shift(1)) / all2[\"Mid_ndf\"].shift(1)\n",
    "all2[\"전일비_1Y_베이시스\"] = (all2[\"1Y_베이시스\"] - all2[\"1Y_베이시스\"].shift(1)) / all2[\"1Y_베이시스\"].shift(1)\n",
    "all2[\"전일종가_ex\"] = all2[\"종가_ex\"].shift(1)\n",
    "\n",
    "# 계산후 첫 행 Nan 값 존재 -> 첫 행 지워주고 인덱스 리셋\n",
    "all2.drop([0], axis=0, inplace=True)\n",
    "all2.reset_index(drop=True, inplace=True)\n",
    "\n",
    "# 필요한 계산한 값들만 가져오기 (종가/전일비/전일종가)\n",
    "all_rate = all2.copy()\n",
    "all_rate = all_rate[[\"DateTime\",\"종가_ex\", \"전일비_ndf\", \"전일비_1Y_베이시스\", \"전일종가_ex\"]]\n",
    "\n",
    "# DateTime을 인덱스로 바꿔주기\n",
    "all_rate = all_rate.set_index('DateTime')\n",
    "all_rate.head(2)"
   ]
  },
  {
   "cell_type": "markdown",
   "metadata": {},
   "source": [
    "# 회귀"
   ]
  },
  {
   "cell_type": "code",
   "execution_count": 4,
   "metadata": {},
   "outputs": [],
   "source": [
    "# 쓸 칼럼만 남기고 feature, target 분리해 각각 x,y 에 저장\n",
    "x = all_rate[[\"전일비_ndf\", \"전일비_1Y_베이시스\", \"전일종가_ex\"]]\n",
    "y = all_rate[[\"종가_ex\"]]\n",
    "\n",
    "# x.shape\n",
    "# y.shape\n",
    "# x_train.shape\n",
    "# y_train.shape"
   ]
  },
  {
   "cell_type": "code",
   "execution_count": 8,
   "metadata": {},
   "outputs": [
    {
     "data": {
      "text/plain": [
       "(2458, 3)"
      ]
     },
     "execution_count": 8,
     "metadata": {},
     "output_type": "execute_result"
    }
   ],
   "source": [
    "x.shape"
   ]
  },
  {
   "cell_type": "code",
   "execution_count": 9,
   "metadata": {},
   "outputs": [
    {
     "data": {
      "text/plain": [
       "(2458, 1)"
      ]
     },
     "execution_count": 9,
     "metadata": {},
     "output_type": "execute_result"
    }
   ],
   "source": [
    "y.shape"
   ]
  },
  {
   "cell_type": "code",
   "execution_count": 15,
   "metadata": {},
   "outputs": [
    {
     "name": "stdout",
     "output_type": "stream",
     "text": [
      "Epoch 1/70\n",
      "77/77 [==============================] - 0s 1ms/step - loss: 1314092.6250 - mae: 1035.1224\n",
      "Epoch 2/70\n",
      "77/77 [==============================] - 0s 1ms/step - loss: 1145286.2500 - mae: 951.3304\n",
      "Epoch 3/70\n",
      "77/77 [==============================] - 0s 1ms/step - loss: 996573.8125 - mae: 872.4296\n",
      "Epoch 4/70\n",
      "77/77 [==============================] - 0s 1ms/step - loss: 865879.4375 - mae: 798.6357\n",
      "Epoch 5/70\n",
      "77/77 [==============================] - 0s 1ms/step - loss: 751112.4375 - mae: 729.9216\n",
      "Epoch 6/70\n",
      "77/77 [==============================] - 0s 1ms/step - loss: 650449.1250 - mae: 666.3314\n",
      "Epoch 7/70\n",
      "77/77 [==============================] - 0s 1ms/step - loss: 562167.7500 - mae: 607.6310\n",
      "Epoch 8/70\n",
      "77/77 [==============================] - 0s 1ms/step - loss: 484802.9062 - mae: 553.5300\n",
      "Epoch 9/70\n",
      "77/77 [==============================] - 0s 1ms/step - loss: 417078.2188 - mae: 503.7748\n",
      "Epoch 10/70\n",
      "77/77 [==============================] - 0s 1ms/step - loss: 357891.8438 - mae: 457.9935\n",
      "Epoch 11/70\n",
      "77/77 [==============================] - 0s 1ms/step - loss: 306232.9688 - mae: 415.9235\n",
      "Epoch 12/70\n",
      "77/77 [==============================] - 0s 1ms/step - loss: 261245.8594 - mae: 377.2914\n",
      "Epoch 13/70\n",
      "77/77 [==============================] - 0s 1ms/step - loss: 222154.5469 - mae: 341.7358\n",
      "Epoch 14/70\n",
      "77/77 [==============================] - 0s 2ms/step - loss: 188250.9531 - mae: 309.0201\n",
      "Epoch 15/70\n",
      "77/77 [==============================] - 0s 1ms/step - loss: 158922.2344 - mae: 278.9326\n",
      "Epoch 16/70\n",
      "77/77 [==============================] - 0s 1ms/step - loss: 133618.6406 - mae: 251.2868\n",
      "Epoch 17/70\n",
      "77/77 [==============================] - 0s 1ms/step - loss: 111849.1797 - mae: 225.9374\n",
      "Epoch 18/70\n",
      "77/77 [==============================] - 0s 1ms/step - loss: 93187.2656 - mae: 202.7388\n",
      "Epoch 19/70\n",
      "77/77 [==============================] - 0s 1ms/step - loss: 77242.7500 - mae: 181.5629\n",
      "Epoch 20/70\n",
      "77/77 [==============================] - 0s 1ms/step - loss: 63680.9570 - mae: 162.2972\n",
      "Epoch 21/70\n",
      "77/77 [==============================] - 0s 1ms/step - loss: 52198.4688 - mae: 144.7397\n",
      "Epoch 22/70\n",
      "77/77 [==============================] - 0s 1ms/step - loss: 42524.9531 - mae: 128.7979\n",
      "Epoch 23/70\n",
      "77/77 [==============================] - 0s 994us/step - loss: 34421.6797 - mae: 114.3373\n",
      "Epoch 24/70\n",
      "77/77 [==============================] - 0s 1ms/step - loss: 27672.0254 - mae: 101.2506\n",
      "Epoch 25/70\n",
      "77/77 [==============================] - 0s 1ms/step - loss: 22091.2832 - mae: 89.4116\n",
      "Epoch 26/70\n",
      "77/77 [==============================] - 0s 1ms/step - loss: 17502.5898 - mae: 78.7615\n",
      "Epoch 27/70\n",
      "77/77 [==============================] - 0s 1ms/step - loss: 13761.9297 - mae: 69.1850\n",
      "Epoch 28/70\n",
      "77/77 [==============================] - 0s 1ms/step - loss: 10733.0518 - mae: 60.6139\n",
      "Epoch 29/70\n",
      "77/77 [==============================] - 0s 1ms/step - loss: 8301.7744 - mae: 52.9507\n",
      "Epoch 30/70\n",
      "77/77 [==============================] - 0s 1ms/step - loss: 6365.9746 - mae: 46.1158\n",
      "Epoch 31/70\n",
      "77/77 [==============================] - 0s 1ms/step - loss: 4838.2529 - mae: 40.0284\n",
      "Epoch 32/70\n",
      "77/77 [==============================] - 0s 1ms/step - loss: 3644.3120 - mae: 34.6292\n",
      "Epoch 33/70\n",
      "77/77 [==============================] - 0s 1ms/step - loss: 2719.6643 - mae: 29.8615\n",
      "Epoch 34/70\n",
      "77/77 [==============================] - 0s 1ms/step - loss: 2011.1102 - mae: 25.6745\n",
      "Epoch 35/70\n",
      "77/77 [==============================] - 0s 1ms/step - loss: 1473.5460 - mae: 22.0321\n",
      "Epoch 36/70\n",
      "77/77 [==============================] - 0s 1ms/step - loss: 1070.3052 - mae: 18.8853\n",
      "Epoch 37/70\n",
      "77/77 [==============================] - 0s 1ms/step - loss: 771.0450 - mae: 16.1879\n",
      "Epoch 38/70\n",
      "77/77 [==============================] - 0s 1ms/step - loss: 551.7465 - mae: 13.8883\n",
      "Epoch 39/70\n",
      "77/77 [==============================] - 0s 1ms/step - loss: 392.8585 - mae: 11.9440\n",
      "Epoch 40/70\n",
      "77/77 [==============================] - 0s 1ms/step - loss: 279.3348 - mae: 10.3114\n",
      "Epoch 41/70\n",
      "77/77 [==============================] - 0s 1ms/step - loss: 199.2054 - mae: 8.9623\n",
      "Epoch 42/70\n",
      "77/77 [==============================] - 0s 1ms/step - loss: 143.4965 - mae: 7.8583\n",
      "Epoch 43/70\n",
      "77/77 [==============================] - 0s 1ms/step - loss: 105.2926 - mae: 6.9752\n",
      "Epoch 44/70\n",
      "77/77 [==============================] - 0s 1ms/step - loss: 79.5032 - mae: 6.2732\n",
      "Epoch 45/70\n",
      "77/77 [==============================] - 0s 1ms/step - loss: 62.3510 - mae: 5.7269\n",
      "Epoch 46/70\n",
      "77/77 [==============================] - 0s 1ms/step - loss: 51.1534 - mae: 5.3061\n",
      "Epoch 47/70\n",
      "77/77 [==============================] - 0s 1ms/step - loss: 43.9563 - mae: 4.9895\n",
      "Epoch 48/70\n",
      "77/77 [==============================] - 0s 1ms/step - loss: 39.4223 - mae: 4.7589\n",
      "Epoch 49/70\n",
      "77/77 [==============================] - 0s 1ms/step - loss: 36.6048 - mae: 4.5925\n",
      "Epoch 50/70\n",
      "77/77 [==============================] - 0s 1ms/step - loss: 34.9039 - mae: 4.4818\n",
      "Epoch 51/70\n",
      "77/77 [==============================] - 0s 1ms/step - loss: 33.8946 - mae: 4.4108\n",
      "Epoch 52/70\n",
      "77/77 [==============================] - 0s 1ms/step - loss: 33.3142 - mae: 4.3694\n",
      "Epoch 53/70\n",
      "77/77 [==============================] - 0s 1ms/step - loss: 32.9731 - mae: 4.3425\n",
      "Epoch 54/70\n",
      "77/77 [==============================] - 0s 1ms/step - loss: 32.7748 - mae: 4.3281\n",
      "Epoch 55/70\n",
      "77/77 [==============================] - 0s 1ms/step - loss: 32.6870 - mae: 4.3209\n",
      "Epoch 56/70\n",
      "77/77 [==============================] - 0s 1ms/step - loss: 32.6259 - mae: 4.3163\n",
      "Epoch 57/70\n",
      "77/77 [==============================] - 0s 1ms/step - loss: 32.6032 - mae: 4.3149\n",
      "Epoch 58/70\n",
      "77/77 [==============================] - 0s 1ms/step - loss: 32.5920 - mae: 4.3136\n",
      "Epoch 59/70\n",
      "77/77 [==============================] - 0s 1ms/step - loss: 32.5726 - mae: 4.3127\n",
      "Epoch 60/70\n",
      "77/77 [==============================] - 0s 1ms/step - loss: 32.5891 - mae: 4.3139\n",
      "Epoch 61/70\n",
      "77/77 [==============================] - 0s 1ms/step - loss: 32.5691 - mae: 4.3121\n",
      "Epoch 62/70\n",
      "77/77 [==============================] - 0s 1ms/step - loss: 32.5729 - mae: 4.3121\n",
      "Epoch 63/70\n",
      "77/77 [==============================] - 0s 1ms/step - loss: 32.5760 - mae: 4.3131\n",
      "Epoch 64/70\n",
      "77/77 [==============================] - 0s 1ms/step - loss: 32.5701 - mae: 4.3129\n",
      "Epoch 65/70\n",
      "77/77 [==============================] - 0s 1ms/step - loss: 32.5779 - mae: 4.3127\n",
      "Epoch 66/70\n",
      "77/77 [==============================] - 0s 1ms/step - loss: 32.5726 - mae: 4.3107\n",
      "Epoch 67/70\n",
      "77/77 [==============================] - 0s 1ms/step - loss: 32.5568 - mae: 4.3120\n",
      "Epoch 68/70\n",
      "77/77 [==============================] - 0s 1ms/step - loss: 32.5854 - mae: 4.3132\n",
      "Epoch 69/70\n",
      "77/77 [==============================] - 0s 1ms/step - loss: 32.5862 - mae: 4.3136\n",
      "Epoch 70/70\n",
      "77/77 [==============================] - 0s 1ms/step - loss: 32.5855 - mae: 4.3163\n"
     ]
    }
   ],
   "source": [
    "from tensorflow.keras.models import Sequential\n",
    "from tensorflow.keras.layers import Dense\n",
    "from sklearn.model_selection import train_test_split\n",
    "import tensorflow as tf \n",
    "\n",
    "tf.random.set_seed(3)\n",
    "\n",
    "x_train, x_test, y_train, y_test = train_test_split(x, y, test_size=0.2, random_state=10)\n",
    "\n",
    "model = Sequential()\n",
    "model.add(Dense(10, input_dim = 3, activation = 'linear'))\n",
    "# model.add(Dense(5, activation = 'linear'))\n",
    "model.compile(optimizer='adam', loss='mse', metrics=['mae'])\n",
    "\n",
    "history = model.fit(x, y, epochs=70)\n"
   ]
  },
  {
   "cell_type": "code",
   "execution_count": null,
   "metadata": {},
   "outputs": [],
   "source": []
  }
 ],
 "metadata": {
  "kernelspec": {
   "display_name": "Python 3.9.8 64-bit",
   "language": "python",
   "name": "python3"
  },
  "language_info": {
   "codemirror_mode": {
    "name": "ipython",
    "version": 3
   },
   "file_extension": ".py",
   "mimetype": "text/x-python",
   "name": "python",
   "nbconvert_exporter": "python",
   "pygments_lexer": "ipython3",
   "version": "3.9.8"
  },
  "orig_nbformat": 4,
  "vscode": {
   "interpreter": {
    "hash": "a95e3b5fd3e1560c6e10fe52311c0c5912d45fb261aa1e5a0995290c914f6e79"
   }
  }
 },
 "nbformat": 4,
 "nbformat_minor": 2
}
