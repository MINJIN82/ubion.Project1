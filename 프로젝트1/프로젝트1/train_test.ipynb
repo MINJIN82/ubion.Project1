{
 "cells": [
  {
   "cell_type": "markdown",
   "metadata": {},
   "source": [
    "### 찐 train test"
   ]
  },
  {
   "cell_type": "code",
   "execution_count": null,
   "metadata": {},
   "outputs": [],
   "source": [
    "import pandas as pd\n",
    "import numpy as np\n",
    "\n",
    "df_ex = pd.read_excel('./xlsx/df_ex.xlsx')\n",
    "df_ex= df_ex.set_index(\"DateTime\")"
   ]
  },
  {
   "cell_type": "code",
   "execution_count": null,
   "metadata": {},
   "outputs": [],
   "source": [
    "df_ex_data=df_ex[['대비_irs_1Y', '대비_irs_10Y', '대비_crs_1Y', '대비_crs_3Y', '스왑포인트_1M', '대비_국고_3Y',\n",
    "          '대비_국고_5Y', '종가_NDF_차이', '전일종가_ex']]\n",
    "df_ex_target = df_ex[\"종가\"]"
   ]
  },
  {
   "cell_type": "code",
   "execution_count": null,
   "metadata": {},
   "outputs": [],
   "source": [
    "\n",
    "df_ex_data.feature = df_ex_data.columns \n",
    "\n",
    "from sklearn.preprocessing import StandardScaler\n",
    "\n",
    "# StandardScaler객체 생성\n",
    "scaler = StandardScaler()\n",
    "\n",
    "# MinMadf_ex_dataScaler 로 데이터 셋 변환. fit() 과 transform() 호출.\n",
    "scaler.fit(df_ex_data)\n",
    "data_scaled = scaler.transform(df_ex_data)\n",
    "\n",
    "# transform()시 scale 변환된 데이터 셋이 numpy ndarry로 반환되어 이를 DataFrame으로 변환\n",
    "df_ex_data_scaled = pd.DataFrame(data = data_scaled, columns=df_ex_data.feature)\n",
    "\n",
    "df_ex_data_scaled.index = df_ex_data.index # 인덱스가 달라서 똑같이 설정\n",
    "\n",
    "# df_ex_data_scaled = df_ex_data_scaled.dropna()\n",
    "df_ex_data_scaled"
   ]
  },
  {
   "cell_type": "code",
   "execution_count": null,
   "metadata": {},
   "outputs": [],
   "source": [
    "X_train = df_ex_data_scaled[['대비_irs_1Y', '대비_irs_10Y', '대비_crs_1Y', '대비_crs_3Y', '스왑포인트_1M',\n",
    "       '대비_국고_3Y', '대비_국고_5Y', '종가_NDF_차이', '전일종가_ex']][:2457]\n",
    "X_test = df_ex_data_scaled[['대비_irs_1Y', '대비_irs_10Y', '대비_crs_1Y', '대비_crs_3Y', '스왑포인트_1M',\n",
    "       '대비_국고_3Y', '대비_국고_5Y', '종가_NDF_차이', '전일종가_ex']][2457:]\n",
    "y_train =  df_ex_target[:2457]\n",
    "y_test =  df_ex_target[2457:]"
   ]
  },
  {
   "cell_type": "code",
   "execution_count": null,
   "metadata": {},
   "outputs": [],
   "source": [
    "import numpy as np \n",
    "# import matplotlib.pyplot as plt\n",
    "from sklearn.model_selection import train_test_split\n",
    "from sklearn.linear_model import LinearRegression\n",
    "from sklearn.metrics import mean_absolute_error\n",
    "\n",
    "\n",
    "from sklearn.linear_model import LinearRegression\n",
    "\n",
    "mlr = LinearRegression()\n",
    "mlr.fit(X_train, y_train)\n",
    "\n",
    "y_pred = mlr.predict(X_test)\n",
    "\n",
    "from sklearn.metrics import mean_squared_error, r2_score\n",
    "mse = mean_squared_error(y_test, y_pred)\n",
    "rmse = np.sqrt(mse)\n",
    "mae = mean_absolute_error(y_test,y_pred)\n",
    "\n",
    "print('MSE : {0:}, RMSE : {1: .3f}, MAE:{1: .3f}'.format(mse, rmse, mae))\n",
    "print('Variance score : {0: .3f}'.format(r2_score(y_test, y_pred)))"
   ]
  },
  {
   "cell_type": "code",
   "execution_count": null,
   "metadata": {},
   "outputs": [],
   "source": [
    "import matplotlib.pyplot as plt\n",
    "from matplotlib import rc \n",
    "plt.rc('font', family='Malgun Gothic')\n",
    "\n",
    "plt.figure(figsize=(16,8))\n",
    "plt.title(' 환율 예측')\n",
    "# plt.xlable('날짜')\n",
    "# plt.ylable('종가')\n",
    "plt.plot(y_test.index, y_test.values, label=\"test\")\n",
    "plt.plot(y_test.index, y_pred, label=\"pred\")\n",
    "plt.legend(loc='best')\n",
    "plt.grid()\n",
    "plt.show()"
   ]
  }
 ],
 "metadata": {
  "kernelspec": {
   "display_name": "Python 3.9.12 ('base')",
   "language": "python",
   "name": "python3"
  },
  "language_info": {
   "codemirror_mode": {
    "name": "ipython",
    "version": 3
   },
   "file_extension": ".py",
   "mimetype": "text/x-python",
   "name": "python",
   "nbconvert_exporter": "python",
   "pygments_lexer": "ipython3",
   "version": "3.9.12"
  },
  "orig_nbformat": 4,
  "vscode": {
   "interpreter": {
    "hash": "7adfe9f3775c954d01fc005199cfce03b4193bbc6ff21451e4d1eaf7785b4e29"
   }
  }
 },
 "nbformat": 4,
 "nbformat_minor": 2
}
