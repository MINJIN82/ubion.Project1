{
 "cells": [
  {
   "cell_type": "code",
   "execution_count": 1,
   "metadata": {},
   "outputs": [],
   "source": [
    "import pandas as pd"
   ]
  },
  {
   "cell_type": "code",
   "execution_count": 2,
   "metadata": {},
   "outputs": [],
   "source": [
    "SwapBasis_2002 = pd.read_excel('./xlsx/3Y/SwapBasis_20020731(3Y).xlsx', index_col=0)\n",
    "SwapBasis_2003 = pd.read_excel('./xlsx/3Y/SwapBasis_20030731(3Y).xlsx', index_col=0)\n",
    "SwapBasis_2004 = pd.read_excel('./xlsx/3Y/SwapBasis_20040731(3Y).xlsx', index_col=0)\n",
    "SwapBasis_2005 = pd.read_excel('./xlsx/3Y/SwapBasis_20050731(3Y).xlsx', index_col=0)\n",
    "SwapBasis_2006 = pd.read_excel('./xlsx/3Y/SwapBasis_20060731(3Y).xlsx', index_col=0)\n",
    "SwapBasis_2007 = pd.read_excel('./xlsx/3Y/SwapBasis_20070731(3Y).xlsx', index_col=0)\n",
    "SwapBasis_2008 = pd.read_excel('./xlsx/3Y/SwapBasis_20080731(3Y).xlsx', index_col=0)\n",
    "SwapBasis_2009 = pd.read_excel('./xlsx/3Y/SwapBasis_20090731(3Y).xlsx', index_col=0)\n",
    "SwapBasis_2010 = pd.read_excel('./xlsx/3Y/SwapBasis_20100731(3Y).xlsx', index_col=0)\n",
    "SwapBasis_2011 = pd.read_excel('./xlsx/3Y/SwapBasis_20110731(3Y).xlsx', index_col=0)\n",
    "SwapBasis_2012 = pd.read_excel('./xlsx/3Y/SwapBasis_20120731(3Y).xlsx', index_col=0)"
   ]
  },
  {
   "cell_type": "code",
   "execution_count": 3,
   "metadata": {},
   "outputs": [],
   "source": [
    "# 불필요한 컬럼제거\n",
    "SwapBasis_2002.drop(['Mid', '전일비', 'IRS', 'DateTime.1', 'Mid.1', '전일비.1'], axis=1, inplace=True)\n",
    "SwapBasis_2003.drop(['Mid', '전일비', 'IRS', 'DateTime.1', 'Mid.1', '전일비.1'], axis=1, inplace=True)\n",
    "SwapBasis_2004.drop(['Mid', '전일비', 'IRS', 'DateTime.1', 'Mid.1', '전일비.1'], axis=1, inplace=True)\n",
    "SwapBasis_2005.drop(['Mid', '전일비', 'IRS', 'DateTime.1', 'Mid.1', '전일비.1'], axis=1, inplace=True)\n",
    "SwapBasis_2006.drop(['Mid', '전일비', 'IRS', 'DateTime.1', 'Mid.1', '전일비.1'], axis=1, inplace=True)\n",
    "SwapBasis_2007.drop(['Mid', '전일비', 'IRS', 'DateTime.1', 'Mid.1', '전일비.1'], axis=1, inplace=True)\n",
    "SwapBasis_2008.drop(['Mid', '전일비', 'IRS', 'DateTime.1', 'Mid.1', '전일비.1'], axis=1, inplace=True)\n",
    "SwapBasis_2009.drop(['Mid', '전일비', 'IRS', 'DateTime.1', 'Mid.1', '전일비.1'], axis=1, inplace=True)\n",
    "SwapBasis_2010.drop(['Mid', '전일비', 'IRS', 'DateTime.1', 'Mid.1', '전일비.1'], axis=1, inplace=True)\n",
    "SwapBasis_2011.drop(['Mid', '전일비', 'IRS', 'DateTime.1', 'Mid.1', '전일비.1'], axis=1, inplace=True)\n",
    "SwapBasis_2012.drop(['Mid', '전일비', 'IRS', 'DateTime.1', 'Mid.1', '전일비.1'], axis=1, inplace=True)"
   ]
  },
  {
   "cell_type": "code",
   "execution_count": 4,
   "metadata": {},
   "outputs": [],
   "source": [
    "# 컬럼명 변경\n",
    "SwapBasis_20020731 = SwapBasis_2002.rename(columns={\"베이시스\" : \"3Y_베이시스\"})\n",
    "SwapBasis_20030731 = SwapBasis_2003.rename(columns={\"베이시스\" : \"3Y_베이시스\"})\n",
    "SwapBasis_20040731 = SwapBasis_2004.rename(columns={\"베이시스\" : \"3Y_베이시스\"})\n",
    "SwapBasis_20050731 = SwapBasis_2005.rename(columns={\"베이시스\" : \"3Y_베이시스\"})\n",
    "SwapBasis_20060731 = SwapBasis_2006.rename(columns={\"베이시스\" : \"3Y_베이시스\"})\n",
    "SwapBasis_20070731 = SwapBasis_2007.rename(columns={\"베이시스\" : \"3Y_베이시스\"})\n",
    "SwapBasis_20080731 = SwapBasis_2008.rename(columns={\"베이시스\" : \"3Y_베이시스\"})\n",
    "SwapBasis_20090731 = SwapBasis_2009.rename(columns={\"베이시스\" : \"3Y_베이시스\"})\n",
    "SwapBasis_20100731 = SwapBasis_2010.rename(columns={\"베이시스\" : \"3Y_베이시스\"})\n",
    "SwapBasis_20110731 = SwapBasis_2011.rename(columns={\"베이시스\" : \"3Y_베이시스\"})\n",
    "SwapBasis_20120731 = SwapBasis_2012.rename(columns={\"베이시스\" : \"3Y_베이시스\"})"
   ]
  },
  {
   "cell_type": "code",
   "execution_count": 5,
   "metadata": {},
   "outputs": [],
   "source": [
    "# 인덱스를 DateTime으로 변경\n",
    "SwapBasis_20020731.set_index('DateTime', inplace = True)\n",
    "SwapBasis_20030731.set_index('DateTime', inplace = True)\n",
    "SwapBasis_20040731.set_index('DateTime', inplace = True)\n",
    "SwapBasis_20050731.set_index('DateTime', inplace = True)\n",
    "SwapBasis_20060731.set_index('DateTime', inplace = True)\n",
    "SwapBasis_20070731.set_index('DateTime', inplace = True)\n",
    "SwapBasis_20080731.set_index('DateTime', inplace = True)\n",
    "SwapBasis_20090731.set_index('DateTime', inplace = True)\n",
    "SwapBasis_20100731.set_index('DateTime', inplace = True)\n",
    "SwapBasis_20110731.set_index('DateTime', inplace = True)\n",
    "SwapBasis_20120731.set_index('DateTime', inplace = True)"
   ]
  },
  {
   "cell_type": "code",
   "execution_count": 6,
   "metadata": {},
   "outputs": [],
   "source": [
    "SwapBasis_20022003 = pd.concat([SwapBasis_20030731, SwapBasis_20020731])\n",
    "SwapBasis_20042005 = pd.concat([SwapBasis_20050731, SwapBasis_20040731])\n",
    "SwapBasis_20062007 = pd.concat([SwapBasis_20070731, SwapBasis_20060731])\n",
    "SwapBasis_20082009 = pd.concat([SwapBasis_20090731, SwapBasis_20080731])\n",
    "SwapBasis_20102011 = pd.concat([SwapBasis_20110731, SwapBasis_20100731])"
   ]
  },
  {
   "cell_type": "code",
   "execution_count": 7,
   "metadata": {},
   "outputs": [],
   "source": [
    "SwapBasis_02030405 = pd.concat([SwapBasis_20042005, SwapBasis_20022003])\n",
    "SwapBasis_06070809 = pd.concat([SwapBasis_20082009, SwapBasis_20062007])\n",
    "SwapBasis_101112 = pd.concat([SwapBasis_20120731, SwapBasis_20102011])"
   ]
  },
  {
   "cell_type": "code",
   "execution_count": 8,
   "metadata": {},
   "outputs": [],
   "source": [
    "SwapBasis_23456789 = pd.concat([SwapBasis_06070809, SwapBasis_02030405])\n",
    "SwapBasis_101112 = pd.concat([SwapBasis_20120731, SwapBasis_20102011])"
   ]
  },
  {
   "cell_type": "code",
   "execution_count": 9,
   "metadata": {},
   "outputs": [
    {
     "data": {
      "text/html": [
       "<div>\n",
       "<style scoped>\n",
       "    .dataframe tbody tr th:only-of-type {\n",
       "        vertical-align: middle;\n",
       "    }\n",
       "\n",
       "    .dataframe tbody tr th {\n",
       "        vertical-align: top;\n",
       "    }\n",
       "\n",
       "    .dataframe thead th {\n",
       "        text-align: right;\n",
       "    }\n",
       "</style>\n",
       "<table border=\"1\" class=\"dataframe\">\n",
       "  <thead>\n",
       "    <tr style=\"text-align: right;\">\n",
       "      <th></th>\n",
       "      <th>3Y_베이시스</th>\n",
       "    </tr>\n",
       "    <tr>\n",
       "      <th>DateTime</th>\n",
       "      <th></th>\n",
       "    </tr>\n",
       "  </thead>\n",
       "  <tbody>\n",
       "    <tr>\n",
       "      <th>2013-08-01</th>\n",
       "      <td>-140.5</td>\n",
       "    </tr>\n",
       "    <tr>\n",
       "      <th>2013-07-31</th>\n",
       "      <td>-140.5</td>\n",
       "    </tr>\n",
       "    <tr>\n",
       "      <th>2013-07-30</th>\n",
       "      <td>-135.5</td>\n",
       "    </tr>\n",
       "    <tr>\n",
       "      <th>2013-07-29</th>\n",
       "      <td>-129.5</td>\n",
       "    </tr>\n",
       "    <tr>\n",
       "      <th>2013-07-26</th>\n",
       "      <td>-139.0</td>\n",
       "    </tr>\n",
       "    <tr>\n",
       "      <th>...</th>\n",
       "      <td>...</td>\n",
       "    </tr>\n",
       "    <tr>\n",
       "      <th>2002-08-06</th>\n",
       "      <td>-39.0</td>\n",
       "    </tr>\n",
       "    <tr>\n",
       "      <th>2002-08-05</th>\n",
       "      <td>-39.0</td>\n",
       "    </tr>\n",
       "    <tr>\n",
       "      <th>2002-08-02</th>\n",
       "      <td>-40.0</td>\n",
       "    </tr>\n",
       "    <tr>\n",
       "      <th>2002-08-01</th>\n",
       "      <td>-40.0</td>\n",
       "    </tr>\n",
       "    <tr>\n",
       "      <th>2002-07-31</th>\n",
       "      <td>-41.0</td>\n",
       "    </tr>\n",
       "  </tbody>\n",
       "</table>\n",
       "<p>2762 rows × 1 columns</p>\n",
       "</div>"
      ],
      "text/plain": [
       "            3Y_베이시스\n",
       "DateTime           \n",
       "2013-08-01   -140.5\n",
       "2013-07-31   -140.5\n",
       "2013-07-30   -135.5\n",
       "2013-07-29   -129.5\n",
       "2013-07-26   -139.0\n",
       "...             ...\n",
       "2002-08-06    -39.0\n",
       "2002-08-05    -39.0\n",
       "2002-08-02    -40.0\n",
       "2002-08-01    -40.0\n",
       "2002-07-31    -41.0\n",
       "\n",
       "[2762 rows x 1 columns]"
      ]
     },
     "execution_count": 9,
     "metadata": {},
     "output_type": "execute_result"
    }
   ],
   "source": [
    "SwapBasis3Y_20022012 = pd.concat([SwapBasis_101112, SwapBasis_23456789])\n",
    "SwapBasis3Y_20022012"
   ]
  },
  {
   "cell_type": "code",
   "execution_count": 10,
   "metadata": {},
   "outputs": [],
   "source": [
    "SwapBasis3Y_20022012.to_excel('./xlsx/SwapBasis3Y_20022012.xlsx')"
   ]
  },
  {
   "cell_type": "code",
   "execution_count": null,
   "metadata": {},
   "outputs": [],
   "source": []
  }
 ],
 "metadata": {
  "kernelspec": {
   "display_name": "Python 3.9.8 64-bit",
   "language": "python",
   "name": "python3"
  },
  "language_info": {
   "codemirror_mode": {
    "name": "ipython",
    "version": 3
   },
   "file_extension": ".py",
   "mimetype": "text/x-python",
   "name": "python",
   "nbconvert_exporter": "python",
   "pygments_lexer": "ipython3",
   "version": "3.9.8"
  },
  "orig_nbformat": 4,
  "vscode": {
   "interpreter": {
    "hash": "a95e3b5fd3e1560c6e10fe52311c0c5912d45fb261aa1e5a0995290c914f6e79"
   }
  }
 },
 "nbformat": 4,
 "nbformat_minor": 2
}
