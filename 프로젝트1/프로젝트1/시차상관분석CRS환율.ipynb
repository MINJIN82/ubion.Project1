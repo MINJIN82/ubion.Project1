{
 "cells": [
  {
   "cell_type": "code",
   "execution_count": null,
   "metadata": {},
   "outputs": [],
   "source": [
    "import pandas as pd\n",
    "import numpy as np\n",
    "import scipy.stats"
   ]
  },
  {
   "cell_type": "code",
   "execution_count": null,
   "metadata": {},
   "outputs": [],
   "source": [
    "irscrs_2002 = pd.read_excel(\"../데이터자료/all.xlsx\")\n",
    "ktb = pd.read_excel(\"../데이터자료/ALL_2002_국고채.xlsx\")\n",
    "df = pd.read_excel(\"../데이터자료/join_data.xlsx\")\n",
    "ktb_2002 = ktb[[\"DateTime\",\"국고1년\",\"국고3년\",\"국고5년\",\"국고10년\",\"통안1년\",\"통안2년\"]]"
   ]
  },
  {
   "cell_type": "code",
   "execution_count": null,
   "metadata": {},
   "outputs": [],
   "source": [
    "# 2012년 8월 2일 부터 2022년 7월 31일 까지의 데이터 대비 값 구하기 \n",
    "df[\"전일대비_종가_ex\"] = df[\"종가_ex\"] - df[\"종가_ex\"].shift(1)\n",
    "df[\"등락률_종가_ex\"] = df[\"종가_ex\"] - df[\"종가_ex\"].shift(1) \n",
    "df[\"전일비_1Y_irs\"] = df[\"1Y_Mid_irs\"] - df[\"1Y_Mid_irs\"].shift(1) \n",
    "df[\"전일비_2Y_irs\"] = df[\"2Y_Mid_irs\"] - df[\"2Y_Mid_irs\"].shift(1) \n",
    "df[\"전일비_3Y_irs\"] = df[\"3Y_Mid_irs\"] - df[\"3Y_Mid_irs\"].shift(1) \n",
    "df[\"전일비_5Y_irs\"] = df[\"5Y_Mid_irs\"] - df[\"5Y_Mid_irs\"].shift(1) \n",
    "df[\"전일비_10Y_irs\"] =df[\"10Y_Mid_irs\"] - df[\"10Y_Mid_irs\"].shift(1) \n",
    "df[\"전일비_1Y_crs\"] = df[\"1Y_Mid_crs\"] - df[\"1Y_Mid_crs\"].shift(1) \n",
    "df[\"전일비_2Y_crs\"] = df[\"2Y_Mid_crs\"] - df[\"2Y_Mid_crs\"].shift(1) \n",
    "df[\"전일비_3Y_crs\"] = df[\"3Y_Mid_crs\"] - df[\"3Y_Mid_crs\"].shift(1) \n",
    "df[\"전일비_5Y_crs\"] = df[\"5Y_Mid_crs\"] - df[\"5Y_Mid_crs\"].shift(1) \n",
    "df[\"전일비_10Y_crs\"] =df[\"10Y_Mid_crs\"] - df[\"10Y_Mid_crs\"].shift(1) \n",
    "df[\"국고1년대비\"] =df[\"국고1년\"]-df[\"국고1년\"].shift(1)\n",
    "df[\"국고3년대비\"] =df[\"국고3년\"]-df[\"국고3년\"].shift(1)\n",
    "df[\"국고5년대비\"] =df[\"국고5년\"]-df[\"국고5년\"].shift(1)\n",
    "df[\"국고10년대비\"] =df[\"국고10년\"]-df[\"국고10년\"].shift(1)\n",
    "df[\"통안1년대비\"] = df[\"통안364일\"] - df[\"통안364일\"].shift(1)\n",
    "df[\"통안2년대비\"] = df[\"통안2년\"] - df[\"통안2년\"].shift(1)\n",
    "df[\"전일비_1Y_베이시스\"] =df[\"1Y_베이시스\"] - df[\"1Y_베이시스\"].shift(1) \n",
    "df[\"전일비_2Y_베이시스\"] =df[\"2Y_베이시스\"] - df[\"2Y_베이시스\"].shift(1) \n",
    "df[\"전일비_3Y_베이시스\"] =df[\"3Y_베이시스\"] - df[\"3Y_베이시스\"].shift(1) \n",
    "df[\"전일비_5Y_베이시스\"] =df[\"5Y_베이시스\"] - df[\"5Y_베이시스\"].shift(1) \n",
    "df[\"전일비_10Y_베이시스\"] =df[\"10Y_베이시스\"] - df[\"10Y_베이시스\"].shift(1) \n",
    "df[\"전날 종가_ex\"] = df[\"종가_ex\"].shift(1)\n",
    "df[\"종가_NDF차이\"] = df[\"전날 종가_ex\"] -df[\"Mid_ndf\"]\n",
    "df[\"전일비_ndf\"] = df['Mid_ndf']-df['Mid_ndf'].shift(1)\n",
    "df[\"M1_스왑포인트\"] = df[\"M1_스왑포인트\"]/100\n",
    "\n",
    "df =df.dropna()"
   ]
  },
  {
   "cell_type": "code",
   "execution_count": null,
   "metadata": {},
   "outputs": [],
   "source": [
    "#2002년 8월1일부터 2012년 7월 31일까지 irs , crs, 베이시스 대비 구하기\n",
    "irscrs_2002[\"전일비_1Y_irs\"] = irscrs_2002[\"IRS_1Y_Mid\"] - irscrs_2002[\"IRS_1Y_Mid\"].shift(1) \n",
    "irscrs_2002[\"전일비_2Y_irs\"] = irscrs_2002['IRS_2Y_Mid'] - irscrs_2002['IRS_2Y_Mid'].shift(1) \n",
    "irscrs_2002[\"전일비_3Y_irs\"] = irscrs_2002['IRS_3Y_Mid'] - irscrs_2002['IRS_3Y_Mid'].shift(1) \n",
    "irscrs_2002[\"전일비_5Y_irs\"] = irscrs_2002['IRS_5Y_Mid'] - irscrs_2002['IRS_5Y_Mid'].shift(1) \n",
    "irscrs_2002[\"전일비_10Y_irs\"] =irscrs_2002[\"IRS_10Y_Mid\"] - irscrs_2002[\"IRS_10Y_Mid\"].shift(1) \n",
    "irscrs_2002[\"전일비_1Y_crs\"] = irscrs_2002['CRS_1Y_Mid'] - irscrs_2002['CRS_1Y_Mid'].shift(1) \n",
    "irscrs_2002[\"전일비_2Y_crs\"] = irscrs_2002['CRS_2Y_Mid'] - irscrs_2002['CRS_2Y_Mid'].shift(1) \n",
    "irscrs_2002[\"전일비_3Y_crs\"] = irscrs_2002['CRS_3Y_Mid'] - irscrs_2002['CRS_3Y_Mid'].shift(1) \n",
    "irscrs_2002[\"전일비_5Y_crs\"] = irscrs_2002['CRS_5Y_Mid'] - irscrs_2002['CRS_5Y_Mid'].shift(1) \n",
    "irscrs_2002[\"전일비_10Y_crs\"] =irscrs_2002['CRS_10Y_Mid'] - irscrs_2002['CRS_10Y_Mid'].shift(1)\n",
    "irscrs_2002[\"전일비_10Y_crs\"] =irscrs_2002['CRS_10Y_Mid'] - irscrs_2002['CRS_10Y_Mid'].shift(1)\n",
    "irscrs_2002[\"전일비_1Y_베이시스\"] =irscrs_2002[\"1Y_베이시스\"] - irscrs_2002[\"1Y_베이시스\"].shift(1) \n",
    "irscrs_2002[\"전일비_2Y_베이시스\"] =irscrs_2002[\"2Y_베이시스\"] - irscrs_2002[\"2Y_베이시스\"].shift(1) \n",
    "irscrs_2002[\"전일비_3Y_베이시스\"] =irscrs_2002[\"3Y_베이시스\"] - irscrs_2002[\"3Y_베이시스\"].shift(1) \n",
    "irscrs_2002[\"전일비_5Y_베이시스\"] =irscrs_2002[\"5Y_베이시스\"] - irscrs_2002[\"5Y_베이시스\"].shift(1) \n",
    "irscrs_2002[\"전일비_10Y_베이시스\"] =irscrs_2002[\"10Y_베이시스\"] - irscrs_2002[\"10Y_베이시스\"].shift(1) \n",
    "\n",
    "#2002년 8월1일부터 2012년 7월 31일까지 국고채 통안채 대비 구하기\n",
    "ktb_2002['국고1년대비'] = ktb_2002[\"국고1년\"] - ktb_2002[\"국고1년\"].shift(1)\n",
    "ktb_2002['국고3년대비'] = ktb_2002[\"국고3년\"] - ktb_2002[\"국고3년\"].shift(1)\n",
    "ktb_2002['국고5년대비'] = ktb_2002[\"국고5년\"] - ktb_2002[\"국고5년\"].shift(1)\n",
    "ktb_2002['국고10년대비'] = ktb_2002[\"국고10년\"] - ktb_2002[\"국고10년\"].shift(1)\n",
    "ktb_2002['통안1년대비'] = ktb_2002[\"통안1년\"] - ktb_2002[\"통안1년\"].shift(1)\n",
    "ktb_2002['통안2년대비'] = ktb_2002[\"통안2년\"] - ktb_2002[\"통안2년\"].shift(1)\n"
   ]
  },
  {
   "cell_type": "code",
   "execution_count": null,
   "metadata": {},
   "outputs": [],
   "source": [
    "# 대비 값들만 데이터 프레임으로 만들기\n",
    "# 2012 년도 irs, crs, 베이시스\n",
    "irscrs_2012 = df[['DateTime','전일비_1Y_irs', '전일비_2Y_irs', '전일비_3Y_irs', '전일비_5Y_irs', '전일비_10Y_irs',\n",
    "       '전일비_1Y_crs', '전일비_2Y_crs', '전일비_3Y_crs', '전일비_5Y_crs', '전일비_10Y_crs','전일비_1Y_베이시스',\n",
    "       '전일비_2Y_베이시스', '전일비_3Y_베이시스', '전일비_5Y_베이시스', '전일비_10Y_베이시스']]\n",
    "\n",
    "# 2002 년도 irs, crs, 베이시스\n",
    "irscrs_2002 = irscrs_2002[['DateTime', '전일비_1Y_irs', '전일비_2Y_irs', '전일비_3Y_irs', '전일비_5Y_irs','전일비_10Y_irs', '전일비_1Y_crs', '전일비_2Y_crs', '전일비_3Y_crs', '전일비_5Y_crs','전일비_10Y_crs', '전일비_1Y_베이시스', '전일비_2Y_베이시스', '전일비_3Y_베이시스',      '전일비_5Y_베이시스', '전일비_10Y_베이시스']]\n",
    "\n",
    "# 2012 년도 irs, crs, 베이시스\n",
    "ktb_2012 = df[['DateTime','국고1년대비', '국고3년대비', '국고5년대비', '국고10년대비', '통안1년대비', '통안2년대비']]\n",
    "\n",
    "# 2002 년도 irs, crs, 베이시스\n",
    "ktb_2002 = ktb_2002[['DateTime','국고1년대비', '국고3년대비', '국고5년대비', '국고10년대비', '통안1년대비', '통안2년대비']]\n"
   ]
  },
  {
   "cell_type": "code",
   "execution_count": null,
   "metadata": {},
   "outputs": [],
   "source": [
    "# concat으로 데이터 합치기 irs crs 합치기\n",
    "irscrs_all = pd.concat([irscrs_2002,irscrs_2012], axis = 0)\n",
    "irscrs_all=irscrs_all.dropna()\n",
    "irscrs_all=irscrs_all.reset_index()"
   ]
  },
  {
   "cell_type": "code",
   "execution_count": null,
   "metadata": {},
   "outputs": [],
   "source": [
    "# concat으로 데이터 합치기 ktb 합치기\n",
    "ktb_all = pd.concat([ktb_2002,ktb_2012], axis = 0)\n",
    "# ktb_all=ktb_all.dropna()\n",
    "ktb_all=ktb_all.reset_index()\n",
    "ktb_all.head()"
   ]
  },
  {
   "cell_type": "code",
   "execution_count": null,
   "metadata": {},
   "outputs": [],
   "source": [
    "#시간데이터 일치화\n",
    "irscrs_all[\"DateTime\"] = pd.to_datetime(irscrs_all[\"DateTime\"], format=\"%Y-%m-%d\")\n",
    "irscrs_all[\"DateTime\"] = irscrs_all[\"DateTime\"].dt.strftime('%Y-%m-%d')\n",
    "# irscrs_all.set_index(\"DataTime\", inplace=True)\n",
    "# irscrs_all[\"DateTime\"] = pd.to_datetime(irscrs_all[\"DateTime\"], \"yyyy-MM-dd\")\n",
    "irscrs_all"
   ]
  },
  {
   "cell_type": "code",
   "execution_count": null,
   "metadata": {},
   "outputs": [],
   "source": [
    "#시간데이터 일치화\n",
    "ktb_all[\"DateTime\"] = pd.to_datetime(ktb_all[\"DateTime\"], format=\"%Y-%m-%d\")\n",
    "ktb_all[\"DateTime\"] = ktb_all[\"DateTime\"].dt.strftime('%Y-%m-%d')\n",
    "# ktb_all.set_index(\"DataTime\", inplace=True)\n",
    "# ktb_all[\"DateTime\"] = pd.to_datetime(ktb_all[\"DateTime\"], \"yyyy-MM-dd\")\n",
    "ktb_all"
   ]
  },
  {
   "cell_type": "code",
   "execution_count": null,
   "metadata": {},
   "outputs": [],
   "source": [
    "#시간데이터 일치화 및 종속변수 데이터프레임 생성\n",
    "df_exchange = df[[\"DateTime\", \"종가_ex\", \"등락률_종가_ex\", \"전일대비_종가_ex\"]]\n",
    "df_exchange[\"DateTime\"] = pd.to_datetime(df_exchange[\"DateTime\"], format=\"%Y-%m-%d\")\n",
    "df_exchange[\"DateTime\"] = df_exchange[\"DateTime\"].dt.strftime('%Y-%m-%d')\n",
    "df_exchange=df_exchange.reset_index()\n",
    "df_exchange"
   ]
  },
  {
   "cell_type": "code",
   "execution_count": null,
   "metadata": {},
   "outputs": [],
   "source": [
    "#각 독립변수들 데이터프레임 생성\n",
    "df_irs2012_1Y = irscrs_all[[\"DateTime\",\"전일비_1Y_irs\"]]\n",
    "df_irs2012_2Y = irscrs_all[[\"DateTime\",\"전일비_2Y_irs\"]]\n",
    "df_irs2012_3Y = irscrs_all[[\"DateTime\",\"전일비_3Y_irs\"]]\n",
    "df_irs2012_5Y = irscrs_all[[\"DateTime\",\"전일비_5Y_irs\"]]\n",
    "df_irs2012_10Y = irscrs_all[[\"DateTime\",\"전일비_10Y_irs\"]]\n",
    "df_crs2012_1Y = irscrs_all[[\"DateTime\",\"전일비_1Y_crs\"]]\n",
    "df_crs2012_2Y = irscrs_all[[\"DateTime\",\"전일비_2Y_crs\"]]\n",
    "df_crs2012_3Y = irscrs_all[[\"DateTime\",\"전일비_3Y_crs\"]]\n",
    "df_crs2012_5Y = irscrs_all[[\"DateTime\",\"전일비_5Y_crs\"]]\n",
    "df_crs2012_10Y = irscrs_all[[\"DateTime\",\"전일비_10Y_crs\"]]\n",
    "df_sb2012_1Y = irscrs_all[[\"DateTime\",\"전일비_1Y_베이시스\"]]\n",
    "df_sb2012_2Y = irscrs_all[[\"DateTime\",\"전일비_2Y_베이시스\"]]\n",
    "df_sb2012_3Y = irscrs_all[[\"DateTime\",\"전일비_3Y_베이시스\"]]\n",
    "df_sb2012_5Y = irscrs_all[[\"DateTime\",\"전일비_5Y_베이시스\"]]\n",
    "df_sb2012_10Y = irscrs_all[[\"DateTime\",\"전일비_10Y_베이시스\"]]\n",
    "df_ktb_1Y = ktb_all[[\"DateTime\",\"국고1년대비\"]]\n",
    "df_ktb_3Y = ktb_all[[\"DateTime\",\"국고3년대비\"]]\n",
    "df_ktb_5Y = ktb_all[[\"DateTime\",\"국고5년대비\"]]\n",
    "df_ktb_10Y = ktb_all[[\"DateTime\",\"국고10년대비\"]]\n",
    "df_ktbT_1Y = ktb_all[[\"DateTime\",\"통안1년대비\"]]\n",
    "df_ktbT_2Y = ktb_all[[\"DateTime\",\"통안2년대비\"]]\n",
    "\n"
   ]
  },
  {
   "cell_type": "code",
   "execution_count": null,
   "metadata": {},
   "outputs": [],
   "source": [
    "#ktb는 결측치가 많아서 따로 dropna해줌\n",
    "df_ktb_1Y=df_ktb_1Y.dropna()\n",
    "df_ktb_3Y=df_ktb_3Y.dropna()\n",
    "df_ktb_5Y=df_ktb_5Y.dropna()\n",
    "df_ktb_10Y=df_ktb_10Y.dropna()\n",
    "df_ktbT_1Y=df_ktbT_1Y.dropna()\n",
    "df_ktbT_2Y=df_ktbT_2Y.dropna()\n",
    "df_ktb_1Y"
   ]
  },
  {
   "cell_type": "code",
   "execution_count": null,
   "metadata": {},
   "outputs": [],
   "source": [
    "# 데이터에대한 범위를 정해주기 위한 인덱스값 확인\n",
    "print(df_irs2012_1Y.loc[df_irs2012_1Y[\"DateTime\"] == \"2002-08-02\"])\n",
    "# print(df_irs2012_1Y.loc[df_crs2012_1Y[\"DateTime\"] == \"2011-08-01\"])\n",
    "# print(df_irs2012_1Y.loc[df_irs2012_1Y[\"DateTime\"] == \"2012-08-02\"])\n",
    "# print(df_irs2012_1Y.loc[df_irs2012_1Y[\"DateTime\"] == \"2013-08-02\"])\n",
    "# print(df_irs2012_1Y.loc[df_irs2012_1Y[\"DateTime\"] == \"2014-08-05\"])\n",
    "# print(df_irs2012_1Y.loc[df_irs2012_1Y[\"DateTime\"] == \"2015-08-06\"])\n",
    "# print(df_irs2012_1Y.loc[df_irs2012_1Y[\"DateTime\"] == \"2016-08-08\"])\n",
    "# print(df_irs2012_1Y.loc[df_irs2012_1Y[\"DateTime\"] == \"2017-08-02\"])\n",
    "# print(df_irs2012_1Y.loc[df_irs2012_1Y[\"DateTime\"] == \"2018-08-02\"])\n",
    "# print(df_irs2012_1Y.loc[df_irs2012_1Y[\"DateTime\"] == \"2019-08-02\"])\n",
    "# print(df_irs2012_1Y.loc[df_irs2012_1Y[\"DateTime\"] == \"2020-08-05\"])\n",
    "print(df_irs2012_1Y.loc[df_irs2012_1Y[\"DateTime\"] == \"2012-06-15\"])\n",
    "# print(df_irs2012_1Y.loc[df_irs2012_1Y[\"DateTime\"] == \"2022-07-29\"])\n",
    "# print(df_irs2012_1Y.loc[df_irs2012_1Y[\"DateTime\"] == \"2017-07-20\"])\n",
    "# print(df_irs2012_1Y.loc[df_irs2012_1Y[\"DateTime\"] == \"2018-07-20\"])\n",
    "# print(df_irs2012_1Y.loc[df_irs2012_1Y[\"DateTime\"] == \"2019-07-20\"])\n",
    "# print(df_irs2012_1Y.loc[df_irs2012_1Y[\"DateTime\"] == \"2020-07-20\"])\n",
    "# print(df_irs2012_1Y.loc[df_irs2012_1Y[\"DateTime\"] == \"2021-07-20\"])\n",
    "# print(df_irs2012_1Y.loc[df_irs2012_1Y[\"DateTime\"] == \"2022-07-20\"])"
   ]
  },
  {
   "cell_type": "code",
   "execution_count": null,
   "metadata": {},
   "outputs": [],
   "source": [
    "# 데이터에대한 범위를 정해주기 위한 인덱스값 확인\n",
    "print(df_exchange.loc[df_exchange[\"DateTime\"] == \"2012-08-02\"])\n",
    "# print(df_exchange.loc[df_exchange[\"DateTime\"] == \"2013-08-02\"])\n",
    "# print(df_exchange.loc[df_exchange[\"DateTime\"] == \"2014-08-05\"])\n",
    "# print(df_exchange.loc[df_exchange[\"DateTime\"] == \"2015-08-04\"])\n",
    "# print(df_exchange.loc[df_exchange[\"DateTime\"] == \"2016-08-02\"])\n",
    "# print(df_exchange.loc[df_exchange[\"DateTime\"] == \"2017-08-02\"])\n",
    "# print(df_exchange.loc[df_exchange[\"DateTime\"] == \"2018-08-02\"])\n",
    "# print(df_exchange.loc[df_exchange[\"DateTime\"] == \"2019-08-02\"])\n",
    "# print(df_exchange.loc[df_exchange[\"DateTime\"] == \"2021-07-20\"])\n",
    "print(df_exchange.loc[df_exchange[\"DateTime\"] == \"2022-07-22\"])"
   ]
  },
  {
   "cell_type": "code",
   "execution_count": null,
   "metadata": {},
   "outputs": [],
   "source": [
    "# 상관분석을 할 환율전일대비 데이터만 남기기\n",
    "df_exchange = df_exchange[\"전일대비_종가_ex\"]\n",
    "df_exchange = pd.DataFrame(df_exchange)\n",
    "df_exchange =df_exchange.reset_index(drop=True)\n",
    "df_exchange.info()"
   ]
  },
  {
   "cell_type": "code",
   "execution_count": null,
   "metadata": {},
   "outputs": [],
   "source": [
    "# df_irs2012_1Y_1 = df_irs2012_1Y[\"전일비_1Y_irs\"].iloc[2242:4701]\n",
    "# df_irs2012_1Y = pd.DataFrame(df_irs2012_1Y)\n",
    "# df_irs2012_1Y = df_irs2012_1Y.reset_index(drop=True)\n",
    "# df_irs2012_1Y_1.info()"
   ]
  },
  {
   "cell_type": "code",
   "execution_count": null,
   "metadata": {},
   "outputs": [],
   "source": [
    "#irs1년물에 대한 시차 상관분석 \n",
    "a_irs_1Y = []\n",
    "\n",
    "for i in df_exchange.index:\n",
    "   # df_irs2012_1Y의 인덱스 4700~4951 개수\n",
    "   if i<= 251 :\n",
    "      \n",
    "      #df_irs2012_1Y[\"전일비_1Y_irs\"].iloc[2241]은 2012년 08월 01일 1년전 데이터 iloc[4700] 데이터 개수를 맞춰주기위한 2241+2459 계산\n",
    "      df_1 =df_irs2012_1Y[\"전일비_1Y_irs\"].iloc[2241+i:4700+i]\n",
    "      df_1 = pd.DataFrame(df_1)\n",
    "      df_1 =df_1.reset_index(drop=True)\n",
    "      \n",
    "      # 상관분석\n",
    "      cor = scipy.stats.pearsonr(df_exchange['전일대비_종가_ex'], df_1[\"전일비_1Y_irs\"])\n",
    "      a_irs_1Y.append(cor[0].round(4)) \n",
    "      \n",
    "   else :\n",
    "      break\n",
    "a_irs_1Y\n"
   ]
  },
  {
   "cell_type": "code",
   "execution_count": null,
   "metadata": {},
   "outputs": [],
   "source": [
    "# 상관분석한 데이터프레임 화 및 값들 확인\n",
    "df_1Y_IRS_cor = pd.DataFrame(a_irs_1Y)\n",
    "df_1Y_IRS_cor.columns=[\"cor\"]\n",
    "df_1Y_IRS_cor.describe()\n"
   ]
  },
  {
   "cell_type": "code",
   "execution_count": null,
   "metadata": {},
   "outputs": [],
   "source": [
    "# 상관계수들 값 중 가장 낮은값의 인덱스 값 확인\n",
    "print(df_1Y_IRS_cor.loc[df_1Y_IRS_cor[\"cor\"] == -0.0483])\n"
   ]
  },
  {
   "cell_type": "code",
   "execution_count": null,
   "metadata": {},
   "outputs": [],
   "source": [
    "# 데이터 수정을 위한 데이터 프레임화\n",
    "df_irs2012_1Y =df_irs2012_1Y.reset_index(drop=True)\n",
    "df_irs2012_1Y"
   ]
  },
  {
   "cell_type": "code",
   "execution_count": null,
   "metadata": {},
   "outputs": [],
   "source": [
    "#crs1년물에 대한 시차 상관분석 \n",
    "a_crs_1Y = []\n",
    "\n",
    "for i in df_exchange.index:\n",
    "   # df_crs2012_1Y의 인덱스 4700~4951 개수\n",
    "   if i<= 251 :\n",
    "      \n",
    "      #df_crs2012_1Y[\"전일비_1Y_crs\"].iloc[2241]은 2012년 08월 01일 1년전 데이터 iloc[4700] 데이터 개수를 맞춰주기위한 2241+2459 계산\n",
    "      df_1 =df_crs2012_1Y[\"전일비_1Y_crs\"].iloc[2241+i:4700+i]\n",
    "      df_1 = pd.DataFrame(df_1)\n",
    "      df_1 =df_1.reset_index(drop=True)\n",
    "      \n",
    "      cor = scipy.stats.pearsonr(df_exchange['전일대비_종가_ex'], df_1[\"전일비_1Y_crs\"])\n",
    "      a_crs_1Y.append(cor[0].round(4)) \n",
    "              \n",
    "   else :\n",
    "      break\n",
    "a_crs_1Y"
   ]
  },
  {
   "cell_type": "code",
   "execution_count": null,
   "metadata": {},
   "outputs": [],
   "source": [
    "# 상관분석한 데이터프레임 화 및 값들 확인\n",
    "df_1Y_CRS_cor = pd.DataFrame(a_crs_1Y)\n",
    "df_1Y_CRS_cor.columns=[\"cor\"]\n",
    "df_1Y_CRS_cor.describe()"
   ]
  },
  {
   "cell_type": "code",
   "execution_count": null,
   "metadata": {},
   "outputs": [],
   "source": [
    "# 상관계수들 값 중 가장 낮은값의 인덱스 값 확인\n",
    "print(df_1Y_CRS_cor.loc[df_1Y_CRS_cor[\"cor\"] == -0.2643])"
   ]
  },
  {
   "cell_type": "code",
   "execution_count": null,
   "metadata": {},
   "outputs": [],
   "source": [
    "#베이시스 스왑 1년물에 대한 시차 상관분석 \n",
    "a_sb_1Y = []\n",
    "\n",
    "for i in df_exchange.index:\n",
    "   # df_sb2012_1Y의 인덱스 4700~4951 개수\n",
    "   if i<= 251 :\n",
    "      \n",
    "      #df_sb2012_1Y[\"전일비_1Y_베이시스\"].iloc[2241]은 2012년 08월 01일 1년전 데이터 iloc[4700] 데이터 개수를 맞춰주기위한 2241+2459 계산\n",
    "      df_1 =df_sb2012_1Y[\"전일비_1Y_베이시스\"].iloc[2241+i:4700+i]\n",
    "      df_1 = pd.DataFrame(df_1)\n",
    "      df_1 =df_1.reset_index(drop=True)\n",
    "      \n",
    "      cor = scipy.stats.pearsonr(df_exchange['전일대비_종가_ex'], df_1[\"전일비_1Y_베이시스\"])\n",
    "      a_sb_1Y.append(cor[0].round(4)) \n",
    "        \n",
    "      \n",
    "   else :\n",
    "      break\n",
    "a_sb_1Y"
   ]
  },
  {
   "cell_type": "code",
   "execution_count": null,
   "metadata": {},
   "outputs": [],
   "source": [
    "# 상관분석한 데이터프레임 화 및 값들 확인\n",
    "df_1Y_SB_cor = pd.DataFrame(a_sb_1Y)\n",
    "df_1Y_SB_cor.columns=[\"cor\"]\n",
    "df_1Y_SB_cor.describe()"
   ]
  },
  {
   "cell_type": "code",
   "execution_count": null,
   "metadata": {},
   "outputs": [],
   "source": [
    "# 상관계수들 값 중 가장 낮은값의 인덱스 값 확인\n",
    "print(df_1Y_SB_cor.loc[df_1Y_SB_cor[\"cor\"] == -0.2341])"
   ]
  },
  {
   "cell_type": "code",
   "execution_count": null,
   "metadata": {},
   "outputs": [],
   "source": [
    "#국고채 1년물에 대한 시차 상관분석 \n",
    "a_ktb_1Y = []\n",
    "\n",
    "for i in df_exchange.index:\n",
    "   # df_ktb2012_1Y의 인덱스 4700~4951 개수\n",
    "   if i<= 251 :\n",
    "      \n",
    "      #df_ktb_1Y[\"국고1년대비\"].iloc[2241]은 2012년 08월 01일 1년전 데이터 iloc[4700] 데이터 개수를 맞춰주기위한 2241+2459 계산\n",
    "      df_1 =df_ktb_1Y[\"국고1년대비\"].iloc[2241+i:4700+i]\n",
    "      df_1 = pd.DataFrame(df_1)\n",
    "      df_1 =df_1.reset_index(drop=True)\n",
    "      \n",
    "      cor = scipy.stats.pearsonr(df_exchange['전일대비_종가_ex'], df_1[\"국고1년대비\"])\n",
    "      a_ktb_1Y.append(cor[0].round(4)) \n",
    "        \n",
    "      \n",
    "   else :\n",
    "      break\n",
    "a_ktb_1Y"
   ]
  },
  {
   "cell_type": "code",
   "execution_count": null,
   "metadata": {},
   "outputs": [],
   "source": [
    "# 상관분석한 데이터프레임 화 및 값들 확인\n",
    "df_1Y_KTB_cor = pd.DataFrame(a_ktb_1Y)\n",
    "df_1Y_KTB_cor.columns=[\"cor\"]\n",
    "df_1Y_KTB_cor.describe()"
   ]
  },
  {
   "cell_type": "code",
   "execution_count": null,
   "metadata": {},
   "outputs": [],
   "source": [
    "# 상관계수들 값 중 가장 낮은값의 인덱스 값 확인\n",
    "print(df_1Y_KTB_cor.loc[df_1Y_KTB_cor[\"cor\"] == -0.0505])"
   ]
  },
  {
   "cell_type": "code",
   "execution_count": null,
   "metadata": {},
   "outputs": [],
   "source": [
    "# 상관계수 중 가장 낮은 값들의 데이터 추출\n",
    "df_ktb_1Y =df_ktb_1Y.iloc[2330:4789]"
   ]
  },
  {
   "cell_type": "code",
   "execution_count": null,
   "metadata": {},
   "outputs": [],
   "source": [
    "# 데이터 수정을 위한 데이터 프레임화\n",
    "df_ktb_1Y =df_ktb_1Y.reset_index(drop=True)\n",
    "df_ktb_1Y"
   ]
  },
  {
   "cell_type": "code",
   "execution_count": null,
   "metadata": {},
   "outputs": [],
   "source": [
    "#통안채 1년물에 대한 시차 상관분석 \n",
    "a_ktbT_1Y = []\n",
    "\n",
    "# df_ktb2012_1Y의 인덱스 4700~4951 개수\n",
    "for i in df_exchange.index:\n",
    "   if i<= 251 :\n",
    "      \n",
    "      #df_ktbT_1Y[\"통안1년대비\"].iloc[2241]은 2012년 08월 01일 1년전 데이터 iloc[4700] 데이터 개수를 맞춰주기위한 2241+2459 계산\n",
    "      df_1 =df_ktbT_1Y[\"통안1년대비\"].iloc[2241+i:4700+i]\n",
    "      df_1 = pd.DataFrame(df_1)\n",
    "      df_1 =df_1.reset_index(drop=True)\n",
    "      \n",
    "      cor = scipy.stats.pearsonr(df_exchange['전일대비_종가_ex'], df_1[\"통안1년대비\"])\n",
    "      a_ktbT_1Y.append(cor[0].round(4)) \n",
    "        \n",
    "      \n",
    "   else :\n",
    "      break\n",
    "a_ktbT_1Y"
   ]
  },
  {
   "cell_type": "code",
   "execution_count": null,
   "metadata": {},
   "outputs": [],
   "source": [
    "# 상관분석한 데이터프레임 화 및 값들 확인\n",
    "df_1Y_KTBT_cor = pd.DataFrame(a_ktbT_1Y)\n",
    "df_1Y_KTBT_cor.columns=[\"cor\"]\n",
    "df_1Y_KTBT_cor.describe()"
   ]
  },
  {
   "cell_type": "code",
   "execution_count": null,
   "metadata": {},
   "outputs": [],
   "source": [
    "# 상관계수들 값 중 가장 낮은값의 인덱스 값 확인\n",
    "print(df_1Y_KTBT_cor.loc[df_1Y_KTBT_cor[\"cor\"] == -0.0467])"
   ]
  },
  {
   "cell_type": "code",
   "execution_count": null,
   "metadata": {},
   "outputs": [],
   "source": [
    "# 상관계수 중 가장 낮은 값들의 데이터 추출\n",
    "df_ktbT_1Y =df_ktbT_1Y.iloc[2481:4940]\n"
   ]
  },
  {
   "cell_type": "code",
   "execution_count": null,
   "metadata": {},
   "outputs": [],
   "source": [
    "# 데이터 수정을 위한 데이터 프레임화\n",
    "df_ktbT_1Y =df_ktbT_1Y.reset_index(drop=True)\n",
    "df_ktbT_1Y"
   ]
  },
  {
   "cell_type": "code",
   "execution_count": null,
   "metadata": {},
   "outputs": [],
   "source": [
    "#irs 2년물에 대한 시차 상관분석 \n",
    "a_irs_2Y = []\n",
    "\n",
    "# df_ktb2012_1Y의 인덱스 4450~4951 개수\n",
    "for i in df_exchange.index:\n",
    "   if i<=  501:\n",
    "      \n",
    "      #df_df_irs2012_2Y[\"전일비_2Y_irs\"].iloc[1991]은 2012년 08월 01일의 2년전 데이터 iloc[4450]는 데이터 개수를 맞춰주기위한 1991+2459 계산\n",
    "      df_1 =df_irs2012_2Y[\"전일비_2Y_irs\"].iloc[1991+i:4450+i]\n",
    "      df_1 = pd.DataFrame(df_1)\n",
    "      df_1 =df_1.reset_index(drop=True)\n",
    "      \n",
    "      cor = scipy.stats.pearsonr(df_exchange['전일대비_종가_ex'], df_1[\"전일비_2Y_irs\"])\n",
    "      a_irs_2Y.append(cor[0].round(4)) \n",
    "        \n",
    "      \n",
    "   else :\n",
    "      break\n",
    "a_irs_2Y"
   ]
  },
  {
   "cell_type": "code",
   "execution_count": null,
   "metadata": {},
   "outputs": [],
   "source": [
    "# 상관분석한 데이터프레임 화 및 값들 확인\n",
    "df_2Y_IRS_cor = pd.DataFrame(a_irs_2Y)\n",
    "df_2Y_IRS_cor.columns=[\"cor\"]\n",
    "df_2Y_IRS_cor.describe()\n"
   ]
  },
  {
   "cell_type": "code",
   "execution_count": null,
   "metadata": {},
   "outputs": [],
   "source": [
    "# 상관계수들 값 중 가장 낮은값의 인덱스 값 확인\n",
    "print(df_2Y_IRS_cor.loc[df_2Y_IRS_cor[\"cor\"] == -0.05410])"
   ]
  },
  {
   "cell_type": "code",
   "execution_count": null,
   "metadata": {},
   "outputs": [],
   "source": [
    "# 상관계수 중 가장 낮은 값들의 데이터 추출\n",
    "df_irs2012_2Y=df_irs2012_2Y.iloc[2288:4747]"
   ]
  },
  {
   "cell_type": "code",
   "execution_count": null,
   "metadata": {},
   "outputs": [],
   "source": [
    "# 데이터 수정을 위한 데이터 프레임화\n",
    "df_irs2012_2Y =df_irs2012_2Y.reset_index(drop=True)\n",
    "df_irs2012_2Y"
   ]
  },
  {
   "cell_type": "code",
   "execution_count": null,
   "metadata": {},
   "outputs": [],
   "source": [
    "#crs 2년물에 대한 시차 상관분석 \n",
    "a_crs_2Y = []\n",
    "\n",
    "\n",
    "for i in df_exchange.index:\n",
    "   # df_ktb2012_1Y의 인덱스 4450~4951 개수\n",
    "   if i<=  501:\n",
    "      \n",
    "      #df_df_crs2012_2Y[\"전일비_2Y_irs\"].iloc[1991]은 2012년 08월 01일의 2년전 데이터 iloc[4450]는 데이터 개수를 맞춰주기위한 1991+2459 계산\n",
    "      df_1 =df_crs2012_2Y[\"전일비_2Y_crs\"].iloc[1991+i:4450+i]\n",
    "      df_1 = pd.DataFrame(df_1)\n",
    "      df_1 =df_1.reset_index(drop=True)\n",
    "      \n",
    "      cor = scipy.stats.pearsonr(df_exchange['전일대비_종가_ex'], df_1[\"전일비_2Y_crs\"])\n",
    "      a_crs_2Y.append(cor[0].round(4)) \n",
    "        \n",
    "      \n",
    "   else :\n",
    "      break\n",
    "a_crs_2Y"
   ]
  },
  {
   "cell_type": "code",
   "execution_count": null,
   "metadata": {},
   "outputs": [],
   "source": [
    "# 상관분석한 데이터프레임 화 및 값들 확인\n",
    "df_2Y_CRS_cor = pd.DataFrame(a_crs_2Y)\n",
    "df_2Y_CRS_cor.columns=[\"cor\"]\n",
    "df_2Y_CRS_cor.describe()\n"
   ]
  },
  {
   "cell_type": "code",
   "execution_count": null,
   "metadata": {},
   "outputs": [],
   "source": [
    "# 상관계수들 값 중 가장 낮은값의 인덱스 값 확인\n",
    "print(df_2Y_CRS_cor.loc[df_2Y_CRS_cor[\"cor\"] == -0.2287])"
   ]
  },
  {
   "cell_type": "code",
   "execution_count": null,
   "metadata": {},
   "outputs": [],
   "source": [
    "#스왑베이시스 2년물에 대한 시차 상관분석 \n",
    "a_sb_2Y = []\n",
    "\n",
    " # df_ktb2012_1Y의 인덱스 4450~4951 개수\n",
    "for i in df_exchange.index:\n",
    "   if i<= 501 :\n",
    "       #df_sb2012_2Y[\"전일비_2Y_베이시스\"].iloc[1991]은 2012년 08월 01일의 2년전 데이터 iloc[4450]는 데이터 개수를 맞춰주기위한 1991+2459 계산\n",
    "      df_1 =df_sb2012_2Y[\"전일비_2Y_베이시스\"].iloc[1991+i:4450+i]\n",
    "      df_1 = pd.DataFrame(df_1)\n",
    "      df_1 =df_1.reset_index(drop=True)\n",
    "      \n",
    "      cor = scipy.stats.pearsonr(df_exchange['전일대비_종가_ex'], df_1[\"전일비_2Y_베이시스\"])\n",
    "      a_sb_2Y.append(cor[0].round(4)) \n",
    "        \n",
    "      \n",
    "   else :\n",
    "      break"
   ]
  },
  {
   "cell_type": "code",
   "execution_count": null,
   "metadata": {},
   "outputs": [],
   "source": [
    "# 상관분석한 데이터프레임 화 및 값들 확인\n",
    "df_2Y_SB_cor = pd.DataFrame(a_sb_2Y)\n",
    "df_2Y_SB_cor.columns=[\"cor\"]\n",
    "df_2Y_SB_cor.describe()"
   ]
  },
  {
   "cell_type": "code",
   "execution_count": null,
   "metadata": {},
   "outputs": [],
   "source": [
    "# 상관계수들 값 중 가장 낮은값의 인덱스 값 확인\n",
    "print(df_2Y_SB_cor.loc[df_2Y_SB_cor[\"cor\"] == -0.1960])"
   ]
  },
  {
   "cell_type": "code",
   "execution_count": null,
   "metadata": {},
   "outputs": [],
   "source": [
    "#통안채 2년물에 대한 시차 상관분석 \n",
    "a_ktbT_2Y = []\n",
    "\n",
    " # df_ktb2012_1Y의 인덱스 4450~4951 개수\n",
    "for i in df_exchange.index:\n",
    "   if i<= 501 :\n",
    "      \n",
    "      #df_df_crs2012_2Y[\"전일비_2Y_irs\"].iloc[1991]은 2012년 08월 01일의 2년전 데이터 iloc[4450]는 데이터 개수를 맞춰주기위한 1991+2459 계산\n",
    "      df_1 =df_ktbT_2Y[\"통안2년대비\"].iloc[1991+i:4450+i]\n",
    "      df_1 = pd.DataFrame(df_1)\n",
    "      df_1 =df_1.reset_index(drop=True)\n",
    "      \n",
    "      cor = scipy.stats.pearsonr(df_exchange['전일대비_종가_ex'], df_1[\"통안2년대비\"])\n",
    "      a_ktbT_2Y.append(cor[0].round(4)) \n",
    "        \n",
    "      \n",
    "   else :\n",
    "      break\n",
    "a_ktbT_2Y"
   ]
  },
  {
   "cell_type": "code",
   "execution_count": null,
   "metadata": {},
   "outputs": [],
   "source": [
    "# 상관분석한 데이터프레임 화 및 값들 확인\n",
    "df_2Y_KTBT_cor = pd.DataFrame(a_ktbT_2Y)\n",
    "df_2Y_KTBT_cor.columns=[\"cor\"]\n",
    "df_2Y_KTBT_cor.describe()"
   ]
  },
  {
   "cell_type": "code",
   "execution_count": null,
   "metadata": {},
   "outputs": [],
   "source": [
    "# 상관계수들 값 중 가장 낮은값의 인덱스 값 확인\n",
    "print(df_2Y_KTBT_cor.loc[df_2Y_KTBT_cor[\"cor\"] == -0.0687])"
   ]
  },
  {
   "cell_type": "code",
   "execution_count": null,
   "metadata": {},
   "outputs": [],
   "source": [
    "# 상관계수 중 가장 낮은 값들의 데이터 추출\n",
    "df_ktbT_2Y=df_ktbT_2Y.iloc[2154:4613]"
   ]
  },
  {
   "cell_type": "code",
   "execution_count": null,
   "metadata": {},
   "outputs": [],
   "source": [
    "# 데이터 수정을 위한 데이터 프레임화\n",
    "df_ktbT_2Y =df_ktbT_2Y.reset_index(drop=True)\n",
    "df_ktbT_2Y"
   ]
  },
  {
   "cell_type": "code",
   "execution_count": null,
   "metadata": {},
   "outputs": [],
   "source": [
    "#irs 3년물에 대한 시차 상관분석 \n",
    "a_irs_3Y = []\n",
    "\n",
    " # df_ktb2012_1Y의 인덱스 4199~4951 개수\n",
    "for i in df_exchange.index:\n",
    "   if i<=  752:\n",
    "      #df_df_irs2012_3Y[\"전일비_3Y_irs\"].iloc[1740]은 2012년 08월 01일의 3년전 데이터 iloc[4199]는 데이터 개수를 맞춰주기위한 1740+2459 계산\n",
    "      df_1 =df_irs2012_3Y[\"전일비_3Y_irs\"].iloc[1740+i:4199+i]\n",
    "      df_1 = pd.DataFrame(df_1)\n",
    "      df_1 =df_1.reset_index(drop=True)\n",
    "      \n",
    "      cor = scipy.stats.pearsonr(df_exchange['전일대비_종가_ex'], df_1[\"전일비_3Y_irs\"])\n",
    "      a_irs_3Y.append(cor[0].round(4)) \n",
    "        \n",
    "      \n",
    "   else :\n",
    "      break\n",
    "a_irs_3Y"
   ]
  },
  {
   "cell_type": "code",
   "execution_count": null,
   "metadata": {},
   "outputs": [],
   "source": [
    "# 상관분석한 데이터프레임 화 및 값들 확인\n",
    "df_3Y_IRS_cor = pd.DataFrame(a_irs_3Y)\n",
    "df_3Y_IRS_cor.columns=[\"cor\"]\n",
    "df_3Y_IRS_cor.describe()"
   ]
  },
  {
   "cell_type": "code",
   "execution_count": null,
   "metadata": {},
   "outputs": [],
   "source": [
    "# 상관계수들 값 중 가장 낮은값의 인덱스 값 확인\n",
    "print(df_3Y_IRS_cor.loc[df_3Y_IRS_cor[\"cor\"] == -0.0576])"
   ]
  },
  {
   "cell_type": "code",
   "execution_count": null,
   "metadata": {},
   "outputs": [],
   "source": [
    "# 상관계수 중 가장 낮은 값들의 데이터 추출\n",
    "df_irs2012_3Y=df_irs2012_3Y.iloc[1790:4249]"
   ]
  },
  {
   "cell_type": "code",
   "execution_count": null,
   "metadata": {},
   "outputs": [],
   "source": [
    "# 데이터 수정을 위한 데이터 프레임화\n",
    "df_irs2012_3Y =df_irs2012_3Y.reset_index(drop=True)\n",
    "df_irs2012_3Y"
   ]
  },
  {
   "cell_type": "code",
   "execution_count": null,
   "metadata": {},
   "outputs": [],
   "source": [
    "#crs 3년물에 대한 시차 상관분석 \n",
    "a_crs_3Y = []\n",
    "\n",
    "# df_ktb2012_1Y의 인덱스 4199~4951 개수\n",
    "for i in df_exchange.index:\n",
    "   if i<=  752:\n",
    "      #df_crs2012_3Y[\"전일비_3Y_crs\"].iloc[1740]은 2012년 08월 01일의 3년전 데이터 iloc[4199]는 데이터 개수를 맞춰주기위한 1740+2459 계산\n",
    "      df_1 =df_crs2012_3Y[\"전일비_3Y_crs\"].iloc[1740+i:4199+i]\n",
    "      df_1 = pd.DataFrame(df_1)\n",
    "      df_1 =df_1.reset_index(drop=True)\n",
    "      \n",
    "      cor = scipy.stats.pearsonr(df_exchange['전일대비_종가_ex'], df_1[\"전일비_3Y_crs\"])\n",
    "      a_crs_3Y.append(cor[0].round(4)) \n",
    "        \n",
    "      \n",
    "   else :\n",
    "      break\n",
    "a_crs_3Y"
   ]
  },
  {
   "cell_type": "code",
   "execution_count": null,
   "metadata": {},
   "outputs": [],
   "source": [
    "# 상관분석한 데이터프레임 화 및 값들 확인\n",
    "df_3Y_CRS_cor = pd.DataFrame(a_crs_3Y)\n",
    "df_3Y_CRS_cor.columns=[\"cor\"]\n",
    "df_3Y_CRS_cor.describe()"
   ]
  },
  {
   "cell_type": "code",
   "execution_count": null,
   "metadata": {},
   "outputs": [],
   "source": [
    "# 상관계수들 값 중 가장 낮은값의 인덱스 값 확인\n",
    "print(df_3Y_CRS_cor.loc[df_3Y_CRS_cor[\"cor\"] == -0.2172])"
   ]
  },
  {
   "cell_type": "code",
   "execution_count": null,
   "metadata": {},
   "outputs": [],
   "source": [
    "#스왑베이시스 3년물에 대한 시차 상관분석 \n",
    "a_sb_3Y = []\n",
    "\n",
    "# df_ktb2012_1Y의 인덱스 4199~4951 개수\n",
    "for i in df_exchange.index:\n",
    "   if i<= 752 :\n",
    "       #df_sb2012_3Y[\"전일비_3Y_베이시스\"].iloc[1740]은 2012년 08월 01일의 3년전 데이터 iloc[4199]는 데이터 개수를 맞춰주기위한 1740+2459 계산\n",
    "      df_1 =df_sb2012_3Y[\"전일비_3Y_베이시스\"].iloc[1740+i:4199+i]\n",
    "      df_1 = pd.DataFrame(df_1)\n",
    "      df_1 =df_1.reset_index(drop=True)\n",
    "      \n",
    "      cor = scipy.stats.pearsonr(df_exchange['전일대비_종가_ex'], df_1[\"전일비_3Y_베이시스\"])\n",
    "      a_sb_3Y.append(cor[0].round(4)) \n",
    "        \n",
    "      \n",
    "   else :\n",
    "      break"
   ]
  },
  {
   "cell_type": "code",
   "execution_count": null,
   "metadata": {},
   "outputs": [],
   "source": [
    "# 상관분석한 데이터프레임 화 및 값들 확인\n",
    "df_3Y_SB_cor = pd.DataFrame(a_sb_3Y)\n",
    "df_3Y_SB_cor.columns=[\"cor\"]\n",
    "df_3Y_SB_cor.describe()"
   ]
  },
  {
   "cell_type": "code",
   "execution_count": null,
   "metadata": {},
   "outputs": [],
   "source": [
    "# 상관계수들 값 중 가장 낮은값의 인덱스 값 확인\n",
    "print(df_3Y_SB_cor.loc[df_3Y_SB_cor[\"cor\"] == -0.1591])"
   ]
  },
  {
   "cell_type": "code",
   "execution_count": null,
   "metadata": {},
   "outputs": [],
   "source": [
    "#국고채 3년물에 대한 시차 상관분석\n",
    "a_ktb_3Y = []\n",
    "\n",
    "# df_ktb2012_1Y의 인덱스 4199~4951 개수\n",
    "for i in df_exchange.index:\n",
    "   if i<= 752 :\n",
    "      #df_ktb_3Y[\"국고3년대비\"].iloc[1740]은 2012년 08월 01일의 3년전 데이터 iloc[4199]는 데이터 개수를 맞춰주기위한 1740+2459 계산\n",
    "      df_1 =df_ktb_3Y[\"국고3년대비\"].iloc[1740+i:4199+i]\n",
    "      df_1 = pd.DataFrame(df_1)\n",
    "      df_1 =df_1.reset_index(drop=True)\n",
    "      \n",
    "      cor = scipy.stats.pearsonr(df_exchange['전일대비_종가_ex'], df_1[\"국고3년대비\"])\n",
    "      a_ktb_3Y.append(cor[0].round(4)) \n",
    "        \n",
    "      \n",
    "   else :\n",
    "      break\n",
    "a_ktb_3Y"
   ]
  },
  {
   "cell_type": "code",
   "execution_count": null,
   "metadata": {},
   "outputs": [],
   "source": [
    "# 상관분석한 데이터프레임 화 및 값들 확인\n",
    "df_3Y_KTB_cor = pd.DataFrame(a_ktb_3Y)\n",
    "df_3Y_KTB_cor.columns=[\"cor\"]\n",
    "df_3Y_KTB_cor.describe()"
   ]
  },
  {
   "cell_type": "code",
   "execution_count": null,
   "metadata": {},
   "outputs": [],
   "source": [
    "# 상관계수들 값 중 가장 낮은값의 인덱스 값 확인\n",
    "print(df_3Y_KTB_cor.loc[df_3Y_KTB_cor[\"cor\"] == -0.0670])"
   ]
  },
  {
   "cell_type": "code",
   "execution_count": null,
   "metadata": {},
   "outputs": [],
   "source": [
    "# 상관계수 중 가장 낮은 값들의 데이터 추출\n",
    "df_ktb_3Y=df_ktb_3Y.iloc[2414:4923]\n"
   ]
  },
  {
   "cell_type": "code",
   "execution_count": null,
   "metadata": {},
   "outputs": [],
   "source": [
    "# 데이터 수정을 위한 데이터 프레임화\n",
    "df_ktb_3Y =df_ktb_3Y.reset_index(drop=True)\n",
    "df_ktb_3Y "
   ]
  },
  {
   "cell_type": "code",
   "execution_count": null,
   "metadata": {},
   "outputs": [],
   "source": [
    "#irs 5년물에 대한 시차 상관분석\n",
    "a_irs_5Y = []\n",
    "\n",
    "\n",
    "# a_irs_5Y의 인덱스 3702~4951 개수\n",
    "for i in df_exchange.index:\n",
    "   if i<=  1249:\n",
    "       #df_irs2012_5Y[\"전일비_5Y_irs\"].iloc[1243]은 2012년 08월 01일의 5년전 데이터 iloc[3702]는 데이터 개수를 맞춰주기위한 1243+2459 계산\n",
    "      df_1 =df_irs2012_5Y[\"전일비_5Y_irs\"].iloc[1243+i:3702+i]\n",
    "      df_1 = pd.DataFrame(df_1)\n",
    "      df_1 =df_1.reset_index(drop=True)\n",
    "      \n",
    "      cor = scipy.stats.pearsonr(df_exchange['전일대비_종가_ex'], df_1[\"전일비_5Y_irs\"])\n",
    "      a_irs_5Y.append(cor[0].round(4)) \n",
    "        \n",
    "      \n",
    "   else :\n",
    "      break\n",
    "a_irs_5Y"
   ]
  },
  {
   "cell_type": "code",
   "execution_count": null,
   "metadata": {},
   "outputs": [],
   "source": [
    "# 상관분석한 데이터프레임 화 및 값들 확인\n",
    "df_5Y_IRS_cor = pd.DataFrame(a_irs_5Y)\n",
    "df_5Y_IRS_cor.columns=[\"cor\"]\n",
    "df_5Y_IRS_cor.describe()"
   ]
  },
  {
   "cell_type": "code",
   "execution_count": null,
   "metadata": {},
   "outputs": [],
   "source": [
    "# 상관계수들 값 중 가장 낮은값의 인덱스 값 확인\n",
    "print(df_5Y_IRS_cor.loc[df_5Y_IRS_cor[\"cor\"] == -0.0702])"
   ]
  },
  {
   "cell_type": "code",
   "execution_count": null,
   "metadata": {},
   "outputs": [],
   "source": [
    "# 상관계수 중 가장 낮은 값들의 데이터 추출\n",
    "df_irs2012_5Y =df_irs2012_5Y.iloc[1463:3922]"
   ]
  },
  {
   "cell_type": "code",
   "execution_count": null,
   "metadata": {},
   "outputs": [],
   "source": [
    "# 데이터 수정을 위한 데이터 프레임화\n",
    "df_irs2012_5Y =df_irs2012_5Y.reset_index(drop=True)\n",
    "df_irs2012_5Y "
   ]
  },
  {
   "cell_type": "code",
   "execution_count": null,
   "metadata": {},
   "outputs": [],
   "source": [
    "#crs 5년물에 대한 시차 상관분석\n",
    "a_crs_5Y = []\n",
    "\n",
    "# a_crs_5Y의 인덱스 3702~4951 개수\n",
    "for i in df_exchange.index:\n",
    "   if i<=  1249:\n",
    "      #df_crs2012_5Y[\"전일비_5Y_irs\"].iloc[1243]은 2012년 08월 01일의 5년전 데이터 iloc[3702]는 데이터 개수를 맞춰주기위한 1243+2459 계산\n",
    "      df_1 =df_crs2012_5Y[\"전일비_5Y_crs\"].iloc[1243+i:3702+i]\n",
    "      df_1 = pd.DataFrame(df_1)\n",
    "      df_1 =df_1.reset_index(drop=True)\n",
    "      \n",
    "      cor = scipy.stats.pearsonr(df_exchange['전일대비_종가_ex'], df_1[\"전일비_5Y_crs\"])\n",
    "      a_crs_5Y.append(cor[0].round(4)) \n",
    "        \n",
    "      \n",
    "   else :\n",
    "      break\n",
    "a_crs_5Y"
   ]
  },
  {
   "cell_type": "code",
   "execution_count": null,
   "metadata": {},
   "outputs": [],
   "source": [
    "# 상관분석한 데이터프레임 화 및 값들 확인\n",
    "df_5Y_CRS_cor = pd.DataFrame(a_crs_5Y)\n",
    "df_5Y_CRS_cor.columns=[\"cor\"]\n",
    "df_5Y_CRS_cor.describe()"
   ]
  },
  {
   "cell_type": "code",
   "execution_count": null,
   "metadata": {},
   "outputs": [],
   "source": [
    "# 상관계수들 값 중 가장 낮은값의 인덱스 값 확인\n",
    "print(df_5Y_CRS_cor.loc[df_5Y_CRS_cor[\"cor\"] == -0.1958])\n"
   ]
  },
  {
   "cell_type": "code",
   "execution_count": null,
   "metadata": {},
   "outputs": [],
   "source": [
    "#스왑베이시스 5년물에 대한 시차 상관분석\n",
    "a_sb_5Y = []\n",
    "\n",
    "# a_crs_5Y의 인덱스 3702~4951 개수\n",
    "for i in df_exchange.index:\n",
    "   if i<= 1249 :\n",
    "      #df_crs2012_5Y[\"전일비_5Y_irs\"].iloc[1243]은 2012년 08월 01일의 5년전 데이터 iloc[3702]는 데이터 개수를 맞춰주기위한 1243+2459 계산\n",
    "      df_1 =df_sb2012_5Y[\"전일비_5Y_베이시스\"].iloc[1243+i:3702+i]\n",
    "      df_1 = pd.DataFrame(df_1)\n",
    "      df_1 =df_1.reset_index(drop=True)\n",
    "      \n",
    "      cor = scipy.stats.pearsonr(df_exchange['전일대비_종가_ex'], df_1[\"전일비_5Y_베이시스\"])\n",
    "      a_sb_5Y.append(cor[0].round(4)) \n",
    "        \n",
    "      \n",
    "   else :\n",
    "      break"
   ]
  },
  {
   "cell_type": "code",
   "execution_count": null,
   "metadata": {},
   "outputs": [],
   "source": [
    "# 상관분석한 데이터프레임 화 및 값들 확인\n",
    "df_5Y_SB_cor = pd.DataFrame(a_sb_5Y)\n",
    "df_5Y_SB_cor.columns=[\"cor\"]\n",
    "df_5Y_SB_cor.describe()"
   ]
  },
  {
   "cell_type": "code",
   "execution_count": null,
   "metadata": {},
   "outputs": [],
   "source": [
    "# 상관계수들 값 중 가장 낮은값의 인덱스 값 확인\n",
    "print(df_5Y_SB_cor.loc[df_5Y_SB_cor[\"cor\"] == -0.1564])"
   ]
  },
  {
   "cell_type": "code",
   "execution_count": null,
   "metadata": {},
   "outputs": [],
   "source": [
    "#국고채 5년물에 대한 시차 상관분석\n",
    "a_ktb_5Y = []\n",
    "\n",
    "# a_crs_5Y의 인덱스 3702~4951 개수\n",
    "for i in df_exchange.index:\n",
    "   if i<= 1249 :\n",
    "      #df_crs2012_5Y[\"전일비_5Y_irs\"].iloc[1243]은 2012년 08월 01일의 5년전 데이터 iloc[3702]는 데이터 개수를 맞춰주기위한 1243+2459 계산\n",
    "      df_1 =df_ktb_5Y[\"국고5년대비\"].iloc[1243+i:3702+i]\n",
    "      df_1 = pd.DataFrame(df_1)\n",
    "      df_1 =df_1.reset_index(drop=True)\n",
    "      \n",
    "      cor = scipy.stats.pearsonr(df_exchange['전일대비_종가_ex'], df_1[\"국고5년대비\"])\n",
    "      a_ktb_5Y.append(cor[0].round(4)) \n",
    "        \n",
    "      \n",
    "   else :\n",
    "      break\n",
    "a_ktb_5Y"
   ]
  },
  {
   "cell_type": "code",
   "execution_count": null,
   "metadata": {},
   "outputs": [],
   "source": [
    "# 상관분석한 데이터프레임 화 및 값들 확인\n",
    "df_5Y_KTB_cor = pd.DataFrame(a_ktb_5Y)\n",
    "df_5Y_KTB_cor.columns=[\"cor\"]\n",
    "df_5Y_KTB_cor.describe()"
   ]
  },
  {
   "cell_type": "code",
   "execution_count": null,
   "metadata": {},
   "outputs": [],
   "source": [
    "# 상관계수들 값 중 가장 낮은값의 인덱스 값 확인\n",
    "print(df_5Y_KTB_cor.loc[df_5Y_KTB_cor[\"cor\"] == -0.0573])"
   ]
  },
  {
   "cell_type": "code",
   "execution_count": null,
   "metadata": {},
   "outputs": [],
   "source": [
    "# 상관계수 중 가장 낮은 값들의 데이터 추출\n",
    "df_ktb_5Y =df_ktb_5Y.iloc[1829:4288]\n"
   ]
  },
  {
   "cell_type": "code",
   "execution_count": null,
   "metadata": {},
   "outputs": [],
   "source": [
    "# 데이터 수정을 위한 데이터 프레임화\n",
    "df_ktb_5Y =df_ktb_5Y.reset_index(drop=True)\n",
    "df_ktb_5Y "
   ]
  },
  {
   "cell_type": "code",
   "execution_count": null,
   "metadata": {},
   "outputs": [],
   "source": [
    "#irs 10년물에 대한 시차 상관분석\n",
    "a_irs_10Y = []\n",
    "\n",
    "# a_crs_10Y의 인덱스 2459~4951 개수\n",
    "for i in df_irs2012_10Y.index:\n",
    "   if i<=  2492:\n",
    "      #df_irs2012_10Y[\"전일비_10Y_irs\"].iloc[0]은 2012년 08월 01일의 10년전 데이터 iloc[2459]는 데이터 개수를 맞춰주기위한 0+2459 계산\n",
    "      df_1 =df_irs2012_10Y[\"전일비_10Y_irs\"].iloc[i:2459+i]\n",
    "      df_1 = pd.DataFrame(df_1)\n",
    "      df_1 =df_1.reset_index(drop= True)\n",
    "   \n",
    "      cor = scipy.stats.pearsonr(df_exchange['전일대비_종가_ex'], df_1[\"전일비_10Y_irs\"])\n",
    "      a_irs_10Y.append(cor[0].round(4)) \n",
    "        \n",
    "      \n",
    "   else :\n",
    "     break\n",
    "a_irs_10Y"
   ]
  },
  {
   "cell_type": "code",
   "execution_count": null,
   "metadata": {},
   "outputs": [],
   "source": [
    "# 상관분석한 데이터프레임 화 및 값들 확인\n",
    "df_10Y_IRS_cor = pd.DataFrame(a_irs_10Y)\n",
    "df_10Y_IRS_cor.columns=[\"cor\"]\n",
    "df_10Y_IRS_cor.describe()"
   ]
  },
  {
   "cell_type": "code",
   "execution_count": null,
   "metadata": {},
   "outputs": [],
   "source": [
    "# 상관계수들 값 중 가장 낮은값의 인덱스 값 확인\n",
    "print(df_10Y_IRS_cor.loc[df_10Y_IRS_cor[\"cor\"] == -0.0782])"
   ]
  },
  {
   "cell_type": "code",
   "execution_count": null,
   "metadata": {},
   "outputs": [],
   "source": [
    "# 상관계수 중 가장 낮은 값들의 데이터 추출\n",
    "df_irs2012_10Y =df_irs2012_10Y.iloc[1463:3922]"
   ]
  },
  {
   "cell_type": "code",
   "execution_count": null,
   "metadata": {},
   "outputs": [],
   "source": [
    "# 데이터 수정을 위한 데이터 프레임화\n",
    "df_irs2012_10Y =df_irs2012_10Y.reset_index(drop=True)\n",
    "df_irs2012_10Y "
   ]
  },
  {
   "cell_type": "code",
   "execution_count": null,
   "metadata": {},
   "outputs": [],
   "source": [
    "#crs 10년물에 대한 시차 상관분석\n",
    "a_crs_10Y = []\n",
    "\n",
    "# a_crs_10Y의 인덱스 2459~4951 개수\n",
    "for i in df_crs2012_10Y.index:\n",
    "   if i<=  2492:\n",
    "      #df_crs2012_10Y[\"전일비_10Y_crs\"].iloc[0]은 2012년 08월 01일의 10년전 데이터 iloc[2459]는 데이터 개수를 맞춰주기위한 0+2459 계산\n",
    "      df_1 =df_crs2012_10Y[\"전일비_10Y_crs\"].iloc[0+i:2459+i]\n",
    "      df_1 = pd.DataFrame(df_1)\n",
    "      df_1 =df_1.reset_index(drop=True)\n",
    "      \n",
    "      cor = scipy.stats.pearsonr(df_exchange['전일대비_종가_ex'], df_1[\"전일비_10Y_crs\"])\n",
    "      a_crs_10Y.append(cor[0].round(4)) \n",
    "        \n",
    "      \n",
    "   else :\n",
    "      break\n",
    "a_crs_10Y"
   ]
  },
  {
   "cell_type": "code",
   "execution_count": null,
   "metadata": {},
   "outputs": [],
   "source": [
    "# 상관분석한 데이터프레임 화 및 값들 확인\n",
    "df_10Y_CRS_cor = pd.DataFrame(a_crs_10Y)\n",
    "df_10Y_CRS_cor.columns=[\"cor\"]\n",
    "df_10Y_CRS_cor.describe()"
   ]
  },
  {
   "cell_type": "code",
   "execution_count": null,
   "metadata": {},
   "outputs": [],
   "source": [
    "# 상관계수들 값 중 가장 낮은값의 인덱스 값 확인\n",
    "print(df_10Y_CRS_cor.loc[df_10Y_CRS_cor[\"cor\"] == -0.1588])"
   ]
  },
  {
   "cell_type": "code",
   "execution_count": null,
   "metadata": {},
   "outputs": [],
   "source": [
    "#스왑베이시스 10년물에 대한 시차 상관분석\n",
    "a_sb_10Y = []\n",
    "\n",
    "# a_sb_10Y의 인덱스 2459~4951 개수\n",
    "for i in df_crs2012_10Y.index:\n",
    "   if i<= 2492 :\n",
    "      #df_sb2012_10Y[\"전일비_10Y_베이시스\"].iloc[0]은 2012년 08월 01일의 10년전 데이터 iloc[2459]는 데이터 개수를 맞춰주기위한 0+2459 계산\n",
    "      df_1 =df_sb2012_10Y[\"전일비_10Y_베이시스\"].iloc[0+i:2459+i]\n",
    "      df_1 = pd.DataFrame(df_1)\n",
    "      df_1 =df_1.reset_index(drop=True)\n",
    "      \n",
    "      cor = scipy.stats.pearsonr(df_exchange['전일대비_종가_ex'], df_1[\"전일비_10Y_베이시스\"])\n",
    "      a_sb_10Y.append(cor[0].round(4)) \n",
    "        \n",
    "      \n",
    "   else :\n",
    "      break\n",
    "a_sb_10Y"
   ]
  },
  {
   "cell_type": "code",
   "execution_count": null,
   "metadata": {},
   "outputs": [],
   "source": [
    "# 상관분석한 데이터프레임 화 및 값들 확인\n",
    "df_10Y_SB_cor = pd.DataFrame(a_sb_10Y)\n",
    "df_10Y_SB_cor.columns=[\"cor\"]\n",
    "df_10Y_SB_cor.describe()"
   ]
  },
  {
   "cell_type": "code",
   "execution_count": null,
   "metadata": {},
   "outputs": [],
   "source": [
    "# 상관계수들 값 중 가장 낮은값의 인덱스 값 확인\n",
    "print(df_10Y_SB_cor.loc[df_10Y_SB_cor[\"cor\"] == -0.1290])"
   ]
  },
  {
   "cell_type": "code",
   "execution_count": null,
   "metadata": {},
   "outputs": [],
   "source": [
    "df_ktb_10Y"
   ]
  },
  {
   "cell_type": "code",
   "execution_count": null,
   "metadata": {},
   "outputs": [],
   "source": [
    "#국고채 10년물에 대한 시차 상관분석\n",
    "a_ktb_10Y = []\n",
    "\n",
    "# a_sb_10Y의 인덱스 3077~4951 개수\n",
    "for i in df_crs2012_10Y.index:\n",
    "   if i<= 1257 :\n",
    "      # 국고채는 데이터 값이 비어 있기 때문에 처음인 인덱스 618부터 시작 iloc[2459]는 데이터 개수를 맞춰주기위한 618+2459 계산\n",
    "      df_1 =df_ktb_10Y[\"국고10년대비\"].iloc[618+i:3077+i]\n",
    "      df_1 = pd.DataFrame(df_1)\n",
    "      df_1 =df_1.reset_index(drop=True)\n",
    "      \n",
    "      cor = scipy.stats.pearsonr(df_exchange['전일대비_종가_ex'], df_1[\"국고10년대비\"])\n",
    "      a_ktb_10Y.append(cor[0].round(4)) \n",
    "        \n",
    "      \n",
    "   else :\n",
    "      break\n",
    "a_ktb_10Y"
   ]
  },
  {
   "cell_type": "code",
   "execution_count": null,
   "metadata": {},
   "outputs": [],
   "source": [
    "# 상관분석한 데이터프레임 화 및 값들 확인\n",
    "df_10Y_KTB_cor = pd.DataFrame(a_ktb_10Y)\n",
    "df_10Y_KTB_cor.columns=[\"cor\"]\n",
    "df_10Y_KTB_cor.describe()"
   ]
  },
  {
   "cell_type": "code",
   "execution_count": null,
   "metadata": {},
   "outputs": [],
   "source": [
    "# 상관계수들 값 중 가장 낮은값의 인덱스 값 확인\n",
    "print(df_10Y_KTB_cor.loc[df_10Y_KTB_cor[\"cor\"] == -0.0664])"
   ]
  },
  {
   "cell_type": "code",
   "execution_count": null,
   "metadata": {},
   "outputs": [],
   "source": [
    "# 상관계수 중 가장 낮은 값들의 데이터 추출\n",
    "df_ktb_10Y =df_ktb_10Y.iloc[1861:4320]\n"
   ]
  },
  {
   "cell_type": "code",
   "execution_count": null,
   "metadata": {},
   "outputs": [],
   "source": [
    "# 데이터 수정을 위한 데이터 프레임화\n",
    "df_ktb_10Y =df_ktb_10Y.reset_index(drop=True)\n",
    "df_ktb_10Y "
   ]
  },
  {
   "cell_type": "code",
   "execution_count": null,
   "metadata": {},
   "outputs": [],
   "source": [
    "#원래 데이터의 인덱스를 일치시키기위한 리셋\n",
    "df=df.reset_index(drop=True)"
   ]
  },
  {
   "cell_type": "code",
   "execution_count": null,
   "metadata": {},
   "outputs": [],
   "source": [
    "#데이터 수정 crs와 스왑베이시스는 원래의 값이 상관계수가 가장 크기때문에 제외\n",
    "df['전일비_1Y_irs'] = df_irs2012_1Y[\"전일비_1Y_irs\"]\n",
    "df['전일비_2Y_irs'] = df_irs2012_2Y[\"전일비_2Y_irs\"]\n",
    "df['전일비_3Y_irs'] = df_irs2012_3Y[\"전일비_3Y_irs\"]\n",
    "df['전일비_5Y_irs'] = df_irs2012_5Y[\"전일비_5Y_irs\"]\n",
    "df['전일비_10Y_irs'] = df_irs2012_10Y[\"전일비_10Y_irs\"]\n",
    "df['국고1년대비'] = df_ktb_1Y['국고1년대비']\n",
    "df['국고3년대비'] = df_ktb_3Y['국고3년대비']\n",
    "df['국고5년대비'] = df_ktb_5Y['국고5년대비']\n",
    "df['국고10년대비'] = df_ktb_10Y['국고10년대비']\n",
    "df['통안1년대비'] = df_ktbT_1Y['통안1년대비']\n",
    "df['통안2년대비'] = df_ktbT_2Y['통안2년대비']\n"
   ]
  },
  {
   "cell_type": "code",
   "execution_count": null,
   "metadata": {},
   "outputs": [],
   "source": [
    "# 대비끼리의 상관계수를 구하기 위한 추출\n",
    "df_1 = df[ ['전일대비_종가_ex',\n",
    "          '등락률_종가_ex',   '전일비_1Y_irs',   '전일비_2Y_irs',   '전일비_3Y_irs',\n",
    "         '전일비_5Y_irs',  '전일비_10Y_irs',   '전일비_1Y_crs',   '전일비_2Y_crs',\n",
    "         '전일비_3Y_crs',   '전일비_5Y_crs',  '전일비_10Y_crs',       '국고1년대비',\n",
    "             '국고3년대비',       '국고5년대비',      '국고10년대비',       '통안1년대비',\n",
    "             '통안2년대비',  '전일비_1Y_베이시스',  '전일비_2Y_베이시스',  '전일비_3Y_베이시스',\n",
    "        '전일비_5Y_베이시스', '전일비_10Y_베이시스']]"
   ]
  },
  {
   "cell_type": "code",
   "execution_count": null,
   "metadata": {},
   "outputs": [],
   "source": [
    "# df.to_excel(excel_writer='시차상관분석2Data.xlsx')"
   ]
  },
  {
   "cell_type": "code",
   "execution_count": null,
   "metadata": {},
   "outputs": [],
   "source": [
    "# 히트맵 그리기\n",
    "import matplotlib.pyplot as plt\n",
    "import seaborn as sns   \n",
    "import scipy as sp \n",
    "from matplotlib import rc \n",
    "rc('font', family='AppleGothic')\n",
    "plt.rcParams['axes.unicode_minus'] = False\n",
    "\n",
    "plt.figure(figsize=(50,30))\n",
    "\n",
    "cmap = sns.diverging_palette(220, 20, as_cmap=True)\n",
    "sns.heatmap(data = df_1.corr(), annot=True, fmt = '.2f', linewidths=.5, cmap=cmap, center=0)"
   ]
  },
  {
   "cell_type": "code",
   "execution_count": null,
   "metadata": {},
   "outputs": [],
   "source": []
  }
 ],
 "metadata": {
  "kernelspec": {
   "display_name": "Python 3.10.0 64-bit",
   "language": "python",
   "name": "python3"
  },
  "language_info": {
   "codemirror_mode": {
    "name": "ipython",
    "version": 3
   },
   "file_extension": ".py",
   "mimetype": "text/x-python",
   "name": "python",
   "nbconvert_exporter": "python",
   "pygments_lexer": "ipython3",
   "version": "3.10.0"
  },
  "orig_nbformat": 4,
  "vscode": {
   "interpreter": {
    "hash": "a073e8c3e7241d11bd26aeacf78abcb385fecb9ce1a8fb10ee8efd278424d43e"
   }
  }
 },
 "nbformat": 4,
 "nbformat_minor": 2
}
