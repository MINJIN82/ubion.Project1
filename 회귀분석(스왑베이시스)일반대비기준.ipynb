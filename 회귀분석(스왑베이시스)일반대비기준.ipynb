{
 "cells": [
  {
   "cell_type": "code",
   "execution_count": 1,
   "metadata": {},
   "outputs": [],
   "source": [
    "import pandas as pd\n",
    "import numpy as np\n",
    "df = pd.read_excel(\"../데이터자료/join_data.xlsx\")\n",
    "df.columns\n",
    "df = df[[\"DateTime\", \"종가_ex\",'1Y_베이시스','국고1년','통안364일' ,'Mid_ndf','M1_스왑포인트']]\n",
    "df[\"M1_스왑포인트\"] = df[\"M1_스왑포인트\"]/100\n",
    "df.head()\n",
    "df = df.set_index(\"DateTime\")"
   ]
  },
  {
   "cell_type": "code",
   "execution_count": 2,
   "metadata": {},
   "outputs": [
    {
     "data": {
      "text/html": [
       "<div>\n",
       "<style scoped>\n",
       "    .dataframe tbody tr th:only-of-type {\n",
       "        vertical-align: middle;\n",
       "    }\n",
       "\n",
       "    .dataframe tbody tr th {\n",
       "        vertical-align: top;\n",
       "    }\n",
       "\n",
       "    .dataframe thead th {\n",
       "        text-align: right;\n",
       "    }\n",
       "</style>\n",
       "<table border=\"1\" class=\"dataframe\">\n",
       "  <thead>\n",
       "    <tr style=\"text-align: right;\">\n",
       "      <th></th>\n",
       "      <th>종가_ex</th>\n",
       "      <th>1Y_베이시스</th>\n",
       "      <th>국고1년</th>\n",
       "      <th>통안364일</th>\n",
       "      <th>Mid_ndf</th>\n",
       "      <th>M1_스왑포인트</th>\n",
       "      <th>1Y_베이시스대비</th>\n",
       "      <th>국고1년대비</th>\n",
       "      <th>통안364일대비</th>\n",
       "      <th>Mid_ndf대비</th>\n",
       "      <th>M1_스왑포인트대비</th>\n",
       "    </tr>\n",
       "    <tr>\n",
       "      <th>DateTime</th>\n",
       "      <th></th>\n",
       "      <th></th>\n",
       "      <th></th>\n",
       "      <th></th>\n",
       "      <th></th>\n",
       "      <th></th>\n",
       "      <th></th>\n",
       "      <th></th>\n",
       "      <th></th>\n",
       "      <th></th>\n",
       "      <th></th>\n",
       "    </tr>\n",
       "  </thead>\n",
       "  <tbody>\n",
       "    <tr>\n",
       "      <th>2012-08-01</th>\n",
       "      <td>1126.5</td>\n",
       "      <td>-76.0</td>\n",
       "      <td>2.82</td>\n",
       "      <td>2.80</td>\n",
       "      <td>1132.25</td>\n",
       "      <td>2.6</td>\n",
       "      <td>NaN</td>\n",
       "      <td>NaN</td>\n",
       "      <td>NaN</td>\n",
       "      <td>NaN</td>\n",
       "      <td>NaN</td>\n",
       "    </tr>\n",
       "    <tr>\n",
       "      <th>2012-08-02</th>\n",
       "      <td>1131.7</td>\n",
       "      <td>-74.0</td>\n",
       "      <td>2.79</td>\n",
       "      <td>2.77</td>\n",
       "      <td>1134.00</td>\n",
       "      <td>2.5</td>\n",
       "      <td>2.0</td>\n",
       "      <td>-0.03</td>\n",
       "      <td>-0.03</td>\n",
       "      <td>1.75</td>\n",
       "      <td>-0.1</td>\n",
       "    </tr>\n",
       "    <tr>\n",
       "      <th>2012-08-03</th>\n",
       "      <td>1134.8</td>\n",
       "      <td>-72.0</td>\n",
       "      <td>2.77</td>\n",
       "      <td>2.75</td>\n",
       "      <td>1138.00</td>\n",
       "      <td>2.4</td>\n",
       "      <td>2.0</td>\n",
       "      <td>-0.02</td>\n",
       "      <td>-0.02</td>\n",
       "      <td>4.00</td>\n",
       "      <td>-0.1</td>\n",
       "    </tr>\n",
       "    <tr>\n",
       "      <th>2012-08-06</th>\n",
       "      <td>1129.0</td>\n",
       "      <td>-74.0</td>\n",
       "      <td>2.78</td>\n",
       "      <td>2.76</td>\n",
       "      <td>1128.50</td>\n",
       "      <td>2.4</td>\n",
       "      <td>-2.0</td>\n",
       "      <td>0.01</td>\n",
       "      <td>0.01</td>\n",
       "      <td>-9.50</td>\n",
       "      <td>0.0</td>\n",
       "    </tr>\n",
       "    <tr>\n",
       "      <th>2012-08-07</th>\n",
       "      <td>1128.8</td>\n",
       "      <td>-73.0</td>\n",
       "      <td>2.77</td>\n",
       "      <td>2.75</td>\n",
       "      <td>1129.00</td>\n",
       "      <td>2.5</td>\n",
       "      <td>1.0</td>\n",
       "      <td>-0.01</td>\n",
       "      <td>-0.01</td>\n",
       "      <td>0.50</td>\n",
       "      <td>0.1</td>\n",
       "    </tr>\n",
       "  </tbody>\n",
       "</table>\n",
       "</div>"
      ],
      "text/plain": [
       "             종가_ex  1Y_베이시스  국고1년  통안364일  Mid_ndf  M1_스왑포인트  1Y_베이시스대비  \\\n",
       "DateTime                                                                  \n",
       "2012-08-01  1126.5    -76.0  2.82    2.80  1132.25       2.6        NaN   \n",
       "2012-08-02  1131.7    -74.0  2.79    2.77  1134.00       2.5        2.0   \n",
       "2012-08-03  1134.8    -72.0  2.77    2.75  1138.00       2.4        2.0   \n",
       "2012-08-06  1129.0    -74.0  2.78    2.76  1128.50       2.4       -2.0   \n",
       "2012-08-07  1128.8    -73.0  2.77    2.75  1129.00       2.5        1.0   \n",
       "\n",
       "            국고1년대비  통안364일대비  Mid_ndf대비  M1_스왑포인트대비  \n",
       "DateTime                                             \n",
       "2012-08-01     NaN       NaN        NaN         NaN  \n",
       "2012-08-02   -0.03     -0.03       1.75        -0.1  \n",
       "2012-08-03   -0.02     -0.02       4.00        -0.1  \n",
       "2012-08-06    0.01      0.01      -9.50         0.0  \n",
       "2012-08-07   -0.01     -0.01       0.50         0.1  "
      ]
     },
     "execution_count": 2,
     "metadata": {},
     "output_type": "execute_result"
    }
   ],
   "source": [
    "df[\"1Y_베이시스대비\"] =df[\"1Y_베이시스\"]-df[\"1Y_베이시스\"].shift(1)\n",
    "df[\"국고1년대비\"] =df[\"국고1년\"]-df[\"국고1년\"].shift(1)\n",
    "df[\"통안364일대비\"] = df[\"통안364일\"] - df[\"통안364일\"].shift(1)\n",
    "df[\"Mid_ndf대비\"] = df[\"Mid_ndf\"] - df[\"Mid_ndf\"].shift(1)\n",
    "df[\"M1_스왑포인트대비\"] = df[\"M1_스왑포인트\"]- df[\"M1_스왑포인트\"].shift(1)\n",
    "df.head()"
   ]
  },
  {
   "cell_type": "code",
   "execution_count": 3,
   "metadata": {},
   "outputs": [
    {
     "name": "stderr",
     "output_type": "stream",
     "text": [
      "C:\\Users\\Public\\Documents\\ESTsoft\\CreatorTemp\\ipykernel_23896\\1047561134.py:7: UserWarning: Pandas doesn't allow columns to be created via a new attribute name - see https://pandas.pydata.org/pandas-docs/stable/indexing.html#attribute-access\n",
      "  df_Data.feature= df_Data.columns\n"
     ]
    },
    {
     "data": {
      "text/plain": [
       "Index(['1Y_베이시스대비', '국고1년대비', '통안364일대비', 'Mid_ndf', 'M1_스왑포인트'], dtype='object')"
      ]
     },
     "execution_count": 3,
     "metadata": {},
     "output_type": "execute_result"
    }
   ],
   "source": [
    "# 종속변수 독립변수 설정\n",
    "df[\"전날 종가_ex\"] = df[\"종가_ex\"].shift(1)\n",
    "df = df.dropna()\n",
    "df.columns\n",
    "df_Target = df[\"종가_ex\"]\n",
    "df_Data = df[['1Y_베이시스대비', '국고1년대비', '통안364일대비', 'Mid_ndf', 'M1_스왑포인트']]\n",
    "df_Data.feature= df_Data.columns\n",
    "df_Data.feature"
   ]
  },
  {
   "cell_type": "code",
   "execution_count": 4,
   "metadata": {},
   "outputs": [
    {
     "data": {
      "text/html": [
       "<table class=\"simpletable\">\n",
       "<caption>OLS Regression Results</caption>\n",
       "<tr>\n",
       "  <th>Dep. Variable:</th>          <td>종가_ex</td>      <th>  R-squared:         </th> <td>   0.933</td> \n",
       "</tr>\n",
       "<tr>\n",
       "  <th>Model:</th>                   <td>OLS</td>       <th>  Adj. R-squared:    </th> <td>   0.933</td> \n",
       "</tr>\n",
       "<tr>\n",
       "  <th>Method:</th>             <td>Least Squares</td>  <th>  F-statistic:       </th> <td>   6814.</td> \n",
       "</tr>\n",
       "<tr>\n",
       "  <th>Date:</th>             <td>Sun, 21 Aug 2022</td> <th>  Prob (F-statistic):</th>  <td>  0.00</td>  \n",
       "</tr>\n",
       "<tr>\n",
       "  <th>Time:</th>                 <td>13:21:44</td>     <th>  Log-Likelihood:    </th> <td> -10052.</td> \n",
       "</tr>\n",
       "<tr>\n",
       "  <th>No. Observations:</th>      <td>  2459</td>      <th>  AIC:               </th> <td>2.012e+04</td>\n",
       "</tr>\n",
       "<tr>\n",
       "  <th>Df Residuals:</th>          <td>  2453</td>      <th>  BIC:               </th> <td>2.015e+04</td>\n",
       "</tr>\n",
       "<tr>\n",
       "  <th>Df Model:</th>              <td>     5</td>      <th>                     </th>     <td> </td>    \n",
       "</tr>\n",
       "<tr>\n",
       "  <th>Covariance Type:</th>      <td>nonrobust</td>    <th>                     </th>     <td> </td>    \n",
       "</tr>\n",
       "</table>\n",
       "<table class=\"simpletable\">\n",
       "<tr>\n",
       "      <td></td>         <th>coef</th>     <th>std err</th>      <th>t</th>      <th>P>|t|</th>  <th>[0.025</th>    <th>0.975]</th>  \n",
       "</tr>\n",
       "<tr>\n",
       "  <th>const</th>     <td>   87.0484</td> <td>    6.245</td> <td>   13.938</td> <td> 0.000</td> <td>   74.802</td> <td>   99.295</td>\n",
       "</tr>\n",
       "<tr>\n",
       "  <th>1Y_베이시스대비</th> <td>   -0.1372</td> <td>    0.051</td> <td>   -2.680</td> <td> 0.007</td> <td>   -0.238</td> <td>   -0.037</td>\n",
       "</tr>\n",
       "<tr>\n",
       "  <th>국고1년대비</th>    <td>    6.6678</td> <td>   16.774</td> <td>    0.398</td> <td> 0.691</td> <td>  -26.224</td> <td>   39.560</td>\n",
       "</tr>\n",
       "<tr>\n",
       "  <th>통안364일대비</th>  <td>   -0.0021</td> <td>    3.190</td> <td>   -0.001</td> <td> 0.999</td> <td>   -6.258</td> <td>    6.254</td>\n",
       "</tr>\n",
       "<tr>\n",
       "  <th>Mid_ndf</th>   <td>    0.9244</td> <td>    0.005</td> <td>  169.184</td> <td> 0.000</td> <td>    0.914</td> <td>    0.935</td>\n",
       "</tr>\n",
       "<tr>\n",
       "  <th>M1_스왑포인트</th>  <td>   -3.0714</td> <td>    0.280</td> <td>  -10.965</td> <td> 0.000</td> <td>   -3.621</td> <td>   -2.522</td>\n",
       "</tr>\n",
       "</table>\n",
       "<table class=\"simpletable\">\n",
       "<tr>\n",
       "  <th>Omnibus:</th>       <td>6154.102</td> <th>  Durbin-Watson:     </th>   <td>   1.889</td>  \n",
       "</tr>\n",
       "<tr>\n",
       "  <th>Prob(Omnibus):</th>  <td> 0.000</td>  <th>  Jarque-Bera (JB):  </th> <td>73891326.935</td>\n",
       "</tr>\n",
       "<tr>\n",
       "  <th>Skew:</th>           <td>26.637</td>  <th>  Prob(JB):          </th>   <td>    0.00</td>  \n",
       "</tr>\n",
       "<tr>\n",
       "  <th>Kurtosis:</th>       <td>850.553</td> <th>  Cond. No.          </th>   <td>6.55e+04</td>  \n",
       "</tr>\n",
       "</table><br/><br/>Notes:<br/>[1] Standard Errors assume that the covariance matrix of the errors is correctly specified.<br/>[2] The condition number is large, 6.55e+04. This might indicate that there are<br/>strong multicollinearity or other numerical problems."
      ],
      "text/plain": [
       "<class 'statsmodels.iolib.summary.Summary'>\n",
       "\"\"\"\n",
       "                            OLS Regression Results                            \n",
       "==============================================================================\n",
       "Dep. Variable:                  종가_ex   R-squared:                       0.933\n",
       "Model:                            OLS   Adj. R-squared:                  0.933\n",
       "Method:                 Least Squares   F-statistic:                     6814.\n",
       "Date:                Sun, 21 Aug 2022   Prob (F-statistic):               0.00\n",
       "Time:                        13:21:44   Log-Likelihood:                -10052.\n",
       "No. Observations:                2459   AIC:                         2.012e+04\n",
       "Df Residuals:                    2453   BIC:                         2.015e+04\n",
       "Df Model:                           5                                         \n",
       "Covariance Type:            nonrobust                                         \n",
       "==============================================================================\n",
       "                 coef    std err          t      P>|t|      [0.025      0.975]\n",
       "------------------------------------------------------------------------------\n",
       "const         87.0484      6.245     13.938      0.000      74.802      99.295\n",
       "1Y_베이시스대비     -0.1372      0.051     -2.680      0.007      -0.238      -0.037\n",
       "국고1년대비         6.6678     16.774      0.398      0.691     -26.224      39.560\n",
       "통안364일대비      -0.0021      3.190     -0.001      0.999      -6.258       6.254\n",
       "Mid_ndf        0.9244      0.005    169.184      0.000       0.914       0.935\n",
       "M1_스왑포인트      -3.0714      0.280    -10.965      0.000      -3.621      -2.522\n",
       "==============================================================================\n",
       "Omnibus:                     6154.102   Durbin-Watson:                   1.889\n",
       "Prob(Omnibus):                  0.000   Jarque-Bera (JB):         73891326.935\n",
       "Skew:                          26.637   Prob(JB):                         0.00\n",
       "Kurtosis:                     850.553   Cond. No.                     6.55e+04\n",
       "==============================================================================\n",
       "\n",
       "Notes:\n",
       "[1] Standard Errors assume that the covariance matrix of the errors is correctly specified.\n",
       "[2] The condition number is large, 6.55e+04. This might indicate that there are\n",
       "strong multicollinearity or other numerical problems.\n",
       "\"\"\""
      ]
     },
     "execution_count": 4,
     "metadata": {},
     "output_type": "execute_result"
    }
   ],
   "source": [
    "import statsmodels.api as sm\n",
    "feature_add = sm.add_constant(df_Data, has_constant='add')\n",
    "\n",
    "# sm OLS 적합\n",
    "model = sm.OLS(df_Target, feature_add)\n",
    "fitted_model = model.fit()\n",
    "\n",
    "# summary 함수통해 결과출력\n",
    "fitted_model.summary()"
   ]
  },
  {
   "cell_type": "code",
   "execution_count": 6,
   "metadata": {},
   "outputs": [
    {
     "name": "stdout",
     "output_type": "stream",
     "text": [
      "   VIF_Factor    Feature\n",
      "0    1.001238  1Y_베이시스대비\n",
      "1    1.001097  Mid_ndf대비\n",
      "2    1.000150   M1_스왑포인트\n"
     ]
    }
   ],
   "source": [
    "from statsmodels.stats.outliers_influence import variance_inflation_factor\n",
    "X_train = df_Data\n",
    "def feature_engineering_XbyVIF(X_train):\n",
    "    vif = pd.DataFrame()\n",
    "    vif[\"VIF_Factor\"] = [variance_inflation_factor(X_train.values,i)\n",
    "                         for i in range(X_train.shape[1])]\n",
    "    vif[\"Feature\"] = X_train.columns\n",
    "    return vif\n",
    "vif = feature_engineering_XbyVIF(X_train)\n",
    "print(vif)"
   ]
  },
  {
   "cell_type": "code",
   "execution_count": 5,
   "metadata": {},
   "outputs": [],
   "source": [
    "df_Target = df[\"종가_ex\"]\n",
    "df_Data = df[['1Y_베이시스대비', 'Mid_ndf대비', 'M1_스왑포인트']]"
   ]
  },
  {
   "cell_type": "code",
   "execution_count": 11,
   "metadata": {},
   "outputs": [
    {
     "data": {
      "text/html": [
       "<table class=\"simpletable\">\n",
       "<caption>OLS Regression Results</caption>\n",
       "<tr>\n",
       "  <th>Dep. Variable:</th>          <td>종가_ex</td>      <th>  R-squared:         </th> <td>   0.990</td> \n",
       "</tr>\n",
       "<tr>\n",
       "  <th>Model:</th>                   <td>OLS</td>       <th>  Adj. R-squared:    </th> <td>   0.990</td> \n",
       "</tr>\n",
       "<tr>\n",
       "  <th>Method:</th>             <td>Least Squares</td>  <th>  F-statistic:       </th> <td>8.255e+04</td>\n",
       "</tr>\n",
       "<tr>\n",
       "  <th>Date:</th>             <td>Thu, 18 Aug 2022</td> <th>  Prob (F-statistic):</th>  <td>  0.00</td>  \n",
       "</tr>\n",
       "<tr>\n",
       "  <th>Time:</th>                 <td>20:39:17</td>     <th>  Log-Likelihood:    </th> <td> -7684.0</td> \n",
       "</tr>\n",
       "<tr>\n",
       "  <th>No. Observations:</th>      <td>  2458</td>      <th>  AIC:               </th> <td>1.538e+04</td>\n",
       "</tr>\n",
       "<tr>\n",
       "  <th>Df Residuals:</th>          <td>  2454</td>      <th>  BIC:               </th> <td>1.540e+04</td>\n",
       "</tr>\n",
       "<tr>\n",
       "  <th>Df Model:</th>              <td>     3</td>      <th>                     </th>     <td> </td>    \n",
       "</tr>\n",
       "<tr>\n",
       "  <th>Covariance Type:</th>      <td>nonrobust</td>    <th>                     </th>     <td> </td>    \n",
       "</tr>\n",
       "</table>\n",
       "<table class=\"simpletable\">\n",
       "<tr>\n",
       "      <td></td>         <th>coef</th>     <th>std err</th>      <th>t</th>      <th>P>|t|</th>  <th>[0.025</th>    <th>0.975]</th>  \n",
       "</tr>\n",
       "<tr>\n",
       "  <th>const</th>     <td>    3.5437</td> <td>    2.277</td> <td>    1.557</td> <td> 0.120</td> <td>   -0.920</td> <td>    8.008</td>\n",
       "</tr>\n",
       "<tr>\n",
       "  <th>1Y_베이시스대비</th> <td>   -0.2298</td> <td>    0.019</td> <td>  -11.795</td> <td> 0.000</td> <td>   -0.268</td> <td>   -0.192</td>\n",
       "</tr>\n",
       "<tr>\n",
       "  <th>Mid_ndf대비</th> <td>    0.0275</td> <td>    0.005</td> <td>    5.259</td> <td> 0.000</td> <td>    0.017</td> <td>    0.038</td>\n",
       "</tr>\n",
       "<tr>\n",
       "  <th>전날 종가_ex</th>  <td>    0.9969</td> <td>    0.002</td> <td>  497.563</td> <td> 0.000</td> <td>    0.993</td> <td>    1.001</td>\n",
       "</tr>\n",
       "</table>\n",
       "<table class=\"simpletable\">\n",
       "<tr>\n",
       "  <th>Omnibus:</th>       <td>55.041</td> <th>  Durbin-Watson:     </th> <td>   2.143</td>\n",
       "</tr>\n",
       "<tr>\n",
       "  <th>Prob(Omnibus):</th> <td> 0.000</td> <th>  Jarque-Bera (JB):  </th> <td> 120.772</td>\n",
       "</tr>\n",
       "<tr>\n",
       "  <th>Skew:</th>          <td>-0.003</td> <th>  Prob(JB):          </th> <td>5.95e-27</td>\n",
       "</tr>\n",
       "<tr>\n",
       "  <th>Kurtosis:</th>      <td> 4.086</td> <th>  Cond. No.          </th> <td>2.32e+04</td>\n",
       "</tr>\n",
       "</table><br/><br/>Notes:<br/>[1] Standard Errors assume that the covariance matrix of the errors is correctly specified.<br/>[2] The condition number is large, 2.32e+04. This might indicate that there are<br/>strong multicollinearity or other numerical problems."
      ],
      "text/plain": [
       "<class 'statsmodels.iolib.summary.Summary'>\n",
       "\"\"\"\n",
       "                            OLS Regression Results                            \n",
       "==============================================================================\n",
       "Dep. Variable:                  종가_ex   R-squared:                       0.990\n",
       "Model:                            OLS   Adj. R-squared:                  0.990\n",
       "Method:                 Least Squares   F-statistic:                 8.255e+04\n",
       "Date:                Thu, 18 Aug 2022   Prob (F-statistic):               0.00\n",
       "Time:                        20:39:17   Log-Likelihood:                -7684.0\n",
       "No. Observations:                2458   AIC:                         1.538e+04\n",
       "Df Residuals:                    2454   BIC:                         1.540e+04\n",
       "Df Model:                           3                                         \n",
       "Covariance Type:            nonrobust                                         \n",
       "==============================================================================\n",
       "                 coef    std err          t      P>|t|      [0.025      0.975]\n",
       "------------------------------------------------------------------------------\n",
       "const          3.5437      2.277      1.557      0.120      -0.920       8.008\n",
       "1Y_베이시스대비     -0.2298      0.019    -11.795      0.000      -0.268      -0.192\n",
       "Mid_ndf대비      0.0275      0.005      5.259      0.000       0.017       0.038\n",
       "전날 종가_ex       0.9969      0.002    497.563      0.000       0.993       1.001\n",
       "==============================================================================\n",
       "Omnibus:                       55.041   Durbin-Watson:                   2.143\n",
       "Prob(Omnibus):                  0.000   Jarque-Bera (JB):              120.772\n",
       "Skew:                          -0.003   Prob(JB):                     5.95e-27\n",
       "Kurtosis:                       4.086   Cond. No.                     2.32e+04\n",
       "==============================================================================\n",
       "\n",
       "Notes:\n",
       "[1] Standard Errors assume that the covariance matrix of the errors is correctly specified.\n",
       "[2] The condition number is large, 2.32e+04. This might indicate that there are\n",
       "strong multicollinearity or other numerical problems.\n",
       "\"\"\""
      ]
     },
     "execution_count": 11,
     "metadata": {},
     "output_type": "execute_result"
    }
   ],
   "source": [
    "import statsmodels.api as sm\n",
    "feature_add = sm.add_constant(df_Data, has_constant='add')\n",
    "\n",
    "# sm OLS 적합\n",
    "model = sm.OLS(df_Target, feature_add)\n",
    "fitted_model = model.fit()\n",
    "\n",
    "# summary 함수통해 결과출력\n",
    "fitted_model.summary()"
   ]
  },
  {
   "cell_type": "code",
   "execution_count": null,
   "metadata": {},
   "outputs": [],
   "source": []
  },
  {
   "cell_type": "code",
   "execution_count": null,
   "metadata": {},
   "outputs": [],
   "source": []
  },
  {
   "cell_type": "code",
   "execution_count": null,
   "metadata": {},
   "outputs": [],
   "source": []
  },
  {
   "cell_type": "code",
   "execution_count": 13,
   "metadata": {},
   "outputs": [
    {
     "data": {
      "text/plain": [
       "5.277902127327842"
      ]
     },
     "execution_count": 13,
     "metadata": {},
     "output_type": "execute_result"
    }
   ],
   "source": [
    "from sklearn.model_selection import train_test_split\n",
    "from sklearn.linear_model import LinearRegression\n",
    "from sklearn.metrics import mean_squared_error, r2_score\n",
    "X_train, X_test, y_train, y_test = train_test_split(feature_add, df_Target,test_size=0.2, random_state=15 )\n",
    "\n",
    "lr = LinearRegression()\n",
    "lr.fit (X_train, y_train)\n",
    "y_preds = lr.predict(X_test)\n",
    "mse = mean_squared_error(y_test, y_preds)\n",
    "rmse = np.sqrt(mse)\n",
    "rmse"
   ]
  },
  {
   "cell_type": "code",
   "execution_count": 14,
   "metadata": {},
   "outputs": [
    {
     "data": {
      "text/plain": [
       "(8.254598457342173,\n",
       " array([ 4.55010798,  6.75708731,  5.65035688, 19.25905693,  5.05638319]),\n",
       " array([ -20.70348262,  -45.65822891,  -31.92653292, -370.91127376,\n",
       "         -25.56701092]))"
      ]
     },
     "execution_count": 14,
     "metadata": {},
     "output_type": "execute_result"
    }
   ],
   "source": [
    "from sklearn.model_selection import cross_val_score\n",
    "neg_mse_scores = cross_val_score(lr, df_Data, df_Target,scoring=\"neg_mean_squared_error\", cv = 5)\n",
    "rmse_scores = np.sqrt(-1 *neg_mse_scores)\n",
    "avg_rmse = np.mean(rmse_scores)\n",
    "avg_rmse,rmse_scores, neg_mse_scores"
   ]
  },
  {
   "cell_type": "code",
   "execution_count": null,
   "metadata": {},
   "outputs": [],
   "source": []
  }
 ],
 "metadata": {
  "kernelspec": {
   "display_name": "Python 3.10.0 64-bit",
   "language": "python",
   "name": "python3"
  },
  "language_info": {
   "codemirror_mode": {
    "name": "ipython",
    "version": 3
   },
   "file_extension": ".py",
   "mimetype": "text/x-python",
   "name": "python",
   "nbconvert_exporter": "python",
   "pygments_lexer": "ipython3",
   "version": "3.10.0"
  },
  "orig_nbformat": 4,
  "vscode": {
   "interpreter": {
    "hash": "a073e8c3e7241d11bd26aeacf78abcb385fecb9ce1a8fb10ee8efd278424d43e"
   }
  }
 },
 "nbformat": 4,
 "nbformat_minor": 2
}
