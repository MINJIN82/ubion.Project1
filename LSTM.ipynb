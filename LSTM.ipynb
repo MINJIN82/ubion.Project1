{
 "cells": [
  {
   "cell_type": "code",
   "execution_count": 1,
   "metadata": {},
   "outputs": [],
   "source": [
    "import pandas as pd\n",
    "import numpy as np\n",
    "df = pd.read_excel(\"../데이터자료/join_data.xlsx\")\n",
    "df.columns\n",
    "df = df[[\"DateTime\", \"종가_ex\",'1Y_베이시스','국고1년','통안364일' ,'Mid_ndf','M1_스왑포인트']]\n",
    "df[\"M1_스왑포인트\"] = df[\"M1_스왑포인트\"]/100\n",
    "df.head()\n",
    "df = df.set_index(\"DateTime\")"
   ]
  },
  {
   "cell_type": "code",
   "execution_count": 2,
   "metadata": {},
   "outputs": [
    {
     "data": {
      "text/html": [
       "<div>\n",
       "<style scoped>\n",
       "    .dataframe tbody tr th:only-of-type {\n",
       "        vertical-align: middle;\n",
       "    }\n",
       "\n",
       "    .dataframe tbody tr th {\n",
       "        vertical-align: top;\n",
       "    }\n",
       "\n",
       "    .dataframe thead th {\n",
       "        text-align: right;\n",
       "    }\n",
       "</style>\n",
       "<table border=\"1\" class=\"dataframe\">\n",
       "  <thead>\n",
       "    <tr style=\"text-align: right;\">\n",
       "      <th></th>\n",
       "      <th>종가_ex</th>\n",
       "      <th>1Y_베이시스</th>\n",
       "      <th>국고1년</th>\n",
       "      <th>통안364일</th>\n",
       "      <th>Mid_ndf</th>\n",
       "      <th>M1_스왑포인트</th>\n",
       "      <th>1Y_베이시스대비</th>\n",
       "      <th>국고1년대비</th>\n",
       "      <th>통안364일대비</th>\n",
       "      <th>Mid_ndf대비</th>\n",
       "      <th>M1_스왑포인트대비</th>\n",
       "    </tr>\n",
       "    <tr>\n",
       "      <th>DateTime</th>\n",
       "      <th></th>\n",
       "      <th></th>\n",
       "      <th></th>\n",
       "      <th></th>\n",
       "      <th></th>\n",
       "      <th></th>\n",
       "      <th></th>\n",
       "      <th></th>\n",
       "      <th></th>\n",
       "      <th></th>\n",
       "      <th></th>\n",
       "    </tr>\n",
       "  </thead>\n",
       "  <tbody>\n",
       "    <tr>\n",
       "      <th>2012-08-01</th>\n",
       "      <td>1126.5</td>\n",
       "      <td>-76.0</td>\n",
       "      <td>2.82</td>\n",
       "      <td>2.80</td>\n",
       "      <td>1132.25</td>\n",
       "      <td>2.6</td>\n",
       "      <td>NaN</td>\n",
       "      <td>NaN</td>\n",
       "      <td>NaN</td>\n",
       "      <td>NaN</td>\n",
       "      <td>NaN</td>\n",
       "    </tr>\n",
       "    <tr>\n",
       "      <th>2012-08-02</th>\n",
       "      <td>1131.7</td>\n",
       "      <td>-74.0</td>\n",
       "      <td>2.79</td>\n",
       "      <td>2.77</td>\n",
       "      <td>1134.00</td>\n",
       "      <td>2.5</td>\n",
       "      <td>2.0</td>\n",
       "      <td>-0.03</td>\n",
       "      <td>-0.03</td>\n",
       "      <td>1.75</td>\n",
       "      <td>-0.1</td>\n",
       "    </tr>\n",
       "    <tr>\n",
       "      <th>2012-08-03</th>\n",
       "      <td>1134.8</td>\n",
       "      <td>-72.0</td>\n",
       "      <td>2.77</td>\n",
       "      <td>2.75</td>\n",
       "      <td>1138.00</td>\n",
       "      <td>2.4</td>\n",
       "      <td>2.0</td>\n",
       "      <td>-0.02</td>\n",
       "      <td>-0.02</td>\n",
       "      <td>4.00</td>\n",
       "      <td>-0.1</td>\n",
       "    </tr>\n",
       "    <tr>\n",
       "      <th>2012-08-06</th>\n",
       "      <td>1129.0</td>\n",
       "      <td>-74.0</td>\n",
       "      <td>2.78</td>\n",
       "      <td>2.76</td>\n",
       "      <td>1128.50</td>\n",
       "      <td>2.4</td>\n",
       "      <td>-2.0</td>\n",
       "      <td>0.01</td>\n",
       "      <td>0.01</td>\n",
       "      <td>-9.50</td>\n",
       "      <td>0.0</td>\n",
       "    </tr>\n",
       "    <tr>\n",
       "      <th>2012-08-07</th>\n",
       "      <td>1128.8</td>\n",
       "      <td>-73.0</td>\n",
       "      <td>2.77</td>\n",
       "      <td>2.75</td>\n",
       "      <td>1129.00</td>\n",
       "      <td>2.5</td>\n",
       "      <td>1.0</td>\n",
       "      <td>-0.01</td>\n",
       "      <td>-0.01</td>\n",
       "      <td>0.50</td>\n",
       "      <td>0.1</td>\n",
       "    </tr>\n",
       "  </tbody>\n",
       "</table>\n",
       "</div>"
      ],
      "text/plain": [
       "             종가_ex  1Y_베이시스  국고1년  통안364일  Mid_ndf  M1_스왑포인트  1Y_베이시스대비  \\\n",
       "DateTime                                                                  \n",
       "2012-08-01  1126.5    -76.0  2.82    2.80  1132.25       2.6        NaN   \n",
       "2012-08-02  1131.7    -74.0  2.79    2.77  1134.00       2.5        2.0   \n",
       "2012-08-03  1134.8    -72.0  2.77    2.75  1138.00       2.4        2.0   \n",
       "2012-08-06  1129.0    -74.0  2.78    2.76  1128.50       2.4       -2.0   \n",
       "2012-08-07  1128.8    -73.0  2.77    2.75  1129.00       2.5        1.0   \n",
       "\n",
       "            국고1년대비  통안364일대비  Mid_ndf대비  M1_스왑포인트대비  \n",
       "DateTime                                             \n",
       "2012-08-01     NaN       NaN        NaN         NaN  \n",
       "2012-08-02   -0.03     -0.03       1.75        -0.1  \n",
       "2012-08-03   -0.02     -0.02       4.00        -0.1  \n",
       "2012-08-06    0.01      0.01      -9.50         0.0  \n",
       "2012-08-07   -0.01     -0.01       0.50         0.1  "
      ]
     },
     "execution_count": 2,
     "metadata": {},
     "output_type": "execute_result"
    }
   ],
   "source": [
    "df[\"1Y_베이시스대비\"] =df[\"1Y_베이시스\"]-df[\"1Y_베이시스\"].shift(1)\n",
    "df[\"국고1년대비\"] =df[\"국고1년\"]-df[\"국고1년\"].shift(1)\n",
    "df[\"통안364일대비\"] = df[\"통안364일\"] - df[\"통안364일\"].shift(1)\n",
    "df[\"Mid_ndf대비\"] = df[\"Mid_ndf\"] - df[\"Mid_ndf\"].shift(1)\n",
    "df[\"M1_스왑포인트대비\"] = df[\"M1_스왑포인트\"]- df[\"M1_스왑포인트\"].shift(1)\n",
    "df.head()\n"
   ]
  },
  {
   "cell_type": "code",
   "execution_count": 3,
   "metadata": {},
   "outputs": [
    {
     "data": {
      "text/plain": [
       "Index(['종가_ex', '1Y_베이시스', '국고1년', '통안364일', 'Mid_ndf', 'M1_스왑포인트',\n",
       "       '1Y_베이시스대비', '국고1년대비', '통안364일대비', 'Mid_ndf대비', 'M1_스왑포인트대비',\n",
       "       '전날 종가_ex'],\n",
       "      dtype='object')"
      ]
     },
     "execution_count": 3,
     "metadata": {},
     "output_type": "execute_result"
    }
   ],
   "source": [
    "df[\"전날 종가_ex\"] = df[\"종가_ex\"].shift(1)\n",
    "df = df.dropna()\n",
    "df.columns\n"
   ]
  },
  {
   "cell_type": "code",
   "execution_count": 4,
   "metadata": {},
   "outputs": [
    {
     "name": "stderr",
     "output_type": "stream",
     "text": [
      "C:\\Users\\Public\\Documents\\ESTsoft\\CreatorTemp\\ipykernel_35672\\864625744.py:6: UserWarning: Pandas doesn't allow columns to be created via a new attribute name - see https://pandas.pydata.org/pandas-docs/stable/indexing.html#attribute-access\n",
      "  df_Data.feature= df_Data.columns\n"
     ]
    },
    {
     "data": {
      "text/plain": [
       "Index(['1Y_베이시스대비', '국고1년대비', '통안364일대비', 'Mid_ndf대비', 'M1_스왑포인트', '전날 종가_ex'], dtype='object')"
      ]
     },
     "execution_count": 4,
     "metadata": {},
     "output_type": "execute_result"
    }
   ],
   "source": [
    "df[\"전날 종가_ex\"] = df[\"종가_ex\"].shift(1)\n",
    "df = df.dropna()\n",
    "df.columns\n",
    "df_Target = df[\"종가_ex\"]\n",
    "df_Data = df[['1Y_베이시스대비', '국고1년대비', '통안364일대비', 'Mid_ndf대비', 'M1_스왑포인트','전날 종가_ex']]\n",
    "df_Data.feature= df_Data.columns\n",
    "df_Data.feature"
   ]
  },
  {
   "cell_type": "code",
   "execution_count": 17,
   "metadata": {},
   "outputs": [
    {
     "name": "stdout",
     "output_type": "stream",
     "text": [
      "            1Y_베이시스대비  국고1년대비  통안364일대비  Mid_ndf대비  M1_스왑포인트  전날 종가_ex\n",
      "DateTime                                                              \n",
      "2015-05-11        1.0   -0.01      0.00      -6.45      1.00    1088.3\n",
      "2020-02-04       -1.0    0.02      0.02      -4.85     -0.60    1195.0\n",
      "2016-10-14        1.0    0.00      0.00       4.25      0.25    1135.9\n",
      "2012-12-11       -1.0    0.00      0.00      -3.65      1.55    1079.0\n",
      "2017-06-07        0.0    0.00      0.01       0.25     -0.55    1118.3\n",
      "...               ...     ...       ...        ...       ...       ...\n",
      "2015-02-27        0.0    0.00      0.00       2.25      1.40    1097.2\n",
      "2021-04-08        2.0   -0.01      0.00       0.50      0.10    1116.3\n",
      "2019-09-02       -1.0    0.03      0.02       1.30     -1.00    1211.2\n",
      "2021-07-20       -1.0   -0.02     -0.02       9.55      0.35    1147.8\n",
      "2022-06-24        0.0   -0.01      0.02       2.20     -0.60    1301.8\n",
      "\n",
      "[1966 rows x 6 columns]\n"
     ]
    }
   ],
   "source": [
    "from unicodedata import category\n",
    "import tensorflow as tf\n",
    "import numpy as np\n",
    "import pandas as pd\n",
    "from keras.models import Sequential\n",
    "from keras.callbacks import EarlyStopping\n",
    "from keras.callbacks import ModelCheckpoint\n",
    "from tensorflow.keras.preprocessing.sequence import pad_sequences\n",
    "from sklearn.model_selection import train_test_split\n",
    "tf.random.set_seed(2022)\n",
    "\n",
    "X_train, X_test, y_train, y_test = train_test_split(df_Data, df_Target,test_size=0.2, random_state=15 )\n",
    "category = np.max(y_train)\n",
    "print(X_train)"
   ]
  },
  {
   "cell_type": "code",
   "execution_count": 13,
   "metadata": {},
   "outputs": [
    {
     "name": "stdout",
     "output_type": "stream",
     "text": [
      "<class 'pandas.core.frame.DataFrame'>\n",
      "Index: 2458 entries, 2012-08-03 to 2022-07-29\n",
      "Data columns (total 6 columns):\n",
      " #   Column     Non-Null Count  Dtype  \n",
      "---  ------     --------------  -----  \n",
      " 0   1Y_베이시스대비  2458 non-null   float64\n",
      " 1   국고1년대비     2458 non-null   float64\n",
      " 2   통안364일대비   2458 non-null   float64\n",
      " 3   Mid_ndf대비  2458 non-null   float64\n",
      " 4   M1_스왑포인트   2458 non-null   float64\n",
      " 5   전날 종가_ex   2458 non-null   float64\n",
      "dtypes: float64(6)\n",
      "memory usage: 199.0+ KB\n"
     ]
    }
   ],
   "source": [
    "X_train, X_test, y_train, y_test = train_test_split(df_Data, df_Target,test_size=0.2, random_state=15 )\n",
    "df_Data.info()\n",
    "# optimizer (최적화 함수 설정)\n",
    "adam = tf.keras.optimizers.Adam(learning_rate=0.01)\n",
    "# 최적의 성능을 내고, 30번동안 mse가 감소하는 경우가 없다면, 조기 종료 설정\n",
    "# es = EarlyStopping(monitor='mse', mode='min', patience=30)\n",
    "# 모형 mse가 가장 적은 model을 저장하는 부분\n",
    "# mc = ModelCheckpoint('best_model.h5', monitor='mse', mode='min', save_best_only=True)\n",
    "\n",
    "# 모델 형성 (input은 feature 2개, loss는 MSE로 설정, 반복회수 50번 시행)\n",
    "model = tf.keras.models.Sequential()\n",
    "model.add(tf.keras.layers.Dense(10, input_shape = (2,)))\n",
    "model.add(tf.keras.layers.Dense(5))\n",
    "model.add(tf.keras.layers.Dense(1))\n",
    "model.compile(loss='mean_squared_error', optimizer=adam, metrics=['mse'])\n",
    "model.fit(x_train,y_train,epochs=50, batch_size = 10) #, callbacks=[es, mc]) \n",
    "\n",
    "# 모델 예측값 dataset 형성\n",
    "pred = pd.concat([test, pd.DataFrame(model.predict(x_test), index = test.index)], axis =1)\n",
    "\n",
    "# 모델 결과 출력\n",
    "plt.plot(pred[0], label='KOSPI predicted')\n",
    "plt.plot(pred['^KS11'], label='KOSPI actual')\n",
    "plt.title('KOSPI predict by Samsung Price')\n",
    "plt.legend()\n",
    "plt.xlabel('Date')\n",
    "plt.xticks(rotation = 45)\n",
    "plt.ylabel('KOSPI')\n",
    "plt.show()"
   ]
  },
  {
   "cell_type": "code",
   "execution_count": 12,
   "metadata": {},
   "outputs": [
    {
     "ename": "ValueError",
     "evalue": "invalid literal for int() with base 10: '1Y_베이시스대비'",
     "output_type": "error",
     "traceback": [
      "\u001b[1;31m---------------------------------------------------------------------------\u001b[0m",
      "\u001b[1;31mValueError\u001b[0m                                Traceback (most recent call last)",
      "\u001b[1;32mc:\\Users\\tlsdm\\OneDrive\\바탕 화면\\신의영\\프로젝트 1 자료\\코딩\\LSTM.ipynb 셀 7\u001b[0m in \u001b[0;36m<cell line: 1>\u001b[1;34m()\u001b[0m\n\u001b[1;32m----> <a href='vscode-notebook-cell:/c%3A/Users/tlsdm/OneDrive/%EB%B0%94%ED%83%95%20%ED%99%94%EB%A9%B4/%EC%8B%A0%EC%9D%98%EC%98%81/%ED%94%84%EB%A1%9C%EC%A0%9D%ED%8A%B8%201%20%EC%9E%90%EB%A3%8C/%EC%BD%94%EB%94%A9/LSTM.ipynb#X10sZmlsZQ%3D%3D?line=0'>1</a>\u001b[0m train_seq \u001b[39m=\u001b[39m pad_sequences(X_train, maxlen\u001b[39m=\u001b[39;49m\u001b[39m100\u001b[39;49m)\n\u001b[0;32m      <a href='vscode-notebook-cell:/c%3A/Users/tlsdm/OneDrive/%EB%B0%94%ED%83%95%20%ED%99%94%EB%A9%B4/%EC%8B%A0%EC%9D%98%EC%98%81/%ED%94%84%EB%A1%9C%EC%A0%9D%ED%8A%B8%201%20%EC%9E%90%EB%A3%8C/%EC%BD%94%EB%94%A9/LSTM.ipynb#X10sZmlsZQ%3D%3D?line=1'>2</a>\u001b[0m val_seq \u001b[39m=\u001b[39m pad_sequences(y_train, maxlen\u001b[39m=\u001b[39m\u001b[39m100\u001b[39m)\n",
      "File \u001b[1;32mc:\\Users\\tlsdm\\AppData\\Local\\Programs\\Python\\Python310\\lib\\site-packages\\keras\\utils\\data_utils.py:1041\u001b[0m, in \u001b[0;36mpad_sequences\u001b[1;34m(sequences, maxlen, dtype, padding, truncating, value)\u001b[0m\n\u001b[0;32m   1038\u001b[0m   \u001b[39mraise\u001b[39;00m \u001b[39mValueError\u001b[39;00m(\u001b[39mf\u001b[39m\u001b[39m'\u001b[39m\u001b[39mTruncating type \u001b[39m\u001b[39m\"\u001b[39m\u001b[39m{\u001b[39;00mtruncating\u001b[39m}\u001b[39;00m\u001b[39m\"\u001b[39m\u001b[39m not understood\u001b[39m\u001b[39m'\u001b[39m)\n\u001b[0;32m   1040\u001b[0m \u001b[39m# check `trunc` has expected shape\u001b[39;00m\n\u001b[1;32m-> 1041\u001b[0m trunc \u001b[39m=\u001b[39m np\u001b[39m.\u001b[39;49masarray(trunc, dtype\u001b[39m=\u001b[39;49mdtype)\n\u001b[0;32m   1042\u001b[0m \u001b[39mif\u001b[39;00m trunc\u001b[39m.\u001b[39mshape[\u001b[39m1\u001b[39m:] \u001b[39m!=\u001b[39m sample_shape:\n\u001b[0;32m   1043\u001b[0m   \u001b[39mraise\u001b[39;00m \u001b[39mValueError\u001b[39;00m(\u001b[39mf\u001b[39m\u001b[39m'\u001b[39m\u001b[39mShape of sample \u001b[39m\u001b[39m{\u001b[39;00mtrunc\u001b[39m.\u001b[39mshape[\u001b[39m1\u001b[39m:]\u001b[39m}\u001b[39;00m\u001b[39m of sequence at \u001b[39m\u001b[39m'\u001b[39m\n\u001b[0;32m   1044\u001b[0m                    \u001b[39mf\u001b[39m\u001b[39m'\u001b[39m\u001b[39mposition \u001b[39m\u001b[39m{\u001b[39;00midx\u001b[39m}\u001b[39;00m\u001b[39m is different from expected shape \u001b[39m\u001b[39m'\u001b[39m\n\u001b[0;32m   1045\u001b[0m                    \u001b[39mf\u001b[39m\u001b[39m'\u001b[39m\u001b[39m{\u001b[39;00msample_shape\u001b[39m}\u001b[39;00m\u001b[39m'\u001b[39m)\n",
      "\u001b[1;31mValueError\u001b[0m: invalid literal for int() with base 10: '1Y_베이시스대비'"
     ]
    }
   ],
   "source": [
    "train_seq = pad_sequences(X_train, maxlen=100)\n",
    "val_seq = pad_sequences(y_train, maxlen=100)"
   ]
  },
  {
   "cell_type": "code",
   "execution_count": null,
   "metadata": {},
   "outputs": [],
   "source": []
  }
 ],
 "metadata": {
  "kernelspec": {
   "display_name": "Python 3.10.0 64-bit",
   "language": "python",
   "name": "python3"
  },
  "language_info": {
   "codemirror_mode": {
    "name": "ipython",
    "version": 3
   },
   "file_extension": ".py",
   "mimetype": "text/x-python",
   "name": "python",
   "nbconvert_exporter": "python",
   "pygments_lexer": "ipython3",
   "version": "3.10.0"
  },
  "orig_nbformat": 4,
  "vscode": {
   "interpreter": {
    "hash": "a073e8c3e7241d11bd26aeacf78abcb385fecb9ce1a8fb10ee8efd278424d43e"
   }
  }
 },
 "nbformat": 4,
 "nbformat_minor": 2
}
