{
 "cells": [
  {
   "cell_type": "code",
   "execution_count": 1,
   "metadata": {},
   "outputs": [],
   "source": [
    "import pandas as pd\n",
    "import numpy as np\n",
    "df = pd.read_excel(\"../데이터자료/join_data.xlsx\")\n",
    "df.columns\n",
    "df = df[[\"DateTime\", \"종가_ex\",'1Y_베이시스','국고1년','통안364일' ,'Mid_ndf','M1_스왑포인트']]\n",
    "df[\"M1_스왑포인트\"] = df[\"M1_스왑포인트\"]/100\n",
    "df.head()\n",
    "df = df.set_index(\"DateTime\")"
   ]
  },
  {
   "cell_type": "code",
   "execution_count": 2,
   "metadata": {},
   "outputs": [
    {
     "data": {
      "text/html": [
       "<div>\n",
       "<style scoped>\n",
       "    .dataframe tbody tr th:only-of-type {\n",
       "        vertical-align: middle;\n",
       "    }\n",
       "\n",
       "    .dataframe tbody tr th {\n",
       "        vertical-align: top;\n",
       "    }\n",
       "\n",
       "    .dataframe thead th {\n",
       "        text-align: right;\n",
       "    }\n",
       "</style>\n",
       "<table border=\"1\" class=\"dataframe\">\n",
       "  <thead>\n",
       "    <tr style=\"text-align: right;\">\n",
       "      <th></th>\n",
       "      <th>종가_ex</th>\n",
       "      <th>1Y_베이시스</th>\n",
       "      <th>국고1년</th>\n",
       "      <th>통안364일</th>\n",
       "      <th>Mid_ndf</th>\n",
       "      <th>M1_스왑포인트</th>\n",
       "      <th>1Y_베이시스대비</th>\n",
       "      <th>국고1년대비</th>\n",
       "      <th>통안364일대비</th>\n",
       "      <th>Mid_ndf대비</th>\n",
       "      <th>M1_스왑포인트대비</th>\n",
       "    </tr>\n",
       "    <tr>\n",
       "      <th>DateTime</th>\n",
       "      <th></th>\n",
       "      <th></th>\n",
       "      <th></th>\n",
       "      <th></th>\n",
       "      <th></th>\n",
       "      <th></th>\n",
       "      <th></th>\n",
       "      <th></th>\n",
       "      <th></th>\n",
       "      <th></th>\n",
       "      <th></th>\n",
       "    </tr>\n",
       "  </thead>\n",
       "  <tbody>\n",
       "    <tr>\n",
       "      <th>2012-08-01</th>\n",
       "      <td>1126.5</td>\n",
       "      <td>-76.0</td>\n",
       "      <td>2.82</td>\n",
       "      <td>2.80</td>\n",
       "      <td>1132.25</td>\n",
       "      <td>2.6</td>\n",
       "      <td>NaN</td>\n",
       "      <td>NaN</td>\n",
       "      <td>NaN</td>\n",
       "      <td>NaN</td>\n",
       "      <td>NaN</td>\n",
       "    </tr>\n",
       "    <tr>\n",
       "      <th>2012-08-02</th>\n",
       "      <td>1131.7</td>\n",
       "      <td>-74.0</td>\n",
       "      <td>2.79</td>\n",
       "      <td>2.77</td>\n",
       "      <td>1134.00</td>\n",
       "      <td>2.5</td>\n",
       "      <td>2.0</td>\n",
       "      <td>-0.03</td>\n",
       "      <td>-0.03</td>\n",
       "      <td>1.75</td>\n",
       "      <td>-0.1</td>\n",
       "    </tr>\n",
       "    <tr>\n",
       "      <th>2012-08-03</th>\n",
       "      <td>1134.8</td>\n",
       "      <td>-72.0</td>\n",
       "      <td>2.77</td>\n",
       "      <td>2.75</td>\n",
       "      <td>1138.00</td>\n",
       "      <td>2.4</td>\n",
       "      <td>2.0</td>\n",
       "      <td>-0.02</td>\n",
       "      <td>-0.02</td>\n",
       "      <td>4.00</td>\n",
       "      <td>-0.1</td>\n",
       "    </tr>\n",
       "    <tr>\n",
       "      <th>2012-08-06</th>\n",
       "      <td>1129.0</td>\n",
       "      <td>-74.0</td>\n",
       "      <td>2.78</td>\n",
       "      <td>2.76</td>\n",
       "      <td>1128.50</td>\n",
       "      <td>2.4</td>\n",
       "      <td>-2.0</td>\n",
       "      <td>0.01</td>\n",
       "      <td>0.01</td>\n",
       "      <td>-9.50</td>\n",
       "      <td>0.0</td>\n",
       "    </tr>\n",
       "    <tr>\n",
       "      <th>2012-08-07</th>\n",
       "      <td>1128.8</td>\n",
       "      <td>-73.0</td>\n",
       "      <td>2.77</td>\n",
       "      <td>2.75</td>\n",
       "      <td>1129.00</td>\n",
       "      <td>2.5</td>\n",
       "      <td>1.0</td>\n",
       "      <td>-0.01</td>\n",
       "      <td>-0.01</td>\n",
       "      <td>0.50</td>\n",
       "      <td>0.1</td>\n",
       "    </tr>\n",
       "  </tbody>\n",
       "</table>\n",
       "</div>"
      ],
      "text/plain": [
       "             종가_ex  1Y_베이시스  국고1년  통안364일  Mid_ndf  M1_스왑포인트  1Y_베이시스대비  \\\n",
       "DateTime                                                                  \n",
       "2012-08-01  1126.5    -76.0  2.82    2.80  1132.25       2.6        NaN   \n",
       "2012-08-02  1131.7    -74.0  2.79    2.77  1134.00       2.5        2.0   \n",
       "2012-08-03  1134.8    -72.0  2.77    2.75  1138.00       2.4        2.0   \n",
       "2012-08-06  1129.0    -74.0  2.78    2.76  1128.50       2.4       -2.0   \n",
       "2012-08-07  1128.8    -73.0  2.77    2.75  1129.00       2.5        1.0   \n",
       "\n",
       "            국고1년대비  통안364일대비  Mid_ndf대비  M1_스왑포인트대비  \n",
       "DateTime                                             \n",
       "2012-08-01     NaN       NaN        NaN         NaN  \n",
       "2012-08-02   -0.03     -0.03       1.75        -0.1  \n",
       "2012-08-03   -0.02     -0.02       4.00        -0.1  \n",
       "2012-08-06    0.01      0.01      -9.50         0.0  \n",
       "2012-08-07   -0.01     -0.01       0.50         0.1  "
      ]
     },
     "execution_count": 2,
     "metadata": {},
     "output_type": "execute_result"
    }
   ],
   "source": [
    "df[\"1Y_베이시스대비\"] =df[\"1Y_베이시스\"]-df[\"1Y_베이시스\"].shift(1)\n",
    "df[\"국고1년대비\"] =df[\"국고1년\"]-df[\"국고1년\"].shift(1)\n",
    "df[\"통안364일대비\"] = df[\"통안364일\"] - df[\"통안364일\"].shift(1)\n",
    "df[\"Mid_ndf대비\"] = df[\"Mid_ndf\"] - df[\"Mid_ndf\"].shift(1)\n",
    "df[\"M1_스왑포인트대비\"] = df[\"M1_스왑포인트\"]- df[\"M1_스왑포인트\"].shift(1)\n",
    "df.head()"
   ]
  },
  {
   "cell_type": "code",
   "execution_count": 3,
   "metadata": {},
   "outputs": [
    {
     "data": {
      "text/plain": [
       "Index(['종가_ex', '1Y_베이시스', '국고1년', '통안364일', 'Mid_ndf', 'M1_스왑포인트',\n",
       "       '1Y_베이시스대비', '국고1년대비', '통안364일대비', 'Mid_ndf대비', 'M1_스왑포인트대비',\n",
       "       '전날 종가_ex'],\n",
       "      dtype='object')"
      ]
     },
     "execution_count": 3,
     "metadata": {},
     "output_type": "execute_result"
    }
   ],
   "source": [
    "df[\"전날 종가_ex\"] = df[\"종가_ex\"].shift(1)\n",
    "df = df.dropna()\n",
    "df.columns"
   ]
  },
  {
   "cell_type": "code",
   "execution_count": 5,
   "metadata": {},
   "outputs": [
    {
     "name": "stderr",
     "output_type": "stream",
     "text": [
      "C:\\Users\\Public\\Documents\\ESTsoft\\CreatorTemp\\ipykernel_44736\\4034184235.py:4: UserWarning: Pandas doesn't allow columns to be created via a new attribute name - see https://pandas.pydata.org/pandas-docs/stable/indexing.html#attribute-access\n",
      "  df_Data.feature= df_Data.columns\n"
     ]
    },
    {
     "data": {
      "text/plain": [
       "Index(['1Y_베이시스', '국고1년대비', '통안364일대비', 'Mid_ndf대비', 'M1_스왑포인트', '전날 종가_ex'], dtype='object')"
      ]
     },
     "execution_count": 5,
     "metadata": {},
     "output_type": "execute_result"
    }
   ],
   "source": [
    "# 종속변수 독립변수 설정\n",
    "df_Target = df[\"종가_ex\"]\n",
    "df_Data = df[['1Y_베이시스', '국고1년대비', '통안364일대비', 'Mid_ndf대비', 'M1_스왑포인트','전날 종가_ex']]\n",
    "df_Data.feature= df_Data.columns\n",
    "df_Data.feature"
   ]
  },
  {
   "cell_type": "code",
   "execution_count": 17,
   "metadata": {},
   "outputs": [],
   "source": [
    "# 스케일링 코드\n",
    "from sklearn.preprocessing import StandardScaler, MinMaxScaler\n",
    "scaler = MinMaxScaler()\n",
    "\n",
    "scaler.fit(df_Data)\n",
    "df_Data_scaled= scaler.transform(df_Data)\n",
    "df_scaled = pd.DataFrame (data = df_Data_scaled, columns=df_Data.feature)\n",
    "df_scaled.index = df_Target.index"
   ]
  },
  {
   "cell_type": "code",
   "execution_count": 18,
   "metadata": {},
   "outputs": [],
   "source": [
    "from sklearn.model_selection import train_test_split\n",
    "from sklearn.linear_model import LinearRegression\n",
    "from sklearn.metrics import mean_squared_error, r2_score"
   ]
  },
  {
   "cell_type": "code",
   "execution_count": 19,
   "metadata": {},
   "outputs": [
    {
     "data": {
      "text/html": [
       "<table class=\"simpletable\">\n",
       "<caption>OLS Regression Results</caption>\n",
       "<tr>\n",
       "  <th>Dep. Variable:</th>          <td>종가_ex</td>      <th>  R-squared:         </th> <td>   0.990</td> \n",
       "</tr>\n",
       "<tr>\n",
       "  <th>Model:</th>                   <td>OLS</td>       <th>  Adj. R-squared:    </th> <td>   0.990</td> \n",
       "</tr>\n",
       "<tr>\n",
       "  <th>Method:</th>             <td>Least Squares</td>  <th>  F-statistic:       </th> <td>3.917e+04</td>\n",
       "</tr>\n",
       "<tr>\n",
       "  <th>Date:</th>             <td>Thu, 18 Aug 2022</td> <th>  Prob (F-statistic):</th>  <td>  0.00</td>  \n",
       "</tr>\n",
       "<tr>\n",
       "  <th>Time:</th>                 <td>21:19:42</td>     <th>  Log-Likelihood:    </th> <td> -7749.4</td> \n",
       "</tr>\n",
       "<tr>\n",
       "  <th>No. Observations:</th>      <td>  2459</td>      <th>  AIC:               </th> <td>1.551e+04</td>\n",
       "</tr>\n",
       "<tr>\n",
       "  <th>Df Residuals:</th>          <td>  2452</td>      <th>  BIC:               </th> <td>1.555e+04</td>\n",
       "</tr>\n",
       "<tr>\n",
       "  <th>Df Model:</th>              <td>     6</td>      <th>                     </th>     <td> </td>    \n",
       "</tr>\n",
       "<tr>\n",
       "  <th>Covariance Type:</th>      <td>nonrobust</td>    <th>                     </th>     <td> </td>    \n",
       "</tr>\n",
       "</table>\n",
       "<table class=\"simpletable\">\n",
       "<tr>\n",
       "      <td></td>         <th>coef</th>     <th>std err</th>      <th>t</th>      <th>P>|t|</th>  <th>[0.025</th>    <th>0.975]</th>  \n",
       "</tr>\n",
       "<tr>\n",
       "  <th>const</th>     <td>  996.2660</td> <td>    3.501</td> <td>  284.597</td> <td> 0.000</td> <td>  989.402</td> <td> 1003.130</td>\n",
       "</tr>\n",
       "<tr>\n",
       "  <th>1Y_베이시스</th>   <td>   -3.5516</td> <td>    1.392</td> <td>   -2.552</td> <td> 0.011</td> <td>   -6.280</td> <td>   -0.823</td>\n",
       "</tr>\n",
       "<tr>\n",
       "  <th>국고1년대비</th>    <td>    2.9464</td> <td>    1.702</td> <td>    1.731</td> <td> 0.084</td> <td>   -0.392</td> <td>    6.285</td>\n",
       "</tr>\n",
       "<tr>\n",
       "  <th>통안364일대비</th>  <td>    0.0252</td> <td>    3.716</td> <td>    0.007</td> <td> 0.995</td> <td>   -7.262</td> <td>    7.312</td>\n",
       "</tr>\n",
       "<tr>\n",
       "  <th>Mid_ndf대비</th> <td>   29.6770</td> <td>    5.453</td> <td>    5.442</td> <td> 0.000</td> <td>   18.983</td> <td>   40.371</td>\n",
       "</tr>\n",
       "<tr>\n",
       "  <th>M1_스왑포인트</th>  <td>   -0.8813</td> <td>    0.782</td> <td>   -1.127</td> <td> 0.260</td> <td>   -2.415</td> <td>    0.653</td>\n",
       "</tr>\n",
       "<tr>\n",
       "  <th>전날 종가_ex</th>  <td>  315.9689</td> <td>    0.709</td> <td>  445.721</td> <td> 0.000</td> <td>  314.579</td> <td>  317.359</td>\n",
       "</tr>\n",
       "</table>\n",
       "<table class=\"simpletable\">\n",
       "<tr>\n",
       "  <th>Omnibus:</th>       <td>146.528</td> <th>  Durbin-Watson:     </th> <td>   2.164</td> \n",
       "</tr>\n",
       "<tr>\n",
       "  <th>Prob(Omnibus):</th> <td> 0.000</td>  <th>  Jarque-Bera (JB):  </th> <td> 621.790</td> \n",
       "</tr>\n",
       "<tr>\n",
       "  <th>Skew:</th>          <td>-0.001</td>  <th>  Prob(JB):          </th> <td>9.55e-136</td>\n",
       "</tr>\n",
       "<tr>\n",
       "  <th>Kurtosis:</th>      <td> 5.463</td>  <th>  Cond. No.          </th> <td>    90.3</td> \n",
       "</tr>\n",
       "</table><br/><br/>Notes:<br/>[1] Standard Errors assume that the covariance matrix of the errors is correctly specified."
      ],
      "text/plain": [
       "<class 'statsmodels.iolib.summary.Summary'>\n",
       "\"\"\"\n",
       "                            OLS Regression Results                            \n",
       "==============================================================================\n",
       "Dep. Variable:                  종가_ex   R-squared:                       0.990\n",
       "Model:                            OLS   Adj. R-squared:                  0.990\n",
       "Method:                 Least Squares   F-statistic:                 3.917e+04\n",
       "Date:                Thu, 18 Aug 2022   Prob (F-statistic):               0.00\n",
       "Time:                        21:19:42   Log-Likelihood:                -7749.4\n",
       "No. Observations:                2459   AIC:                         1.551e+04\n",
       "Df Residuals:                    2452   BIC:                         1.555e+04\n",
       "Df Model:                           6                                         \n",
       "Covariance Type:            nonrobust                                         \n",
       "==============================================================================\n",
       "                 coef    std err          t      P>|t|      [0.025      0.975]\n",
       "------------------------------------------------------------------------------\n",
       "const        996.2660      3.501    284.597      0.000     989.402    1003.130\n",
       "1Y_베이시스       -3.5516      1.392     -2.552      0.011      -6.280      -0.823\n",
       "국고1년대비         2.9464      1.702      1.731      0.084      -0.392       6.285\n",
       "통안364일대비       0.0252      3.716      0.007      0.995      -7.262       7.312\n",
       "Mid_ndf대비     29.6770      5.453      5.442      0.000      18.983      40.371\n",
       "M1_스왑포인트      -0.8813      0.782     -1.127      0.260      -2.415       0.653\n",
       "전날 종가_ex     315.9689      0.709    445.721      0.000     314.579     317.359\n",
       "==============================================================================\n",
       "Omnibus:                      146.528   Durbin-Watson:                   2.164\n",
       "Prob(Omnibus):                  0.000   Jarque-Bera (JB):              621.790\n",
       "Skew:                          -0.001   Prob(JB):                    9.55e-136\n",
       "Kurtosis:                       5.463   Cond. No.                         90.3\n",
       "==============================================================================\n",
       "\n",
       "Notes:\n",
       "[1] Standard Errors assume that the covariance matrix of the errors is correctly specified.\n",
       "\"\"\""
      ]
     },
     "execution_count": 19,
     "metadata": {},
     "output_type": "execute_result"
    }
   ],
   "source": [
    "import statsmodels.api as sm\n",
    "feature_add_std = sm.add_constant(df_scaled, has_constant='add')\n",
    "\n",
    "# sm OLS 적합\n",
    "model = sm.OLS(df_Target, feature_add_std)\n",
    "fitted_model = model.fit()\n",
    "\n",
    "# summary 함수통해 결과출력\n",
    "fitted_model.summary()"
   ]
  },
  {
   "cell_type": "code",
   "execution_count": 20,
   "metadata": {},
   "outputs": [],
   "source": [
    "# p값높은 컬럼들 제외\n",
    "df_Target = df[\"종가_ex\"]\n",
    "df_scaled = df_scaled[['1Y_베이시스', '국고1년대비', 'Mid_ndf대비','전날 종가_ex']]"
   ]
  },
  {
   "cell_type": "code",
   "execution_count": 21,
   "metadata": {},
   "outputs": [
    {
     "data": {
      "text/html": [
       "<table class=\"simpletable\">\n",
       "<caption>OLS Regression Results</caption>\n",
       "<tr>\n",
       "  <th>Dep. Variable:</th>          <td>종가_ex</td>      <th>  R-squared:         </th> <td>   0.990</td> \n",
       "</tr>\n",
       "<tr>\n",
       "  <th>Model:</th>                   <td>OLS</td>       <th>  Adj. R-squared:    </th> <td>   0.990</td> \n",
       "</tr>\n",
       "<tr>\n",
       "  <th>Method:</th>             <td>Least Squares</td>  <th>  F-statistic:       </th> <td>5.877e+04</td>\n",
       "</tr>\n",
       "<tr>\n",
       "  <th>Date:</th>             <td>Thu, 18 Aug 2022</td> <th>  Prob (F-statistic):</th>  <td>  0.00</td>  \n",
       "</tr>\n",
       "<tr>\n",
       "  <th>Time:</th>                 <td>21:19:43</td>     <th>  Log-Likelihood:    </th> <td> -7750.0</td> \n",
       "</tr>\n",
       "<tr>\n",
       "  <th>No. Observations:</th>      <td>  2459</td>      <th>  AIC:               </th> <td>1.551e+04</td>\n",
       "</tr>\n",
       "<tr>\n",
       "  <th>Df Residuals:</th>          <td>  2454</td>      <th>  BIC:               </th> <td>1.554e+04</td>\n",
       "</tr>\n",
       "<tr>\n",
       "  <th>Df Model:</th>              <td>     4</td>      <th>                     </th>     <td> </td>    \n",
       "</tr>\n",
       "<tr>\n",
       "  <th>Covariance Type:</th>      <td>nonrobust</td>    <th>                     </th>     <td> </td>    \n",
       "</tr>\n",
       "</table>\n",
       "<table class=\"simpletable\">\n",
       "<tr>\n",
       "      <td></td>         <th>coef</th>     <th>std err</th>      <th>t</th>      <th>P>|t|</th>  <th>[0.025</th>    <th>0.975]</th>  \n",
       "</tr>\n",
       "<tr>\n",
       "  <th>const</th>     <td>  995.5574</td> <td>    2.973</td> <td>  334.913</td> <td> 0.000</td> <td>  989.728</td> <td> 1001.386</td>\n",
       "</tr>\n",
       "<tr>\n",
       "  <th>1Y_베이시스</th>   <td>   -3.5584</td> <td>    1.391</td> <td>   -2.558</td> <td> 0.011</td> <td>   -6.287</td> <td>   -0.830</td>\n",
       "</tr>\n",
       "<tr>\n",
       "  <th>국고1년대비</th>    <td>    2.9083</td> <td>    1.683</td> <td>    1.728</td> <td> 0.084</td> <td>   -0.392</td> <td>    6.209</td>\n",
       "</tr>\n",
       "<tr>\n",
       "  <th>Mid_ndf대비</th> <td>   29.6857</td> <td>    5.453</td> <td>    5.444</td> <td> 0.000</td> <td>   18.994</td> <td>   40.378</td>\n",
       "</tr>\n",
       "<tr>\n",
       "  <th>전날 종가_ex</th>  <td>  316.2714</td> <td>    0.656</td> <td>  482.138</td> <td> 0.000</td> <td>  314.985</td> <td>  317.558</td>\n",
       "</tr>\n",
       "</table>\n",
       "<table class=\"simpletable\">\n",
       "<tr>\n",
       "  <th>Omnibus:</th>       <td>144.743</td> <th>  Durbin-Watson:     </th> <td>   2.163</td> \n",
       "</tr>\n",
       "<tr>\n",
       "  <th>Prob(Omnibus):</th> <td> 0.000</td>  <th>  Jarque-Bera (JB):  </th> <td> 607.215</td> \n",
       "</tr>\n",
       "<tr>\n",
       "  <th>Skew:</th>          <td> 0.004</td>  <th>  Prob(JB):          </th> <td>1.40e-132</td>\n",
       "</tr>\n",
       "<tr>\n",
       "  <th>Kurtosis:</th>      <td> 5.434</td>  <th>  Cond. No.          </th> <td>    76.1</td> \n",
       "</tr>\n",
       "</table><br/><br/>Notes:<br/>[1] Standard Errors assume that the covariance matrix of the errors is correctly specified."
      ],
      "text/plain": [
       "<class 'statsmodels.iolib.summary.Summary'>\n",
       "\"\"\"\n",
       "                            OLS Regression Results                            \n",
       "==============================================================================\n",
       "Dep. Variable:                  종가_ex   R-squared:                       0.990\n",
       "Model:                            OLS   Adj. R-squared:                  0.990\n",
       "Method:                 Least Squares   F-statistic:                 5.877e+04\n",
       "Date:                Thu, 18 Aug 2022   Prob (F-statistic):               0.00\n",
       "Time:                        21:19:43   Log-Likelihood:                -7750.0\n",
       "No. Observations:                2459   AIC:                         1.551e+04\n",
       "Df Residuals:                    2454   BIC:                         1.554e+04\n",
       "Df Model:                           4                                         \n",
       "Covariance Type:            nonrobust                                         \n",
       "==============================================================================\n",
       "                 coef    std err          t      P>|t|      [0.025      0.975]\n",
       "------------------------------------------------------------------------------\n",
       "const        995.5574      2.973    334.913      0.000     989.728    1001.386\n",
       "1Y_베이시스       -3.5584      1.391     -2.558      0.011      -6.287      -0.830\n",
       "국고1년대비         2.9083      1.683      1.728      0.084      -0.392       6.209\n",
       "Mid_ndf대비     29.6857      5.453      5.444      0.000      18.994      40.378\n",
       "전날 종가_ex     316.2714      0.656    482.138      0.000     314.985     317.558\n",
       "==============================================================================\n",
       "Omnibus:                      144.743   Durbin-Watson:                   2.163\n",
       "Prob(Omnibus):                  0.000   Jarque-Bera (JB):              607.215\n",
       "Skew:                           0.004   Prob(JB):                    1.40e-132\n",
       "Kurtosis:                       5.434   Cond. No.                         76.1\n",
       "==============================================================================\n",
       "\n",
       "Notes:\n",
       "[1] Standard Errors assume that the covariance matrix of the errors is correctly specified.\n",
       "\"\"\""
      ]
     },
     "execution_count": 21,
     "metadata": {},
     "output_type": "execute_result"
    }
   ],
   "source": [
    "import statsmodels.api as sm\n",
    "feature_add = sm.add_constant(df_scaled, has_constant='add')\n",
    "# sm OLS 적합\n",
    "model = sm.OLS(df_Target, feature_add)\n",
    "fitted_model = model.fit()\n",
    "\n",
    "# summary 함수통해 결과출력\n",
    "fitted_model.summary()"
   ]
  },
  {
   "cell_type": "code",
   "execution_count": 23,
   "metadata": {},
   "outputs": [
    {
     "data": {
      "text/plain": [
       "5.8690389674926235"
      ]
     },
     "execution_count": 23,
     "metadata": {},
     "output_type": "execute_result"
    }
   ],
   "source": [
    "from sklearn.model_selection import train_test_split\n",
    "from sklearn.linear_model import LinearRegression\n",
    "from sklearn.metrics import mean_squared_error, r2_score\n",
    "X_train, X_test, y_train, y_test = train_test_split(feature_add, df_Target,test_size=0.2, random_state=15 )\n",
    "\n",
    "lr = LinearRegression()\n",
    "lr.fit (X_train, y_train)\n",
    "y_preds = lr.predict(X_test)\n",
    "mse = mean_squared_error(y_test, y_preds)\n",
    "rmse = np.sqrt(mse)\n",
    "rmse"
   ]
  },
  {
   "cell_type": "code",
   "execution_count": 24,
   "metadata": {},
   "outputs": [
    {
     "data": {
      "text/plain": [
       "(8.297641839574538,\n",
       " array([ 4.40558456,  6.73615954,  5.66429184, 19.48646447,  5.19570879]),\n",
       " array([ -19.40917531,  -45.37584535,  -32.08420201, -379.72229759,\n",
       "         -26.99538984]))"
      ]
     },
     "execution_count": 24,
     "metadata": {},
     "output_type": "execute_result"
    }
   ],
   "source": [
    "from sklearn.model_selection import cross_val_score\n",
    "neg_mse_scores = cross_val_score(lr, feature_add, df_Target,scoring=\"neg_mean_squared_error\", cv = 5)\n",
    "rmse_scores = np.sqrt(-1 *neg_mse_scores)\n",
    "avg_rmse = np.mean(rmse_scores)\n",
    "avg_rmse,rmse_scores, neg_mse_scores"
   ]
  },
  {
   "cell_type": "code",
   "execution_count": null,
   "metadata": {},
   "outputs": [],
   "source": []
  }
 ],
 "metadata": {
  "kernelspec": {
   "display_name": "Python 3.10.0 64-bit",
   "language": "python",
   "name": "python3"
  },
  "language_info": {
   "codemirror_mode": {
    "name": "ipython",
    "version": 3
   },
   "file_extension": ".py",
   "mimetype": "text/x-python",
   "name": "python",
   "nbconvert_exporter": "python",
   "pygments_lexer": "ipython3",
   "version": "3.10.0"
  },
  "orig_nbformat": 4,
  "vscode": {
   "interpreter": {
    "hash": "a073e8c3e7241d11bd26aeacf78abcb385fecb9ce1a8fb10ee8efd278424d43e"
   }
  }
 },
 "nbformat": 4,
 "nbformat_minor": 2
}
