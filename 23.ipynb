{
 "cells": [
  {
   "cell_type": "code",
   "execution_count": 6,
   "metadata": {},
   "outputs": [
    {
     "data": {
      "text/plain": [
       "Index(['DateTime', '종가_ex', '대비_ex', '증감률_ex', '1Y_Mid_irs', '1Y_전일비_irs',\n",
       "       '2Y_Mid_irs', '2Y_전일비_irs', '3Y_Mid_irs', '3Y_전일비_irs', '5Y_Mid_irs',\n",
       "       '5Y_전일비_irs', '10Y_Mid_irs', '10Y_전일비_irs', '1Y_Mid_crs', '1Y_전일비_crs',\n",
       "       '2Y_Mid_crs', '2Y_전일비_crs', '3Y_Mid_crs', '3Y_전일비_crs', '5Y_Mid_crs',\n",
       "       '5Y_전일비_crs', '10Y_Mid_crs', '10Y_전일비_crs', '국고1년', '국고3년', '국고5년',\n",
       "       '국고10년', '통안364일', '통안2년', 'Bid_ndf', 'Ask_ndf', 'Mid_ndf', '전일비_ndf',\n",
       "       '1Y_베이시스', '2Y_베이시스', '3Y_베이시스', '5Y_베이시스', '10Y_베이시스', 'M1_스왑포인트'],\n",
       "      dtype='object')"
      ]
     },
     "execution_count": 6,
     "metadata": {},
     "output_type": "execute_result"
    }
   ],
   "source": [
    "import pandas as pd\n",
    "import numpy as np\n",
    "import warnings \n",
    "warnings.filterwarnings('ignore')\n",
    "\n",
    "# 파일 불러오기\n",
    "all = pd.read_excel(\"../데이터자료/Join_data6.xlsx\", index_col = 0)  \n",
    "df_1 = pd.read_excel(\"../데이터자료/시차상관분석4Data.xlsx\",index_col=0)  \n",
    "all.columns\n"
   ]
  },
  {
   "cell_type": "code",
   "execution_count": 12,
   "metadata": {},
   "outputs": [],
   "source": [
    "all['Mid_ndf'] = (all['Bid_ndf'] + all['Ask_ndf'] )/2\n",
    "all['전일비_ndf'] = all['Mid_ndf'] - all['Mid_ndf'].shift(1)"
   ]
  },
  {
   "cell_type": "code",
   "execution_count": 13,
   "metadata": {},
   "outputs": [],
   "source": [
    "all.to_excel(excel_writer='joindata5Data.xlsx')"
   ]
  },
  {
   "cell_type": "code",
   "execution_count": null,
   "metadata": {},
   "outputs": [],
   "source": []
  }
 ],
 "metadata": {
  "kernelspec": {
   "display_name": "Python 3.10.0 64-bit",
   "language": "python",
   "name": "python3"
  },
  "language_info": {
   "codemirror_mode": {
    "name": "ipython",
    "version": 3
   },
   "file_extension": ".py",
   "mimetype": "text/x-python",
   "name": "python",
   "nbconvert_exporter": "python",
   "pygments_lexer": "ipython3",
   "version": "3.10.0"
  },
  "orig_nbformat": 4,
  "vscode": {
   "interpreter": {
    "hash": "a073e8c3e7241d11bd26aeacf78abcb385fecb9ce1a8fb10ee8efd278424d43e"
   }
  }
 },
 "nbformat": 4,
 "nbformat_minor": 2
}
