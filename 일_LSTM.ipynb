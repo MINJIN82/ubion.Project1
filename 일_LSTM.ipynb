{
 "cells": [
  {
   "cell_type": "code",
   "execution_count": 25,
   "metadata": {},
   "outputs": [
    {
     "data": {
      "text/html": [
       "<div>\n",
       "<style scoped>\n",
       "    .dataframe tbody tr th:only-of-type {\n",
       "        vertical-align: middle;\n",
       "    }\n",
       "\n",
       "    .dataframe tbody tr th {\n",
       "        vertical-align: top;\n",
       "    }\n",
       "\n",
       "    .dataframe thead th {\n",
       "        text-align: right;\n",
       "    }\n",
       "</style>\n",
       "<table border=\"1\" class=\"dataframe\">\n",
       "  <thead>\n",
       "    <tr style=\"text-align: right;\">\n",
       "      <th></th>\n",
       "      <th>1Y_베이시스대비</th>\n",
       "      <th>2Y_베이시스대비</th>\n",
       "      <th>3Y_베이시스대비</th>\n",
       "      <th>5Y_베이시스대비</th>\n",
       "      <th>10Y_베이시스대비</th>\n",
       "      <th>M1_스왑포인트</th>\n",
       "      <th>국고1년대비</th>\n",
       "      <th>국고3년대비</th>\n",
       "      <th>국고5년대비</th>\n",
       "      <th>국고10년대비</th>\n",
       "      <th>통안364일대비</th>\n",
       "      <th>종가_NDF차이</th>\n",
       "      <th>전날 종가_ex</th>\n",
       "      <th>종가_ex</th>\n",
       "    </tr>\n",
       "    <tr>\n",
       "      <th>DateTime</th>\n",
       "      <th></th>\n",
       "      <th></th>\n",
       "      <th></th>\n",
       "      <th></th>\n",
       "      <th></th>\n",
       "      <th></th>\n",
       "      <th></th>\n",
       "      <th></th>\n",
       "      <th></th>\n",
       "      <th></th>\n",
       "      <th></th>\n",
       "      <th></th>\n",
       "      <th></th>\n",
       "      <th></th>\n",
       "    </tr>\n",
       "  </thead>\n",
       "  <tbody>\n",
       "    <tr>\n",
       "      <th>2012-08-02</th>\n",
       "      <td>2.0</td>\n",
       "      <td>8.0</td>\n",
       "      <td>9.0</td>\n",
       "      <td>9.0</td>\n",
       "      <td>9.0</td>\n",
       "      <td>250</td>\n",
       "      <td>-0.03</td>\n",
       "      <td>-0.04</td>\n",
       "      <td>-0.04</td>\n",
       "      <td>-0.04</td>\n",
       "      <td>-0.03</td>\n",
       "      <td>-7.50</td>\n",
       "      <td>1126.5</td>\n",
       "      <td>1131.7</td>\n",
       "    </tr>\n",
       "    <tr>\n",
       "      <th>2012-08-03</th>\n",
       "      <td>2.0</td>\n",
       "      <td>1.5</td>\n",
       "      <td>1.0</td>\n",
       "      <td>-5.0</td>\n",
       "      <td>-13.0</td>\n",
       "      <td>240</td>\n",
       "      <td>-0.02</td>\n",
       "      <td>-0.02</td>\n",
       "      <td>-0.07</td>\n",
       "      <td>-0.07</td>\n",
       "      <td>-0.02</td>\n",
       "      <td>-6.30</td>\n",
       "      <td>1131.7</td>\n",
       "      <td>1134.8</td>\n",
       "    </tr>\n",
       "    <tr>\n",
       "      <th>2012-08-06</th>\n",
       "      <td>-2.0</td>\n",
       "      <td>-4.5</td>\n",
       "      <td>-5.0</td>\n",
       "      <td>-6.0</td>\n",
       "      <td>-5.0</td>\n",
       "      <td>240</td>\n",
       "      <td>0.01</td>\n",
       "      <td>0.01</td>\n",
       "      <td>0.00</td>\n",
       "      <td>0.00</td>\n",
       "      <td>0.01</td>\n",
       "      <td>6.30</td>\n",
       "      <td>1134.8</td>\n",
       "      <td>1129.0</td>\n",
       "    </tr>\n",
       "    <tr>\n",
       "      <th>2012-08-07</th>\n",
       "      <td>1.0</td>\n",
       "      <td>1.5</td>\n",
       "      <td>0.0</td>\n",
       "      <td>-8.0</td>\n",
       "      <td>-10.0</td>\n",
       "      <td>250</td>\n",
       "      <td>-0.01</td>\n",
       "      <td>0.00</td>\n",
       "      <td>0.00</td>\n",
       "      <td>0.00</td>\n",
       "      <td>-0.01</td>\n",
       "      <td>0.00</td>\n",
       "      <td>1129.0</td>\n",
       "      <td>1128.8</td>\n",
       "    </tr>\n",
       "    <tr>\n",
       "      <th>2012-08-08</th>\n",
       "      <td>0.0</td>\n",
       "      <td>-2.0</td>\n",
       "      <td>-2.0</td>\n",
       "      <td>-4.0</td>\n",
       "      <td>-7.0</td>\n",
       "      <td>240</td>\n",
       "      <td>-0.01</td>\n",
       "      <td>-0.02</td>\n",
       "      <td>-0.02</td>\n",
       "      <td>-0.02</td>\n",
       "      <td>-0.01</td>\n",
       "      <td>-1.45</td>\n",
       "      <td>1128.8</td>\n",
       "      <td>1128.3</td>\n",
       "    </tr>\n",
       "  </tbody>\n",
       "</table>\n",
       "</div>"
      ],
      "text/plain": [
       "            1Y_베이시스대비  2Y_베이시스대비  3Y_베이시스대비  5Y_베이시스대비  10Y_베이시스대비  M1_스왑포인트  \\\n",
       "DateTime                                                                       \n",
       "2012-08-02        2.0        8.0        9.0        9.0         9.0       250   \n",
       "2012-08-03        2.0        1.5        1.0       -5.0       -13.0       240   \n",
       "2012-08-06       -2.0       -4.5       -5.0       -6.0        -5.0       240   \n",
       "2012-08-07        1.0        1.5        0.0       -8.0       -10.0       250   \n",
       "2012-08-08        0.0       -2.0       -2.0       -4.0        -7.0       240   \n",
       "\n",
       "            국고1년대비  국고3년대비  국고5년대비  국고10년대비  통안364일대비  종가_NDF차이  전날 종가_ex  \\\n",
       "DateTime                                                                    \n",
       "2012-08-02   -0.03   -0.04   -0.04    -0.04     -0.03     -7.50    1126.5   \n",
       "2012-08-03   -0.02   -0.02   -0.07    -0.07     -0.02     -6.30    1131.7   \n",
       "2012-08-06    0.01    0.01    0.00     0.00      0.01      6.30    1134.8   \n",
       "2012-08-07   -0.01    0.00    0.00     0.00     -0.01      0.00    1129.0   \n",
       "2012-08-08   -0.01   -0.02   -0.02    -0.02     -0.01     -1.45    1128.8   \n",
       "\n",
       "             종가_ex  \n",
       "DateTime            \n",
       "2012-08-02  1131.7  \n",
       "2012-08-03  1134.8  \n",
       "2012-08-06  1129.0  \n",
       "2012-08-07  1128.8  \n",
       "2012-08-08  1128.3  "
      ]
     },
     "execution_count": 25,
     "metadata": {},
     "output_type": "execute_result"
    }
   ],
   "source": [
    "import pandas as pd\n",
    "import numpy as np\n",
    "\n",
    "df = pd.read_excel(\"../데이터자료/join_data.xlsx\", index_col=0)\n",
    "\n",
    "df = df.set_index(\"DateTime\")\n",
    "\n",
    "df[\"1Y_베이시스대비\"] =df[\"1Y_베이시스\"]-df[\"1Y_베이시스\"].shift(1)\n",
    "df[\"2Y_베이시스대비\"] =df[\"2Y_베이시스\"]-df[\"2Y_베이시스\"].shift(1)\n",
    "df[\"3Y_베이시스대비\"] =df[\"3Y_베이시스\"]-df[\"3Y_베이시스\"].shift(1)\n",
    "df[\"5Y_베이시스대비\"] =df[\"5Y_베이시스\"]-df[\"5Y_베이시스\"].shift(1)\n",
    "df[\"10Y_베이시스대비\"] =df[\"10Y_베이시스\"]-df[\"10Y_베이시스\"].shift(1)\n",
    "df[\"국고1년대비\"] =df[\"국고1년\"]-df[\"국고1년\"].shift(1)\n",
    "df[\"국고3년대비\"] =df[\"국고3년\"]-df[\"국고3년\"].shift(1)\n",
    "df[\"국고5년대비\"] =df[\"국고5년\"]-df[\"국고5년\"].shift(1)\n",
    "df[\"국고10년대비\"] =df[\"국고10년\"]-df[\"국고10년\"].shift(1)\n",
    "df[\"통안364일대비\"] = df[\"통안364일\"] - df[\"통안364일\"].shift(1)\n",
    "df[\"통안2년대비\"] = df[\"통안2년\"] - df[\"통안2년\"].shift(1)\n",
    "df[\"전날 종가_ex\"] = df[\"종가_ex\"].shift(1)\n",
    "df[\"종가_NDF차이\"] = df[\"전날 종가_ex\"] -df[\"Mid_ndf\"]\n",
    "df = df.dropna()\n",
    "\n",
    "df2 = df[[ '1Y_베이시스대비', '2Y_베이시스대비', '3Y_베이시스대비', '5Y_베이시스대비', '10Y_베이시스대비'\n",
    "            ,'M1_스왑포인트',  '국고1년대비', '국고3년대비', '국고5년대비',\n",
    "             '국고10년대비', '통안364일대비',  '종가_NDF차이',\"전날 종가_ex\", \"종가_ex\"]]\n",
    "\n",
    "df2.head()"
   ]
  },
  {
   "cell_type": "code",
   "execution_count": 26,
   "metadata": {},
   "outputs": [],
   "source": [
    "import pandas as pd \n",
    "import numpy as np \n",
    "import matplotlib.pyplot as plt \n",
    "%matplotlib inline \n",
    "from matplotlib.pylab import rcParams \n",
    "rcParams['figure.figsize']=20,10\n",
    "from tensorflow.keras.models import Sequential\n",
    "from tensorflow.keras.layers import LSTM,Dropout,Dense \n",
    "from sklearn.preprocessing import MinMaxScaler\n",
    "import yfinance as yf"
   ]
  },
  {
   "cell_type": "markdown",
   "metadata": {},
   "source": [
    "## Standard Scaling"
   ]
  },
  {
   "cell_type": "code",
   "execution_count": 29,
   "metadata": {},
   "outputs": [
    {
     "name": "stderr",
     "output_type": "stream",
     "text": [
      "C:\\Users\\Public\\Documents\\ESTsoft\\CreatorTemp\\ipykernel_38364\\1347824689.py:5: UserWarning: Pandas doesn't allow columns to be created via a new attribute name - see https://pandas.pydata.org/pandas-docs/stable/indexing.html#attribute-access\n",
      "  x.feature = x.columns\n"
     ]
    },
    {
     "data": {
      "text/html": [
       "<div>\n",
       "<style scoped>\n",
       "    .dataframe tbody tr th:only-of-type {\n",
       "        vertical-align: middle;\n",
       "    }\n",
       "\n",
       "    .dataframe tbody tr th {\n",
       "        vertical-align: top;\n",
       "    }\n",
       "\n",
       "    .dataframe thead th {\n",
       "        text-align: right;\n",
       "    }\n",
       "</style>\n",
       "<table border=\"1\" class=\"dataframe\">\n",
       "  <thead>\n",
       "    <tr style=\"text-align: right;\">\n",
       "      <th></th>\n",
       "      <th>1Y_베이시스대비</th>\n",
       "      <th>국고3년대비</th>\n",
       "      <th>국고5년대비</th>\n",
       "      <th>종가_NDF차이</th>\n",
       "      <th>전날 종가_ex</th>\n",
       "    </tr>\n",
       "  </thead>\n",
       "  <tbody>\n",
       "    <tr>\n",
       "      <th>0</th>\n",
       "      <td>0.348741</td>\n",
       "      <td>-0.646622</td>\n",
       "      <td>-1.079749</td>\n",
       "      <td>-0.495597</td>\n",
       "      <td>-0.149841</td>\n",
       "    </tr>\n",
       "    <tr>\n",
       "      <th>1</th>\n",
       "      <td>0.348741</td>\n",
       "      <td>-0.323869</td>\n",
       "      <td>-1.890219</td>\n",
       "      <td>-0.415698</td>\n",
       "      <td>-0.056232</td>\n",
       "    </tr>\n",
       "    <tr>\n",
       "      <th>2</th>\n",
       "      <td>-0.350946</td>\n",
       "      <td>0.160261</td>\n",
       "      <td>0.000879</td>\n",
       "      <td>0.423243</td>\n",
       "      <td>-0.000426</td>\n",
       "    </tr>\n",
       "    <tr>\n",
       "      <th>3</th>\n",
       "      <td>0.173819</td>\n",
       "      <td>-0.001116</td>\n",
       "      <td>0.000879</td>\n",
       "      <td>0.003773</td>\n",
       "      <td>-0.104837</td>\n",
       "    </tr>\n",
       "    <tr>\n",
       "      <th>4</th>\n",
       "      <td>-0.001103</td>\n",
       "      <td>-0.323869</td>\n",
       "      <td>-0.539435</td>\n",
       "      <td>-0.092772</td>\n",
       "      <td>-0.108437</td>\n",
       "    </tr>\n",
       "    <tr>\n",
       "      <th>...</th>\n",
       "      <td>...</td>\n",
       "      <td>...</td>\n",
       "      <td>...</td>\n",
       "      <td>...</td>\n",
       "      <td>...</td>\n",
       "    </tr>\n",
       "    <tr>\n",
       "      <th>2454</th>\n",
       "      <td>-0.700790</td>\n",
       "      <td>-0.969375</td>\n",
       "      <td>-1.890219</td>\n",
       "      <td>0.213508</td>\n",
       "      <td>3.207485</td>\n",
       "    </tr>\n",
       "    <tr>\n",
       "      <th>2455</th>\n",
       "      <td>0.348741</td>\n",
       "      <td>-0.485246</td>\n",
       "      <td>-0.539435</td>\n",
       "      <td>0.183546</td>\n",
       "      <td>3.220086</td>\n",
       "    </tr>\n",
       "    <tr>\n",
       "      <th>2456</th>\n",
       "      <td>0.348741</td>\n",
       "      <td>-0.485246</td>\n",
       "      <td>-1.349905</td>\n",
       "      <td>-0.189317</td>\n",
       "      <td>3.110275</td>\n",
       "    </tr>\n",
       "    <tr>\n",
       "      <th>2457</th>\n",
       "      <td>0.173819</td>\n",
       "      <td>0.644391</td>\n",
       "      <td>0.811350</td>\n",
       "      <td>0.489826</td>\n",
       "      <td>3.212885</td>\n",
       "    </tr>\n",
       "    <tr>\n",
       "      <th>2458</th>\n",
       "      <td>-0.700790</td>\n",
       "      <td>-2.099012</td>\n",
       "      <td>-3.241004</td>\n",
       "      <td>0.027076</td>\n",
       "      <td>2.903255</td>\n",
       "    </tr>\n",
       "  </tbody>\n",
       "</table>\n",
       "<p>2459 rows × 5 columns</p>\n",
       "</div>"
      ],
      "text/plain": [
       "      1Y_베이시스대비    국고3년대비    국고5년대비  종가_NDF차이  전날 종가_ex\n",
       "0      0.348741 -0.646622 -1.079749 -0.495597 -0.149841\n",
       "1      0.348741 -0.323869 -1.890219 -0.415698 -0.056232\n",
       "2     -0.350946  0.160261  0.000879  0.423243 -0.000426\n",
       "3      0.173819 -0.001116  0.000879  0.003773 -0.104837\n",
       "4     -0.001103 -0.323869 -0.539435 -0.092772 -0.108437\n",
       "...         ...       ...       ...       ...       ...\n",
       "2454  -0.700790 -0.969375 -1.890219  0.213508  3.207485\n",
       "2455   0.348741 -0.485246 -0.539435  0.183546  3.220086\n",
       "2456   0.348741 -0.485246 -1.349905 -0.189317  3.110275\n",
       "2457   0.173819  0.644391  0.811350  0.489826  3.212885\n",
       "2458  -0.700790 -2.099012 -3.241004  0.027076  2.903255\n",
       "\n",
       "[2459 rows x 5 columns]"
      ]
     },
     "execution_count": 29,
     "metadata": {},
     "output_type": "execute_result"
    }
   ],
   "source": [
    "x = df[['1Y_베이시스대비', '국고3년대비', '국고5년대비','종가_NDF차이', '전날 종가_ex']]\n",
    "y = df[[\"종가_ex\"]]\n",
    "\n",
    "# 이건 이렇게 해야 밑에 코드 8번째 줄 columns에 들어갈 수 있다고 하네요!\n",
    "x.feature = x.columns \n",
    "from sklearn.preprocessing import StandardScaler \n",
    "\n"
   ]
  },
  {
   "cell_type": "code",
   "execution_count": 28,
   "metadata": {},
   "outputs": [],
   "source": [
    "train = x[:-500]\n",
    "test = x[-500:]"
   ]
  },
  {
   "cell_type": "code",
   "execution_count": 34,
   "metadata": {},
   "outputs": [
    {
     "name": "stdout",
     "output_type": "stream",
     "text": [
      "(1899, 60, 1) (1899,)\n"
     ]
    }
   ],
   "source": [
    "# 새로운 데이터 셋 형성 (훈련, 검증 데이터로 분활) : 2218번째 데이터가 2018년 기말 데이터임\n",
    "df_last=x.values \n",
    "train_df=df_last[:-500] \n",
    "test_df=df_last[-500:] \n",
    "\n",
    "scaler=MinMaxScaler(feature_range=(0,1)) \n",
    "scaled_df=scaler.fit_transform(df_last) \n",
    "\n",
    "x_train = [] \n",
    "y_train = []\n",
    "for i in range(60,len(train_df)):\n",
    "#     # x_train은 2010.1.4부터 60일 후 데이터를 한 묶음으로 시작하여 마지막 데이터 그룹의 끝이 2018년 기말 데이터가 들어가도록 설정 (총 2158개 그룹이 들어감)\n",
    "    x_train.append(scaled_df[i-60:i,0]) \n",
    "     # y_train은 2010.1.4기준 60일 후 데이터로 시작하여 마지막에 2018년 기말 데이터가 들어가도록 설정\n",
    "    y_train.append(scaled_df[i,0]) \n",
    "\n",
    "# # list로 들어간 데이터를 array 형태로 바꿔줌\n",
    "x_train, y_train = np.array(x_train), np.array(y_train) \n",
    "# # reshape를 통해 x_train 데이터를 2158그룹 * 그룹당 60일치 데이터 * 1차원으로 3차원 데이터로 확장함\n",
    "x_train=np.reshape(x_train,(x_train.shape[0], x_train.shape[1], 1))\n",
    "\n",
    "print(x_train.shape, y_train.shape)"
   ]
  },
  {
   "cell_type": "code",
   "execution_count": 42,
   "metadata": {},
   "outputs": [
    {
     "data": {
      "text/plain": [
       "array([[[0.50753769],\n",
       "        [0.50753769],\n",
       "        [0.48743719],\n",
       "        ...,\n",
       "        [0.48743719],\n",
       "        [0.50251256],\n",
       "        [0.50251256]],\n",
       "\n",
       "       [[0.50753769],\n",
       "        [0.48743719],\n",
       "        [0.50251256],\n",
       "        ...,\n",
       "        [0.50251256],\n",
       "        [0.50251256],\n",
       "        [0.50251256]],\n",
       "\n",
       "       [[0.48743719],\n",
       "        [0.50251256],\n",
       "        [0.49748744],\n",
       "        ...,\n",
       "        [0.50251256],\n",
       "        [0.50251256],\n",
       "        [0.49246231]],\n",
       "\n",
       "       ...,\n",
       "\n",
       "       [[0.44974874],\n",
       "        [0.3718593 ],\n",
       "        [0.54773869],\n",
       "        ...,\n",
       "        [0.50251256],\n",
       "        [0.49748744],\n",
       "        [0.5       ]],\n",
       "\n",
       "       [[0.3718593 ],\n",
       "        [0.54773869],\n",
       "        [0.49748744],\n",
       "        ...,\n",
       "        [0.49748744],\n",
       "        [0.5       ],\n",
       "        [0.49246231]],\n",
       "\n",
       "       [[0.54773869],\n",
       "        [0.49748744],\n",
       "        [0.51758794],\n",
       "        ...,\n",
       "        [0.5       ],\n",
       "        [0.49246231],\n",
       "        [0.50251256]]])"
      ]
     },
     "execution_count": 42,
     "metadata": {},
     "output_type": "execute_result"
    }
   ],
   "source": [
    "x_train"
   ]
  },
  {
   "cell_type": "code",
   "execution_count": 35,
   "metadata": {},
   "outputs": [
    {
     "name": "stdout",
     "output_type": "stream",
     "text": [
      "Model: \"sequential_1\"\n",
      "_________________________________________________________________\n",
      " Layer (type)                Output Shape              Param #   \n",
      "=================================================================\n",
      " lstm_1 (LSTM)               (None, 60, 50)            10400     \n",
      "                                                                 \n",
      " lstm_2 (LSTM)               (None, 50)                20200     \n",
      "                                                                 \n",
      " dense_1 (Dense)             (None, 1)                 51        \n",
      "                                                                 \n",
      "=================================================================\n",
      "Total params: 30,651\n",
      "Trainable params: 30,651\n",
      "Non-trainable params: 0\n",
      "_________________________________________________________________\n"
     ]
    }
   ],
   "source": [
    "# lstm 모델 형성\n",
    "lstm_model=Sequential() \n",
    "lstm_model.add(LSTM(units=50, return_sequences=True, input_shape=(x_train.shape[1],1))) \n",
    "lstm_model.add(LSTM(units=50)) \n",
    "lstm_model.add(Dense(1))\n",
    "lstm_model.summary()"
   ]
  },
  {
   "cell_type": "code",
   "execution_count": 36,
   "metadata": {},
   "outputs": [
    {
     "name": "stdout",
     "output_type": "stream",
     "text": [
      "1899/1899 [==============================] - 94s 45ms/step - loss: 0.0017\n"
     ]
    },
    {
     "data": {
      "text/plain": [
       "<keras.callbacks.History at 0x2c51242c2e0>"
      ]
     },
     "execution_count": 36,
     "metadata": {},
     "output_type": "execute_result"
    }
   ],
   "source": [
    "# LSTM 시행 (loss는 mse, optimizer는 adam을 사용)\n",
    "lstm_model.compile(loss='mean_squared_error',optimizer='adam') \n",
    "lstm_model.fit(x_train, y_train, epochs=1, batch_size=1)"
   ]
  },
  {
   "cell_type": "code",
   "execution_count": 50,
   "metadata": {},
   "outputs": [
    {
     "name": "stdout",
     "output_type": "stream",
     "text": [
      "(560, 5)\n"
     ]
    },
    {
     "ename": "ValueError",
     "evalue": "in user code:\n\n    File \"c:\\Users\\tlsdm\\AppData\\Local\\Programs\\Python\\Python310\\lib\\site-packages\\keras\\engine\\training.py\", line 1845, in predict_function  *\n        return step_function(self, iterator)\n    File \"c:\\Users\\tlsdm\\AppData\\Local\\Programs\\Python\\Python310\\lib\\site-packages\\keras\\engine\\training.py\", line 1834, in step_function  **\n        outputs = model.distribute_strategy.run(run_step, args=(data,))\n    File \"c:\\Users\\tlsdm\\AppData\\Local\\Programs\\Python\\Python310\\lib\\site-packages\\keras\\engine\\training.py\", line 1823, in run_step  **\n        outputs = model.predict_step(data)\n    File \"c:\\Users\\tlsdm\\AppData\\Local\\Programs\\Python\\Python310\\lib\\site-packages\\keras\\engine\\training.py\", line 1791, in predict_step\n        return self(x, training=False)\n    File \"c:\\Users\\tlsdm\\AppData\\Local\\Programs\\Python\\Python310\\lib\\site-packages\\keras\\utils\\traceback_utils.py\", line 67, in error_handler\n        raise e.with_traceback(filtered_tb) from None\n    File \"c:\\Users\\tlsdm\\AppData\\Local\\Programs\\Python\\Python310\\lib\\site-packages\\keras\\engine\\input_spec.py\", line 200, in assert_input_compatibility\n        raise ValueError(f'Layer \"{layer_name}\" expects {len(input_spec)} input(s),'\n\n    ValueError: Layer \"sequential_1\" expects 1 input(s), but it received 500 input tensors. Inputs received: [<tf.Tensor 'IteratorGetNext:0' shape=(None,) dtype=float32>, <tf.Tensor 'IteratorGetNext:1' shape=(None,) dtype=float32>, <tf.Tensor 'IteratorGetNext:2' shape=(None,) dtype=float32>, <tf.Tensor 'IteratorGetNext:3' shape=(None,) dtype=float32>, <tf.Tensor 'IteratorGetNext:4' shape=(None,) dtype=float32>, <tf.Tensor 'IteratorGetNext:5' shape=(None,) dtype=float32>, <tf.Tensor 'IteratorGetNext:6' shape=(None,) dtype=float32>, <tf.Tensor 'IteratorGetNext:7' shape=(None,) dtype=float32>, <tf.Tensor 'IteratorGetNext:8' shape=(None,) dtype=float32>, <tf.Tensor 'IteratorGetNext:9' shape=(None,) dtype=float32>, <tf.Tensor 'IteratorGetNext:10' shape=(None,) dtype=float32>, <tf.Tensor 'IteratorGetNext:11' shape=(None,) dtype=float32>, <tf.Tensor 'IteratorGetNext:12' shape=(None,) dtype=float32>, <tf.Tensor 'IteratorGetNext:13' shape=(None,) dtype=float32>, <tf.Tensor 'IteratorGetNext:14' shape=(None,) dtype=float32>, <tf.Tensor 'IteratorGetNext:15' shape=(None,) dtype=float32>, <tf.Tensor 'IteratorGetNext:16' shape=(None,) dtype=float32>, <tf.Tensor 'IteratorGetNext:17' shape=(None,) dtype=float32>, <tf.Tensor 'IteratorGetNext:18' shape=(None,) dtype=float32>, <tf.Tensor 'IteratorGetNext:19' shape=(None,) dtype=float32>, <tf.Tensor 'IteratorGetNext:20' shape=(None,) dtype=float32>, <tf.Tensor 'IteratorGetNext:21' shape=(None,) dtype=float32>, <tf.Tensor 'IteratorGetNext:22' shape=(None,) dtype=float32>, <tf.Tensor 'IteratorGetNext:23' shape=(None,) dtype=float32>, <tf.Tensor 'IteratorGetNext:24' shape=(None,) dtype=float32>, <tf.Tensor 'IteratorGetNext:25' shape=(None,) dtype=float32>, <tf.Tensor 'IteratorGetNext:26' shape=(None,) dtype=float32>, <tf.Tensor 'IteratorGetNext:27' shape=(None,) dtype=float32>, <tf.Tensor 'IteratorGetNext:28' shape=(None,) dtype=float32>, <tf.Tensor 'IteratorGetNext:29' shape=(None,) dtype=float32>, <tf.Tensor 'IteratorGetNext:30' shape=(None,) dtype=float32>, <tf.Tensor 'IteratorGetNext:31' shape=(None,) dtype=float32>, <tf.Tensor 'IteratorGetNext:32' shape=(None,) dtype=float32>, <tf.Tensor 'IteratorGetNext:33' shape=(None,) dtype=float32>, <tf.Tensor 'IteratorGetNext:34' shape=(None,) dtype=float32>, <tf.Tensor 'IteratorGetNext:35' shape=(None,) dtype=float32>, <tf.Tensor 'IteratorGetNext:36' shape=(None,) dtype=float32>, <tf.Tensor 'IteratorGetNext:37' shape=(None,) dtype=float32>, <tf.Tensor 'IteratorGetNext:38' shape=(None,) dtype=float32>, <tf.Tensor 'IteratorGetNext:39' shape=(None,) dtype=float32>, <tf.Tensor 'IteratorGetNext:40' shape=(None,) dtype=float32>, <tf.Tensor 'IteratorGetNext:41' shape=(None,) dtype=float32>, <tf.Tensor 'IteratorGetNext:42' shape=(None,) dtype=float32>, <tf.Tensor 'IteratorGetNext:43' shape=(None,) dtype=float32>, <tf.Tensor 'IteratorGetNext:44' shape=(None,) dtype=float32>, <tf.Tensor 'IteratorGetNext:45' shape=(None,) dtype=float32>, <tf.Tensor 'IteratorGetNext:46' shape=(None,) dtype=float32>, <tf.Tensor 'IteratorGetNext:47' shape=(None,) dtype=float32>, <tf.Tensor 'IteratorGetNext:48' shape=(None,) dtype=float32>, <tf.Tensor 'IteratorGetNext:49' shape=(None,) dtype=float32>, <tf.Tensor 'IteratorGetNext:50' shape=(None,) dtype=float32>, <tf.Tensor 'IteratorGetNext:51' shape=(None,) dtype=float32>, <tf.Tensor 'IteratorGetNext:52' shape=(None,) dtype=float32>, <tf.Tensor 'IteratorGetNext:53' shape=(None,) dtype=float32>, <tf.Tensor 'IteratorGetNext:54' shape=(None,) dtype=float32>, <tf.Tensor 'IteratorGetNext:55' shape=(None,) dtype=float32>, <tf.Tensor 'IteratorGetNext:56' shape=(None,) dtype=float32>, <tf.Tensor 'IteratorGetNext:57' shape=(None,) dtype=float32>, <tf.Tensor 'IteratorGetNext:58' shape=(None,) dtype=float32>, <tf.Tensor 'IteratorGetNext:59' shape=(None,) dtype=float32>, <tf.Tensor 'IteratorGetNext:60' shape=(None,) dtype=float32>, <tf.Tensor 'IteratorGetNext:61' shape=(None,) dtype=float32>, <tf.Tensor 'IteratorGetNext:62' shape=(None,) dtype=float32>, <tf.Tensor 'IteratorGetNext:63' shape=(None,) dtype=float32>, <tf.Tensor 'IteratorGetNext:64' shape=(None,) dtype=float32>, <tf.Tensor 'IteratorGetNext:65' shape=(None,) dtype=float32>, <tf.Tensor 'IteratorGetNext:66' shape=(None,) dtype=float32>, <tf.Tensor 'IteratorGetNext:67' shape=(None,) dtype=float32>, <tf.Tensor 'IteratorGetNext:68' shape=(None,) dtype=float32>, <tf.Tensor 'IteratorGetNext:69' shape=(None,) dtype=float32>, <tf.Tensor 'IteratorGetNext:70' shape=(None,) dtype=float32>, <tf.Tensor 'IteratorGetNext:71' shape=(None,) dtype=float32>, <tf.Tensor 'IteratorGetNext:72' shape=(None,) dtype=float32>, <tf.Tensor 'IteratorGetNext:73' shape=(None,) dtype=float32>, <tf.Tensor 'IteratorGetNext:74' shape=(None,) dtype=float32>, <tf.Tensor 'IteratorGetNext:75' shape=(None,) dtype=float32>, <tf.Tensor 'IteratorGetNext:76' shape=(None,) dtype=float32>, <tf.Tensor 'IteratorGetNext:77' shape=(None,) dtype=float32>, <tf.Tensor 'IteratorGetNext:78' shape=(None,) dtype=float32>, <tf.Tensor 'IteratorGetNext:79' shape=(None,) dtype=float32>, <tf.Tensor 'IteratorGetNext:80' shape=(None,) dtype=float32>, <tf.Tensor 'IteratorGetNext:81' shape=(None,) dtype=float32>, <tf.Tensor 'IteratorGetNext:82' shape=(None,) dtype=float32>, <tf.Tensor 'IteratorGetNext:83' shape=(None,) dtype=float32>, <tf.Tensor 'IteratorGetNext:84' shape=(None,) dtype=float32>, <tf.Tensor 'IteratorGetNext:85' shape=(None,) dtype=float32>, <tf.Tensor 'IteratorGetNext:86' shape=(None,) dtype=float32>, <tf.Tensor 'IteratorGetNext:87' shape=(None,) dtype=float32>, <tf.Tensor 'IteratorGetNext:88' shape=(None,) dtype=float32>, <tf.Tensor 'IteratorGetNext:89' shape=(None,) dtype=float32>, <tf.Tensor 'IteratorGetNext:90' shape=(None,) dtype=float32>, <tf.Tensor 'IteratorGetNext:91' shape=(None,) dtype=float32>, <tf.Tensor 'IteratorGetNext:92' shape=(None,) dtype=float32>, <tf.Tensor 'IteratorGetNext:93' shape=(None,) dtype=float32>, <tf.Tensor 'IteratorGetNext:94' shape=(None,) dtype=float32>, <tf.Tensor 'IteratorGetNext:95' shape=(None,) dtype=float32>, <tf.Tensor 'IteratorGetNext:96' shape=(None,) dtype=float32>, <tf.Tensor 'IteratorGetNext:97' shape=(None,) dtype=float32>, <tf.Tensor 'IteratorGetNext:98' shape=(None,) dtype=float32>, <tf.Tensor 'IteratorGetNext:99' shape=(None,) dtype=float32>, <tf.Tensor 'IteratorGetNext:100' shape=(None,) dtype=float32>, <tf.Tensor 'IteratorGetNext:101' shape=(None,) dtype=float32>, <tf.Tensor 'IteratorGetNext:102' shape=(None,) dtype=float32>, <tf.Tensor 'IteratorGetNext:103' shape=(None,) dtype=float32>, <tf.Tensor 'IteratorGetNext:104' shape=(None,) dtype=float32>, <tf.Tensor 'IteratorGetNext:105' shape=(None,) dtype=float32>, <tf.Tensor 'IteratorGetNext:106' shape=(None,) dtype=float32>, <tf.Tensor 'IteratorGetNext:107' shape=(None,) dtype=float32>, <tf.Tensor 'IteratorGetNext:108' shape=(None,) dtype=float32>, <tf.Tensor 'IteratorGetNext:109' shape=(None,) dtype=float32>, <tf.Tensor 'IteratorGetNext:110' shape=(None,) dtype=float32>, <tf.Tensor 'IteratorGetNext:111' shape=(None,) dtype=float32>, <tf.Tensor 'IteratorGetNext:112' shape=(None,) dtype=float32>, <tf.Tensor 'IteratorGetNext:113' shape=(None,) dtype=float32>, <tf.Tensor 'IteratorGetNext:114' shape=(None,) dtype=float32>, <tf.Tensor 'IteratorGetNext:115' shape=(None,) dtype=float32>, <tf.Tensor 'IteratorGetNext:116' shape=(None,) dtype=float32>, <tf.Tensor 'IteratorGetNext:117' shape=(None,) dtype=float32>, <tf.Tensor 'IteratorGetNext:118' shape=(None,) dtype=float32>, <tf.Tensor 'IteratorGetNext:119' shape=(None,) dtype=float32>, <tf.Tensor 'IteratorGetNext:120' shape=(None,) dtype=float32>, <tf.Tensor 'IteratorGetNext:121' shape=(None,) dtype=float32>, <tf.Tensor 'IteratorGetNext:122' shape=(None,) dtype=float32>, <tf.Tensor 'IteratorGetNext:123' shape=(None,) dtype=float32>, <tf.Tensor 'IteratorGetNext:124' shape=(None,) dtype=float32>, <tf.Tensor 'IteratorGetNext:125' shape=(None,) dtype=float32>, <tf.Tensor 'IteratorGetNext:126' shape=(None,) dtype=float32>, <tf.Tensor 'IteratorGetNext:127' shape=(None,) dtype=float32>, <tf.Tensor 'IteratorGetNext:128' shape=(None,) dtype=float32>, <tf.Tensor 'IteratorGetNext:129' shape=(None,) dtype=float32>, <tf.Tensor 'IteratorGetNext:130' shape=(None,) dtype=float32>, <tf.Tensor 'IteratorGetNext:131' shape=(None,) dtype=float32>, <tf.Tensor 'IteratorGetNext:132' shape=(None,) dtype=float32>, <tf.Tensor 'IteratorGetNext:133' shape=(None,) dtype=float32>, <tf.Tensor 'IteratorGetNext:134' shape=(None,) dtype=float32>, <tf.Tensor 'IteratorGetNext:135' shape=(None,) dtype=float32>, <tf.Tensor 'IteratorGetNext:136' shape=(None,) dtype=float32>, <tf.Tensor 'IteratorGetNext:137' shape=(None,) dtype=float32>, <tf.Tensor 'IteratorGetNext:138' shape=(None,) dtype=float32>, <tf.Tensor 'IteratorGetNext:139' shape=(None,) dtype=float32>, <tf.Tensor 'IteratorGetNext:140' shape=(None,) dtype=float32>, <tf.Tensor 'IteratorGetNext:141' shape=(None,) dtype=float32>, <tf.Tensor 'IteratorGetNext:142' shape=(None,) dtype=float32>, <tf.Tensor 'IteratorGetNext:143' shape=(None,) dtype=float32>, <tf.Tensor 'IteratorGetNext:144' shape=(None,) dtype=float32>, <tf.Tensor 'IteratorGetNext:145' shape=(None,) dtype=float32>, <tf.Tensor 'IteratorGetNext:146' shape=(None,) dtype=float32>, <tf.Tensor 'IteratorGetNext:147' shape=(None,) dtype=float32>, <tf.Tensor 'IteratorGetNext:148' shape=(None,) dtype=float32>, <tf.Tensor 'IteratorGetNext:149' shape=(None,) dtype=float32>, <tf.Tensor 'IteratorGetNext:150' shape=(None,) dtype=float32>, <tf.Tensor 'IteratorGetNext:151' shape=(None,) dtype=float32>, <tf.Tensor 'IteratorGetNext:152' shape=(None,) dtype=float32>, <tf.Tensor 'IteratorGetNext:153' shape=(None,) dtype=float32>, <tf.Tensor 'IteratorGetNext:154' shape=(None,) dtype=float32>, <tf.Tensor 'IteratorGetNext:155' shape=(None,) dtype=float32>, <tf.Tensor 'IteratorGetNext:156' shape=(None,) dtype=float32>, <tf.Tensor 'IteratorGetNext:157' shape=(None,) dtype=float32>, <tf.Tensor 'IteratorGetNext:158' shape=(None,) dtype=float32>, <tf.Tensor 'IteratorGetNext:159' shape=(None,) dtype=float32>, <tf.Tensor 'IteratorGetNext:160' shape=(None,) dtype=float32>, <tf.Tensor 'IteratorGetNext:161' shape=(None,) dtype=float32>, <tf.Tensor 'IteratorGetNext:162' shape=(None,) dtype=float32>, <tf.Tensor 'IteratorGetNext:163' shape=(None,) dtype=float32>, <tf.Tensor 'IteratorGetNext:164' shape=(None,) dtype=float32>, <tf.Tensor 'IteratorGetNext:165' shape=(None,) dtype=float32>, <tf.Tensor 'IteratorGetNext:166' shape=(None,) dtype=float32>, <tf.Tensor 'IteratorGetNext:167' shape=(None,) dtype=float32>, <tf.Tensor 'IteratorGetNext:168' shape=(None,) dtype=float32>, <tf.Tensor 'IteratorGetNext:169' shape=(None,) dtype=float32>, <tf.Tensor 'IteratorGetNext:170' shape=(None,) dtype=float32>, <tf.Tensor 'IteratorGetNext:171' shape=(None,) dtype=float32>, <tf.Tensor 'IteratorGetNext:172' shape=(None,) dtype=float32>, <tf.Tensor 'IteratorGetNext:173' shape=(None,) dtype=float32>, <tf.Tensor 'IteratorGetNext:174' shape=(None,) dtype=float32>, <tf.Tensor 'IteratorGetNext:175' shape=(None,) dtype=float32>, <tf.Tensor 'IteratorGetNext:176' shape=(None,) dtype=float32>, <tf.Tensor 'IteratorGetNext:177' shape=(None,) dtype=float32>, <tf.Tensor 'IteratorGetNext:178' shape=(None,) dtype=float32>, <tf.Tensor 'IteratorGetNext:179' shape=(None,) dtype=float32>, <tf.Tensor 'IteratorGetNext:180' shape=(None,) dtype=float32>, <tf.Tensor 'IteratorGetNext:181' shape=(None,) dtype=float32>, <tf.Tensor 'IteratorGetNext:182' shape=(None,) dtype=float32>, <tf.Tensor 'IteratorGetNext:183' shape=(None,) dtype=float32>, <tf.Tensor 'IteratorGetNext:184' shape=(None,) dtype=float32>, <tf.Tensor 'IteratorGetNext:185' shape=(None,) dtype=float32>, <tf.Tensor 'IteratorGetNext:186' shape=(None,) dtype=float32>, <tf.Tensor 'IteratorGetNext:187' shape=(None,) dtype=float32>, <tf.Tensor 'IteratorGetNext:188' shape=(None,) dtype=float32>, <tf.Tensor 'IteratorGetNext:189' shape=(None,) dtype=float32>, <tf.Tensor 'IteratorGetNext:190' shape=(None,) dtype=float32>, <tf.Tensor 'IteratorGetNext:191' shape=(None,) dtype=float32>, <tf.Tensor 'IteratorGetNext:192' shape=(None,) dtype=float32>, <tf.Tensor 'IteratorGetNext:193' shape=(None,) dtype=float32>, <tf.Tensor 'IteratorGetNext:194' shape=(None,) dtype=float32>, <tf.Tensor 'IteratorGetNext:195' shape=(None,) dtype=float32>, <tf.Tensor 'IteratorGetNext:196' shape=(None,) dtype=float32>, <tf.Tensor 'IteratorGetNext:197' shape=(None,) dtype=float32>, <tf.Tensor 'IteratorGetNext:198' shape=(None,) dtype=float32>, <tf.Tensor 'IteratorGetNext:199' shape=(None,) dtype=float32>, <tf.Tensor 'IteratorGetNext:200' shape=(None,) dtype=float32>, <tf.Tensor 'IteratorGetNext:201' shape=(None,) dtype=float32>, <tf.Tensor 'IteratorGetNext:202' shape=(None,) dtype=float32>, <tf.Tensor 'IteratorGetNext:203' shape=(None,) dtype=float32>, <tf.Tensor 'IteratorGetNext:204' shape=(None,) dtype=float32>, <tf.Tensor 'IteratorGetNext:205' shape=(None,) dtype=float32>, <tf.Tensor 'IteratorGetNext:206' shape=(None,) dtype=float32>, <tf.Tensor 'IteratorGetNext:207' shape=(None,) dtype=float32>, <tf.Tensor 'IteratorGetNext:208' shape=(None,) dtype=float32>, <tf.Tensor 'IteratorGetNext:209' shape=(None,) dtype=float32>, <tf.Tensor 'IteratorGetNext:210' shape=(None,) dtype=float32>, <tf.Tensor 'IteratorGetNext:211' shape=(None,) dtype=float32>, <tf.Tensor 'IteratorGetNext:212' shape=(None,) dtype=float32>, <tf.Tensor 'IteratorGetNext:213' shape=(None,) dtype=float32>, <tf.Tensor 'IteratorGetNext:214' shape=(None,) dtype=float32>, <tf.Tensor 'IteratorGetNext:215' shape=(None,) dtype=float32>, <tf.Tensor 'IteratorGetNext:216' shape=(None,) dtype=float32>, <tf.Tensor 'IteratorGetNext:217' shape=(None,) dtype=float32>, <tf.Tensor 'IteratorGetNext:218' shape=(None,) dtype=float32>, <tf.Tensor 'IteratorGetNext:219' shape=(None,) dtype=float32>, <tf.Tensor 'IteratorGetNext:220' shape=(None,) dtype=float32>, <tf.Tensor 'IteratorGetNext:221' shape=(None,) dtype=float32>, <tf.Tensor 'IteratorGetNext:222' shape=(None,) dtype=float32>, <tf.Tensor 'IteratorGetNext:223' shape=(None,) dtype=float32>, <tf.Tensor 'IteratorGetNext:224' shape=(None,) dtype=float32>, <tf.Tensor 'IteratorGetNext:225' shape=(None,) dtype=float32>, <tf.Tensor 'IteratorGetNext:226' shape=(None,) dtype=float32>, <tf.Tensor 'IteratorGetNext:227' shape=(None,) dtype=float32>, <tf.Tensor 'IteratorGetNext:228' shape=(None,) dtype=float32>, <tf.Tensor 'IteratorGetNext:229' shape=(None,) dtype=float32>, <tf.Tensor 'IteratorGetNext:230' shape=(None,) dtype=float32>, <tf.Tensor 'IteratorGetNext:231' shape=(None,) dtype=float32>, <tf.Tensor 'IteratorGetNext:232' shape=(None,) dtype=float32>, <tf.Tensor 'IteratorGetNext:233' shape=(None,) dtype=float32>, <tf.Tensor 'IteratorGetNext:234' shape=(None,) dtype=float32>, <tf.Tensor 'IteratorGetNext:235' shape=(None,) dtype=float32>, <tf.Tensor 'IteratorGetNext:236' shape=(None,) dtype=float32>, <tf.Tensor 'IteratorGetNext:237' shape=(None,) dtype=float32>, <tf.Tensor 'IteratorGetNext:238' shape=(None,) dtype=float32>, <tf.Tensor 'IteratorGetNext:239' shape=(None,) dtype=float32>, <tf.Tensor 'IteratorGetNext:240' shape=(None,) dtype=float32>, <tf.Tensor 'IteratorGetNext:241' shape=(None,) dtype=float32>, <tf.Tensor 'IteratorGetNext:242' shape=(None,) dtype=float32>, <tf.Tensor 'IteratorGetNext:243' shape=(None,) dtype=float32>, <tf.Tensor 'IteratorGetNext:244' shape=(None,) dtype=float32>, <tf.Tensor 'IteratorGetNext:245' shape=(None,) dtype=float32>, <tf.Tensor 'IteratorGetNext:246' shape=(None,) dtype=float32>, <tf.Tensor 'IteratorGetNext:247' shape=(None,) dtype=float32>, <tf.Tensor 'IteratorGetNext:248' shape=(None,) dtype=float32>, <tf.Tensor 'IteratorGetNext:249' shape=(None,) dtype=float32>, <tf.Tensor 'IteratorGetNext:250' shape=(None,) dtype=float32>, <tf.Tensor 'IteratorGetNext:251' shape=(None,) dtype=float32>, <tf.Tensor 'IteratorGetNext:252' shape=(None,) dtype=float32>, <tf.Tensor 'IteratorGetNext:253' shape=(None,) dtype=float32>, <tf.Tensor 'IteratorGetNext:254' shape=(None,) dtype=float32>, <tf.Tensor 'IteratorGetNext:255' shape=(None,) dtype=float32>, <tf.Tensor 'IteratorGetNext:256' shape=(None,) dtype=float32>, <tf.Tensor 'IteratorGetNext:257' shape=(None,) dtype=float32>, <tf.Tensor 'IteratorGetNext:258' shape=(None,) dtype=float32>, <tf.Tensor 'IteratorGetNext:259' shape=(None,) dtype=float32>, <tf.Tensor 'IteratorGetNext:260' shape=(None,) dtype=float32>, <tf.Tensor 'IteratorGetNext:261' shape=(None,) dtype=float32>, <tf.Tensor 'IteratorGetNext:262' shape=(None,) dtype=float32>, <tf.Tensor 'IteratorGetNext:263' shape=(None,) dtype=float32>, <tf.Tensor 'IteratorGetNext:264' shape=(None,) dtype=float32>, <tf.Tensor 'IteratorGetNext:265' shape=(None,) dtype=float32>, <tf.Tensor 'IteratorGetNext:266' shape=(None,) dtype=float32>, <tf.Tensor 'IteratorGetNext:267' shape=(None,) dtype=float32>, <tf.Tensor 'IteratorGetNext:268' shape=(None,) dtype=float32>, <tf.Tensor 'IteratorGetNext:269' shape=(None,) dtype=float32>, <tf.Tensor 'IteratorGetNext:270' shape=(None,) dtype=float32>, <tf.Tensor 'IteratorGetNext:271' shape=(None,) dtype=float32>, <tf.Tensor 'IteratorGetNext:272' shape=(None,) dtype=float32>, <tf.Tensor 'IteratorGetNext:273' shape=(None,) dtype=float32>, <tf.Tensor 'IteratorGetNext:274' shape=(None,) dtype=float32>, <tf.Tensor 'IteratorGetNext:275' shape=(None,) dtype=float32>, <tf.Tensor 'IteratorGetNext:276' shape=(None,) dtype=float32>, <tf.Tensor 'IteratorGetNext:277' shape=(None,) dtype=float32>, <tf.Tensor 'IteratorGetNext:278' shape=(None,) dtype=float32>, <tf.Tensor 'IteratorGetNext:279' shape=(None,) dtype=float32>, <tf.Tensor 'IteratorGetNext:280' shape=(None,) dtype=float32>, <tf.Tensor 'IteratorGetNext:281' shape=(None,) dtype=float32>, <tf.Tensor 'IteratorGetNext:282' shape=(None,) dtype=float32>, <tf.Tensor 'IteratorGetNext:283' shape=(None,) dtype=float32>, <tf.Tensor 'IteratorGetNext:284' shape=(None,) dtype=float32>, <tf.Tensor 'IteratorGetNext:285' shape=(None,) dtype=float32>, <tf.Tensor 'IteratorGetNext:286' shape=(None,) dtype=float32>, <tf.Tensor 'IteratorGetNext:287' shape=(None,) dtype=float32>, <tf.Tensor 'IteratorGetNext:288' shape=(None,) dtype=float32>, <tf.Tensor 'IteratorGetNext:289' shape=(None,) dtype=float32>, <tf.Tensor 'IteratorGetNext:290' shape=(None,) dtype=float32>, <tf.Tensor 'IteratorGetNext:291' shape=(None,) dtype=float32>, <tf.Tensor 'IteratorGetNext:292' shape=(None,) dtype=float32>, <tf.Tensor 'IteratorGetNext:293' shape=(None,) dtype=float32>, <tf.Tensor 'IteratorGetNext:294' shape=(None,) dtype=float32>, <tf.Tensor 'IteratorGetNext:295' shape=(None,) dtype=float32>, <tf.Tensor 'IteratorGetNext:296' shape=(None,) dtype=float32>, <tf.Tensor 'IteratorGetNext:297' shape=(None,) dtype=float32>, <tf.Tensor 'IteratorGetNext:298' shape=(None,) dtype=float32>, <tf.Tensor 'IteratorGetNext:299' shape=(None,) dtype=float32>, <tf.Tensor 'IteratorGetNext:300' shape=(None,) dtype=float32>, <tf.Tensor 'IteratorGetNext:301' shape=(None,) dtype=float32>, <tf.Tensor 'IteratorGetNext:302' shape=(None,) dtype=float32>, <tf.Tensor 'IteratorGetNext:303' shape=(None,) dtype=float32>, <tf.Tensor 'IteratorGetNext:304' shape=(None,) dtype=float32>, <tf.Tensor 'IteratorGetNext:305' shape=(None,) dtype=float32>, <tf.Tensor 'IteratorGetNext:306' shape=(None,) dtype=float32>, <tf.Tensor 'IteratorGetNext:307' shape=(None,) dtype=float32>, <tf.Tensor 'IteratorGetNext:308' shape=(None,) dtype=float32>, <tf.Tensor 'IteratorGetNext:309' shape=(None,) dtype=float32>, <tf.Tensor 'IteratorGetNext:310' shape=(None,) dtype=float32>, <tf.Tensor 'IteratorGetNext:311' shape=(None,) dtype=float32>, <tf.Tensor 'IteratorGetNext:312' shape=(None,) dtype=float32>, <tf.Tensor 'IteratorGetNext:313' shape=(None,) dtype=float32>, <tf.Tensor 'IteratorGetNext:314' shape=(None,) dtype=float32>, <tf.Tensor 'IteratorGetNext:315' shape=(None,) dtype=float32>, <tf.Tensor 'IteratorGetNext:316' shape=(None,) dtype=float32>, <tf.Tensor 'IteratorGetNext:317' shape=(None,) dtype=float32>, <tf.Tensor 'IteratorGetNext:318' shape=(None,) dtype=float32>, <tf.Tensor 'IteratorGetNext:319' shape=(None,) dtype=float32>, <tf.Tensor 'IteratorGetNext:320' shape=(None,) dtype=float32>, <tf.Tensor 'IteratorGetNext:321' shape=(None,) dtype=float32>, <tf.Tensor 'IteratorGetNext:322' shape=(None,) dtype=float32>, <tf.Tensor 'IteratorGetNext:323' shape=(None,) dtype=float32>, <tf.Tensor 'IteratorGetNext:324' shape=(None,) dtype=float32>, <tf.Tensor 'IteratorGetNext:325' shape=(None,) dtype=float32>, <tf.Tensor 'IteratorGetNext:326' shape=(None,) dtype=float32>, <tf.Tensor 'IteratorGetNext:327' shape=(None,) dtype=float32>, <tf.Tensor 'IteratorGetNext:328' shape=(None,) dtype=float32>, <tf.Tensor 'IteratorGetNext:329' shape=(None,) dtype=float32>, <tf.Tensor 'IteratorGetNext:330' shape=(None,) dtype=float32>, <tf.Tensor 'IteratorGetNext:331' shape=(None,) dtype=float32>, <tf.Tensor 'IteratorGetNext:332' shape=(None,) dtype=float32>, <tf.Tensor 'IteratorGetNext:333' shape=(None,) dtype=float32>, <tf.Tensor 'IteratorGetNext:334' shape=(None,) dtype=float32>, <tf.Tensor 'IteratorGetNext:335' shape=(None,) dtype=float32>, <tf.Tensor 'IteratorGetNext:336' shape=(None,) dtype=float32>, <tf.Tensor 'IteratorGetNext:337' shape=(None,) dtype=float32>, <tf.Tensor 'IteratorGetNext:338' shape=(None,) dtype=float32>, <tf.Tensor 'IteratorGetNext:339' shape=(None,) dtype=float32>, <tf.Tensor 'IteratorGetNext:340' shape=(None,) dtype=float32>, <tf.Tensor 'IteratorGetNext:341' shape=(None,) dtype=float32>, <tf.Tensor 'IteratorGetNext:342' shape=(None,) dtype=float32>, <tf.Tensor 'IteratorGetNext:343' shape=(None,) dtype=float32>, <tf.Tensor 'IteratorGetNext:344' shape=(None,) dtype=float32>, <tf.Tensor 'IteratorGetNext:345' shape=(None,) dtype=float32>, <tf.Tensor 'IteratorGetNext:346' shape=(None,) dtype=float32>, <tf.Tensor 'IteratorGetNext:347' shape=(None,) dtype=float32>, <tf.Tensor 'IteratorGetNext:348' shape=(None,) dtype=float32>, <tf.Tensor 'IteratorGetNext:349' shape=(None,) dtype=float32>, <tf.Tensor 'IteratorGetNext:350' shape=(None,) dtype=float32>, <tf.Tensor 'IteratorGetNext:351' shape=(None,) dtype=float32>, <tf.Tensor 'IteratorGetNext:352' shape=(None,) dtype=float32>, <tf.Tensor 'IteratorGetNext:353' shape=(None,) dtype=float32>, <tf.Tensor 'IteratorGetNext:354' shape=(None,) dtype=float32>, <tf.Tensor 'IteratorGetNext:355' shape=(None,) dtype=float32>, <tf.Tensor 'IteratorGetNext:356' shape=(None,) dtype=float32>, <tf.Tensor 'IteratorGetNext:357' shape=(None,) dtype=float32>, <tf.Tensor 'IteratorGetNext:358' shape=(None,) dtype=float32>, <tf.Tensor 'IteratorGetNext:359' shape=(None,) dtype=float32>, <tf.Tensor 'IteratorGetNext:360' shape=(None,) dtype=float32>, <tf.Tensor 'IteratorGetNext:361' shape=(None,) dtype=float32>, <tf.Tensor 'IteratorGetNext:362' shape=(None,) dtype=float32>, <tf.Tensor 'IteratorGetNext:363' shape=(None,) dtype=float32>, <tf.Tensor 'IteratorGetNext:364' shape=(None,) dtype=float32>, <tf.Tensor 'IteratorGetNext:365' shape=(None,) dtype=float32>, <tf.Tensor 'IteratorGetNext:366' shape=(None,) dtype=float32>, <tf.Tensor 'IteratorGetNext:367' shape=(None,) dtype=float32>, <tf.Tensor 'IteratorGetNext:368' shape=(None,) dtype=float32>, <tf.Tensor 'IteratorGetNext:369' shape=(None,) dtype=float32>, <tf.Tensor 'IteratorGetNext:370' shape=(None,) dtype=float32>, <tf.Tensor 'IteratorGetNext:371' shape=(None,) dtype=float32>, <tf.Tensor 'IteratorGetNext:372' shape=(None,) dtype=float32>, <tf.Tensor 'IteratorGetNext:373' shape=(None,) dtype=float32>, <tf.Tensor 'IteratorGetNext:374' shape=(None,) dtype=float32>, <tf.Tensor 'IteratorGetNext:375' shape=(None,) dtype=float32>, <tf.Tensor 'IteratorGetNext:376' shape=(None,) dtype=float32>, <tf.Tensor 'IteratorGetNext:377' shape=(None,) dtype=float32>, <tf.Tensor 'IteratorGetNext:378' shape=(None,) dtype=float32>, <tf.Tensor 'IteratorGetNext:379' shape=(None,) dtype=float32>, <tf.Tensor 'IteratorGetNext:380' shape=(None,) dtype=float32>, <tf.Tensor 'IteratorGetNext:381' shape=(None,) dtype=float32>, <tf.Tensor 'IteratorGetNext:382' shape=(None,) dtype=float32>, <tf.Tensor 'IteratorGetNext:383' shape=(None,) dtype=float32>, <tf.Tensor 'IteratorGetNext:384' shape=(None,) dtype=float32>, <tf.Tensor 'IteratorGetNext:385' shape=(None,) dtype=float32>, <tf.Tensor 'IteratorGetNext:386' shape=(None,) dtype=float32>, <tf.Tensor 'IteratorGetNext:387' shape=(None,) dtype=float32>, <tf.Tensor 'IteratorGetNext:388' shape=(None,) dtype=float32>, <tf.Tensor 'IteratorGetNext:389' shape=(None,) dtype=float32>, <tf.Tensor 'IteratorGetNext:390' shape=(None,) dtype=float32>, <tf.Tensor 'IteratorGetNext:391' shape=(None,) dtype=float32>, <tf.Tensor 'IteratorGetNext:392' shape=(None,) dtype=float32>, <tf.Tensor 'IteratorGetNext:393' shape=(None,) dtype=float32>, <tf.Tensor 'IteratorGetNext:394' shape=(None,) dtype=float32>, <tf.Tensor 'IteratorGetNext:395' shape=(None,) dtype=float32>, <tf.Tensor 'IteratorGetNext:396' shape=(None,) dtype=float32>, <tf.Tensor 'IteratorGetNext:397' shape=(None,) dtype=float32>, <tf.Tensor 'IteratorGetNext:398' shape=(None,) dtype=float32>, <tf.Tensor 'IteratorGetNext:399' shape=(None,) dtype=float32>, <tf.Tensor 'IteratorGetNext:400' shape=(None,) dtype=float32>, <tf.Tensor 'IteratorGetNext:401' shape=(None,) dtype=float32>, <tf.Tensor 'IteratorGetNext:402' shape=(None,) dtype=float32>, <tf.Tensor 'IteratorGetNext:403' shape=(None,) dtype=float32>, <tf.Tensor 'IteratorGetNext:404' shape=(None,) dtype=float32>, <tf.Tensor 'IteratorGetNext:405' shape=(None,) dtype=float32>, <tf.Tensor 'IteratorGetNext:406' shape=(None,) dtype=float32>, <tf.Tensor 'IteratorGetNext:407' shape=(None,) dtype=float32>, <tf.Tensor 'IteratorGetNext:408' shape=(None,) dtype=float32>, <tf.Tensor 'IteratorGetNext:409' shape=(None,) dtype=float32>, <tf.Tensor 'IteratorGetNext:410' shape=(None,) dtype=float32>, <tf.Tensor 'IteratorGetNext:411' shape=(None,) dtype=float32>, <tf.Tensor 'IteratorGetNext:412' shape=(None,) dtype=float32>, <tf.Tensor 'IteratorGetNext:413' shape=(None,) dtype=float32>, <tf.Tensor 'IteratorGetNext:414' shape=(None,) dtype=float32>, <tf.Tensor 'IteratorGetNext:415' shape=(None,) dtype=float32>, <tf.Tensor 'IteratorGetNext:416' shape=(None,) dtype=float32>, <tf.Tensor 'IteratorGetNext:417' shape=(None,) dtype=float32>, <tf.Tensor 'IteratorGetNext:418' shape=(None,) dtype=float32>, <tf.Tensor 'IteratorGetNext:419' shape=(None,) dtype=float32>, <tf.Tensor 'IteratorGetNext:420' shape=(None,) dtype=float32>, <tf.Tensor 'IteratorGetNext:421' shape=(None,) dtype=float32>, <tf.Tensor 'IteratorGetNext:422' shape=(None,) dtype=float32>, <tf.Tensor 'IteratorGetNext:423' shape=(None,) dtype=float32>, <tf.Tensor 'IteratorGetNext:424' shape=(None,) dtype=float32>, <tf.Tensor 'IteratorGetNext:425' shape=(None,) dtype=float32>, <tf.Tensor 'IteratorGetNext:426' shape=(None,) dtype=float32>, <tf.Tensor 'IteratorGetNext:427' shape=(None,) dtype=float32>, <tf.Tensor 'IteratorGetNext:428' shape=(None,) dtype=float32>, <tf.Tensor 'IteratorGetNext:429' shape=(None,) dtype=float32>, <tf.Tensor 'IteratorGetNext:430' shape=(None,) dtype=float32>, <tf.Tensor 'IteratorGetNext:431' shape=(None,) dtype=float32>, <tf.Tensor 'IteratorGetNext:432' shape=(None,) dtype=float32>, <tf.Tensor 'IteratorGetNext:433' shape=(None,) dtype=float32>, <tf.Tensor 'IteratorGetNext:434' shape=(None,) dtype=float32>, <tf.Tensor 'IteratorGetNext:435' shape=(None,) dtype=float32>, <tf.Tensor 'IteratorGetNext:436' shape=(None,) dtype=float32>, <tf.Tensor 'IteratorGetNext:437' shape=(None,) dtype=float32>, <tf.Tensor 'IteratorGetNext:438' shape=(None,) dtype=float32>, <tf.Tensor 'IteratorGetNext:439' shape=(None,) dtype=float32>, <tf.Tensor 'IteratorGetNext:440' shape=(None,) dtype=float32>, <tf.Tensor 'IteratorGetNext:441' shape=(None,) dtype=float32>, <tf.Tensor 'IteratorGetNext:442' shape=(None,) dtype=float32>, <tf.Tensor 'IteratorGetNext:443' shape=(None,) dtype=float32>, <tf.Tensor 'IteratorGetNext:444' shape=(None,) dtype=float32>, <tf.Tensor 'IteratorGetNext:445' shape=(None,) dtype=float32>, <tf.Tensor 'IteratorGetNext:446' shape=(None,) dtype=float32>, <tf.Tensor 'IteratorGetNext:447' shape=(None,) dtype=float32>, <tf.Tensor 'IteratorGetNext:448' shape=(None,) dtype=float32>, <tf.Tensor 'IteratorGetNext:449' shape=(None,) dtype=float32>, <tf.Tensor 'IteratorGetNext:450' shape=(None,) dtype=float32>, <tf.Tensor 'IteratorGetNext:451' shape=(None,) dtype=float32>, <tf.Tensor 'IteratorGetNext:452' shape=(None,) dtype=float32>, <tf.Tensor 'IteratorGetNext:453' shape=(None,) dtype=float32>, <tf.Tensor 'IteratorGetNext:454' shape=(None,) dtype=float32>, <tf.Tensor 'IteratorGetNext:455' shape=(None,) dtype=float32>, <tf.Tensor 'IteratorGetNext:456' shape=(None,) dtype=float32>, <tf.Tensor 'IteratorGetNext:457' shape=(None,) dtype=float32>, <tf.Tensor 'IteratorGetNext:458' shape=(None,) dtype=float32>, <tf.Tensor 'IteratorGetNext:459' shape=(None,) dtype=float32>, <tf.Tensor 'IteratorGetNext:460' shape=(None,) dtype=float32>, <tf.Tensor 'IteratorGetNext:461' shape=(None,) dtype=float32>, <tf.Tensor 'IteratorGetNext:462' shape=(None,) dtype=float32>, <tf.Tensor 'IteratorGetNext:463' shape=(None,) dtype=float32>, <tf.Tensor 'IteratorGetNext:464' shape=(None,) dtype=float32>, <tf.Tensor 'IteratorGetNext:465' shape=(None,) dtype=float32>, <tf.Tensor 'IteratorGetNext:466' shape=(None,) dtype=float32>, <tf.Tensor 'IteratorGetNext:467' shape=(None,) dtype=float32>, <tf.Tensor 'IteratorGetNext:468' shape=(None,) dtype=float32>, <tf.Tensor 'IteratorGetNext:469' shape=(None,) dtype=float32>, <tf.Tensor 'IteratorGetNext:470' shape=(None,) dtype=float32>, <tf.Tensor 'IteratorGetNext:471' shape=(None,) dtype=float32>, <tf.Tensor 'IteratorGetNext:472' shape=(None,) dtype=float32>, <tf.Tensor 'IteratorGetNext:473' shape=(None,) dtype=float32>, <tf.Tensor 'IteratorGetNext:474' shape=(None,) dtype=float32>, <tf.Tensor 'IteratorGetNext:475' shape=(None,) dtype=float32>, <tf.Tensor 'IteratorGetNext:476' shape=(None,) dtype=float32>, <tf.Tensor 'IteratorGetNext:477' shape=(None,) dtype=float32>, <tf.Tensor 'IteratorGetNext:478' shape=(None,) dtype=float32>, <tf.Tensor 'IteratorGetNext:479' shape=(None,) dtype=float32>, <tf.Tensor 'IteratorGetNext:480' shape=(None,) dtype=float32>, <tf.Tensor 'IteratorGetNext:481' shape=(None,) dtype=float32>, <tf.Tensor 'IteratorGetNext:482' shape=(None,) dtype=float32>, <tf.Tensor 'IteratorGetNext:483' shape=(None,) dtype=float32>, <tf.Tensor 'IteratorGetNext:484' shape=(None,) dtype=float32>, <tf.Tensor 'IteratorGetNext:485' shape=(None,) dtype=float32>, <tf.Tensor 'IteratorGetNext:486' shape=(None,) dtype=float32>, <tf.Tensor 'IteratorGetNext:487' shape=(None,) dtype=float32>, <tf.Tensor 'IteratorGetNext:488' shape=(None,) dtype=float32>, <tf.Tensor 'IteratorGetNext:489' shape=(None,) dtype=float32>, <tf.Tensor 'IteratorGetNext:490' shape=(None,) dtype=float32>, <tf.Tensor 'IteratorGetNext:491' shape=(None,) dtype=float32>, <tf.Tensor 'IteratorGetNext:492' shape=(None,) dtype=float32>, <tf.Tensor 'IteratorGetNext:493' shape=(None,) dtype=float32>, <tf.Tensor 'IteratorGetNext:494' shape=(None,) dtype=float32>, <tf.Tensor 'IteratorGetNext:495' shape=(None,) dtype=float32>, <tf.Tensor 'IteratorGetNext:496' shape=(None,) dtype=float32>, <tf.Tensor 'IteratorGetNext:497' shape=(None,) dtype=float32>, <tf.Tensor 'IteratorGetNext:498' shape=(None,) dtype=float32>, <tf.Tensor 'IteratorGetNext:499' shape=(None,) dtype=float32>]\n",
     "output_type": "error",
     "traceback": [
      "\u001b[1;31m---------------------------------------------------------------------------\u001b[0m",
      "\u001b[1;31mValueError\u001b[0m                                Traceback (most recent call last)",
      "\u001b[1;32mc:\\Users\\tlsdm\\OneDrive\\바탕 화면\\신의영\\프로젝트 1 자료\\코딩\\일_LSTM.ipynb 셀 10\u001b[0m in \u001b[0;36m<cell line: 16>\u001b[1;34m()\u001b[0m\n\u001b[0;32m     <a href='vscode-notebook-cell:/c%3A/Users/tlsdm/OneDrive/%EB%B0%94%ED%83%95%20%ED%99%94%EB%A9%B4/%EC%8B%A0%EC%9D%98%EC%98%81/%ED%94%84%EB%A1%9C%EC%A0%9D%ED%8A%B8%201%20%EC%9E%90%EB%A3%8C/%EC%BD%94%EB%94%A9/%EC%9D%BC_LSTM.ipynb#X36sZmlsZQ%3D%3D?line=11'>12</a>\u001b[0m     x_test\u001b[39m.\u001b[39mappend(input_df[i\u001b[39m-\u001b[39m\u001b[39m60\u001b[39m:i,\u001b[39m0\u001b[39m])\n\u001b[0;32m     <a href='vscode-notebook-cell:/c%3A/Users/tlsdm/OneDrive/%EB%B0%94%ED%83%95%20%ED%99%94%EB%A9%B4/%EC%8B%A0%EC%9D%98%EC%98%81/%ED%94%84%EB%A1%9C%EC%A0%9D%ED%8A%B8%201%20%EC%9E%90%EB%A3%8C/%EC%BD%94%EB%94%A9/%EC%9D%BC_LSTM.ipynb#X36sZmlsZQ%3D%3D?line=14'>15</a>\u001b[0m \u001b[39m# x_test를 통해 주가 예측 시행 후 scaler 역적용으로 실제 주가 출력\u001b[39;00m\n\u001b[1;32m---> <a href='vscode-notebook-cell:/c%3A/Users/tlsdm/OneDrive/%EB%B0%94%ED%83%95%20%ED%99%94%EB%A9%B4/%EC%8B%A0%EC%9D%98%EC%98%81/%ED%94%84%EB%A1%9C%EC%A0%9D%ED%8A%B8%201%20%EC%9E%90%EB%A3%8C/%EC%BD%94%EB%94%A9/%EC%9D%BC_LSTM.ipynb#X36sZmlsZQ%3D%3D?line=15'>16</a>\u001b[0m pred \u001b[39m=\u001b[39m lstm_model\u001b[39m.\u001b[39;49mpredict(x_test) \n\u001b[0;32m     <a href='vscode-notebook-cell:/c%3A/Users/tlsdm/OneDrive/%EB%B0%94%ED%83%95%20%ED%99%94%EB%A9%B4/%EC%8B%A0%EC%9D%98%EC%98%81/%ED%94%84%EB%A1%9C%EC%A0%9D%ED%8A%B8%201%20%EC%9E%90%EB%A3%8C/%EC%BD%94%EB%94%A9/%EC%9D%BC_LSTM.ipynb#X36sZmlsZQ%3D%3D?line=16'>17</a>\u001b[0m pred \u001b[39m=\u001b[39m scaler\u001b[39m.\u001b[39minverse_transform(pred)\n",
      "File \u001b[1;32mc:\\Users\\tlsdm\\AppData\\Local\\Programs\\Python\\Python310\\lib\\site-packages\\keras\\utils\\traceback_utils.py:67\u001b[0m, in \u001b[0;36mfilter_traceback.<locals>.error_handler\u001b[1;34m(*args, **kwargs)\u001b[0m\n\u001b[0;32m     65\u001b[0m \u001b[39mexcept\u001b[39;00m \u001b[39mException\u001b[39;00m \u001b[39mas\u001b[39;00m e:  \u001b[39m# pylint: disable=broad-except\u001b[39;00m\n\u001b[0;32m     66\u001b[0m   filtered_tb \u001b[39m=\u001b[39m _process_traceback_frames(e\u001b[39m.\u001b[39m__traceback__)\n\u001b[1;32m---> 67\u001b[0m   \u001b[39mraise\u001b[39;00m e\u001b[39m.\u001b[39mwith_traceback(filtered_tb) \u001b[39mfrom\u001b[39;00m \u001b[39mNone\u001b[39m\n\u001b[0;32m     68\u001b[0m \u001b[39mfinally\u001b[39;00m:\n\u001b[0;32m     69\u001b[0m   \u001b[39mdel\u001b[39;00m filtered_tb\n",
      "File \u001b[1;32mC:\\Users\\Public\\Documents\\ESTsoft\\CreatorTemp\\__autograph_generated_filejqqzffws.py:15\u001b[0m, in \u001b[0;36mouter_factory.<locals>.inner_factory.<locals>.tf__predict_function\u001b[1;34m(iterator)\u001b[0m\n\u001b[0;32m     13\u001b[0m \u001b[39mtry\u001b[39;00m:\n\u001b[0;32m     14\u001b[0m     do_return \u001b[39m=\u001b[39m \u001b[39mTrue\u001b[39;00m\n\u001b[1;32m---> 15\u001b[0m     retval_ \u001b[39m=\u001b[39m ag__\u001b[39m.\u001b[39mconverted_call(ag__\u001b[39m.\u001b[39mld(step_function), (ag__\u001b[39m.\u001b[39mld(\u001b[39mself\u001b[39m), ag__\u001b[39m.\u001b[39mld(iterator)), \u001b[39mNone\u001b[39;00m, fscope)\n\u001b[0;32m     16\u001b[0m \u001b[39mexcept\u001b[39;00m:\n\u001b[0;32m     17\u001b[0m     do_return \u001b[39m=\u001b[39m \u001b[39mFalse\u001b[39;00m\n",
      "\u001b[1;31mValueError\u001b[0m: in user code:\n\n    File \"c:\\Users\\tlsdm\\AppData\\Local\\Programs\\Python\\Python310\\lib\\site-packages\\keras\\engine\\training.py\", line 1845, in predict_function  *\n        return step_function(self, iterator)\n    File \"c:\\Users\\tlsdm\\AppData\\Local\\Programs\\Python\\Python310\\lib\\site-packages\\keras\\engine\\training.py\", line 1834, in step_function  **\n        outputs = model.distribute_strategy.run(run_step, args=(data,))\n    File \"c:\\Users\\tlsdm\\AppData\\Local\\Programs\\Python\\Python310\\lib\\site-packages\\keras\\engine\\training.py\", line 1823, in run_step  **\n        outputs = model.predict_step(data)\n    File \"c:\\Users\\tlsdm\\AppData\\Local\\Programs\\Python\\Python310\\lib\\site-packages\\keras\\engine\\training.py\", line 1791, in predict_step\n        return self(x, training=False)\n    File \"c:\\Users\\tlsdm\\AppData\\Local\\Programs\\Python\\Python310\\lib\\site-packages\\keras\\utils\\traceback_utils.py\", line 67, in error_handler\n        raise e.with_traceback(filtered_tb) from None\n    File \"c:\\Users\\tlsdm\\AppData\\Local\\Programs\\Python\\Python310\\lib\\site-packages\\keras\\engine\\input_spec.py\", line 200, in assert_input_compatibility\n        raise ValueError(f'Layer \"{layer_name}\" expects {len(input_spec)} input(s),'\n\n    ValueError: Layer \"sequential_1\" expects 1 input(s), but it received 500 input tensors. Inputs received: [<tf.Tensor 'IteratorGetNext:0' shape=(None,) dtype=float32>, <tf.Tensor 'IteratorGetNext:1' shape=(None,) dtype=float32>, <tf.Tensor 'IteratorGetNext:2' shape=(None,) dtype=float32>, <tf.Tensor 'IteratorGetNext:3' shape=(None,) dtype=float32>, <tf.Tensor 'IteratorGetNext:4' shape=(None,) dtype=float32>, <tf.Tensor 'IteratorGetNext:5' shape=(None,) dtype=float32>, <tf.Tensor 'IteratorGetNext:6' shape=(None,) dtype=float32>, <tf.Tensor 'IteratorGetNext:7' shape=(None,) dtype=float32>, <tf.Tensor 'IteratorGetNext:8' shape=(None,) dtype=float32>, <tf.Tensor 'IteratorGetNext:9' shape=(None,) dtype=float32>, <tf.Tensor 'IteratorGetNext:10' shape=(None,) dtype=float32>, <tf.Tensor 'IteratorGetNext:11' shape=(None,) dtype=float32>, <tf.Tensor 'IteratorGetNext:12' shape=(None,) dtype=float32>, <tf.Tensor 'IteratorGetNext:13' shape=(None,) dtype=float32>, <tf.Tensor 'IteratorGetNext:14' shape=(None,) dtype=float32>, <tf.Tensor 'IteratorGetNext:15' shape=(None,) dtype=float32>, <tf.Tensor 'IteratorGetNext:16' shape=(None,) dtype=float32>, <tf.Tensor 'IteratorGetNext:17' shape=(None,) dtype=float32>, <tf.Tensor 'IteratorGetNext:18' shape=(None,) dtype=float32>, <tf.Tensor 'IteratorGetNext:19' shape=(None,) dtype=float32>, <tf.Tensor 'IteratorGetNext:20' shape=(None,) dtype=float32>, <tf.Tensor 'IteratorGetNext:21' shape=(None,) dtype=float32>, <tf.Tensor 'IteratorGetNext:22' shape=(None,) dtype=float32>, <tf.Tensor 'IteratorGetNext:23' shape=(None,) dtype=float32>, <tf.Tensor 'IteratorGetNext:24' shape=(None,) dtype=float32>, <tf.Tensor 'IteratorGetNext:25' shape=(None,) dtype=float32>, <tf.Tensor 'IteratorGetNext:26' shape=(None,) dtype=float32>, <tf.Tensor 'IteratorGetNext:27' shape=(None,) dtype=float32>, <tf.Tensor 'IteratorGetNext:28' shape=(None,) dtype=float32>, <tf.Tensor 'IteratorGetNext:29' shape=(None,) dtype=float32>, <tf.Tensor 'IteratorGetNext:30' shape=(None,) dtype=float32>, <tf.Tensor 'IteratorGetNext:31' shape=(None,) dtype=float32>, <tf.Tensor 'IteratorGetNext:32' shape=(None,) dtype=float32>, <tf.Tensor 'IteratorGetNext:33' shape=(None,) dtype=float32>, <tf.Tensor 'IteratorGetNext:34' shape=(None,) dtype=float32>, <tf.Tensor 'IteratorGetNext:35' shape=(None,) dtype=float32>, <tf.Tensor 'IteratorGetNext:36' shape=(None,) dtype=float32>, <tf.Tensor 'IteratorGetNext:37' shape=(None,) dtype=float32>, <tf.Tensor 'IteratorGetNext:38' shape=(None,) dtype=float32>, <tf.Tensor 'IteratorGetNext:39' shape=(None,) dtype=float32>, <tf.Tensor 'IteratorGetNext:40' shape=(None,) dtype=float32>, <tf.Tensor 'IteratorGetNext:41' shape=(None,) dtype=float32>, <tf.Tensor 'IteratorGetNext:42' shape=(None,) dtype=float32>, <tf.Tensor 'IteratorGetNext:43' shape=(None,) dtype=float32>, <tf.Tensor 'IteratorGetNext:44' shape=(None,) dtype=float32>, <tf.Tensor 'IteratorGetNext:45' shape=(None,) dtype=float32>, <tf.Tensor 'IteratorGetNext:46' shape=(None,) dtype=float32>, <tf.Tensor 'IteratorGetNext:47' shape=(None,) dtype=float32>, <tf.Tensor 'IteratorGetNext:48' shape=(None,) dtype=float32>, <tf.Tensor 'IteratorGetNext:49' shape=(None,) dtype=float32>, <tf.Tensor 'IteratorGetNext:50' shape=(None,) dtype=float32>, <tf.Tensor 'IteratorGetNext:51' shape=(None,) dtype=float32>, <tf.Tensor 'IteratorGetNext:52' shape=(None,) dtype=float32>, <tf.Tensor 'IteratorGetNext:53' shape=(None,) dtype=float32>, <tf.Tensor 'IteratorGetNext:54' shape=(None,) dtype=float32>, <tf.Tensor 'IteratorGetNext:55' shape=(None,) dtype=float32>, <tf.Tensor 'IteratorGetNext:56' shape=(None,) dtype=float32>, <tf.Tensor 'IteratorGetNext:57' shape=(None,) dtype=float32>, <tf.Tensor 'IteratorGetNext:58' shape=(None,) dtype=float32>, <tf.Tensor 'IteratorGetNext:59' shape=(None,) dtype=float32>, <tf.Tensor 'IteratorGetNext:60' shape=(None,) dtype=float32>, <tf.Tensor 'IteratorGetNext:61' shape=(None,) dtype=float32>, <tf.Tensor 'IteratorGetNext:62' shape=(None,) dtype=float32>, <tf.Tensor 'IteratorGetNext:63' shape=(None,) dtype=float32>, <tf.Tensor 'IteratorGetNext:64' shape=(None,) dtype=float32>, <tf.Tensor 'IteratorGetNext:65' shape=(None,) dtype=float32>, <tf.Tensor 'IteratorGetNext:66' shape=(None,) dtype=float32>, <tf.Tensor 'IteratorGetNext:67' shape=(None,) dtype=float32>, <tf.Tensor 'IteratorGetNext:68' shape=(None,) dtype=float32>, <tf.Tensor 'IteratorGetNext:69' shape=(None,) dtype=float32>, <tf.Tensor 'IteratorGetNext:70' shape=(None,) dtype=float32>, <tf.Tensor 'IteratorGetNext:71' shape=(None,) dtype=float32>, <tf.Tensor 'IteratorGetNext:72' shape=(None,) dtype=float32>, <tf.Tensor 'IteratorGetNext:73' shape=(None,) dtype=float32>, <tf.Tensor 'IteratorGetNext:74' shape=(None,) dtype=float32>, <tf.Tensor 'IteratorGetNext:75' shape=(None,) dtype=float32>, <tf.Tensor 'IteratorGetNext:76' shape=(None,) dtype=float32>, <tf.Tensor 'IteratorGetNext:77' shape=(None,) dtype=float32>, <tf.Tensor 'IteratorGetNext:78' shape=(None,) dtype=float32>, <tf.Tensor 'IteratorGetNext:79' shape=(None,) dtype=float32>, <tf.Tensor 'IteratorGetNext:80' shape=(None,) dtype=float32>, <tf.Tensor 'IteratorGetNext:81' shape=(None,) dtype=float32>, <tf.Tensor 'IteratorGetNext:82' shape=(None,) dtype=float32>, <tf.Tensor 'IteratorGetNext:83' shape=(None,) dtype=float32>, <tf.Tensor 'IteratorGetNext:84' shape=(None,) dtype=float32>, <tf.Tensor 'IteratorGetNext:85' shape=(None,) dtype=float32>, <tf.Tensor 'IteratorGetNext:86' shape=(None,) dtype=float32>, <tf.Tensor 'IteratorGetNext:87' shape=(None,) dtype=float32>, <tf.Tensor 'IteratorGetNext:88' shape=(None,) dtype=float32>, <tf.Tensor 'IteratorGetNext:89' shape=(None,) dtype=float32>, <tf.Tensor 'IteratorGetNext:90' shape=(None,) dtype=float32>, <tf.Tensor 'IteratorGetNext:91' shape=(None,) dtype=float32>, <tf.Tensor 'IteratorGetNext:92' shape=(None,) dtype=float32>, <tf.Tensor 'IteratorGetNext:93' shape=(None,) dtype=float32>, <tf.Tensor 'IteratorGetNext:94' shape=(None,) dtype=float32>, <tf.Tensor 'IteratorGetNext:95' shape=(None,) dtype=float32>, <tf.Tensor 'IteratorGetNext:96' shape=(None,) dtype=float32>, <tf.Tensor 'IteratorGetNext:97' shape=(None,) dtype=float32>, <tf.Tensor 'IteratorGetNext:98' shape=(None,) dtype=float32>, <tf.Tensor 'IteratorGetNext:99' shape=(None,) dtype=float32>, <tf.Tensor 'IteratorGetNext:100' shape=(None,) dtype=float32>, <tf.Tensor 'IteratorGetNext:101' shape=(None,) dtype=float32>, <tf.Tensor 'IteratorGetNext:102' shape=(None,) dtype=float32>, <tf.Tensor 'IteratorGetNext:103' shape=(None,) dtype=float32>, <tf.Tensor 'IteratorGetNext:104' shape=(None,) dtype=float32>, <tf.Tensor 'IteratorGetNext:105' shape=(None,) dtype=float32>, <tf.Tensor 'IteratorGetNext:106' shape=(None,) dtype=float32>, <tf.Tensor 'IteratorGetNext:107' shape=(None,) dtype=float32>, <tf.Tensor 'IteratorGetNext:108' shape=(None,) dtype=float32>, <tf.Tensor 'IteratorGetNext:109' shape=(None,) dtype=float32>, <tf.Tensor 'IteratorGetNext:110' shape=(None,) dtype=float32>, <tf.Tensor 'IteratorGetNext:111' shape=(None,) dtype=float32>, <tf.Tensor 'IteratorGetNext:112' shape=(None,) dtype=float32>, <tf.Tensor 'IteratorGetNext:113' shape=(None,) dtype=float32>, <tf.Tensor 'IteratorGetNext:114' shape=(None,) dtype=float32>, <tf.Tensor 'IteratorGetNext:115' shape=(None,) dtype=float32>, <tf.Tensor 'IteratorGetNext:116' shape=(None,) dtype=float32>, <tf.Tensor 'IteratorGetNext:117' shape=(None,) dtype=float32>, <tf.Tensor 'IteratorGetNext:118' shape=(None,) dtype=float32>, <tf.Tensor 'IteratorGetNext:119' shape=(None,) dtype=float32>, <tf.Tensor 'IteratorGetNext:120' shape=(None,) dtype=float32>, <tf.Tensor 'IteratorGetNext:121' shape=(None,) dtype=float32>, <tf.Tensor 'IteratorGetNext:122' shape=(None,) dtype=float32>, <tf.Tensor 'IteratorGetNext:123' shape=(None,) dtype=float32>, <tf.Tensor 'IteratorGetNext:124' shape=(None,) dtype=float32>, <tf.Tensor 'IteratorGetNext:125' shape=(None,) dtype=float32>, <tf.Tensor 'IteratorGetNext:126' shape=(None,) dtype=float32>, <tf.Tensor 'IteratorGetNext:127' shape=(None,) dtype=float32>, <tf.Tensor 'IteratorGetNext:128' shape=(None,) dtype=float32>, <tf.Tensor 'IteratorGetNext:129' shape=(None,) dtype=float32>, <tf.Tensor 'IteratorGetNext:130' shape=(None,) dtype=float32>, <tf.Tensor 'IteratorGetNext:131' shape=(None,) dtype=float32>, <tf.Tensor 'IteratorGetNext:132' shape=(None,) dtype=float32>, <tf.Tensor 'IteratorGetNext:133' shape=(None,) dtype=float32>, <tf.Tensor 'IteratorGetNext:134' shape=(None,) dtype=float32>, <tf.Tensor 'IteratorGetNext:135' shape=(None,) dtype=float32>, <tf.Tensor 'IteratorGetNext:136' shape=(None,) dtype=float32>, <tf.Tensor 'IteratorGetNext:137' shape=(None,) dtype=float32>, <tf.Tensor 'IteratorGetNext:138' shape=(None,) dtype=float32>, <tf.Tensor 'IteratorGetNext:139' shape=(None,) dtype=float32>, <tf.Tensor 'IteratorGetNext:140' shape=(None,) dtype=float32>, <tf.Tensor 'IteratorGetNext:141' shape=(None,) dtype=float32>, <tf.Tensor 'IteratorGetNext:142' shape=(None,) dtype=float32>, <tf.Tensor 'IteratorGetNext:143' shape=(None,) dtype=float32>, <tf.Tensor 'IteratorGetNext:144' shape=(None,) dtype=float32>, <tf.Tensor 'IteratorGetNext:145' shape=(None,) dtype=float32>, <tf.Tensor 'IteratorGetNext:146' shape=(None,) dtype=float32>, <tf.Tensor 'IteratorGetNext:147' shape=(None,) dtype=float32>, <tf.Tensor 'IteratorGetNext:148' shape=(None,) dtype=float32>, <tf.Tensor 'IteratorGetNext:149' shape=(None,) dtype=float32>, <tf.Tensor 'IteratorGetNext:150' shape=(None,) dtype=float32>, <tf.Tensor 'IteratorGetNext:151' shape=(None,) dtype=float32>, <tf.Tensor 'IteratorGetNext:152' shape=(None,) dtype=float32>, <tf.Tensor 'IteratorGetNext:153' shape=(None,) dtype=float32>, <tf.Tensor 'IteratorGetNext:154' shape=(None,) dtype=float32>, <tf.Tensor 'IteratorGetNext:155' shape=(None,) dtype=float32>, <tf.Tensor 'IteratorGetNext:156' shape=(None,) dtype=float32>, <tf.Tensor 'IteratorGetNext:157' shape=(None,) dtype=float32>, <tf.Tensor 'IteratorGetNext:158' shape=(None,) dtype=float32>, <tf.Tensor 'IteratorGetNext:159' shape=(None,) dtype=float32>, <tf.Tensor 'IteratorGetNext:160' shape=(None,) dtype=float32>, <tf.Tensor 'IteratorGetNext:161' shape=(None,) dtype=float32>, <tf.Tensor 'IteratorGetNext:162' shape=(None,) dtype=float32>, <tf.Tensor 'IteratorGetNext:163' shape=(None,) dtype=float32>, <tf.Tensor 'IteratorGetNext:164' shape=(None,) dtype=float32>, <tf.Tensor 'IteratorGetNext:165' shape=(None,) dtype=float32>, <tf.Tensor 'IteratorGetNext:166' shape=(None,) dtype=float32>, <tf.Tensor 'IteratorGetNext:167' shape=(None,) dtype=float32>, <tf.Tensor 'IteratorGetNext:168' shape=(None,) dtype=float32>, <tf.Tensor 'IteratorGetNext:169' shape=(None,) dtype=float32>, <tf.Tensor 'IteratorGetNext:170' shape=(None,) dtype=float32>, <tf.Tensor 'IteratorGetNext:171' shape=(None,) dtype=float32>, <tf.Tensor 'IteratorGetNext:172' shape=(None,) dtype=float32>, <tf.Tensor 'IteratorGetNext:173' shape=(None,) dtype=float32>, <tf.Tensor 'IteratorGetNext:174' shape=(None,) dtype=float32>, <tf.Tensor 'IteratorGetNext:175' shape=(None,) dtype=float32>, <tf.Tensor 'IteratorGetNext:176' shape=(None,) dtype=float32>, <tf.Tensor 'IteratorGetNext:177' shape=(None,) dtype=float32>, <tf.Tensor 'IteratorGetNext:178' shape=(None,) dtype=float32>, <tf.Tensor 'IteratorGetNext:179' shape=(None,) dtype=float32>, <tf.Tensor 'IteratorGetNext:180' shape=(None,) dtype=float32>, <tf.Tensor 'IteratorGetNext:181' shape=(None,) dtype=float32>, <tf.Tensor 'IteratorGetNext:182' shape=(None,) dtype=float32>, <tf.Tensor 'IteratorGetNext:183' shape=(None,) dtype=float32>, <tf.Tensor 'IteratorGetNext:184' shape=(None,) dtype=float32>, <tf.Tensor 'IteratorGetNext:185' shape=(None,) dtype=float32>, <tf.Tensor 'IteratorGetNext:186' shape=(None,) dtype=float32>, <tf.Tensor 'IteratorGetNext:187' shape=(None,) dtype=float32>, <tf.Tensor 'IteratorGetNext:188' shape=(None,) dtype=float32>, <tf.Tensor 'IteratorGetNext:189' shape=(None,) dtype=float32>, <tf.Tensor 'IteratorGetNext:190' shape=(None,) dtype=float32>, <tf.Tensor 'IteratorGetNext:191' shape=(None,) dtype=float32>, <tf.Tensor 'IteratorGetNext:192' shape=(None,) dtype=float32>, <tf.Tensor 'IteratorGetNext:193' shape=(None,) dtype=float32>, <tf.Tensor 'IteratorGetNext:194' shape=(None,) dtype=float32>, <tf.Tensor 'IteratorGetNext:195' shape=(None,) dtype=float32>, <tf.Tensor 'IteratorGetNext:196' shape=(None,) dtype=float32>, <tf.Tensor 'IteratorGetNext:197' shape=(None,) dtype=float32>, <tf.Tensor 'IteratorGetNext:198' shape=(None,) dtype=float32>, <tf.Tensor 'IteratorGetNext:199' shape=(None,) dtype=float32>, <tf.Tensor 'IteratorGetNext:200' shape=(None,) dtype=float32>, <tf.Tensor 'IteratorGetNext:201' shape=(None,) dtype=float32>, <tf.Tensor 'IteratorGetNext:202' shape=(None,) dtype=float32>, <tf.Tensor 'IteratorGetNext:203' shape=(None,) dtype=float32>, <tf.Tensor 'IteratorGetNext:204' shape=(None,) dtype=float32>, <tf.Tensor 'IteratorGetNext:205' shape=(None,) dtype=float32>, <tf.Tensor 'IteratorGetNext:206' shape=(None,) dtype=float32>, <tf.Tensor 'IteratorGetNext:207' shape=(None,) dtype=float32>, <tf.Tensor 'IteratorGetNext:208' shape=(None,) dtype=float32>, <tf.Tensor 'IteratorGetNext:209' shape=(None,) dtype=float32>, <tf.Tensor 'IteratorGetNext:210' shape=(None,) dtype=float32>, <tf.Tensor 'IteratorGetNext:211' shape=(None,) dtype=float32>, <tf.Tensor 'IteratorGetNext:212' shape=(None,) dtype=float32>, <tf.Tensor 'IteratorGetNext:213' shape=(None,) dtype=float32>, <tf.Tensor 'IteratorGetNext:214' shape=(None,) dtype=float32>, <tf.Tensor 'IteratorGetNext:215' shape=(None,) dtype=float32>, <tf.Tensor 'IteratorGetNext:216' shape=(None,) dtype=float32>, <tf.Tensor 'IteratorGetNext:217' shape=(None,) dtype=float32>, <tf.Tensor 'IteratorGetNext:218' shape=(None,) dtype=float32>, <tf.Tensor 'IteratorGetNext:219' shape=(None,) dtype=float32>, <tf.Tensor 'IteratorGetNext:220' shape=(None,) dtype=float32>, <tf.Tensor 'IteratorGetNext:221' shape=(None,) dtype=float32>, <tf.Tensor 'IteratorGetNext:222' shape=(None,) dtype=float32>, <tf.Tensor 'IteratorGetNext:223' shape=(None,) dtype=float32>, <tf.Tensor 'IteratorGetNext:224' shape=(None,) dtype=float32>, <tf.Tensor 'IteratorGetNext:225' shape=(None,) dtype=float32>, <tf.Tensor 'IteratorGetNext:226' shape=(None,) dtype=float32>, <tf.Tensor 'IteratorGetNext:227' shape=(None,) dtype=float32>, <tf.Tensor 'IteratorGetNext:228' shape=(None,) dtype=float32>, <tf.Tensor 'IteratorGetNext:229' shape=(None,) dtype=float32>, <tf.Tensor 'IteratorGetNext:230' shape=(None,) dtype=float32>, <tf.Tensor 'IteratorGetNext:231' shape=(None,) dtype=float32>, <tf.Tensor 'IteratorGetNext:232' shape=(None,) dtype=float32>, <tf.Tensor 'IteratorGetNext:233' shape=(None,) dtype=float32>, <tf.Tensor 'IteratorGetNext:234' shape=(None,) dtype=float32>, <tf.Tensor 'IteratorGetNext:235' shape=(None,) dtype=float32>, <tf.Tensor 'IteratorGetNext:236' shape=(None,) dtype=float32>, <tf.Tensor 'IteratorGetNext:237' shape=(None,) dtype=float32>, <tf.Tensor 'IteratorGetNext:238' shape=(None,) dtype=float32>, <tf.Tensor 'IteratorGetNext:239' shape=(None,) dtype=float32>, <tf.Tensor 'IteratorGetNext:240' shape=(None,) dtype=float32>, <tf.Tensor 'IteratorGetNext:241' shape=(None,) dtype=float32>, <tf.Tensor 'IteratorGetNext:242' shape=(None,) dtype=float32>, <tf.Tensor 'IteratorGetNext:243' shape=(None,) dtype=float32>, <tf.Tensor 'IteratorGetNext:244' shape=(None,) dtype=float32>, <tf.Tensor 'IteratorGetNext:245' shape=(None,) dtype=float32>, <tf.Tensor 'IteratorGetNext:246' shape=(None,) dtype=float32>, <tf.Tensor 'IteratorGetNext:247' shape=(None,) dtype=float32>, <tf.Tensor 'IteratorGetNext:248' shape=(None,) dtype=float32>, <tf.Tensor 'IteratorGetNext:249' shape=(None,) dtype=float32>, <tf.Tensor 'IteratorGetNext:250' shape=(None,) dtype=float32>, <tf.Tensor 'IteratorGetNext:251' shape=(None,) dtype=float32>, <tf.Tensor 'IteratorGetNext:252' shape=(None,) dtype=float32>, <tf.Tensor 'IteratorGetNext:253' shape=(None,) dtype=float32>, <tf.Tensor 'IteratorGetNext:254' shape=(None,) dtype=float32>, <tf.Tensor 'IteratorGetNext:255' shape=(None,) dtype=float32>, <tf.Tensor 'IteratorGetNext:256' shape=(None,) dtype=float32>, <tf.Tensor 'IteratorGetNext:257' shape=(None,) dtype=float32>, <tf.Tensor 'IteratorGetNext:258' shape=(None,) dtype=float32>, <tf.Tensor 'IteratorGetNext:259' shape=(None,) dtype=float32>, <tf.Tensor 'IteratorGetNext:260' shape=(None,) dtype=float32>, <tf.Tensor 'IteratorGetNext:261' shape=(None,) dtype=float32>, <tf.Tensor 'IteratorGetNext:262' shape=(None,) dtype=float32>, <tf.Tensor 'IteratorGetNext:263' shape=(None,) dtype=float32>, <tf.Tensor 'IteratorGetNext:264' shape=(None,) dtype=float32>, <tf.Tensor 'IteratorGetNext:265' shape=(None,) dtype=float32>, <tf.Tensor 'IteratorGetNext:266' shape=(None,) dtype=float32>, <tf.Tensor 'IteratorGetNext:267' shape=(None,) dtype=float32>, <tf.Tensor 'IteratorGetNext:268' shape=(None,) dtype=float32>, <tf.Tensor 'IteratorGetNext:269' shape=(None,) dtype=float32>, <tf.Tensor 'IteratorGetNext:270' shape=(None,) dtype=float32>, <tf.Tensor 'IteratorGetNext:271' shape=(None,) dtype=float32>, <tf.Tensor 'IteratorGetNext:272' shape=(None,) dtype=float32>, <tf.Tensor 'IteratorGetNext:273' shape=(None,) dtype=float32>, <tf.Tensor 'IteratorGetNext:274' shape=(None,) dtype=float32>, <tf.Tensor 'IteratorGetNext:275' shape=(None,) dtype=float32>, <tf.Tensor 'IteratorGetNext:276' shape=(None,) dtype=float32>, <tf.Tensor 'IteratorGetNext:277' shape=(None,) dtype=float32>, <tf.Tensor 'IteratorGetNext:278' shape=(None,) dtype=float32>, <tf.Tensor 'IteratorGetNext:279' shape=(None,) dtype=float32>, <tf.Tensor 'IteratorGetNext:280' shape=(None,) dtype=float32>, <tf.Tensor 'IteratorGetNext:281' shape=(None,) dtype=float32>, <tf.Tensor 'IteratorGetNext:282' shape=(None,) dtype=float32>, <tf.Tensor 'IteratorGetNext:283' shape=(None,) dtype=float32>, <tf.Tensor 'IteratorGetNext:284' shape=(None,) dtype=float32>, <tf.Tensor 'IteratorGetNext:285' shape=(None,) dtype=float32>, <tf.Tensor 'IteratorGetNext:286' shape=(None,) dtype=float32>, <tf.Tensor 'IteratorGetNext:287' shape=(None,) dtype=float32>, <tf.Tensor 'IteratorGetNext:288' shape=(None,) dtype=float32>, <tf.Tensor 'IteratorGetNext:289' shape=(None,) dtype=float32>, <tf.Tensor 'IteratorGetNext:290' shape=(None,) dtype=float32>, <tf.Tensor 'IteratorGetNext:291' shape=(None,) dtype=float32>, <tf.Tensor 'IteratorGetNext:292' shape=(None,) dtype=float32>, <tf.Tensor 'IteratorGetNext:293' shape=(None,) dtype=float32>, <tf.Tensor 'IteratorGetNext:294' shape=(None,) dtype=float32>, <tf.Tensor 'IteratorGetNext:295' shape=(None,) dtype=float32>, <tf.Tensor 'IteratorGetNext:296' shape=(None,) dtype=float32>, <tf.Tensor 'IteratorGetNext:297' shape=(None,) dtype=float32>, <tf.Tensor 'IteratorGetNext:298' shape=(None,) dtype=float32>, <tf.Tensor 'IteratorGetNext:299' shape=(None,) dtype=float32>, <tf.Tensor 'IteratorGetNext:300' shape=(None,) dtype=float32>, <tf.Tensor 'IteratorGetNext:301' shape=(None,) dtype=float32>, <tf.Tensor 'IteratorGetNext:302' shape=(None,) dtype=float32>, <tf.Tensor 'IteratorGetNext:303' shape=(None,) dtype=float32>, <tf.Tensor 'IteratorGetNext:304' shape=(None,) dtype=float32>, <tf.Tensor 'IteratorGetNext:305' shape=(None,) dtype=float32>, <tf.Tensor 'IteratorGetNext:306' shape=(None,) dtype=float32>, <tf.Tensor 'IteratorGetNext:307' shape=(None,) dtype=float32>, <tf.Tensor 'IteratorGetNext:308' shape=(None,) dtype=float32>, <tf.Tensor 'IteratorGetNext:309' shape=(None,) dtype=float32>, <tf.Tensor 'IteratorGetNext:310' shape=(None,) dtype=float32>, <tf.Tensor 'IteratorGetNext:311' shape=(None,) dtype=float32>, <tf.Tensor 'IteratorGetNext:312' shape=(None,) dtype=float32>, <tf.Tensor 'IteratorGetNext:313' shape=(None,) dtype=float32>, <tf.Tensor 'IteratorGetNext:314' shape=(None,) dtype=float32>, <tf.Tensor 'IteratorGetNext:315' shape=(None,) dtype=float32>, <tf.Tensor 'IteratorGetNext:316' shape=(None,) dtype=float32>, <tf.Tensor 'IteratorGetNext:317' shape=(None,) dtype=float32>, <tf.Tensor 'IteratorGetNext:318' shape=(None,) dtype=float32>, <tf.Tensor 'IteratorGetNext:319' shape=(None,) dtype=float32>, <tf.Tensor 'IteratorGetNext:320' shape=(None,) dtype=float32>, <tf.Tensor 'IteratorGetNext:321' shape=(None,) dtype=float32>, <tf.Tensor 'IteratorGetNext:322' shape=(None,) dtype=float32>, <tf.Tensor 'IteratorGetNext:323' shape=(None,) dtype=float32>, <tf.Tensor 'IteratorGetNext:324' shape=(None,) dtype=float32>, <tf.Tensor 'IteratorGetNext:325' shape=(None,) dtype=float32>, <tf.Tensor 'IteratorGetNext:326' shape=(None,) dtype=float32>, <tf.Tensor 'IteratorGetNext:327' shape=(None,) dtype=float32>, <tf.Tensor 'IteratorGetNext:328' shape=(None,) dtype=float32>, <tf.Tensor 'IteratorGetNext:329' shape=(None,) dtype=float32>, <tf.Tensor 'IteratorGetNext:330' shape=(None,) dtype=float32>, <tf.Tensor 'IteratorGetNext:331' shape=(None,) dtype=float32>, <tf.Tensor 'IteratorGetNext:332' shape=(None,) dtype=float32>, <tf.Tensor 'IteratorGetNext:333' shape=(None,) dtype=float32>, <tf.Tensor 'IteratorGetNext:334' shape=(None,) dtype=float32>, <tf.Tensor 'IteratorGetNext:335' shape=(None,) dtype=float32>, <tf.Tensor 'IteratorGetNext:336' shape=(None,) dtype=float32>, <tf.Tensor 'IteratorGetNext:337' shape=(None,) dtype=float32>, <tf.Tensor 'IteratorGetNext:338' shape=(None,) dtype=float32>, <tf.Tensor 'IteratorGetNext:339' shape=(None,) dtype=float32>, <tf.Tensor 'IteratorGetNext:340' shape=(None,) dtype=float32>, <tf.Tensor 'IteratorGetNext:341' shape=(None,) dtype=float32>, <tf.Tensor 'IteratorGetNext:342' shape=(None,) dtype=float32>, <tf.Tensor 'IteratorGetNext:343' shape=(None,) dtype=float32>, <tf.Tensor 'IteratorGetNext:344' shape=(None,) dtype=float32>, <tf.Tensor 'IteratorGetNext:345' shape=(None,) dtype=float32>, <tf.Tensor 'IteratorGetNext:346' shape=(None,) dtype=float32>, <tf.Tensor 'IteratorGetNext:347' shape=(None,) dtype=float32>, <tf.Tensor 'IteratorGetNext:348' shape=(None,) dtype=float32>, <tf.Tensor 'IteratorGetNext:349' shape=(None,) dtype=float32>, <tf.Tensor 'IteratorGetNext:350' shape=(None,) dtype=float32>, <tf.Tensor 'IteratorGetNext:351' shape=(None,) dtype=float32>, <tf.Tensor 'IteratorGetNext:352' shape=(None,) dtype=float32>, <tf.Tensor 'IteratorGetNext:353' shape=(None,) dtype=float32>, <tf.Tensor 'IteratorGetNext:354' shape=(None,) dtype=float32>, <tf.Tensor 'IteratorGetNext:355' shape=(None,) dtype=float32>, <tf.Tensor 'IteratorGetNext:356' shape=(None,) dtype=float32>, <tf.Tensor 'IteratorGetNext:357' shape=(None,) dtype=float32>, <tf.Tensor 'IteratorGetNext:358' shape=(None,) dtype=float32>, <tf.Tensor 'IteratorGetNext:359' shape=(None,) dtype=float32>, <tf.Tensor 'IteratorGetNext:360' shape=(None,) dtype=float32>, <tf.Tensor 'IteratorGetNext:361' shape=(None,) dtype=float32>, <tf.Tensor 'IteratorGetNext:362' shape=(None,) dtype=float32>, <tf.Tensor 'IteratorGetNext:363' shape=(None,) dtype=float32>, <tf.Tensor 'IteratorGetNext:364' shape=(None,) dtype=float32>, <tf.Tensor 'IteratorGetNext:365' shape=(None,) dtype=float32>, <tf.Tensor 'IteratorGetNext:366' shape=(None,) dtype=float32>, <tf.Tensor 'IteratorGetNext:367' shape=(None,) dtype=float32>, <tf.Tensor 'IteratorGetNext:368' shape=(None,) dtype=float32>, <tf.Tensor 'IteratorGetNext:369' shape=(None,) dtype=float32>, <tf.Tensor 'IteratorGetNext:370' shape=(None,) dtype=float32>, <tf.Tensor 'IteratorGetNext:371' shape=(None,) dtype=float32>, <tf.Tensor 'IteratorGetNext:372' shape=(None,) dtype=float32>, <tf.Tensor 'IteratorGetNext:373' shape=(None,) dtype=float32>, <tf.Tensor 'IteratorGetNext:374' shape=(None,) dtype=float32>, <tf.Tensor 'IteratorGetNext:375' shape=(None,) dtype=float32>, <tf.Tensor 'IteratorGetNext:376' shape=(None,) dtype=float32>, <tf.Tensor 'IteratorGetNext:377' shape=(None,) dtype=float32>, <tf.Tensor 'IteratorGetNext:378' shape=(None,) dtype=float32>, <tf.Tensor 'IteratorGetNext:379' shape=(None,) dtype=float32>, <tf.Tensor 'IteratorGetNext:380' shape=(None,) dtype=float32>, <tf.Tensor 'IteratorGetNext:381' shape=(None,) dtype=float32>, <tf.Tensor 'IteratorGetNext:382' shape=(None,) dtype=float32>, <tf.Tensor 'IteratorGetNext:383' shape=(None,) dtype=float32>, <tf.Tensor 'IteratorGetNext:384' shape=(None,) dtype=float32>, <tf.Tensor 'IteratorGetNext:385' shape=(None,) dtype=float32>, <tf.Tensor 'IteratorGetNext:386' shape=(None,) dtype=float32>, <tf.Tensor 'IteratorGetNext:387' shape=(None,) dtype=float32>, <tf.Tensor 'IteratorGetNext:388' shape=(None,) dtype=float32>, <tf.Tensor 'IteratorGetNext:389' shape=(None,) dtype=float32>, <tf.Tensor 'IteratorGetNext:390' shape=(None,) dtype=float32>, <tf.Tensor 'IteratorGetNext:391' shape=(None,) dtype=float32>, <tf.Tensor 'IteratorGetNext:392' shape=(None,) dtype=float32>, <tf.Tensor 'IteratorGetNext:393' shape=(None,) dtype=float32>, <tf.Tensor 'IteratorGetNext:394' shape=(None,) dtype=float32>, <tf.Tensor 'IteratorGetNext:395' shape=(None,) dtype=float32>, <tf.Tensor 'IteratorGetNext:396' shape=(None,) dtype=float32>, <tf.Tensor 'IteratorGetNext:397' shape=(None,) dtype=float32>, <tf.Tensor 'IteratorGetNext:398' shape=(None,) dtype=float32>, <tf.Tensor 'IteratorGetNext:399' shape=(None,) dtype=float32>, <tf.Tensor 'IteratorGetNext:400' shape=(None,) dtype=float32>, <tf.Tensor 'IteratorGetNext:401' shape=(None,) dtype=float32>, <tf.Tensor 'IteratorGetNext:402' shape=(None,) dtype=float32>, <tf.Tensor 'IteratorGetNext:403' shape=(None,) dtype=float32>, <tf.Tensor 'IteratorGetNext:404' shape=(None,) dtype=float32>, <tf.Tensor 'IteratorGetNext:405' shape=(None,) dtype=float32>, <tf.Tensor 'IteratorGetNext:406' shape=(None,) dtype=float32>, <tf.Tensor 'IteratorGetNext:407' shape=(None,) dtype=float32>, <tf.Tensor 'IteratorGetNext:408' shape=(None,) dtype=float32>, <tf.Tensor 'IteratorGetNext:409' shape=(None,) dtype=float32>, <tf.Tensor 'IteratorGetNext:410' shape=(None,) dtype=float32>, <tf.Tensor 'IteratorGetNext:411' shape=(None,) dtype=float32>, <tf.Tensor 'IteratorGetNext:412' shape=(None,) dtype=float32>, <tf.Tensor 'IteratorGetNext:413' shape=(None,) dtype=float32>, <tf.Tensor 'IteratorGetNext:414' shape=(None,) dtype=float32>, <tf.Tensor 'IteratorGetNext:415' shape=(None,) dtype=float32>, <tf.Tensor 'IteratorGetNext:416' shape=(None,) dtype=float32>, <tf.Tensor 'IteratorGetNext:417' shape=(None,) dtype=float32>, <tf.Tensor 'IteratorGetNext:418' shape=(None,) dtype=float32>, <tf.Tensor 'IteratorGetNext:419' shape=(None,) dtype=float32>, <tf.Tensor 'IteratorGetNext:420' shape=(None,) dtype=float32>, <tf.Tensor 'IteratorGetNext:421' shape=(None,) dtype=float32>, <tf.Tensor 'IteratorGetNext:422' shape=(None,) dtype=float32>, <tf.Tensor 'IteratorGetNext:423' shape=(None,) dtype=float32>, <tf.Tensor 'IteratorGetNext:424' shape=(None,) dtype=float32>, <tf.Tensor 'IteratorGetNext:425' shape=(None,) dtype=float32>, <tf.Tensor 'IteratorGetNext:426' shape=(None,) dtype=float32>, <tf.Tensor 'IteratorGetNext:427' shape=(None,) dtype=float32>, <tf.Tensor 'IteratorGetNext:428' shape=(None,) dtype=float32>, <tf.Tensor 'IteratorGetNext:429' shape=(None,) dtype=float32>, <tf.Tensor 'IteratorGetNext:430' shape=(None,) dtype=float32>, <tf.Tensor 'IteratorGetNext:431' shape=(None,) dtype=float32>, <tf.Tensor 'IteratorGetNext:432' shape=(None,) dtype=float32>, <tf.Tensor 'IteratorGetNext:433' shape=(None,) dtype=float32>, <tf.Tensor 'IteratorGetNext:434' shape=(None,) dtype=float32>, <tf.Tensor 'IteratorGetNext:435' shape=(None,) dtype=float32>, <tf.Tensor 'IteratorGetNext:436' shape=(None,) dtype=float32>, <tf.Tensor 'IteratorGetNext:437' shape=(None,) dtype=float32>, <tf.Tensor 'IteratorGetNext:438' shape=(None,) dtype=float32>, <tf.Tensor 'IteratorGetNext:439' shape=(None,) dtype=float32>, <tf.Tensor 'IteratorGetNext:440' shape=(None,) dtype=float32>, <tf.Tensor 'IteratorGetNext:441' shape=(None,) dtype=float32>, <tf.Tensor 'IteratorGetNext:442' shape=(None,) dtype=float32>, <tf.Tensor 'IteratorGetNext:443' shape=(None,) dtype=float32>, <tf.Tensor 'IteratorGetNext:444' shape=(None,) dtype=float32>, <tf.Tensor 'IteratorGetNext:445' shape=(None,) dtype=float32>, <tf.Tensor 'IteratorGetNext:446' shape=(None,) dtype=float32>, <tf.Tensor 'IteratorGetNext:447' shape=(None,) dtype=float32>, <tf.Tensor 'IteratorGetNext:448' shape=(None,) dtype=float32>, <tf.Tensor 'IteratorGetNext:449' shape=(None,) dtype=float32>, <tf.Tensor 'IteratorGetNext:450' shape=(None,) dtype=float32>, <tf.Tensor 'IteratorGetNext:451' shape=(None,) dtype=float32>, <tf.Tensor 'IteratorGetNext:452' shape=(None,) dtype=float32>, <tf.Tensor 'IteratorGetNext:453' shape=(None,) dtype=float32>, <tf.Tensor 'IteratorGetNext:454' shape=(None,) dtype=float32>, <tf.Tensor 'IteratorGetNext:455' shape=(None,) dtype=float32>, <tf.Tensor 'IteratorGetNext:456' shape=(None,) dtype=float32>, <tf.Tensor 'IteratorGetNext:457' shape=(None,) dtype=float32>, <tf.Tensor 'IteratorGetNext:458' shape=(None,) dtype=float32>, <tf.Tensor 'IteratorGetNext:459' shape=(None,) dtype=float32>, <tf.Tensor 'IteratorGetNext:460' shape=(None,) dtype=float32>, <tf.Tensor 'IteratorGetNext:461' shape=(None,) dtype=float32>, <tf.Tensor 'IteratorGetNext:462' shape=(None,) dtype=float32>, <tf.Tensor 'IteratorGetNext:463' shape=(None,) dtype=float32>, <tf.Tensor 'IteratorGetNext:464' shape=(None,) dtype=float32>, <tf.Tensor 'IteratorGetNext:465' shape=(None,) dtype=float32>, <tf.Tensor 'IteratorGetNext:466' shape=(None,) dtype=float32>, <tf.Tensor 'IteratorGetNext:467' shape=(None,) dtype=float32>, <tf.Tensor 'IteratorGetNext:468' shape=(None,) dtype=float32>, <tf.Tensor 'IteratorGetNext:469' shape=(None,) dtype=float32>, <tf.Tensor 'IteratorGetNext:470' shape=(None,) dtype=float32>, <tf.Tensor 'IteratorGetNext:471' shape=(None,) dtype=float32>, <tf.Tensor 'IteratorGetNext:472' shape=(None,) dtype=float32>, <tf.Tensor 'IteratorGetNext:473' shape=(None,) dtype=float32>, <tf.Tensor 'IteratorGetNext:474' shape=(None,) dtype=float32>, <tf.Tensor 'IteratorGetNext:475' shape=(None,) dtype=float32>, <tf.Tensor 'IteratorGetNext:476' shape=(None,) dtype=float32>, <tf.Tensor 'IteratorGetNext:477' shape=(None,) dtype=float32>, <tf.Tensor 'IteratorGetNext:478' shape=(None,) dtype=float32>, <tf.Tensor 'IteratorGetNext:479' shape=(None,) dtype=float32>, <tf.Tensor 'IteratorGetNext:480' shape=(None,) dtype=float32>, <tf.Tensor 'IteratorGetNext:481' shape=(None,) dtype=float32>, <tf.Tensor 'IteratorGetNext:482' shape=(None,) dtype=float32>, <tf.Tensor 'IteratorGetNext:483' shape=(None,) dtype=float32>, <tf.Tensor 'IteratorGetNext:484' shape=(None,) dtype=float32>, <tf.Tensor 'IteratorGetNext:485' shape=(None,) dtype=float32>, <tf.Tensor 'IteratorGetNext:486' shape=(None,) dtype=float32>, <tf.Tensor 'IteratorGetNext:487' shape=(None,) dtype=float32>, <tf.Tensor 'IteratorGetNext:488' shape=(None,) dtype=float32>, <tf.Tensor 'IteratorGetNext:489' shape=(None,) dtype=float32>, <tf.Tensor 'IteratorGetNext:490' shape=(None,) dtype=float32>, <tf.Tensor 'IteratorGetNext:491' shape=(None,) dtype=float32>, <tf.Tensor 'IteratorGetNext:492' shape=(None,) dtype=float32>, <tf.Tensor 'IteratorGetNext:493' shape=(None,) dtype=float32>, <tf.Tensor 'IteratorGetNext:494' shape=(None,) dtype=float32>, <tf.Tensor 'IteratorGetNext:495' shape=(None,) dtype=float32>, <tf.Tensor 'IteratorGetNext:496' shape=(None,) dtype=float32>, <tf.Tensor 'IteratorGetNext:497' shape=(None,) dtype=float32>, <tf.Tensor 'IteratorGetNext:498' shape=(None,) dtype=float32>, <tf.Tensor 'IteratorGetNext:499' shape=(None,) dtype=float32>]\n"
     ]
    }
   ],
   "source": [
    "# 입력데이터 지정 (2018년 말 - 60일부터 2019년 말까지 값)\n",
    "input_df = x[len(x) - len(test_df) - 60 : ].values\n",
    "\n",
    "\n",
    "# 스케일러 적용\n",
    "input_df = scaler.transform(input_df)\n",
    "\n",
    "print(input_df.shape)\n",
    "\n",
    "x_test = [] \n",
    "for i in range(60,input_df.shape[0]): \n",
    "    x_test.append(input_df[i-60:i,0])\n",
    "\n",
    "\n",
    "# x_test를 통해 주가 예측 시행 후 scaler 역적용으로 실제 주가 출력\n",
    "pred = lstm_model.predict(x_test) \n",
    "pred = scaler.inverse_transform(pred)"
   ]
  },
  {
   "cell_type": "code",
   "execution_count": 44,
   "metadata": {},
   "outputs": [
    {
     "data": {
      "text/plain": [
       "array([[ 0.0000e+00, -2.0000e-02, -2.0000e-02, -3.3000e+00,  1.2297e+03],\n",
       "       [ 4.0000e+00,  1.0000e-02,  1.0000e-02,  6.1000e+00,  1.2355e+03],\n",
       "       [ 2.0000e+00,  1.0000e-02,  0.0000e+00,  4.4500e+00,  1.2262e+03],\n",
       "       ...,\n",
       "       [ 2.0000e+00, -3.0000e-02, -5.0000e-02, -2.9000e+00,  1.3076e+03],\n",
       "       [ 1.0000e+00,  4.0000e-02,  3.0000e-02,  7.3000e+00,  1.3133e+03],\n",
       "       [-4.0000e+00, -1.3000e-01, -1.2000e-01,  3.5000e-01,  1.2961e+03]])"
      ]
     },
     "execution_count": 44,
     "metadata": {},
     "output_type": "execute_result"
    }
   ],
   "source": [
    "input_df"
   ]
  },
  {
   "cell_type": "markdown",
   "metadata": {},
   "source": [
    "## 시계열 데이터의 데이터셋 분리"
   ]
  },
  {
   "cell_type": "markdown",
   "metadata": {},
   "source": [
    "## LSTM"
   ]
  },
  {
   "cell_type": "code",
   "execution_count": 4,
   "metadata": {},
   "outputs": [],
   "source": [
    "# from tensorflow.keras.models import Sequential\n",
    "# from tensorflow.keras.layers import Dense, Dropout, LSTM\n",
    "# from tensorflow.keras.callbacks import ModelCheckpoint, EarlyStopping\n",
    "# from tensorflow.keras.datasets import mnist \n",
    "# from tensorflow.keras.utils import to_categorical\n",
    "# from sklearn.model_selection import train_test_split\n",
    "\n",
    "# import matplotlib.pyplot as plt\n",
    "# import numpy as np \n",
    "# import tensorflow as tf\n",
    "\n",
    "# tf.random.set_seed(3)\n",
    "\n",
    "# x_train, x_test, y_train, y_test = train_test_split(x_num, y_num, test_size=0.2, random_state=10)"
   ]
  },
  {
   "cell_type": "code",
   "execution_count": 17,
   "metadata": {},
   "outputs": [],
   "source": [
    "from keras.models import Sequential\n",
    "from keras.layers import Dense\n",
    "from keras.callbacks import EarlyStopping, ModelCheckpoint\n",
    "from keras.layers import LSTM\n",
    "\n",
    "model = Sequential()\n",
    "model.add(LSTM(16, \n",
    "               input_shape=(train_feature.shape[1], train_feature.shape[2]), \n",
    "               activation='relu', \n",
    "               return_sequences=False)\n",
    "          )\n",
    "model.add(Dense(1))"
   ]
  },
  {
   "cell_type": "code",
   "execution_count": 24,
   "metadata": {},
   "outputs": [
    {
     "name": "stdout",
     "output_type": "stream",
     "text": [
      "Epoch 1/200\n",
      "95/95 [==============================] - ETA: 0s - loss: 0.1114"
     ]
    },
    {
     "ename": "AttributeError",
     "evalue": "'Sequential' object has no attribute 'format'",
     "output_type": "error",
     "traceback": [
      "\u001b[1;31m---------------------------------------------------------------------------\u001b[0m",
      "\u001b[1;31mAttributeError\u001b[0m                            Traceback (most recent call last)",
      "\u001b[1;32mc:\\Users\\tlsdm\\OneDrive\\바탕 화면\\신의영\\프로젝트 1 자료\\코딩\\일_LSTM.ipynb 셀 11\u001b[0m in \u001b[0;36m<cell line: 6>\u001b[1;34m()\u001b[0m\n\u001b[0;32m      <a href='vscode-notebook-cell:/c%3A/Users/tlsdm/OneDrive/%EB%B0%94%ED%83%95%20%ED%99%94%EB%A9%B4/%EC%8B%A0%EC%9D%98%EC%98%81/%ED%94%84%EB%A1%9C%EC%A0%9D%ED%8A%B8%201%20%EC%9E%90%EB%A3%8C/%EC%BD%94%EB%94%A9/%EC%9D%BC_LSTM.ipynb#X31sZmlsZQ%3D%3D?line=0'>1</a>\u001b[0m model\u001b[39m.\u001b[39mcompile(loss\u001b[39m=\u001b[39m\u001b[39m'\u001b[39m\u001b[39mmean_squared_error\u001b[39m\u001b[39m'\u001b[39m, optimizer\u001b[39m=\u001b[39m\u001b[39m'\u001b[39m\u001b[39madam\u001b[39m\u001b[39m'\u001b[39m)\n\u001b[0;32m      <a href='vscode-notebook-cell:/c%3A/Users/tlsdm/OneDrive/%EB%B0%94%ED%83%95%20%ED%99%94%EB%A9%B4/%EC%8B%A0%EC%9D%98%EC%98%81/%ED%94%84%EB%A1%9C%EC%A0%9D%ED%8A%B8%201%20%EC%9E%90%EB%A3%8C/%EC%BD%94%EB%94%A9/%EC%9D%BC_LSTM.ipynb#X31sZmlsZQ%3D%3D?line=1'>2</a>\u001b[0m \u001b[39m# early_stop = EarlyStopping(monitor='val_loss', patience=5)\u001b[39;00m\n\u001b[0;32m      <a href='vscode-notebook-cell:/c%3A/Users/tlsdm/OneDrive/%EB%B0%94%ED%83%95%20%ED%99%94%EB%A9%B4/%EC%8B%A0%EC%9D%98%EC%98%81/%ED%94%84%EB%A1%9C%EC%A0%9D%ED%8A%B8%201%20%EC%9E%90%EB%A3%8C/%EC%BD%94%EB%94%A9/%EC%9D%BC_LSTM.ipynb#X31sZmlsZQ%3D%3D?line=2'>3</a>\u001b[0m \u001b[39m# filename = path.join(model_path, 'tmp_checkpoint.h5')\u001b[39;00m\n\u001b[0;32m      <a href='vscode-notebook-cell:/c%3A/Users/tlsdm/OneDrive/%EB%B0%94%ED%83%95%20%ED%99%94%EB%A9%B4/%EC%8B%A0%EC%9D%98%EC%98%81/%ED%94%84%EB%A1%9C%EC%A0%9D%ED%8A%B8%201%20%EC%9E%90%EB%A3%8C/%EC%BD%94%EB%94%A9/%EC%9D%BC_LSTM.ipynb#X31sZmlsZQ%3D%3D?line=3'>4</a>\u001b[0m \u001b[39m# checkpoint = ModelCheckpoint(filename, monitor='val_loss', verbose=1, save_best_only=True, mode='auto')\u001b[39;00m\n\u001b[1;32m----> <a href='vscode-notebook-cell:/c%3A/Users/tlsdm/OneDrive/%EB%B0%94%ED%83%95%20%ED%99%94%EB%A9%B4/%EC%8B%A0%EC%9D%98%EC%98%81/%ED%94%84%EB%A1%9C%EC%A0%9D%ED%8A%B8%201%20%EC%9E%90%EB%A3%8C/%EC%BD%94%EB%94%A9/%EC%9D%BC_LSTM.ipynb#X31sZmlsZQ%3D%3D?line=5'>6</a>\u001b[0m history \u001b[39m=\u001b[39m model\u001b[39m.\u001b[39;49mfit(x_train, y_train, \n\u001b[0;32m      <a href='vscode-notebook-cell:/c%3A/Users/tlsdm/OneDrive/%EB%B0%94%ED%83%95%20%ED%99%94%EB%A9%B4/%EC%8B%A0%EC%9D%98%EC%98%81/%ED%94%84%EB%A1%9C%EC%A0%9D%ED%8A%B8%201%20%EC%9E%90%EB%A3%8C/%EC%BD%94%EB%94%A9/%EC%9D%BC_LSTM.ipynb#X31sZmlsZQ%3D%3D?line=6'>7</a>\u001b[0m                     epochs\u001b[39m=\u001b[39;49m\u001b[39m200\u001b[39;49m, \n\u001b[0;32m      <a href='vscode-notebook-cell:/c%3A/Users/tlsdm/OneDrive/%EB%B0%94%ED%83%95%20%ED%99%94%EB%A9%B4/%EC%8B%A0%EC%9D%98%EC%98%81/%ED%94%84%EB%A1%9C%EC%A0%9D%ED%8A%B8%201%20%EC%9E%90%EB%A3%8C/%EC%BD%94%EB%94%A9/%EC%9D%BC_LSTM.ipynb#X31sZmlsZQ%3D%3D?line=7'>8</a>\u001b[0m                     batch_size\u001b[39m=\u001b[39;49m\u001b[39m16\u001b[39;49m,\n\u001b[0;32m      <a href='vscode-notebook-cell:/c%3A/Users/tlsdm/OneDrive/%EB%B0%94%ED%83%95%20%ED%99%94%EB%A9%B4/%EC%8B%A0%EC%9D%98%EC%98%81/%ED%94%84%EB%A1%9C%EC%A0%9D%ED%8A%B8%201%20%EC%9E%90%EB%A3%8C/%EC%BD%94%EB%94%A9/%EC%9D%BC_LSTM.ipynb#X31sZmlsZQ%3D%3D?line=8'>9</a>\u001b[0m                     validation_data\u001b[39m=\u001b[39;49m(x_valid, y_valid), \n\u001b[0;32m     <a href='vscode-notebook-cell:/c%3A/Users/tlsdm/OneDrive/%EB%B0%94%ED%83%95%20%ED%99%94%EB%A9%B4/%EC%8B%A0%EC%9D%98%EC%98%81/%ED%94%84%EB%A1%9C%EC%A0%9D%ED%8A%B8%201%20%EC%9E%90%EB%A3%8C/%EC%BD%94%EB%94%A9/%EC%9D%BC_LSTM.ipynb#X31sZmlsZQ%3D%3D?line=9'>10</a>\u001b[0m                     callbacks\u001b[39m=\u001b[39;49m[early_stop, checkpoint])\n",
      "File \u001b[1;32mc:\\Users\\tlsdm\\AppData\\Local\\Programs\\Python\\Python310\\lib\\site-packages\\keras\\utils\\traceback_utils.py:67\u001b[0m, in \u001b[0;36mfilter_traceback.<locals>.error_handler\u001b[1;34m(*args, **kwargs)\u001b[0m\n\u001b[0;32m     65\u001b[0m \u001b[39mexcept\u001b[39;00m \u001b[39mException\u001b[39;00m \u001b[39mas\u001b[39;00m e:  \u001b[39m# pylint: disable=broad-except\u001b[39;00m\n\u001b[0;32m     66\u001b[0m   filtered_tb \u001b[39m=\u001b[39m _process_traceback_frames(e\u001b[39m.\u001b[39m__traceback__)\n\u001b[1;32m---> 67\u001b[0m   \u001b[39mraise\u001b[39;00m e\u001b[39m.\u001b[39mwith_traceback(filtered_tb) \u001b[39mfrom\u001b[39;00m \u001b[39mNone\u001b[39m\n\u001b[0;32m     68\u001b[0m \u001b[39mfinally\u001b[39;00m:\n\u001b[0;32m     69\u001b[0m   \u001b[39mdel\u001b[39;00m filtered_tb\n",
      "File \u001b[1;32mc:\\Users\\tlsdm\\AppData\\Local\\Programs\\Python\\Python310\\lib\\site-packages\\keras\\callbacks.py:1482\u001b[0m, in \u001b[0;36mModelCheckpoint._get_file_path\u001b[1;34m(self, epoch, batch, logs)\u001b[0m\n\u001b[0;32m   1477\u001b[0m \u001b[39mtry\u001b[39;00m:\n\u001b[0;32m   1478\u001b[0m   \u001b[39m# `filepath` may contain placeholders such as `{epoch:02d}`,`{batch:02d}`\u001b[39;00m\n\u001b[0;32m   1479\u001b[0m   \u001b[39m# and `{mape:.2f}`. A mismatch between logged metrics and the path's\u001b[39;00m\n\u001b[0;32m   1480\u001b[0m   \u001b[39m# placeholders can cause formatting to fail.\u001b[39;00m\n\u001b[0;32m   1481\u001b[0m   \u001b[39mif\u001b[39;00m batch \u001b[39mis\u001b[39;00m \u001b[39mNone\u001b[39;00m \u001b[39mor\u001b[39;00m \u001b[39m'\u001b[39m\u001b[39mbatch\u001b[39m\u001b[39m'\u001b[39m \u001b[39min\u001b[39;00m logs:\n\u001b[1;32m-> 1482\u001b[0m     file_path \u001b[39m=\u001b[39m \u001b[39mself\u001b[39m\u001b[39m.\u001b[39mfilepath\u001b[39m.\u001b[39mformat(epoch\u001b[39m=\u001b[39mepoch \u001b[39m+\u001b[39m \u001b[39m1\u001b[39m, \u001b[39m*\u001b[39m\u001b[39m*\u001b[39mlogs)\n\u001b[0;32m   1483\u001b[0m   \u001b[39melse\u001b[39;00m:\n\u001b[0;32m   1484\u001b[0m     file_path \u001b[39m=\u001b[39m \u001b[39mself\u001b[39m\u001b[39m.\u001b[39mfilepath\u001b[39m.\u001b[39mformat(\n\u001b[0;32m   1485\u001b[0m         epoch\u001b[39m=\u001b[39mepoch \u001b[39m+\u001b[39m \u001b[39m1\u001b[39m, batch\u001b[39m=\u001b[39mbatch \u001b[39m+\u001b[39m \u001b[39m1\u001b[39m, \u001b[39m*\u001b[39m\u001b[39m*\u001b[39mlogs)\n",
      "\u001b[1;31mAttributeError\u001b[0m: 'Sequential' object has no attribute 'format'"
     ]
    }
   ],
   "source": [
    "model.compile(loss='mean_squared_error', optimizer='adam')\n",
    "# early_stop = EarlyStopping(monitor='val_loss', patience=5)\n",
    "# filename = path.join(model_path, 'tmp_checkpoint.h5')\n",
    "# checkpoint = ModelCheckpoint(filename, monitor='val_loss', verbose=1, save_best_only=True, mode='auto')\n",
    "\n",
    "history = model.fit(x_train, y_train, \n",
    "                    epochs=200, \n",
    "                    batch_size=16,\n",
    "                    validation_data=(x_valid, y_valid), \n",
    "                    callbacks=[early_stop, checkpoint])"
   ]
  },
  {
   "cell_type": "code",
   "execution_count": null,
   "metadata": {},
   "outputs": [],
   "source": [
    "df_last=x_scaled.values \n",
    "train_df=df_last[0:2000,:] \n",
    "valid_df=df_last[2000:,:] \n",
    "\n",
    "\n",
    "x_train = [] \n",
    "y_train = []\n",
    "for i in range(60,len(train_df)):\n",
    "    # x_train은 2010.1.4부터 60일 후 데이터를 한 묶음으로 시작하여 마지막 데이터 그룹의 끝이 2018년 기말 데이터가 들어가도록 설정 (총 2158개 그룹이 들어감)\n",
    "    x_train.append(x_scaled[i-60:i,0]) \n",
    "    # y_train은 2010.1.4기준 60일 후 데이터로 시작하여 마지막에 2018년 기말 데이터가 들어가도록 설정\n",
    "    y_train.append(x_scaled[i,0]) "
   ]
  },
  {
   "cell_type": "code",
   "execution_count": 62,
   "metadata": {},
   "outputs": [],
   "source": [
    "x_train_3 = x_train.reshape((x_train.shape[0], x_train.shape[1], 1))\n",
    "x_test_3 = x_test.reshape((x_test.shape[0], x_test.shape[1], 1))\n",
    "# y_train_3 = y_train.reshape((y_train.shape[0], y_train.shape[1], 1))\n",
    "# y_test_3 = y_test.reshape((y_test.shape[0], y_test.shape[1], 1))"
   ]
  },
  {
   "cell_type": "code",
   "execution_count": 63,
   "metadata": {},
   "outputs": [
    {
     "data": {
      "text/plain": [
       "((1967, 5, 1), (492, 5, 1), (1967, 1), (492, 1))"
      ]
     },
     "execution_count": 63,
     "metadata": {},
     "output_type": "execute_result"
    }
   ],
   "source": [
    "x_train_3.shape, x_test_3.shape, y_train.shape, y_test.shape"
   ]
  },
  {
   "cell_type": "code",
   "execution_count": 65,
   "metadata": {},
   "outputs": [],
   "source": [
    "model = Sequential()\n",
    "model.add(LSTM(50, activation = \"relu\", input_shape =(5,1)))\n",
    "model.add(Dense(1))\n",
    "model.compile(loss='mse', optimizer = \"adam\", metrics = ['mae'])"
   ]
  },
  {
   "cell_type": "code",
   "execution_count": 66,
   "metadata": {},
   "outputs": [
    {
     "name": "stdout",
     "output_type": "stream",
     "text": [
      "Model: \"sequential_6\"\n",
      "_________________________________________________________________\n",
      " Layer (type)                Output Shape              Param #   \n",
      "=================================================================\n",
      " lstm_5 (LSTM)               (None, 50)                10400     \n",
      "                                                                 \n",
      " dense_2 (Dense)             (None, 1)                 51        \n",
      "                                                                 \n",
      "=================================================================\n",
      "Total params: 10,451\n",
      "Trainable params: 10,451\n",
      "Non-trainable params: 0\n",
      "_________________________________________________________________\n"
     ]
    }
   ],
   "source": [
    "model.summary()"
   ]
  },
  {
   "cell_type": "code",
   "execution_count": 67,
   "metadata": {},
   "outputs": [
    {
     "name": "stdout",
     "output_type": "stream",
     "text": [
      "Epoch 1/30\n",
      "62/62 [==============================] - 1s 4ms/step - loss: 1288332.3750 - mae: 1133.6685\n",
      "Epoch 2/30\n",
      "62/62 [==============================] - 0s 3ms/step - loss: 950635.5000 - mae: 934.0082\n",
      "Epoch 3/30\n",
      "62/62 [==============================] - 0s 4ms/step - loss: 291770.6562 - mae: 167.3161\n",
      "Epoch 4/30\n",
      "62/62 [==============================] - 0s 3ms/step - loss: 87912.1719 - mae: 91.7115\n",
      "Epoch 5/30\n",
      "62/62 [==============================] - 0s 3ms/step - loss: 50518.0391 - mae: 70.4756\n",
      "Epoch 6/30\n",
      "62/62 [==============================] - 0s 3ms/step - loss: 33308.9023 - mae: 61.1219\n",
      "Epoch 7/30\n",
      "62/62 [==============================] - 0s 3ms/step - loss: 23691.5820 - mae: 56.1160\n",
      "Epoch 8/30\n",
      "62/62 [==============================] - 0s 3ms/step - loss: 18036.2812 - mae: 54.7417\n",
      "Epoch 9/30\n",
      "62/62 [==============================] - 0s 3ms/step - loss: 13888.3418 - mae: 51.2172\n",
      "Epoch 10/30\n",
      "62/62 [==============================] - 0s 3ms/step - loss: 11290.1611 - mae: 50.3609\n",
      "Epoch 11/30\n",
      "62/62 [==============================] - 0s 3ms/step - loss: 9391.4277 - mae: 48.9209\n",
      "Epoch 12/30\n",
      "62/62 [==============================] - 0s 3ms/step - loss: 8075.0034 - mae: 47.9284\n",
      "Epoch 13/30\n",
      "62/62 [==============================] - 0s 3ms/step - loss: 7191.7681 - mae: 47.5012\n",
      "Epoch 14/30\n",
      "62/62 [==============================] - 0s 3ms/step - loss: 6343.0337 - mae: 47.1670\n",
      "Epoch 15/30\n",
      "62/62 [==============================] - 0s 3ms/step - loss: 5748.0410 - mae: 46.6415\n",
      "Epoch 16/30\n",
      "62/62 [==============================] - 0s 3ms/step - loss: 5264.3574 - mae: 46.5865\n",
      "Epoch 17/30\n",
      "62/62 [==============================] - 0s 3ms/step - loss: 4926.2183 - mae: 46.2006\n",
      "Epoch 18/30\n",
      "62/62 [==============================] - 0s 3ms/step - loss: 4680.5449 - mae: 46.3180\n",
      "Epoch 19/30\n",
      "62/62 [==============================] - 0s 3ms/step - loss: 4429.8062 - mae: 45.9724\n",
      "Epoch 20/30\n",
      "62/62 [==============================] - 0s 3ms/step - loss: 4252.3408 - mae: 45.7719\n",
      "Epoch 21/30\n",
      "62/62 [==============================] - 0s 3ms/step - loss: 4090.8469 - mae: 45.6140\n",
      "Epoch 22/30\n",
      "62/62 [==============================] - 0s 3ms/step - loss: 3941.9402 - mae: 45.3412\n",
      "Epoch 23/30\n",
      "62/62 [==============================] - 0s 3ms/step - loss: 3793.8706 - mae: 44.6232\n",
      "Epoch 24/30\n",
      "62/62 [==============================] - 0s 3ms/step - loss: 3709.9714 - mae: 44.7771\n",
      "Epoch 25/30\n",
      "62/62 [==============================] - 0s 3ms/step - loss: 3622.9985 - mae: 44.6317\n",
      "Epoch 26/30\n",
      "62/62 [==============================] - 0s 3ms/step - loss: 3668.2852 - mae: 45.2455\n",
      "Epoch 27/30\n",
      "62/62 [==============================] - 0s 3ms/step - loss: 3584.0630 - mae: 45.1462\n",
      "Epoch 28/30\n",
      "62/62 [==============================] - 0s 3ms/step - loss: 3591.5684 - mae: 45.4659\n",
      "Epoch 29/30\n",
      "62/62 [==============================] - 0s 3ms/step - loss: 3520.7825 - mae: 45.1018\n",
      "Epoch 30/30\n",
      "62/62 [==============================] - 0s 3ms/step - loss: 3488.3943 - mae: 45.1939\n"
     ]
    }
   ],
   "source": [
    "history = model.fit(x_train_3, y_train, epochs=30)"
   ]
  },
  {
   "cell_type": "code",
   "execution_count": null,
   "metadata": {},
   "outputs": [],
   "source": []
  },
  {
   "cell_type": "markdown",
   "metadata": {},
   "source": [
    "## LSTM2"
   ]
  },
  {
   "cell_type": "code",
   "execution_count": 73,
   "metadata": {},
   "outputs": [],
   "source": [
    "from tensorflow.keras.models import Sequential\n",
    "from tensorflow.keras.layers import Dense, Dropout, LSTM\n",
    "from tensorflow.keras.callbacks import ModelCheckpoint, EarlyStopping\n",
    "from tensorflow.keras.datasets import mnist \n",
    "from tensorflow.keras.utils import to_categorical\n",
    "from sklearn.model_selection import train_test_split\n",
    "\n",
    "tf.random.set_seed(3)\n",
    "\n",
    "x_train, x_test, y_train, y_test = train_test_split(x_num, y_num, test_size=0.2, random_state=10)"
   ]
  },
  {
   "cell_type": "code",
   "execution_count": null,
   "metadata": {},
   "outputs": [],
   "source": []
  }
 ],
 "metadata": {
  "kernelspec": {
   "display_name": "Python 3.10.0 64-bit",
   "language": "python",
   "name": "python3"
  },
  "language_info": {
   "codemirror_mode": {
    "name": "ipython",
    "version": 3
   },
   "file_extension": ".py",
   "mimetype": "text/x-python",
   "name": "python",
   "nbconvert_exporter": "python",
   "pygments_lexer": "ipython3",
   "version": "3.10.0"
  },
  "orig_nbformat": 4,
  "vscode": {
   "interpreter": {
    "hash": "a073e8c3e7241d11bd26aeacf78abcb385fecb9ce1a8fb10ee8efd278424d43e"
   }
  }
 },
 "nbformat": 4,
 "nbformat_minor": 2
}
