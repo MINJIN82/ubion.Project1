{
 "cells": [
  {
   "cell_type": "code",
   "execution_count": 1,
   "metadata": {},
   "outputs": [],
   "source": [
    "import pandas as pd\n",
    "import numpy as np\n",
    "df = pd.read_excel(\"../데이터자료/join_data.xlsx\")\n",
    "df.columns\n",
    "df = df[[\"DateTime\", \"종가_ex\",'1Y_Mid_irs','10Y_Mid_irs','1Y_Mid_crs','국고1년','통안364일' ,'Mid_ndf','M1_스왑포인트']]\n",
    "df[\"M1_스왑포인트\"] = df[\"M1_스왑포인트\"]/100\n",
    "df.head()\n",
    "df = df.set_index(\"DateTime\")"
   ]
  },
  {
   "cell_type": "code",
   "execution_count": 1,
   "metadata": {},
   "outputs": [
    {
     "ename": "NameError",
     "evalue": "name 'df' is not defined",
     "output_type": "error",
     "traceback": [
      "\u001b[1;31m---------------------------------------------------------------------------\u001b[0m",
      "\u001b[1;31mNameError\u001b[0m                                 Traceback (most recent call last)",
      "\u001b[1;32mc:\\Users\\tlsdm\\OneDrive\\바탕 화면\\신의영\\프로젝트 1 자료\\코딩\\회귀분석(CRS)MINMAX대비기준.ipynb 셀 2\u001b[0m in \u001b[0;36m<cell line: 1>\u001b[1;34m()\u001b[0m\n\u001b[1;32m----> <a href='vscode-notebook-cell:/c%3A/Users/tlsdm/OneDrive/%EB%B0%94%ED%83%95%20%ED%99%94%EB%A9%B4/%EC%8B%A0%EC%9D%98%EC%98%81/%ED%94%84%EB%A1%9C%EC%A0%9D%ED%8A%B8%201%20%EC%9E%90%EB%A3%8C/%EC%BD%94%EB%94%A9/%ED%9A%8C%EA%B7%80%EB%B6%84%EC%84%9D%28CRS%29MINMAX%EB%8C%80%EB%B9%84%EA%B8%B0%EC%A4%80.ipynb#W1sZmlsZQ%3D%3D?line=0'>1</a>\u001b[0m df[\u001b[39m\"\u001b[39m\u001b[39m1Y_Mid_irs대비\u001b[39m\u001b[39m\"\u001b[39m] \u001b[39m=\u001b[39mdf[\u001b[39m\"\u001b[39m\u001b[39m1Y_Mid_irs\u001b[39m\u001b[39m\"\u001b[39m]\u001b[39m-\u001b[39mdf[\u001b[39m\"\u001b[39m\u001b[39m1Y_Mid_irs\u001b[39m\u001b[39m\"\u001b[39m]\u001b[39m.\u001b[39mshift(\u001b[39m1\u001b[39m)\n\u001b[0;32m      <a href='vscode-notebook-cell:/c%3A/Users/tlsdm/OneDrive/%EB%B0%94%ED%83%95%20%ED%99%94%EB%A9%B4/%EC%8B%A0%EC%9D%98%EC%98%81/%ED%94%84%EB%A1%9C%EC%A0%9D%ED%8A%B8%201%20%EC%9E%90%EB%A3%8C/%EC%BD%94%EB%94%A9/%ED%9A%8C%EA%B7%80%EB%B6%84%EC%84%9D%28CRS%29MINMAX%EB%8C%80%EB%B9%84%EA%B8%B0%EC%A4%80.ipynb#W1sZmlsZQ%3D%3D?line=1'>2</a>\u001b[0m df[\u001b[39m\"\u001b[39m\u001b[39m10Y_Mid_irs대비\u001b[39m\u001b[39m\"\u001b[39m] \u001b[39m=\u001b[39mdf[\u001b[39m\"\u001b[39m\u001b[39m10Y_Mid_irs\u001b[39m\u001b[39m\"\u001b[39m]\u001b[39m-\u001b[39mdf[\u001b[39m\"\u001b[39m\u001b[39m10Y_Mid_irs\u001b[39m\u001b[39m\"\u001b[39m]\u001b[39m.\u001b[39mshift(\u001b[39m1\u001b[39m)\n\u001b[0;32m      <a href='vscode-notebook-cell:/c%3A/Users/tlsdm/OneDrive/%EB%B0%94%ED%83%95%20%ED%99%94%EB%A9%B4/%EC%8B%A0%EC%9D%98%EC%98%81/%ED%94%84%EB%A1%9C%EC%A0%9D%ED%8A%B8%201%20%EC%9E%90%EB%A3%8C/%EC%BD%94%EB%94%A9/%ED%9A%8C%EA%B7%80%EB%B6%84%EC%84%9D%28CRS%29MINMAX%EB%8C%80%EB%B9%84%EA%B8%B0%EC%A4%80.ipynb#W1sZmlsZQ%3D%3D?line=2'>3</a>\u001b[0m df[\u001b[39m\"\u001b[39m\u001b[39m1Y_Mid_crs대비\u001b[39m\u001b[39m\"\u001b[39m] \u001b[39m=\u001b[39mdf[\u001b[39m\"\u001b[39m\u001b[39m1Y_Mid_crs\u001b[39m\u001b[39m\"\u001b[39m]\u001b[39m-\u001b[39mdf[\u001b[39m\"\u001b[39m\u001b[39m1Y_Mid_crs\u001b[39m\u001b[39m\"\u001b[39m]\u001b[39m.\u001b[39mshift(\u001b[39m1\u001b[39m)\n",
      "\u001b[1;31mNameError\u001b[0m: name 'df' is not defined"
     ]
    }
   ],
   "source": [
    "df[\"1Y_Mid_irs대비\"] =df[\"1Y_Mid_irs\"]-df[\"1Y_Mid_irs\"].shift(1)\n",
    "df[\"10Y_Mid_irs대비\"] =df[\"10Y_Mid_irs\"]-df[\"10Y_Mid_irs\"].shift(1)\n",
    "df[\"1Y_Mid_crs대비\"] =df[\"1Y_Mid_crs\"]-df[\"1Y_Mid_crs\"].shift(1)\n",
    "df[\"국고1년대비\"] =df[\"국고1년\"]-df[\"국고1년\"].shift(1)\n",
    "df[\"통안364일대비\"] = df[\"통안364일\"] - df[\"통안364일\"].shift(1)\n",
    "df[\"Mid_ndf대비\"] = df[\"Mid_ndf\"] - df[\"Mid_ndf\"].shift(1)\n",
    "df[\"M1_스왑포인트대비\"] = df[\"M1_스왑포인트\"]- df[\"M1_스왑포인트\"].shift(1)\n",
    "df.head()"
   ]
  },
  {
   "cell_type": "code",
   "execution_count": null,
   "metadata": {},
   "outputs": [
    {
     "data": {
      "text/plain": [
       "Index(['종가_ex', '1Y_Mid_irs', '10Y_Mid_irs', '1Y_Mid_crs', '국고1년', '통안364일',\n",
       "       'Mid_ndf', 'M1_스왑포인트', '1Y_Mid_irs대비', '10Y_Mid_irs대비', '1Y_Mid_crs대비',\n",
       "       '국고1년대비', '통안364일대비', 'Mid_ndf대비', 'M1_스왑포인트대비', '전날 종가_ex'],\n",
       "      dtype='object')"
      ]
     },
     "execution_count": 4,
     "metadata": {},
     "output_type": "execute_result"
    }
   ],
   "source": [
    "df[\"전날 종가_ex\"] = df[\"종가_ex\"].shift(1)\n",
    "df = df.dropna()\n",
    "df.columns\n"
   ]
  },
  {
   "cell_type": "code",
   "execution_count": null,
   "metadata": {},
   "outputs": [
    {
     "name": "stderr",
     "output_type": "stream",
     "text": [
      "C:\\Users\\Public\\Documents\\ESTsoft\\CreatorTemp\\ipykernel_36668\\3284639614.py:4: UserWarning: Pandas doesn't allow columns to be created via a new attribute name - see https://pandas.pydata.org/pandas-docs/stable/indexing.html#attribute-access\n",
      "  df_Data.feature= df_Data.columns\n"
     ]
    },
    {
     "data": {
      "text/plain": [
       "Index(['1Y_Mid_irs대비', '10Y_Mid_irs대비', '1Y_Mid_crs대비', '국고1년대비', '통안364일대비',\n",
       "       'Mid_ndf대비', 'M1_스왑포인트', '전날 종가_ex'],\n",
       "      dtype='object')"
      ]
     },
     "execution_count": 7,
     "metadata": {},
     "output_type": "execute_result"
    }
   ],
   "source": [
    "# 종속변수 독립변수 설정\n",
    "df_Target = df[\"종가_ex\"]\n",
    "df_Data = df[['1Y_Mid_irs대비', '10Y_Mid_irs대비','1Y_Mid_crs대비', '국고1년대비', '통안364일대비', 'Mid_ndf대비', 'M1_스왑포인트','전날 종가_ex']]\n",
    "df_Data.feature= df_Data.columns\n",
    "df_Data.feature\n"
   ]
  },
  {
   "cell_type": "code",
   "execution_count": 5,
   "metadata": {},
   "outputs": [
    {
     "ename": "NameError",
     "evalue": "name 'df_Data' is not defined",
     "output_type": "error",
     "traceback": [
      "\u001b[1;31m---------------------------------------------------------------------------\u001b[0m",
      "\u001b[1;31mNameError\u001b[0m                                 Traceback (most recent call last)",
      "\u001b[1;32mc:\\Users\\tlsdm\\OneDrive\\바탕 화면\\신의영\\프로젝트 1 자료\\코딩\\회귀분석(CRS)MINMAX대비기준.ipynb 셀 5\u001b[0m in \u001b[0;36m<cell line: 1>\u001b[1;34m()\u001b[0m\n\u001b[1;32m----> <a href='vscode-notebook-cell:/c%3A/Users/tlsdm/OneDrive/%EB%B0%94%ED%83%95%20%ED%99%94%EB%A9%B4/%EC%8B%A0%EC%9D%98%EC%98%81/%ED%94%84%EB%A1%9C%EC%A0%9D%ED%8A%B8%201%20%EC%9E%90%EB%A3%8C/%EC%BD%94%EB%94%A9/%ED%9A%8C%EA%B7%80%EB%B6%84%EC%84%9D%28CRS%29MINMAX%EB%8C%80%EB%B9%84%EA%B8%B0%EC%A4%80.ipynb#X13sZmlsZQ%3D%3D?line=0'>1</a>\u001b[0m df_Data\u001b[39m.\u001b[39mboxplot(column\u001b[39m=\u001b[39m\u001b[39m'\u001b[39m\u001b[39m1Y_Mid_crs대비\u001b[39m\u001b[39m'\u001b[39m)\n",
      "\u001b[1;31mNameError\u001b[0m: name 'df_Data' is not defined"
     ]
    }
   ],
   "source": [
    "df_Data.boxplot(column='1Y_Mid_crs대비')"
   ]
  },
  {
   "cell_type": "code",
   "execution_count": 8,
   "metadata": {},
   "outputs": [
    {
     "data": {
      "text/plain": [
       "array([[0.48743719, 0.4744898 , 0.41975309, ..., 0.50091111, 1.        ,\n",
       "        0.37153652],\n",
       "       [0.48743719, 0.48979592, 0.41975309, ..., 0.50312731, 0.98571429,\n",
       "        0.38790932],\n",
       "       [0.51256281, 0.50510204, 0.42592593, ..., 0.48983009, 0.98571429,\n",
       "        0.39767003],\n",
       "       ...,\n",
       "       [0.49748744, 0.46938776, 0.43209877, ..., 0.4986949 , 0.56428571,\n",
       "        0.94175063],\n",
       "       [0.51758794, 0.53571429, 0.45061728, ..., 0.49475499, 0.55      ,\n",
       "        0.95969773],\n",
       "       [0.46733668, 0.43877551, 0.35802469, ..., 0.48909136, 0.55714286,\n",
       "        0.90554156]])"
      ]
     },
     "execution_count": 8,
     "metadata": {},
     "output_type": "execute_result"
    }
   ],
   "source": [
    "# 스케일링 코드\n",
    "from sklearn.preprocessing import MinMaxScaler\n",
    "scaler = MinMaxScaler()\n",
    "\n",
    "scaler.fit(df_Data)\n",
    "df_Data_scaled= scaler.transform(df_Data)\n",
    "df_scaled = pd.DataFrame (data = df_Data_scaled, columns=df_Data.feature)\n",
    "df_scaled.index = df_Target.index\n",
    "df_Data_scaled"
   ]
  },
  {
   "cell_type": "code",
   "execution_count": 18,
   "metadata": {},
   "outputs": [
    {
     "data": {
      "text/html": [
       "<table class=\"simpletable\">\n",
       "<caption>OLS Regression Results</caption>\n",
       "<tr>\n",
       "  <th>Dep. Variable:</th>          <td>종가_ex</td>      <th>  R-squared:         </th> <td>   0.990</td> \n",
       "</tr>\n",
       "<tr>\n",
       "  <th>Model:</th>                   <td>OLS</td>       <th>  Adj. R-squared:    </th> <td>   0.990</td> \n",
       "</tr>\n",
       "<tr>\n",
       "  <th>Method:</th>             <td>Least Squares</td>  <th>  F-statistic:       </th> <td>6.318e+04</td>\n",
       "</tr>\n",
       "<tr>\n",
       "  <th>Date:</th>             <td>Thu, 18 Aug 2022</td> <th>  Prob (F-statistic):</th>  <td>  0.00</td>  \n",
       "</tr>\n",
       "<tr>\n",
       "  <th>Time:</th>                 <td>20:51:32</td>     <th>  Log-Likelihood:    </th> <td> -7661.9</td> \n",
       "</tr>\n",
       "<tr>\n",
       "  <th>No. Observations:</th>      <td>  2459</td>      <th>  AIC:               </th> <td>1.533e+04</td>\n",
       "</tr>\n",
       "<tr>\n",
       "  <th>Df Residuals:</th>          <td>  2454</td>      <th>  BIC:               </th> <td>1.536e+04</td>\n",
       "</tr>\n",
       "<tr>\n",
       "  <th>Df Model:</th>              <td>     4</td>      <th>                     </th>     <td> </td>    \n",
       "</tr>\n",
       "<tr>\n",
       "  <th>Covariance Type:</th>      <td>nonrobust</td>    <th>                     </th>     <td> </td>    \n",
       "</tr>\n",
       "</table>\n",
       "<table class=\"simpletable\">\n",
       "<tr>\n",
       "        <td></td>          <th>coef</th>     <th>std err</th>      <th>t</th>      <th>P>|t|</th>  <th>[0.025</th>    <th>0.975]</th>  \n",
       "</tr>\n",
       "<tr>\n",
       "  <th>const</th>        <td> 1014.7394</td> <td>    3.128</td> <td>  324.433</td> <td> 0.000</td> <td> 1008.606</td> <td> 1020.873</td>\n",
       "</tr>\n",
       "<tr>\n",
       "  <th>1Y_Mid_crs대비</th> <td>  -50.2383</td> <td>    3.651</td> <td>  -13.759</td> <td> 0.000</td> <td>  -57.398</td> <td>  -43.079</td>\n",
       "</tr>\n",
       "<tr>\n",
       "  <th>국고1년대비</th>       <td>    6.0281</td> <td>    1.639</td> <td>    3.678</td> <td> 0.000</td> <td>    2.814</td> <td>    9.242</td>\n",
       "</tr>\n",
       "<tr>\n",
       "  <th>Mid_ndf대비</th>    <td>   26.5643</td> <td>    5.266</td> <td>    5.045</td> <td> 0.000</td> <td>   16.239</td> <td>   36.890</td>\n",
       "</tr>\n",
       "<tr>\n",
       "  <th>전날 종가_ex</th>     <td>  316.7256</td> <td>    0.632</td> <td>  501.199</td> <td> 0.000</td> <td>  315.486</td> <td>  317.965</td>\n",
       "</tr>\n",
       "</table>\n",
       "<table class=\"simpletable\">\n",
       "<tr>\n",
       "  <th>Omnibus:</th>       <td>45.348</td> <th>  Durbin-Watson:     </th> <td>   2.123</td>\n",
       "</tr>\n",
       "<tr>\n",
       "  <th>Prob(Omnibus):</th> <td> 0.000</td> <th>  Jarque-Bera (JB):  </th> <td>  91.101</td>\n",
       "</tr>\n",
       "<tr>\n",
       "  <th>Skew:</th>          <td> 0.009</td> <th>  Prob(JB):          </th> <td>1.65e-20</td>\n",
       "</tr>\n",
       "<tr>\n",
       "  <th>Kurtosis:</th>      <td> 3.943</td> <th>  Cond. No.          </th> <td>    71.9</td>\n",
       "</tr>\n",
       "</table><br/><br/>Notes:<br/>[1] Standard Errors assume that the covariance matrix of the errors is correctly specified."
      ],
      "text/plain": [
       "<class 'statsmodels.iolib.summary.Summary'>\n",
       "\"\"\"\n",
       "                            OLS Regression Results                            \n",
       "==============================================================================\n",
       "Dep. Variable:                  종가_ex   R-squared:                       0.990\n",
       "Model:                            OLS   Adj. R-squared:                  0.990\n",
       "Method:                 Least Squares   F-statistic:                 6.318e+04\n",
       "Date:                Thu, 18 Aug 2022   Prob (F-statistic):               0.00\n",
       "Time:                        20:51:32   Log-Likelihood:                -7661.9\n",
       "No. Observations:                2459   AIC:                         1.533e+04\n",
       "Df Residuals:                    2454   BIC:                         1.536e+04\n",
       "Df Model:                           4                                         \n",
       "Covariance Type:            nonrobust                                         \n",
       "================================================================================\n",
       "                   coef    std err          t      P>|t|      [0.025      0.975]\n",
       "--------------------------------------------------------------------------------\n",
       "const         1014.7394      3.128    324.433      0.000    1008.606    1020.873\n",
       "1Y_Mid_crs대비   -50.2383      3.651    -13.759      0.000     -57.398     -43.079\n",
       "국고1년대비           6.0281      1.639      3.678      0.000       2.814       9.242\n",
       "Mid_ndf대비       26.5643      5.266      5.045      0.000      16.239      36.890\n",
       "전날 종가_ex       316.7256      0.632    501.199      0.000     315.486     317.965\n",
       "==============================================================================\n",
       "Omnibus:                       45.348   Durbin-Watson:                   2.123\n",
       "Prob(Omnibus):                  0.000   Jarque-Bera (JB):               91.101\n",
       "Skew:                           0.009   Prob(JB):                     1.65e-20\n",
       "Kurtosis:                       3.943   Cond. No.                         71.9\n",
       "==============================================================================\n",
       "\n",
       "Notes:\n",
       "[1] Standard Errors assume that the covariance matrix of the errors is correctly specified.\n",
       "\"\"\""
      ]
     },
     "execution_count": 18,
     "metadata": {},
     "output_type": "execute_result"
    }
   ],
   "source": [
    "import statsmodels.api as sm\n",
    "feature_add_std = sm.add_constant(df_scaled, has_constant='add')\n",
    "\n",
    "# sm OLS 적합\n",
    "model = sm.OLS(df_Target, feature_add_std)\n",
    "fitted_model = model.fit()\n",
    "\n",
    "# summary 함수통해 결과출력\n",
    "fitted_model.summary()"
   ]
  },
  {
   "cell_type": "code",
   "execution_count": 12,
   "metadata": {},
   "outputs": [
    {
     "data": {
      "text/html": [
       "<table class=\"simpletable\">\n",
       "<caption>OLS Regression Results</caption>\n",
       "<tr>\n",
       "  <th>Dep. Variable:</th>          <td>종가_ex</td>      <th>  R-squared:         </th> <td>   0.990</td> \n",
       "</tr>\n",
       "<tr>\n",
       "  <th>Model:</th>                   <td>OLS</td>       <th>  Adj. R-squared:    </th> <td>   0.990</td> \n",
       "</tr>\n",
       "<tr>\n",
       "  <th>Method:</th>             <td>Least Squares</td>  <th>  F-statistic:       </th> <td>6.318e+04</td>\n",
       "</tr>\n",
       "<tr>\n",
       "  <th>Date:</th>             <td>Thu, 18 Aug 2022</td> <th>  Prob (F-statistic):</th>  <td>  0.00</td>  \n",
       "</tr>\n",
       "<tr>\n",
       "  <th>Time:</th>                 <td>20:21:26</td>     <th>  Log-Likelihood:    </th> <td> -7661.9</td> \n",
       "</tr>\n",
       "<tr>\n",
       "  <th>No. Observations:</th>      <td>  2459</td>      <th>  AIC:               </th> <td>1.533e+04</td>\n",
       "</tr>\n",
       "<tr>\n",
       "  <th>Df Residuals:</th>          <td>  2454</td>      <th>  BIC:               </th> <td>1.536e+04</td>\n",
       "</tr>\n",
       "<tr>\n",
       "  <th>Df Model:</th>              <td>     4</td>      <th>                     </th>     <td> </td>    \n",
       "</tr>\n",
       "<tr>\n",
       "  <th>Covariance Type:</th>      <td>nonrobust</td>    <th>                     </th>     <td> </td>    \n",
       "</tr>\n",
       "</table>\n",
       "<table class=\"simpletable\">\n",
       "<tr>\n",
       "        <td></td>          <th>coef</th>     <th>std err</th>      <th>t</th>      <th>P>|t|</th>  <th>[0.025</th>    <th>0.975]</th>  \n",
       "</tr>\n",
       "<tr>\n",
       "  <th>const</th>        <td> 1014.7394</td> <td>    3.128</td> <td>  324.433</td> <td> 0.000</td> <td> 1008.606</td> <td> 1020.873</td>\n",
       "</tr>\n",
       "<tr>\n",
       "  <th>1Y_Mid_crs대비</th> <td>  -50.2383</td> <td>    3.651</td> <td>  -13.759</td> <td> 0.000</td> <td>  -57.398</td> <td>  -43.079</td>\n",
       "</tr>\n",
       "<tr>\n",
       "  <th>국고1년대비</th>       <td>    6.0281</td> <td>    1.639</td> <td>    3.678</td> <td> 0.000</td> <td>    2.814</td> <td>    9.242</td>\n",
       "</tr>\n",
       "<tr>\n",
       "  <th>Mid_ndf대비</th>    <td>   26.5643</td> <td>    5.266</td> <td>    5.045</td> <td> 0.000</td> <td>   16.239</td> <td>   36.890</td>\n",
       "</tr>\n",
       "<tr>\n",
       "  <th>전날 종가_ex</th>     <td>  316.7256</td> <td>    0.632</td> <td>  501.199</td> <td> 0.000</td> <td>  315.486</td> <td>  317.965</td>\n",
       "</tr>\n",
       "</table>\n",
       "<table class=\"simpletable\">\n",
       "<tr>\n",
       "  <th>Omnibus:</th>       <td>45.348</td> <th>  Durbin-Watson:     </th> <td>   2.123</td>\n",
       "</tr>\n",
       "<tr>\n",
       "  <th>Prob(Omnibus):</th> <td> 0.000</td> <th>  Jarque-Bera (JB):  </th> <td>  91.101</td>\n",
       "</tr>\n",
       "<tr>\n",
       "  <th>Skew:</th>          <td> 0.009</td> <th>  Prob(JB):          </th> <td>1.65e-20</td>\n",
       "</tr>\n",
       "<tr>\n",
       "  <th>Kurtosis:</th>      <td> 3.943</td> <th>  Cond. No.          </th> <td>    71.9</td>\n",
       "</tr>\n",
       "</table><br/><br/>Notes:<br/>[1] Standard Errors assume that the covariance matrix of the errors is correctly specified."
      ],
      "text/plain": [
       "<class 'statsmodels.iolib.summary.Summary'>\n",
       "\"\"\"\n",
       "                            OLS Regression Results                            \n",
       "==============================================================================\n",
       "Dep. Variable:                  종가_ex   R-squared:                       0.990\n",
       "Model:                            OLS   Adj. R-squared:                  0.990\n",
       "Method:                 Least Squares   F-statistic:                 6.318e+04\n",
       "Date:                Thu, 18 Aug 2022   Prob (F-statistic):               0.00\n",
       "Time:                        20:21:26   Log-Likelihood:                -7661.9\n",
       "No. Observations:                2459   AIC:                         1.533e+04\n",
       "Df Residuals:                    2454   BIC:                         1.536e+04\n",
       "Df Model:                           4                                         \n",
       "Covariance Type:            nonrobust                                         \n",
       "================================================================================\n",
       "                   coef    std err          t      P>|t|      [0.025      0.975]\n",
       "--------------------------------------------------------------------------------\n",
       "const         1014.7394      3.128    324.433      0.000    1008.606    1020.873\n",
       "1Y_Mid_crs대비   -50.2383      3.651    -13.759      0.000     -57.398     -43.079\n",
       "국고1년대비           6.0281      1.639      3.678      0.000       2.814       9.242\n",
       "Mid_ndf대비       26.5643      5.266      5.045      0.000      16.239      36.890\n",
       "전날 종가_ex       316.7256      0.632    501.199      0.000     315.486     317.965\n",
       "==============================================================================\n",
       "Omnibus:                       45.348   Durbin-Watson:                   2.123\n",
       "Prob(Omnibus):                  0.000   Jarque-Bera (JB):               91.101\n",
       "Skew:                           0.009   Prob(JB):                     1.65e-20\n",
       "Kurtosis:                       3.943   Cond. No.                         71.9\n",
       "==============================================================================\n",
       "\n",
       "Notes:\n",
       "[1] Standard Errors assume that the covariance matrix of the errors is correctly specified.\n",
       "\"\"\""
      ]
     },
     "execution_count": 12,
     "metadata": {},
     "output_type": "execute_result"
    }
   ],
   "source": [
    "# p값높은 컬럼들 제외\n",
    "df_Target = df[\"종가_ex\"]\n",
    "df_scaled = df_scaled[['1Y_Mid_crs대비', '국고1년대비', 'Mid_ndf대비','전날 종가_ex']]\n",
    "feature_add_std = sm.add_constant(df_scaled, has_constant='add')\n",
    "\n",
    "# sm OLS 적합\n",
    "model = sm.OLS(df_Target, feature_add_std)\n",
    "fitted_model = model.fit()\n",
    "\n",
    "# summary 함수통해 결과출력\n",
    "fitted_model.summary()"
   ]
  },
  {
   "cell_type": "code",
   "execution_count": 14,
   "metadata": {},
   "outputs": [
    {
     "data": {
      "text/plain": [
       "(5.121878719967354, 26.23364162205442)"
      ]
     },
     "execution_count": 14,
     "metadata": {},
     "output_type": "execute_result"
    }
   ],
   "source": [
    "X_train, X_test, y_train, y_test = train_test_split(df_scaled,df_Target,test_size=0.2, random_state=16 )\n",
    "lr = LinearRegression()\n",
    "lr.fit (X_train, y_train)\n",
    "y_preds = lr.predict(X_test)\n",
    "mse = mean_squared_error(y_test, y_preds)\n",
    "rmse = np.sqrt(mse)\n",
    "rmse,mse"
   ]
  },
  {
   "cell_type": "code",
   "execution_count": 17,
   "metadata": {},
   "outputs": [
    {
     "data": {
      "text/plain": [
       "(8.131060132846212,\n",
       " array([ 4.0964659 ,  6.74277563,  5.72018172, 18.98432984,  5.11154757]),\n",
       " array([ -16.78103284,  -45.46502325,  -32.72047892, -360.40477941,\n",
       "         -26.1279186 ]))"
      ]
     },
     "execution_count": 17,
     "metadata": {},
     "output_type": "execute_result"
    }
   ],
   "source": [
    "from sklearn.model_selection import cross_val_score\n",
    "neg_mse_scores = cross_val_score(lr, df_scaled, df_Target,scoring=\"neg_mean_squared_error\", cv = 5)\n",
    "rmse_scores = np.sqrt(-1 *neg_mse_scores)\n",
    "avg_rmse = np.mean(rmse_scores)\n",
    "avg_rmse,rmse_scores, neg_mse_scores"
   ]
  },
  {
   "cell_type": "code",
   "execution_count": null,
   "metadata": {},
   "outputs": [],
   "source": []
  }
 ],
 "metadata": {
  "kernelspec": {
   "display_name": "Python 3.10.0 64-bit",
   "language": "python",
   "name": "python3"
  },
  "language_info": {
   "codemirror_mode": {
    "name": "ipython",
    "version": 3
   },
   "file_extension": ".py",
   "mimetype": "text/x-python",
   "name": "python",
   "nbconvert_exporter": "python",
   "pygments_lexer": "ipython3",
   "version": "3.10.0"
  },
  "orig_nbformat": 4,
  "vscode": {
   "interpreter": {
    "hash": "a073e8c3e7241d11bd26aeacf78abcb385fecb9ce1a8fb10ee8efd278424d43e"
   }
  }
 },
 "nbformat": 4,
 "nbformat_minor": 2
}
